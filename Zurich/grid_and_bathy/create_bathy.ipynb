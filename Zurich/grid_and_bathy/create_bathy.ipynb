{
 "cells": [
  {
   "cell_type": "markdown",
   "id": "e7be2fe5-da2f-45f7-a3b0-5ceab8e3975a",
   "metadata": {},
   "source": [
    "### Creating bathymetry for Lake Geneva "
   ]
  },
  {
   "cell_type": "code",
   "execution_count": 1,
   "id": "bd97a47c-c48b-44cc-a846-acf86633536e",
   "metadata": {},
   "outputs": [],
   "source": [
    "import sys\n",
    "import os\n",
    "import glob\n",
    "\n",
    "import xarray as xr\n",
    "import numpy as np\n",
    "import pandas as pd\n",
    "import matplotlib.pyplot as plt\n",
    "from matplotlib.path import Path\n",
    "from scipy.interpolate import griddata"
   ]
  },
  {
   "cell_type": "code",
   "execution_count": 2,
   "id": "34b636c0-add3-4fb6-a1e3-a5a87b3d7361",
   "metadata": {},
   "outputs": [
    {
     "name": "stdout",
     "output_type": "stream",
     "text": [
      "C:\\Users\\rasmusso\\Desktop\\preprocessing-mitgcm\\example\n"
     ]
    }
   ],
   "source": [
    "# Get the path to the parent folder (one level up)\n",
    "parent_folder = os.path.abspath(os.path.join(os.getcwd(), '..'))\n",
    "print(parent_folder)\n",
    "\n",
    "# Add the parent folder to sys.path\n",
    "sys.path.append(parent_folder)\n",
    "\n",
    "import json\n",
    "from configs.config_object import ConfigObject"
   ]
  },
  {
   "cell_type": "code",
   "execution_count": 3,
   "id": "9b2d80ae22e40bb2",
   "metadata": {
    "ExecuteTime": {
     "end_time": "2025-04-02T10:00:19.448238Z",
     "start_time": "2025-04-02T10:00:19.435054Z"
    },
    "collapsed": false,
    "jupyter": {
     "outputs_hidden": false
    }
   },
   "outputs": [],
   "source": [
    "config = ConfigObject( '../../Zurich/configs/config.json')"
   ]
  },
  {
   "cell_type": "code",
   "execution_count": 4,
   "id": "f17269e2-bac0-4148-a9cc-bd39c6b6eb4b",
   "metadata": {
    "ExecuteTime": {
     "end_time": "2025-04-02T10:00:21.172503Z",
     "start_time": "2025-04-02T10:00:21.116333Z"
    }
   },
   "outputs": [],
   "source": [
    "# loading swiss topo files first (resolution is 1km)\n",
    "path_swisstopo = config.paths.swiss_topo_path\n",
    "files_topo = glob.glob(os.path.join(path_swisstopo, '*.asc'))"
   ]
  },
  {
   "cell_type": "code",
   "execution_count": 5,
   "id": "a9390af8",
   "metadata": {
    "ExecuteTime": {
     "end_time": "2025-04-02T10:00:35.073682Z",
     "start_time": "2025-04-02T10:00:35.056333Z"
    }
   },
   "outputs": [],
   "source": [
    "# loading x and y files \n",
    "grid_folder_path = config.paths.grid_folder_path\n",
    "\n",
    "with open(os.path.join(grid_folder_path, 'x_sg_grid.npy'), 'rb') as f:\n",
    "    x = np.load(f)\n",
    "\n",
    "with open(os.path.join(grid_folder_path, 'y_sg_grid.npy'), 'rb') as f:\n",
    "    y = np.load(f)"
   ]
  },
  {
   "cell_type": "code",
   "execution_count": 6,
   "id": "a15fb7a8-3872-4282-bce7-605e28ffc1a5",
   "metadata": {
    "ExecuteTime": {
     "end_time": "2025-04-02T10:00:38.678687Z",
     "start_time": "2025-04-02T10:00:38.655792Z"
    }
   },
   "outputs": [],
   "source": [
    "def extract_topo(filename):\n",
    "    \n",
    "    # get out variables \n",
    "    ncols = None\n",
    "    nrows = None\n",
    "    xcorner = None\n",
    "    ycorner  = None\n",
    "    cellsize = None\n",
    "    flag = None \n",
    "    \n",
    "    # Read the file and extract ncols and nrows\n",
    "    with open(filename, 'r') as file:\n",
    "        \n",
    "        for i in range(6):\n",
    "            line = file.readline()\n",
    "            \n",
    "            if line.startswith('ncols'):\n",
    "                ncols = int(line.split()[1])\n",
    "                print(ncols)\n",
    "            elif line.startswith('nrows'):\n",
    "                nrows = int(line.split()[1])\n",
    "                print(nrows)\n",
    "            elif line.startswith('xllcorner'):\n",
    "                xcorner = int(line.split()[1])\n",
    "            elif line.startswith('yllcorner'):\n",
    "                ycorner = int(line.split()[1])\n",
    "            elif line.startswith('cellsize'):\n",
    "                cellsize = int(line.split()[1])\n",
    "            elif line.startswith('nodata_value'):\n",
    "                flag = int(line.split()[1])\n",
    "    \n",
    "    # swiss coordinates for the whole section \n",
    "    xsc = np.arange(xcorner, (xcorner + (ncols*cellsize)), cellsize)\n",
    "    ysc = np.arange(ycorner, (ycorner + (nrows*cellsize)), cellsize)\n",
    "\n",
    "    \n",
    "    # extract data (skipping first 6 rows)\n",
    "    data_topo = np.loadtxt(filename, skiprows=6)\n",
    "    data_topo = np.flip(data_topo, axis=0) #need to flip because somewhere along the way something is funky\n",
    "    \n",
    "    # Replace values of -999 with NaN\n",
    "    data_topo[data_topo == flag] = np.nan\n",
    "    \n",
    "    # creating xarray \n",
    "\n",
    "    #swiss coordinates\n",
    "    topo = xr.DataArray(\n",
    "        data_topo,\n",
    "        coords=[ysc, xsc],\n",
    "        dims=['ysc', 'xsc'],)\n",
    "\n",
    "    \n",
    "    return (topo)        "
   ]
  },
  {
   "cell_type": "markdown",
   "id": "c6bbad8a-ca11-4eb2-af8a-4bbaadc583b7",
   "metadata": {},
   "source": [
    "Extract and concatenate files from Swiss topo"
   ]
  },
  {
   "cell_type": "code",
   "execution_count": 7,
   "id": "ea4e316e-fccf-4659-a13a-81bd3f06f7cb",
   "metadata": {
    "ExecuteTime": {
     "end_time": "2025-04-02T10:01:19.066840Z",
     "start_time": "2025-04-02T10:00:46.010567Z"
    },
    "scrolled": true
   },
   "outputs": [
    {
     "name": "stdout",
     "output_type": "stream",
     "text": [
      "10504\n",
      "6386\n"
     ]
    }
   ],
   "source": [
    "# loading swiss topo files first (resolution is 1km)\n",
    "all_topo = []\n",
    "\n",
    "for file in files_topo:\n",
    "    topo = extract_topo(file)\n",
    "    all_topo.append(topo)\n",
    "\n",
    "all_topo = xr.combine_by_coords(all_topo)"
   ]
  },
  {
   "cell_type": "code",
   "execution_count": 8,
   "id": "74368325-c75f-483f-a6cd-0532988c2368",
   "metadata": {},
   "outputs": [
    {
     "data": {
      "text/html": [
       "<div><svg style=\"position: absolute; width: 0; height: 0; overflow: hidden\">\n",
       "<defs>\n",
       "<symbol id=\"icon-database\" viewBox=\"0 0 32 32\">\n",
       "<path d=\"M16 0c-8.837 0-16 2.239-16 5v4c0 2.761 7.163 5 16 5s16-2.239 16-5v-4c0-2.761-7.163-5-16-5z\"></path>\n",
       "<path d=\"M16 17c-8.837 0-16-2.239-16-5v6c0 2.761 7.163 5 16 5s16-2.239 16-5v-6c0 2.761-7.163 5-16 5z\"></path>\n",
       "<path d=\"M16 26c-8.837 0-16-2.239-16-5v6c0 2.761 7.163 5 16 5s16-2.239 16-5v-6c0 2.761-7.163 5-16 5z\"></path>\n",
       "</symbol>\n",
       "<symbol id=\"icon-file-text2\" viewBox=\"0 0 32 32\">\n",
       "<path d=\"M28.681 7.159c-0.694-0.947-1.662-2.053-2.724-3.116s-2.169-2.030-3.116-2.724c-1.612-1.182-2.393-1.319-2.841-1.319h-15.5c-1.378 0-2.5 1.121-2.5 2.5v27c0 1.378 1.122 2.5 2.5 2.5h23c1.378 0 2.5-1.122 2.5-2.5v-19.5c0-0.448-0.137-1.23-1.319-2.841zM24.543 5.457c0.959 0.959 1.712 1.825 2.268 2.543h-4.811v-4.811c0.718 0.556 1.584 1.309 2.543 2.268zM28 29.5c0 0.271-0.229 0.5-0.5 0.5h-23c-0.271 0-0.5-0.229-0.5-0.5v-27c0-0.271 0.229-0.5 0.5-0.5 0 0 15.499-0 15.5 0v7c0 0.552 0.448 1 1 1h7v19.5z\"></path>\n",
       "<path d=\"M23 26h-14c-0.552 0-1-0.448-1-1s0.448-1 1-1h14c0.552 0 1 0.448 1 1s-0.448 1-1 1z\"></path>\n",
       "<path d=\"M23 22h-14c-0.552 0-1-0.448-1-1s0.448-1 1-1h14c0.552 0 1 0.448 1 1s-0.448 1-1 1z\"></path>\n",
       "<path d=\"M23 18h-14c-0.552 0-1-0.448-1-1s0.448-1 1-1h14c0.552 0 1 0.448 1 1s-0.448 1-1 1z\"></path>\n",
       "</symbol>\n",
       "</defs>\n",
       "</svg>\n",
       "<style>/* CSS stylesheet for displaying xarray objects in jupyterlab.\n",
       " *\n",
       " */\n",
       "\n",
       ":root {\n",
       "  --xr-font-color0: var(--jp-content-font-color0, rgba(0, 0, 0, 1));\n",
       "  --xr-font-color2: var(--jp-content-font-color2, rgba(0, 0, 0, 0.54));\n",
       "  --xr-font-color3: var(--jp-content-font-color3, rgba(0, 0, 0, 0.38));\n",
       "  --xr-border-color: var(--jp-border-color2, #e0e0e0);\n",
       "  --xr-disabled-color: var(--jp-layout-color3, #bdbdbd);\n",
       "  --xr-background-color: var(--jp-layout-color0, white);\n",
       "  --xr-background-color-row-even: var(--jp-layout-color1, white);\n",
       "  --xr-background-color-row-odd: var(--jp-layout-color2, #eeeeee);\n",
       "}\n",
       "\n",
       "html[theme=dark],\n",
       "body[data-theme=dark],\n",
       "body.vscode-dark {\n",
       "  --xr-font-color0: rgba(255, 255, 255, 1);\n",
       "  --xr-font-color2: rgba(255, 255, 255, 0.54);\n",
       "  --xr-font-color3: rgba(255, 255, 255, 0.38);\n",
       "  --xr-border-color: #1F1F1F;\n",
       "  --xr-disabled-color: #515151;\n",
       "  --xr-background-color: #111111;\n",
       "  --xr-background-color-row-even: #111111;\n",
       "  --xr-background-color-row-odd: #313131;\n",
       "}\n",
       "\n",
       ".xr-wrap {\n",
       "  display: block !important;\n",
       "  min-width: 300px;\n",
       "  max-width: 700px;\n",
       "}\n",
       "\n",
       ".xr-text-repr-fallback {\n",
       "  /* fallback to plain text repr when CSS is not injected (untrusted notebook) */\n",
       "  display: none;\n",
       "}\n",
       "\n",
       ".xr-header {\n",
       "  padding-top: 6px;\n",
       "  padding-bottom: 6px;\n",
       "  margin-bottom: 4px;\n",
       "  border-bottom: solid 1px var(--xr-border-color);\n",
       "}\n",
       "\n",
       ".xr-header > div,\n",
       ".xr-header > ul {\n",
       "  display: inline;\n",
       "  margin-top: 0;\n",
       "  margin-bottom: 0;\n",
       "}\n",
       "\n",
       ".xr-obj-type,\n",
       ".xr-array-name {\n",
       "  margin-left: 2px;\n",
       "  margin-right: 10px;\n",
       "}\n",
       "\n",
       ".xr-obj-type {\n",
       "  color: var(--xr-font-color2);\n",
       "}\n",
       "\n",
       ".xr-sections {\n",
       "  padding-left: 0 !important;\n",
       "  display: grid;\n",
       "  grid-template-columns: 150px auto auto 1fr 20px 20px;\n",
       "}\n",
       "\n",
       ".xr-section-item {\n",
       "  display: contents;\n",
       "}\n",
       "\n",
       ".xr-section-item input {\n",
       "  display: none;\n",
       "}\n",
       "\n",
       ".xr-section-item input + label {\n",
       "  color: var(--xr-disabled-color);\n",
       "}\n",
       "\n",
       ".xr-section-item input:enabled + label {\n",
       "  cursor: pointer;\n",
       "  color: var(--xr-font-color2);\n",
       "}\n",
       "\n",
       ".xr-section-item input:enabled + label:hover {\n",
       "  color: var(--xr-font-color0);\n",
       "}\n",
       "\n",
       ".xr-section-summary {\n",
       "  grid-column: 1;\n",
       "  color: var(--xr-font-color2);\n",
       "  font-weight: 500;\n",
       "}\n",
       "\n",
       ".xr-section-summary > span {\n",
       "  display: inline-block;\n",
       "  padding-left: 0.5em;\n",
       "}\n",
       "\n",
       ".xr-section-summary-in:disabled + label {\n",
       "  color: var(--xr-font-color2);\n",
       "}\n",
       "\n",
       ".xr-section-summary-in + label:before {\n",
       "  display: inline-block;\n",
       "  content: '►';\n",
       "  font-size: 11px;\n",
       "  width: 15px;\n",
       "  text-align: center;\n",
       "}\n",
       "\n",
       ".xr-section-summary-in:disabled + label:before {\n",
       "  color: var(--xr-disabled-color);\n",
       "}\n",
       "\n",
       ".xr-section-summary-in:checked + label:before {\n",
       "  content: '▼';\n",
       "}\n",
       "\n",
       ".xr-section-summary-in:checked + label > span {\n",
       "  display: none;\n",
       "}\n",
       "\n",
       ".xr-section-summary,\n",
       ".xr-section-inline-details {\n",
       "  padding-top: 4px;\n",
       "  padding-bottom: 4px;\n",
       "}\n",
       "\n",
       ".xr-section-inline-details {\n",
       "  grid-column: 2 / -1;\n",
       "}\n",
       "\n",
       ".xr-section-details {\n",
       "  display: none;\n",
       "  grid-column: 1 / -1;\n",
       "  margin-bottom: 5px;\n",
       "}\n",
       "\n",
       ".xr-section-summary-in:checked ~ .xr-section-details {\n",
       "  display: contents;\n",
       "}\n",
       "\n",
       ".xr-array-wrap {\n",
       "  grid-column: 1 / -1;\n",
       "  display: grid;\n",
       "  grid-template-columns: 20px auto;\n",
       "}\n",
       "\n",
       ".xr-array-wrap > label {\n",
       "  grid-column: 1;\n",
       "  vertical-align: top;\n",
       "}\n",
       "\n",
       ".xr-preview {\n",
       "  color: var(--xr-font-color3);\n",
       "}\n",
       "\n",
       ".xr-array-preview,\n",
       ".xr-array-data {\n",
       "  padding: 0 5px !important;\n",
       "  grid-column: 2;\n",
       "}\n",
       "\n",
       ".xr-array-data,\n",
       ".xr-array-in:checked ~ .xr-array-preview {\n",
       "  display: none;\n",
       "}\n",
       "\n",
       ".xr-array-in:checked ~ .xr-array-data,\n",
       ".xr-array-preview {\n",
       "  display: inline-block;\n",
       "}\n",
       "\n",
       ".xr-dim-list {\n",
       "  display: inline-block !important;\n",
       "  list-style: none;\n",
       "  padding: 0 !important;\n",
       "  margin: 0;\n",
       "}\n",
       "\n",
       ".xr-dim-list li {\n",
       "  display: inline-block;\n",
       "  padding: 0;\n",
       "  margin: 0;\n",
       "}\n",
       "\n",
       ".xr-dim-list:before {\n",
       "  content: '(';\n",
       "}\n",
       "\n",
       ".xr-dim-list:after {\n",
       "  content: ')';\n",
       "}\n",
       "\n",
       ".xr-dim-list li:not(:last-child):after {\n",
       "  content: ',';\n",
       "  padding-right: 5px;\n",
       "}\n",
       "\n",
       ".xr-has-index {\n",
       "  font-weight: bold;\n",
       "}\n",
       "\n",
       ".xr-var-list,\n",
       ".xr-var-item {\n",
       "  display: contents;\n",
       "}\n",
       "\n",
       ".xr-var-item > div,\n",
       ".xr-var-item label,\n",
       ".xr-var-item > .xr-var-name span {\n",
       "  background-color: var(--xr-background-color-row-even);\n",
       "  margin-bottom: 0;\n",
       "}\n",
       "\n",
       ".xr-var-item > .xr-var-name:hover span {\n",
       "  padding-right: 5px;\n",
       "}\n",
       "\n",
       ".xr-var-list > li:nth-child(odd) > div,\n",
       ".xr-var-list > li:nth-child(odd) > label,\n",
       ".xr-var-list > li:nth-child(odd) > .xr-var-name span {\n",
       "  background-color: var(--xr-background-color-row-odd);\n",
       "}\n",
       "\n",
       ".xr-var-name {\n",
       "  grid-column: 1;\n",
       "}\n",
       "\n",
       ".xr-var-dims {\n",
       "  grid-column: 2;\n",
       "}\n",
       "\n",
       ".xr-var-dtype {\n",
       "  grid-column: 3;\n",
       "  text-align: right;\n",
       "  color: var(--xr-font-color2);\n",
       "}\n",
       "\n",
       ".xr-var-preview {\n",
       "  grid-column: 4;\n",
       "}\n",
       "\n",
       ".xr-index-preview {\n",
       "  grid-column: 2 / 5;\n",
       "  color: var(--xr-font-color2);\n",
       "}\n",
       "\n",
       ".xr-var-name,\n",
       ".xr-var-dims,\n",
       ".xr-var-dtype,\n",
       ".xr-preview,\n",
       ".xr-attrs dt {\n",
       "  white-space: nowrap;\n",
       "  overflow: hidden;\n",
       "  text-overflow: ellipsis;\n",
       "  padding-right: 10px;\n",
       "}\n",
       "\n",
       ".xr-var-name:hover,\n",
       ".xr-var-dims:hover,\n",
       ".xr-var-dtype:hover,\n",
       ".xr-attrs dt:hover {\n",
       "  overflow: visible;\n",
       "  width: auto;\n",
       "  z-index: 1;\n",
       "}\n",
       "\n",
       ".xr-var-attrs,\n",
       ".xr-var-data,\n",
       ".xr-index-data {\n",
       "  display: none;\n",
       "  background-color: var(--xr-background-color) !important;\n",
       "  padding-bottom: 5px !important;\n",
       "}\n",
       "\n",
       ".xr-var-attrs-in:checked ~ .xr-var-attrs,\n",
       ".xr-var-data-in:checked ~ .xr-var-data,\n",
       ".xr-index-data-in:checked ~ .xr-index-data {\n",
       "  display: block;\n",
       "}\n",
       "\n",
       ".xr-var-data > table {\n",
       "  float: right;\n",
       "}\n",
       "\n",
       ".xr-var-name span,\n",
       ".xr-var-data,\n",
       ".xr-index-name div,\n",
       ".xr-index-data,\n",
       ".xr-attrs {\n",
       "  padding-left: 25px !important;\n",
       "}\n",
       "\n",
       ".xr-attrs,\n",
       ".xr-var-attrs,\n",
       ".xr-var-data,\n",
       ".xr-index-data {\n",
       "  grid-column: 1 / -1;\n",
       "}\n",
       "\n",
       "dl.xr-attrs {\n",
       "  padding: 0;\n",
       "  margin: 0;\n",
       "  display: grid;\n",
       "  grid-template-columns: 125px auto;\n",
       "}\n",
       "\n",
       ".xr-attrs dt,\n",
       ".xr-attrs dd {\n",
       "  padding: 0;\n",
       "  margin: 0;\n",
       "  float: left;\n",
       "  padding-right: 10px;\n",
       "  width: auto;\n",
       "}\n",
       "\n",
       ".xr-attrs dt {\n",
       "  font-weight: normal;\n",
       "  grid-column: 1;\n",
       "}\n",
       "\n",
       ".xr-attrs dt:hover span {\n",
       "  display: inline-block;\n",
       "  background: var(--xr-background-color);\n",
       "  padding-right: 10px;\n",
       "}\n",
       "\n",
       ".xr-attrs dd {\n",
       "  grid-column: 2;\n",
       "  white-space: pre-wrap;\n",
       "  word-break: break-all;\n",
       "}\n",
       "\n",
       ".xr-icon-database,\n",
       ".xr-icon-file-text2,\n",
       ".xr-no-icon {\n",
       "  display: inline-block;\n",
       "  vertical-align: middle;\n",
       "  width: 1em;\n",
       "  height: 1.5em !important;\n",
       "  stroke-width: 0;\n",
       "  stroke: currentColor;\n",
       "  fill: currentColor;\n",
       "}\n",
       "</style><pre class='xr-text-repr-fallback'>&lt;xarray.DataArray (ysc: 6386, xsc: 10504)&gt;\n",
       "array([[nan, nan, nan, ..., nan, nan, nan],\n",
       "       [nan, nan, nan, ..., nan, nan, nan],\n",
       "       [nan, nan, nan, ..., nan, nan, nan],\n",
       "       ...,\n",
       "       [nan, nan, nan, ..., nan, nan, nan],\n",
       "       [nan, nan, nan, ..., nan, nan, nan],\n",
       "       [nan, nan, nan, ..., nan, nan, nan]])\n",
       "Coordinates:\n",
       "  * ysc      (ysc) int32 227658 227661 227664 227667 ... 246807 246810 246813\n",
       "  * xsc      (xsc) int32 682839 682842 682845 682848 ... 714342 714345 714348</pre><div class='xr-wrap' style='display:none'><div class='xr-header'><div class='xr-obj-type'>xarray.DataArray</div><div class='xr-array-name'></div><ul class='xr-dim-list'><li><span class='xr-has-index'>ysc</span>: 6386</li><li><span class='xr-has-index'>xsc</span>: 10504</li></ul></div><ul class='xr-sections'><li class='xr-section-item'><div class='xr-array-wrap'><input id='section-c1a938e4-76ed-48b8-b5f4-169c9f89594f' class='xr-array-in' type='checkbox' checked><label for='section-c1a938e4-76ed-48b8-b5f4-169c9f89594f' title='Show/hide data repr'><svg class='icon xr-icon-database'><use xlink:href='#icon-database'></use></svg></label><div class='xr-array-preview xr-preview'><span>nan nan nan nan nan nan nan nan ... nan nan nan nan nan nan nan nan</span></div><div class='xr-array-data'><pre>array([[nan, nan, nan, ..., nan, nan, nan],\n",
       "       [nan, nan, nan, ..., nan, nan, nan],\n",
       "       [nan, nan, nan, ..., nan, nan, nan],\n",
       "       ...,\n",
       "       [nan, nan, nan, ..., nan, nan, nan],\n",
       "       [nan, nan, nan, ..., nan, nan, nan],\n",
       "       [nan, nan, nan, ..., nan, nan, nan]])</pre></div></div></li><li class='xr-section-item'><input id='section-ba0bbf76-f1c3-4266-9935-4297a95e31bc' class='xr-section-summary-in' type='checkbox'  checked><label for='section-ba0bbf76-f1c3-4266-9935-4297a95e31bc' class='xr-section-summary' >Coordinates: <span>(2)</span></label><div class='xr-section-inline-details'></div><div class='xr-section-details'><ul class='xr-var-list'><li class='xr-var-item'><div class='xr-var-name'><span class='xr-has-index'>ysc</span></div><div class='xr-var-dims'>(ysc)</div><div class='xr-var-dtype'>int32</div><div class='xr-var-preview xr-preview'>227658 227661 ... 246810 246813</div><input id='attrs-e33e65b4-0466-47c9-973d-0bdb84d5e268' class='xr-var-attrs-in' type='checkbox' disabled><label for='attrs-e33e65b4-0466-47c9-973d-0bdb84d5e268' title='Show/Hide attributes'><svg class='icon xr-icon-file-text2'><use xlink:href='#icon-file-text2'></use></svg></label><input id='data-c81ed858-4184-4ed1-a606-a10bad0db0b0' class='xr-var-data-in' type='checkbox'><label for='data-c81ed858-4184-4ed1-a606-a10bad0db0b0' title='Show/Hide data repr'><svg class='icon xr-icon-database'><use xlink:href='#icon-database'></use></svg></label><div class='xr-var-attrs'><dl class='xr-attrs'></dl></div><div class='xr-var-data'><pre>array([227658, 227661, 227664, ..., 246807, 246810, 246813])</pre></div></li><li class='xr-var-item'><div class='xr-var-name'><span class='xr-has-index'>xsc</span></div><div class='xr-var-dims'>(xsc)</div><div class='xr-var-dtype'>int32</div><div class='xr-var-preview xr-preview'>682839 682842 ... 714345 714348</div><input id='attrs-ed22a482-0cda-4bf1-8462-9455969f7aca' class='xr-var-attrs-in' type='checkbox' disabled><label for='attrs-ed22a482-0cda-4bf1-8462-9455969f7aca' title='Show/Hide attributes'><svg class='icon xr-icon-file-text2'><use xlink:href='#icon-file-text2'></use></svg></label><input id='data-d719f641-58ec-41e2-91a4-529c90d2c3b4' class='xr-var-data-in' type='checkbox'><label for='data-d719f641-58ec-41e2-91a4-529c90d2c3b4' title='Show/Hide data repr'><svg class='icon xr-icon-database'><use xlink:href='#icon-database'></use></svg></label><div class='xr-var-attrs'><dl class='xr-attrs'></dl></div><div class='xr-var-data'><pre>array([682839, 682842, 682845, ..., 714342, 714345, 714348])</pre></div></li></ul></div></li><li class='xr-section-item'><input id='section-ff650edc-7062-4404-a43e-7b7927cbbd89' class='xr-section-summary-in' type='checkbox'  ><label for='section-ff650edc-7062-4404-a43e-7b7927cbbd89' class='xr-section-summary' >Indexes: <span>(2)</span></label><div class='xr-section-inline-details'></div><div class='xr-section-details'><ul class='xr-var-list'><li class='xr-var-item'><div class='xr-index-name'><div>ysc</div></div><div class='xr-index-preview'>PandasIndex</div><div></div><input id='index-cfd5ce04-e3f6-4550-b69b-296ee54549c1' class='xr-index-data-in' type='checkbox'/><label for='index-cfd5ce04-e3f6-4550-b69b-296ee54549c1' title='Show/Hide index repr'><svg class='icon xr-icon-database'><use xlink:href='#icon-database'></use></svg></label><div class='xr-index-data'><pre>PandasIndex(Index([227658, 227661, 227664, 227667, 227670, 227673, 227676, 227679, 227682,\n",
       "       227685,\n",
       "       ...\n",
       "       246786, 246789, 246792, 246795, 246798, 246801, 246804, 246807, 246810,\n",
       "       246813],\n",
       "      dtype=&#x27;int32&#x27;, name=&#x27;ysc&#x27;, length=6386))</pre></div></li><li class='xr-var-item'><div class='xr-index-name'><div>xsc</div></div><div class='xr-index-preview'>PandasIndex</div><div></div><input id='index-ed5ae58d-abe2-4550-99b5-25034b30de1a' class='xr-index-data-in' type='checkbox'/><label for='index-ed5ae58d-abe2-4550-99b5-25034b30de1a' title='Show/Hide index repr'><svg class='icon xr-icon-database'><use xlink:href='#icon-database'></use></svg></label><div class='xr-index-data'><pre>PandasIndex(Index([682839, 682842, 682845, 682848, 682851, 682854, 682857, 682860, 682863,\n",
       "       682866,\n",
       "       ...\n",
       "       714321, 714324, 714327, 714330, 714333, 714336, 714339, 714342, 714345,\n",
       "       714348],\n",
       "      dtype=&#x27;int32&#x27;, name=&#x27;xsc&#x27;, length=10504))</pre></div></li></ul></div></li><li class='xr-section-item'><input id='section-c7a2c3ca-9ca1-4303-b9e8-4b11fddb438b' class='xr-section-summary-in' type='checkbox' disabled ><label for='section-c7a2c3ca-9ca1-4303-b9e8-4b11fddb438b' class='xr-section-summary'  title='Expand/collapse section'>Attributes: <span>(0)</span></label><div class='xr-section-inline-details'></div><div class='xr-section-details'><dl class='xr-attrs'></dl></div></li></ul></div></div>"
      ],
      "text/plain": [
       "<xarray.DataArray (ysc: 6386, xsc: 10504)>\n",
       "array([[nan, nan, nan, ..., nan, nan, nan],\n",
       "       [nan, nan, nan, ..., nan, nan, nan],\n",
       "       [nan, nan, nan, ..., nan, nan, nan],\n",
       "       ...,\n",
       "       [nan, nan, nan, ..., nan, nan, nan],\n",
       "       [nan, nan, nan, ..., nan, nan, nan],\n",
       "       [nan, nan, nan, ..., nan, nan, nan]])\n",
       "Coordinates:\n",
       "  * ysc      (ysc) int32 227658 227661 227664 227667 ... 246807 246810 246813\n",
       "  * xsc      (xsc) int32 682839 682842 682845 682848 ... 714342 714345 714348"
      ]
     },
     "execution_count": 8,
     "metadata": {},
     "output_type": "execute_result"
    }
   ],
   "source": [
    "all_topo"
   ]
  },
  {
   "cell_type": "code",
   "execution_count": 9,
   "id": "c8a32968-0012-4e70-95fb-87258e3a8474",
   "metadata": {},
   "outputs": [
    {
     "data": {
      "text/plain": [
       "array(nan)"
      ]
     },
     "execution_count": 9,
     "metadata": {},
     "output_type": "execute_result"
    }
   ],
   "source": [
    "all_topo.isel(xsc=0, ysc=0).values"
   ]
  },
  {
   "cell_type": "markdown",
   "id": "68bc4a9c-f1d4-4db0-b8d8-c76057556c87",
   "metadata": {
    "ExecuteTime": {
     "end_time": "2025-04-02T10:01:19.082114Z",
     "start_time": "2025-04-02T10:01:19.068841Z"
    },
    "collapsed": false,
    "jupyter": {
     "outputs_hidden": false
    }
   },
   "source": [
    "### transform coordinates from ch1903+ to ch1903\n",
    "all_topo['xsc'] = all_topo['xsc'] - 2000000\n",
    "all_topo['ysc'] = all_topo['ysc'] - 1000000"
   ]
  },
  {
   "cell_type": "code",
   "execution_count": 10,
   "id": "66d9d004-f6d4-4092-8ea7-395e11ef944d",
   "metadata": {},
   "outputs": [
    {
     "data": {
      "image/png": "[encoded data removed]",
      "text/plain": [
       "<Figure size 640x480 with 2 Axes>"
      ]
     },
     "metadata": {},
     "output_type": "display_data"
    }
   ],
   "source": [
    "mask = ~np.isnan(all_topo.values)\n",
    "#mask = all_topo.values < 406 \n",
    "plt.imshow(mask, cmap='viridis', interpolation='nearest', origin='lower')\n",
    "\n",
    "# Add a color bar to show the scale of values\n",
    "plt.colorbar()\n",
    "\n",
    "# Display the plot\n",
    "plt.show()"
   ]
  },
  {
   "cell_type": "code",
   "execution_count": 11,
   "id": "85509eb9",
   "metadata": {
    "ExecuteTime": {
     "end_time": "2025-04-02T10:01:21.178954Z",
     "start_time": "2025-04-02T10:01:19.084627Z"
    }
   },
   "outputs": [
    {
     "data": {
      "text/plain": [
       "array([[406.11]])"
      ]
     },
     "execution_count": 11,
     "metadata": {},
     "output_type": "execute_result"
    }
   ],
   "source": [
    "# get max elevation \n",
    "all_topo.where(all_topo == all_topo.max(), drop=True).values"
   ]
  },
  {
   "cell_type": "markdown",
   "id": "babaa3bb-b9bd-4a71-a66a-013158061d31",
   "metadata": {},
   "source": [
    "#### Interpolate grid"
   ]
  },
  {
   "cell_type": "markdown",
   "id": "9ba3aaacb4c6c614",
   "metadata": {
    "collapsed": false,
    "jupyter": {
     "outputs_hidden": false
    }
   },
   "source": [
    "### grid values"
   ]
  },
  {
   "cell_type": "code",
   "execution_count": 12,
   "id": "d5094a8c3aab1f07",
   "metadata": {
    "ExecuteTime": {
     "end_time": "2025-04-02T10:06:02.343747Z",
     "start_time": "2025-04-02T10:02:06.082954Z"
    },
    "collapsed": false,
    "jupyter": {
     "outputs_hidden": false
    }
   },
   "outputs": [],
   "source": [
    "x_topo, y_topo = np.meshgrid(all_topo.xsc.values,all_topo.ysc.values)\n",
    "values_topo = all_topo.values.flatten()\n",
    "\n",
    "topo_grid_interp = griddata((x_topo.flatten(), y_topo.flatten()), values_topo, (x.flatten(), y.flatten()), method='nearest')"
   ]
  },
  {
   "cell_type": "code",
   "execution_count": null,
   "id": "1f3255ba-ca1b-44f3-a879-282400fa7dba",
   "metadata": {},
   "outputs": [],
   "source": []
  },
  {
   "cell_type": "code",
   "execution_count": null,
   "id": "b34b4e6c-3d8c-45bd-b640-b29aeacbddaa",
   "metadata": {},
   "outputs": [],
   "source": [
    "plt.imshow(all_topo.values, cmap='viridis', interpolation='nearest', origin='lower')\n",
    "\n",
    "# Add a color bar to show the scale of values\n",
    "plt.colorbar()\n",
    "\n",
    "# Display the plot\n",
    "plt.show()"
   ]
  },
  {
   "cell_type": "code",
   "execution_count": 13,
   "id": "539eb72f3d4050f9",
   "metadata": {
    "ExecuteTime": {
     "end_time": "2025-04-02T10:06:02.477620Z",
     "start_time": "2025-04-02T10:06:02.377175Z"
    },
    "collapsed": false,
    "jupyter": {
     "outputs_hidden": false
    }
   },
   "outputs": [],
   "source": [
    "xr_topo_grid_interp = xr.DataArray(\n",
    "        topo_grid_interp.reshape(x.shape),\n",
    "        coords= {'xsc': np.arange(x.shape[1]), 'ysc':np.arange(x.shape[0])},\n",
    "        dims=['ysc', 'xsc'],)"
   ]
  },
  {
   "cell_type": "code",
   "execution_count": 14,
   "id": "a61fd83f-f048-49f2-8225-238591172d12",
   "metadata": {},
   "outputs": [
    {
     "data": {
      "text/plain": [
       "<matplotlib.collections.QuadMesh at 0x2742a0bb890>"
      ]
     },
     "execution_count": 14,
     "metadata": {},
     "output_type": "execute_result"
    },
    {
     "data": {
      "image/png": "[encoded data removed]",
      "text/plain": [
       "<Figure size 640x480 with 2 Axes>"
      ]
     },
     "metadata": {},
     "output_type": "display_data"
    }
   ],
   "source": [
    "mask = ~np.isnan(xr_topo_grid_interp)\n",
    "mask.plot()"
   ]
  },
  {
   "cell_type": "code",
   "execution_count": 15,
   "id": "abd10de2002c7c13",
   "metadata": {
    "ExecuteTime": {
     "end_time": "2025-04-02T10:06:03.044650Z",
     "start_time": "2025-04-02T10:06:03.032437Z"
    },
    "collapsed": false,
    "jupyter": {
     "outputs_hidden": false
    }
   },
   "outputs": [],
   "source": [
    "xr_bathy_grid_interp = xr_topo_grid_interp - config.lake_altitude"
   ]
  },
  {
   "cell_type": "code",
   "execution_count": 16,
   "id": "d1fa3f3a5f3fb16b",
   "metadata": {
    "ExecuteTime": {
     "end_time": "2025-04-02T10:06:03.060084Z",
     "start_time": "2025-04-02T10:06:03.046873Z"
    },
    "collapsed": false,
    "jupyter": {
     "outputs_hidden": false
    }
   },
   "outputs": [],
   "source": [
    "clean_bathy_grid_interp = xr_bathy_grid_interp.where(mask == True, 2)"
   ]
  },
  {
   "cell_type": "code",
   "execution_count": 17,
   "id": "8a472b7c0ab15be3",
   "metadata": {
    "ExecuteTime": {
     "end_time": "2025-04-02T10:06:03.459349Z",
     "start_time": "2025-04-02T10:06:03.062243Z"
    },
    "collapsed": false,
    "jupyter": {
     "outputs_hidden": false
    }
   },
   "outputs": [
    {
     "data": {
      "text/plain": [
       "<matplotlib.collections.QuadMesh at 0x2742609da60>"
      ]
     },
     "execution_count": 17,
     "metadata": {},
     "output_type": "execute_result"
    },
    {
     "data": {
      "image/png": "[encoded data removed]",
      "text/plain": [
       "<Figure size 640x480 with 2 Axes>"
      ]
     },
     "metadata": {},
     "output_type": "display_data"
    }
   ],
   "source": [
    "clean_bathy_grid_interp.plot(vmax=0, cmap='jet')"
   ]
  },
  {
   "cell_type": "code",
   "execution_count": 19,
   "id": "f2b030bf-5826-47ec-81ab-6a8fc48be203",
   "metadata": {},
   "outputs": [
    {
     "data": {
      "text/html": [
       "<div><svg style=\"position: absolute; width: 0; height: 0; overflow: hidden\">\n",
       "<defs>\n",
       "<symbol id=\"icon-database\" viewBox=\"0 0 32 32\">\n",
       "<path d=\"M16 0c-8.837 0-16 2.239-16 5v4c0 2.761 7.163 5 16 5s16-2.239 16-5v-4c0-2.761-7.163-5-16-5z\"></path>\n",
       "<path d=\"M16 17c-8.837 0-16-2.239-16-5v6c0 2.761 7.163 5 16 5s16-2.239 16-5v-6c0 2.761-7.163 5-16 5z\"></path>\n",
       "<path d=\"M16 26c-8.837 0-16-2.239-16-5v6c0 2.761 7.163 5 16 5s16-2.239 16-5v-6c0 2.761-7.163 5-16 5z\"></path>\n",
       "</symbol>\n",
       "<symbol id=\"icon-file-text2\" viewBox=\"0 0 32 32\">\n",
       "<path d=\"M28.681 7.159c-0.694-0.947-1.662-2.053-2.724-3.116s-2.169-2.030-3.116-2.724c-1.612-1.182-2.393-1.319-2.841-1.319h-15.5c-1.378 0-2.5 1.121-2.5 2.5v27c0 1.378 1.122 2.5 2.5 2.5h23c1.378 0 2.5-1.122 2.5-2.5v-19.5c0-0.448-0.137-1.23-1.319-2.841zM24.543 5.457c0.959 0.959 1.712 1.825 2.268 2.543h-4.811v-4.811c0.718 0.556 1.584 1.309 2.543 2.268zM28 29.5c0 0.271-0.229 0.5-0.5 0.5h-23c-0.271 0-0.5-0.229-0.5-0.5v-27c0-0.271 0.229-0.5 0.5-0.5 0 0 15.499-0 15.5 0v7c0 0.552 0.448 1 1 1h7v19.5z\"></path>\n",
       "<path d=\"M23 26h-14c-0.552 0-1-0.448-1-1s0.448-1 1-1h14c0.552 0 1 0.448 1 1s-0.448 1-1 1z\"></path>\n",
       "<path d=\"M23 22h-14c-0.552 0-1-0.448-1-1s0.448-1 1-1h14c0.552 0 1 0.448 1 1s-0.448 1-1 1z\"></path>\n",
       "<path d=\"M23 18h-14c-0.552 0-1-0.448-1-1s0.448-1 1-1h14c0.552 0 1 0.448 1 1s-0.448 1-1 1z\"></path>\n",
       "</symbol>\n",
       "</defs>\n",
       "</svg>\n",
       "<style>/* CSS stylesheet for displaying xarray objects in jupyterlab.\n",
       " *\n",
       " */\n",
       "\n",
       ":root {\n",
       "  --xr-font-color0: var(--jp-content-font-color0, rgba(0, 0, 0, 1));\n",
       "  --xr-font-color2: var(--jp-content-font-color2, rgba(0, 0, 0, 0.54));\n",
       "  --xr-font-color3: var(--jp-content-font-color3, rgba(0, 0, 0, 0.38));\n",
       "  --xr-border-color: var(--jp-border-color2, #e0e0e0);\n",
       "  --xr-disabled-color: var(--jp-layout-color3, #bdbdbd);\n",
       "  --xr-background-color: var(--jp-layout-color0, white);\n",
       "  --xr-background-color-row-even: var(--jp-layout-color1, white);\n",
       "  --xr-background-color-row-odd: var(--jp-layout-color2, #eeeeee);\n",
       "}\n",
       "\n",
       "html[theme=dark],\n",
       "body[data-theme=dark],\n",
       "body.vscode-dark {\n",
       "  --xr-font-color0: rgba(255, 255, 255, 1);\n",
       "  --xr-font-color2: rgba(255, 255, 255, 0.54);\n",
       "  --xr-font-color3: rgba(255, 255, 255, 0.38);\n",
       "  --xr-border-color: #1F1F1F;\n",
       "  --xr-disabled-color: #515151;\n",
       "  --xr-background-color: #111111;\n",
       "  --xr-background-color-row-even: #111111;\n",
       "  --xr-background-color-row-odd: #313131;\n",
       "}\n",
       "\n",
       ".xr-wrap {\n",
       "  display: block !important;\n",
       "  min-width: 300px;\n",
       "  max-width: 700px;\n",
       "}\n",
       "\n",
       ".xr-text-repr-fallback {\n",
       "  /* fallback to plain text repr when CSS is not injected (untrusted notebook) */\n",
       "  display: none;\n",
       "}\n",
       "\n",
       ".xr-header {\n",
       "  padding-top: 6px;\n",
       "  padding-bottom: 6px;\n",
       "  margin-bottom: 4px;\n",
       "  border-bottom: solid 1px var(--xr-border-color);\n",
       "}\n",
       "\n",
       ".xr-header > div,\n",
       ".xr-header > ul {\n",
       "  display: inline;\n",
       "  margin-top: 0;\n",
       "  margin-bottom: 0;\n",
       "}\n",
       "\n",
       ".xr-obj-type,\n",
       ".xr-array-name {\n",
       "  margin-left: 2px;\n",
       "  margin-right: 10px;\n",
       "}\n",
       "\n",
       ".xr-obj-type {\n",
       "  color: var(--xr-font-color2);\n",
       "}\n",
       "\n",
       ".xr-sections {\n",
       "  padding-left: 0 !important;\n",
       "  display: grid;\n",
       "  grid-template-columns: 150px auto auto 1fr 20px 20px;\n",
       "}\n",
       "\n",
       ".xr-section-item {\n",
       "  display: contents;\n",
       "}\n",
       "\n",
       ".xr-section-item input {\n",
       "  display: none;\n",
       "}\n",
       "\n",
       ".xr-section-item input + label {\n",
       "  color: var(--xr-disabled-color);\n",
       "}\n",
       "\n",
       ".xr-section-item input:enabled + label {\n",
       "  cursor: pointer;\n",
       "  color: var(--xr-font-color2);\n",
       "}\n",
       "\n",
       ".xr-section-item input:enabled + label:hover {\n",
       "  color: var(--xr-font-color0);\n",
       "}\n",
       "\n",
       ".xr-section-summary {\n",
       "  grid-column: 1;\n",
       "  color: var(--xr-font-color2);\n",
       "  font-weight: 500;\n",
       "}\n",
       "\n",
       ".xr-section-summary > span {\n",
       "  display: inline-block;\n",
       "  padding-left: 0.5em;\n",
       "}\n",
       "\n",
       ".xr-section-summary-in:disabled + label {\n",
       "  color: var(--xr-font-color2);\n",
       "}\n",
       "\n",
       ".xr-section-summary-in + label:before {\n",
       "  display: inline-block;\n",
       "  content: '►';\n",
       "  font-size: 11px;\n",
       "  width: 15px;\n",
       "  text-align: center;\n",
       "}\n",
       "\n",
       ".xr-section-summary-in:disabled + label:before {\n",
       "  color: var(--xr-disabled-color);\n",
       "}\n",
       "\n",
       ".xr-section-summary-in:checked + label:before {\n",
       "  content: '▼';\n",
       "}\n",
       "\n",
       ".xr-section-summary-in:checked + label > span {\n",
       "  display: none;\n",
       "}\n",
       "\n",
       ".xr-section-summary,\n",
       ".xr-section-inline-details {\n",
       "  padding-top: 4px;\n",
       "  padding-bottom: 4px;\n",
       "}\n",
       "\n",
       ".xr-section-inline-details {\n",
       "  grid-column: 2 / -1;\n",
       "}\n",
       "\n",
       ".xr-section-details {\n",
       "  display: none;\n",
       "  grid-column: 1 / -1;\n",
       "  margin-bottom: 5px;\n",
       "}\n",
       "\n",
       ".xr-section-summary-in:checked ~ .xr-section-details {\n",
       "  display: contents;\n",
       "}\n",
       "\n",
       ".xr-array-wrap {\n",
       "  grid-column: 1 / -1;\n",
       "  display: grid;\n",
       "  grid-template-columns: 20px auto;\n",
       "}\n",
       "\n",
       ".xr-array-wrap > label {\n",
       "  grid-column: 1;\n",
       "  vertical-align: top;\n",
       "}\n",
       "\n",
       ".xr-preview {\n",
       "  color: var(--xr-font-color3);\n",
       "}\n",
       "\n",
       ".xr-array-preview,\n",
       ".xr-array-data {\n",
       "  padding: 0 5px !important;\n",
       "  grid-column: 2;\n",
       "}\n",
       "\n",
       ".xr-array-data,\n",
       ".xr-array-in:checked ~ .xr-array-preview {\n",
       "  display: none;\n",
       "}\n",
       "\n",
       ".xr-array-in:checked ~ .xr-array-data,\n",
       ".xr-array-preview {\n",
       "  display: inline-block;\n",
       "}\n",
       "\n",
       ".xr-dim-list {\n",
       "  display: inline-block !important;\n",
       "  list-style: none;\n",
       "  padding: 0 !important;\n",
       "  margin: 0;\n",
       "}\n",
       "\n",
       ".xr-dim-list li {\n",
       "  display: inline-block;\n",
       "  padding: 0;\n",
       "  margin: 0;\n",
       "}\n",
       "\n",
       ".xr-dim-list:before {\n",
       "  content: '(';\n",
       "}\n",
       "\n",
       ".xr-dim-list:after {\n",
       "  content: ')';\n",
       "}\n",
       "\n",
       ".xr-dim-list li:not(:last-child):after {\n",
       "  content: ',';\n",
       "  padding-right: 5px;\n",
       "}\n",
       "\n",
       ".xr-has-index {\n",
       "  font-weight: bold;\n",
       "}\n",
       "\n",
       ".xr-var-list,\n",
       ".xr-var-item {\n",
       "  display: contents;\n",
       "}\n",
       "\n",
       ".xr-var-item > div,\n",
       ".xr-var-item label,\n",
       ".xr-var-item > .xr-var-name span {\n",
       "  background-color: var(--xr-background-color-row-even);\n",
       "  margin-bottom: 0;\n",
       "}\n",
       "\n",
       ".xr-var-item > .xr-var-name:hover span {\n",
       "  padding-right: 5px;\n",
       "}\n",
       "\n",
       ".xr-var-list > li:nth-child(odd) > div,\n",
       ".xr-var-list > li:nth-child(odd) > label,\n",
       ".xr-var-list > li:nth-child(odd) > .xr-var-name span {\n",
       "  background-color: var(--xr-background-color-row-odd);\n",
       "}\n",
       "\n",
       ".xr-var-name {\n",
       "  grid-column: 1;\n",
       "}\n",
       "\n",
       ".xr-var-dims {\n",
       "  grid-column: 2;\n",
       "}\n",
       "\n",
       ".xr-var-dtype {\n",
       "  grid-column: 3;\n",
       "  text-align: right;\n",
       "  color: var(--xr-font-color2);\n",
       "}\n",
       "\n",
       ".xr-var-preview {\n",
       "  grid-column: 4;\n",
       "}\n",
       "\n",
       ".xr-index-preview {\n",
       "  grid-column: 2 / 5;\n",
       "  color: var(--xr-font-color2);\n",
       "}\n",
       "\n",
       ".xr-var-name,\n",
       ".xr-var-dims,\n",
       ".xr-var-dtype,\n",
       ".xr-preview,\n",
       ".xr-attrs dt {\n",
       "  white-space: nowrap;\n",
       "  overflow: hidden;\n",
       "  text-overflow: ellipsis;\n",
       "  padding-right: 10px;\n",
       "}\n",
       "\n",
       ".xr-var-name:hover,\n",
       ".xr-var-dims:hover,\n",
       ".xr-var-dtype:hover,\n",
       ".xr-attrs dt:hover {\n",
       "  overflow: visible;\n",
       "  width: auto;\n",
       "  z-index: 1;\n",
       "}\n",
       "\n",
       ".xr-var-attrs,\n",
       ".xr-var-data,\n",
       ".xr-index-data {\n",
       "  display: none;\n",
       "  background-color: var(--xr-background-color) !important;\n",
       "  padding-bottom: 5px !important;\n",
       "}\n",
       "\n",
       ".xr-var-attrs-in:checked ~ .xr-var-attrs,\n",
       ".xr-var-data-in:checked ~ .xr-var-data,\n",
       ".xr-index-data-in:checked ~ .xr-index-data {\n",
       "  display: block;\n",
       "}\n",
       "\n",
       ".xr-var-data > table {\n",
       "  float: right;\n",
       "}\n",
       "\n",
       ".xr-var-name span,\n",
       ".xr-var-data,\n",
       ".xr-index-name div,\n",
       ".xr-index-data,\n",
       ".xr-attrs {\n",
       "  padding-left: 25px !important;\n",
       "}\n",
       "\n",
       ".xr-attrs,\n",
       ".xr-var-attrs,\n",
       ".xr-var-data,\n",
       ".xr-index-data {\n",
       "  grid-column: 1 / -1;\n",
       "}\n",
       "\n",
       "dl.xr-attrs {\n",
       "  padding: 0;\n",
       "  margin: 0;\n",
       "  display: grid;\n",
       "  grid-template-columns: 125px auto;\n",
       "}\n",
       "\n",
       ".xr-attrs dt,\n",
       ".xr-attrs dd {\n",
       "  padding: 0;\n",
       "  margin: 0;\n",
       "  float: left;\n",
       "  padding-right: 10px;\n",
       "  width: auto;\n",
       "}\n",
       "\n",
       ".xr-attrs dt {\n",
       "  font-weight: normal;\n",
       "  grid-column: 1;\n",
       "}\n",
       "\n",
       ".xr-attrs dt:hover span {\n",
       "  display: inline-block;\n",
       "  background: var(--xr-background-color);\n",
       "  padding-right: 10px;\n",
       "}\n",
       "\n",
       ".xr-attrs dd {\n",
       "  grid-column: 2;\n",
       "  white-space: pre-wrap;\n",
       "  word-break: break-all;\n",
       "}\n",
       "\n",
       ".xr-icon-database,\n",
       ".xr-icon-file-text2,\n",
       ".xr-no-icon {\n",
       "  display: inline-block;\n",
       "  vertical-align: middle;\n",
       "  width: 1em;\n",
       "  height: 1.5em !important;\n",
       "  stroke-width: 0;\n",
       "  stroke: currentColor;\n",
       "  fill: currentColor;\n",
       "}\n",
       "</style><pre class='xr-text-repr-fallback'>&lt;xarray.DataArray (ysc: 59, xsc: 180)&gt;\n",
       "array([[2., 2., 2., ..., 2., 2., 2.],\n",
       "       [2., 2., 2., ..., 2., 2., 2.],\n",
       "       [2., 2., 2., ..., 2., 2., 2.],\n",
       "       ...,\n",
       "       [2., 2., 2., ..., 2., 2., 2.],\n",
       "       [2., 2., 2., ..., 2., 2., 2.],\n",
       "       [2., 2., 2., ..., 2., 2., 2.]])\n",
       "Coordinates:\n",
       "  * xsc      (xsc) int32 0 1 2 3 4 5 6 7 8 ... 172 173 174 175 176 177 178 179\n",
       "  * ysc      (ysc) int32 0 1 2 3 4 5 6 7 8 9 ... 49 50 51 52 53 54 55 56 57 58</pre><div class='xr-wrap' style='display:none'><div class='xr-header'><div class='xr-obj-type'>xarray.DataArray</div><div class='xr-array-name'></div><ul class='xr-dim-list'><li><span class='xr-has-index'>ysc</span>: 59</li><li><span class='xr-has-index'>xsc</span>: 180</li></ul></div><ul class='xr-sections'><li class='xr-section-item'><div class='xr-array-wrap'><input id='section-de8104bd-cc77-4236-a9d7-c0294cf6237f' class='xr-array-in' type='checkbox' checked><label for='section-de8104bd-cc77-4236-a9d7-c0294cf6237f' title='Show/hide data repr'><svg class='icon xr-icon-database'><use xlink:href='#icon-database'></use></svg></label><div class='xr-array-preview xr-preview'><span>2.0 2.0 2.0 2.0 2.0 2.0 2.0 2.0 ... 2.0 2.0 2.0 2.0 2.0 2.0 2.0 2.0</span></div><div class='xr-array-data'><pre>array([[2., 2., 2., ..., 2., 2., 2.],\n",
       "       [2., 2., 2., ..., 2., 2., 2.],\n",
       "       [2., 2., 2., ..., 2., 2., 2.],\n",
       "       ...,\n",
       "       [2., 2., 2., ..., 2., 2., 2.],\n",
       "       [2., 2., 2., ..., 2., 2., 2.],\n",
       "       [2., 2., 2., ..., 2., 2., 2.]])</pre></div></div></li><li class='xr-section-item'><input id='section-e2362c59-f555-4b0a-af00-3057e03bc30b' class='xr-section-summary-in' type='checkbox'  checked><label for='section-e2362c59-f555-4b0a-af00-3057e03bc30b' class='xr-section-summary' >Coordinates: <span>(2)</span></label><div class='xr-section-inline-details'></div><div class='xr-section-details'><ul class='xr-var-list'><li class='xr-var-item'><div class='xr-var-name'><span class='xr-has-index'>xsc</span></div><div class='xr-var-dims'>(xsc)</div><div class='xr-var-dtype'>int32</div><div class='xr-var-preview xr-preview'>0 1 2 3 4 5 ... 175 176 177 178 179</div><input id='attrs-206795d9-387b-43cb-9be5-42312975f78c' class='xr-var-attrs-in' type='checkbox' disabled><label for='attrs-206795d9-387b-43cb-9be5-42312975f78c' title='Show/Hide attributes'><svg class='icon xr-icon-file-text2'><use xlink:href='#icon-file-text2'></use></svg></label><input id='data-7712092a-8a18-4b7e-9bbf-1aea911f1421' class='xr-var-data-in' type='checkbox'><label for='data-7712092a-8a18-4b7e-9bbf-1aea911f1421' title='Show/Hide data repr'><svg class='icon xr-icon-database'><use xlink:href='#icon-database'></use></svg></label><div class='xr-var-attrs'><dl class='xr-attrs'></dl></div><div class='xr-var-data'><pre>array([  0,   1,   2,   3,   4,   5,   6,   7,   8,   9,  10,  11,  12,  13,\n",
       "        14,  15,  16,  17,  18,  19,  20,  21,  22,  23,  24,  25,  26,  27,\n",
       "        28,  29,  30,  31,  32,  33,  34,  35,  36,  37,  38,  39,  40,  41,\n",
       "        42,  43,  44,  45,  46,  47,  48,  49,  50,  51,  52,  53,  54,  55,\n",
       "        56,  57,  58,  59,  60,  61,  62,  63,  64,  65,  66,  67,  68,  69,\n",
       "        70,  71,  72,  73,  74,  75,  76,  77,  78,  79,  80,  81,  82,  83,\n",
       "        84,  85,  86,  87,  88,  89,  90,  91,  92,  93,  94,  95,  96,  97,\n",
       "        98,  99, 100, 101, 102, 103, 104, 105, 106, 107, 108, 109, 110, 111,\n",
       "       112, 113, 114, 115, 116, 117, 118, 119, 120, 121, 122, 123, 124, 125,\n",
       "       126, 127, 128, 129, 130, 131, 132, 133, 134, 135, 136, 137, 138, 139,\n",
       "       140, 141, 142, 143, 144, 145, 146, 147, 148, 149, 150, 151, 152, 153,\n",
       "       154, 155, 156, 157, 158, 159, 160, 161, 162, 163, 164, 165, 166, 167,\n",
       "       168, 169, 170, 171, 172, 173, 174, 175, 176, 177, 178, 179])</pre></div></li><li class='xr-var-item'><div class='xr-var-name'><span class='xr-has-index'>ysc</span></div><div class='xr-var-dims'>(ysc)</div><div class='xr-var-dtype'>int32</div><div class='xr-var-preview xr-preview'>0 1 2 3 4 5 6 ... 53 54 55 56 57 58</div><input id='attrs-c4d518e9-a721-4401-b64b-163589361d06' class='xr-var-attrs-in' type='checkbox' disabled><label for='attrs-c4d518e9-a721-4401-b64b-163589361d06' title='Show/Hide attributes'><svg class='icon xr-icon-file-text2'><use xlink:href='#icon-file-text2'></use></svg></label><input id='data-d8561404-43ee-4532-9ae3-3d9510af3d11' class='xr-var-data-in' type='checkbox'><label for='data-d8561404-43ee-4532-9ae3-3d9510af3d11' title='Show/Hide data repr'><svg class='icon xr-icon-database'><use xlink:href='#icon-database'></use></svg></label><div class='xr-var-attrs'><dl class='xr-attrs'></dl></div><div class='xr-var-data'><pre>array([ 0,  1,  2,  3,  4,  5,  6,  7,  8,  9, 10, 11, 12, 13, 14, 15, 16, 17,\n",
       "       18, 19, 20, 21, 22, 23, 24, 25, 26, 27, 28, 29, 30, 31, 32, 33, 34, 35,\n",
       "       36, 37, 38, 39, 40, 41, 42, 43, 44, 45, 46, 47, 48, 49, 50, 51, 52, 53,\n",
       "       54, 55, 56, 57, 58])</pre></div></li></ul></div></li><li class='xr-section-item'><input id='section-d35ddab5-7b64-4eb6-a061-74e4efed1cb2' class='xr-section-summary-in' type='checkbox'  ><label for='section-d35ddab5-7b64-4eb6-a061-74e4efed1cb2' class='xr-section-summary' >Indexes: <span>(2)</span></label><div class='xr-section-inline-details'></div><div class='xr-section-details'><ul class='xr-var-list'><li class='xr-var-item'><div class='xr-index-name'><div>xsc</div></div><div class='xr-index-preview'>PandasIndex</div><div></div><input id='index-c7055226-a4dc-43d2-bcc5-b232bb573b43' class='xr-index-data-in' type='checkbox'/><label for='index-c7055226-a4dc-43d2-bcc5-b232bb573b43' title='Show/Hide index repr'><svg class='icon xr-icon-database'><use xlink:href='#icon-database'></use></svg></label><div class='xr-index-data'><pre>PandasIndex(Index([  0,   1,   2,   3,   4,   5,   6,   7,   8,   9,\n",
       "       ...\n",
       "       170, 171, 172, 173, 174, 175, 176, 177, 178, 179],\n",
       "      dtype=&#x27;int32&#x27;, name=&#x27;xsc&#x27;, length=180))</pre></div></li><li class='xr-var-item'><div class='xr-index-name'><div>ysc</div></div><div class='xr-index-preview'>PandasIndex</div><div></div><input id='index-c56015b7-596a-4df0-a84d-89ead369ff90' class='xr-index-data-in' type='checkbox'/><label for='index-c56015b7-596a-4df0-a84d-89ead369ff90' title='Show/Hide index repr'><svg class='icon xr-icon-database'><use xlink:href='#icon-database'></use></svg></label><div class='xr-index-data'><pre>PandasIndex(Index([ 0,  1,  2,  3,  4,  5,  6,  7,  8,  9, 10, 11, 12, 13, 14, 15, 16, 17,\n",
       "       18, 19, 20, 21, 22, 23, 24, 25, 26, 27, 28, 29, 30, 31, 32, 33, 34, 35,\n",
       "       36, 37, 38, 39, 40, 41, 42, 43, 44, 45, 46, 47, 48, 49, 50, 51, 52, 53,\n",
       "       54, 55, 56, 57, 58],\n",
       "      dtype=&#x27;int32&#x27;, name=&#x27;ysc&#x27;))</pre></div></li></ul></div></li><li class='xr-section-item'><input id='section-9cb83d53-7b41-4518-aabe-6f421dcb90c2' class='xr-section-summary-in' type='checkbox' disabled ><label for='section-9cb83d53-7b41-4518-aabe-6f421dcb90c2' class='xr-section-summary'  title='Expand/collapse section'>Attributes: <span>(0)</span></label><div class='xr-section-inline-details'></div><div class='xr-section-details'><dl class='xr-attrs'></dl></div></li></ul></div></div>"
      ],
      "text/plain": [
       "<xarray.DataArray (ysc: 59, xsc: 180)>\n",
       "array([[2., 2., 2., ..., 2., 2., 2.],\n",
       "       [2., 2., 2., ..., 2., 2., 2.],\n",
       "       [2., 2., 2., ..., 2., 2., 2.],\n",
       "       ...,\n",
       "       [2., 2., 2., ..., 2., 2., 2.],\n",
       "       [2., 2., 2., ..., 2., 2., 2.],\n",
       "       [2., 2., 2., ..., 2., 2., 2.]])\n",
       "Coordinates:\n",
       "  * xsc      (xsc) int32 0 1 2 3 4 5 6 7 8 ... 172 173 174 175 176 177 178 179\n",
       "  * ysc      (ysc) int32 0 1 2 3 4 5 6 7 8 9 ... 49 50 51 52 53 54 55 56 57 58"
      ]
     },
     "execution_count": 19,
     "metadata": {},
     "output_type": "execute_result"
    }
   ],
   "source": [
    "clean_bathy_grid_interp"
   ]
  },
  {
   "cell_type": "markdown",
   "id": "712390ce",
   "metadata": {},
   "source": [
    "### Setting zeros to something positive (that is setting non-water to land)"
   ]
  },
  {
   "cell_type": "code",
   "execution_count": 24,
   "id": "ec133135",
   "metadata": {
    "ExecuteTime": {
     "end_time": "2025-04-02T10:06:03.643078Z",
     "start_time": "2025-04-02T10:06:03.461641Z"
    }
   },
   "outputs": [
    {
     "data": {
      "text/plain": [
       "<matplotlib.collections.QuadMesh at 0x27427b2ed50>"
      ]
     },
     "execution_count": 24,
     "metadata": {},
     "output_type": "execute_result"
    },
    {
     "data": {
      "image/png": "[encoded data removed]",
      "text/plain": [
       "<Figure size 640x480 with 2 Axes>"
      ]
     },
     "metadata": {},
     "output_type": "display_data"
    }
   ],
   "source": [
    "#bathy_grid_filled = clean_bathy_grid_interp.where(clean_bathy_grid_interp <= -1 , other=2)\n",
    "bathy_grid_filled.sel(xsc = np.arange(179)).plot(vmin = -1, vmax=0, cmap='jet')"
   ]
  },
  {
   "cell_type": "markdown",
   "id": "57295f3c",
   "metadata": {},
   "source": [
    "### Display transects for verification"
   ]
  },
  {
   "cell_type": "code",
   "execution_count": 22,
   "id": "670cfc49",
   "metadata": {
    "ExecuteTime": {
     "end_time": "2025-04-02T10:06:38.381285Z",
     "start_time": "2025-04-02T10:06:38.145371Z"
    }
   },
   "outputs": [
    {
     "data": {
      "image/png": "[encoded data removed]",
      "text/plain": [
       "<Figure size 1200x600 with 2 Axes>"
      ]
     },
     "metadata": {},
     "output_type": "display_data"
    }
   ],
   "source": [
    "fig, (ax1, ax2) = plt.subplots(1, 2, figsize=(12, 6))\n",
    "\n",
    "bathy_grid_filled.sel(ysc=15,method='nearest').plot(ax=ax1)\n",
    "ax1.grid()\n",
    "\n",
    "bathy_grid_filled.sel(xsc=100,method='nearest').plot(ax=ax2)\n",
    "ax2.grid()"
   ]
  },
  {
   "cell_type": "code",
   "execution_count": 25,
   "id": "012e871e",
   "metadata": {
    "ExecuteTime": {
     "end_time": "2025-04-02T10:06:46.443450Z",
     "start_time": "2025-04-02T10:06:46.424874Z"
    }
   },
   "outputs": [],
   "source": [
    "# saving bathy file \n",
    "\n",
    "def write_binary(path_fname: str,data: xr.DataArray, dtype: str):\n",
    "    '''\n",
    "    Saves data in the right binary format for MITgcm, in the dimension order XYT\n",
    "    Output binary files have been read and tested \n",
    "    '''\n",
    "\n",
    "    data = data.to_numpy() #convert to xarray to numpy first - and then save to binary\n",
    "    data = data.astype(dtype)\n",
    "\n",
    "    # Write to file\n",
    "    fid = open(path_fname, 'wb')\n",
    "    data.tofile(fid)\n",
    "    fid.close()\n",
    "\n",
    "    \n",
    "#bathy_grid_filled = bathy_grid_filled.transpose('xsc','ysc')\n",
    "write_binary(os.path.join(config.paths.grid_folder_path, f'bathy_{config.grid_config_name}.bin'),bathy_grid_filled, '>f8') # big-endian and precision 64\n",
    "#write_binary(os.path.join(config.paths.grid_folder_path, f'bathy_{config.grid_config_name}_little_endian.bin'),bathy_grid_filled, '<f8') # little-endian and precision 64"
   ]
  },
  {
   "cell_type": "code",
   "execution_count": null,
   "id": "fe4b7e08c9c60896",
   "metadata": {
    "collapsed": false,
    "jupyter": {
     "outputs_hidden": false
    }
   },
   "outputs": [],
   "source": []
  }
 ],
 "metadata": {
  "kernelspec": {
   "display_name": "preprocessing-mitgcm",
   "language": "python",
   "name": "preprocessing-mitgcm"
  },
  "language_info": {
   "codemirror_mode": {
    "name": "ipython",
    "version": 3
   },
   "file_extension": ".py",
   "mimetype": "text/x-python",
   "name": "python",
   "nbconvert_exporter": "python",
   "pygments_lexer": "ipython3",
   "version": "3.12.7"
  }
 },
 "nbformat": 4,
 "nbformat_minor": 5
}
