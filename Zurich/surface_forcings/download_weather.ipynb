{
 "cells": [
  {
   "cell_type": "code",
   "execution_count": 1,
   "id": "2729bb04-71c7-426c-9f92-2ef888c9cb6e",
   "metadata": {
    "ExecuteTime": {
     "end_time": "2025-02-21T09:45:43.010433Z",
     "start_time": "2025-02-21T09:45:42.584520Z"
    }
   },
   "outputs": [],
   "source": [
    "import requests\n",
    "import os\n",
    "from datetime import datetime, timedelta\n",
    "import numpy as np\n",
    "import json\n",
    "\n",
    "from configs.config_object import ConfigObject\n",
    "from grid_and_bathy import get_grid"
   ]
  },
  {
   "cell_type": "code",
   "outputs": [],
   "source": [
    "config = ConfigObject('../configs/config.json')"
   ],
   "metadata": {
    "collapsed": false,
    "ExecuteTime": {
     "end_time": "2025-02-21T09:45:43.026041Z",
     "start_time": "2025-02-21T09:45:43.011478Z"
    }
   },
   "id": "55dcff194c078418",
   "execution_count": 2
  },
  {
   "cell_type": "markdown",
   "id": "f5f15d1d-1ad4-4379-9562-49b41a0a903c",
   "metadata": {},
   "source": [
    "#### Load data using API"
   ]
  },
  {
   "cell_type": "code",
   "execution_count": 3,
   "id": "5227b5d7",
   "metadata": {
    "ExecuteTime": {
     "end_time": "2025-02-21T09:45:44.079121Z",
     "start_time": "2025-02-21T09:45:44.066057Z"
    }
   },
   "outputs": [],
   "source": [
    "def fetch_daily_data(base_url, start_date, end_date, lat0, long0, lat1, long1, folder_path):\n",
    "    # Convert input dates to datetime objects\n",
    "    start_dt = datetime.strptime(start_date, \"%Y%m%d\")\n",
    "    end_dt = datetime.strptime(end_date, \"%Y%m%d\")\n",
    "\n",
    "    variables = ['U', 'V'] #['T_2M', 'U', 'V', 'GLOB', 'RELHUM_2M', 'PMSL', 'CLCT', 'PS']\n",
    "    # Loop through each day within the range\n",
    "    current_date = start_dt\n",
    "    while current_date < end_dt:\n",
    "        next_date = current_date + timedelta(days=15)\n",
    "\n",
    "        if next_date > end_dt:\n",
    "            next_date = end_dt\n",
    "\n",
    "        # Format dates for the API request\n",
    "        start_window_str = current_date.strftime(\"%Y%m%d\")\n",
    "        end_window_str = next_date.strftime(\"%Y%m%d\")\n",
    "\n",
    "        for var in variables:\n",
    "            # Construct the API URL for each 1-day window\n",
    "            url = f\"{base_url}/{start_window_str}/{end_window_str}/{lat0}/{long0}/{lat1}/{long1}?variables={var}\"\n",
    "        \n",
    "            # Fetch data from the API\n",
    "            response = requests.get(url)\n",
    "    \n",
    "            if response.status_code == 200:\n",
    "                data = response.json()\n",
    "                \n",
    "                # Save the data to a file with date range in the filename\n",
    "                file_name = f\"{start_window_str}_{end_window_str}_{var}.json\"\n",
    "                \n",
    "                file_path = os.path.join(folder_path, file_name)\n",
    "                \n",
    "                with open(file_path, \"w\") as file:\n",
    "                    file.write(response.text)\n",
    "                    print(f\"Saved data to {file_path}\")\n",
    "            else:\n",
    "                print(f\"Failed to fetch data for {start_window_str} to {end_window_str}. Error : {response.text}. url : {url}\")\n",
    "\n",
    "        current_date = next_date + timedelta(days=1)\n"
   ]
  },
  {
   "cell_type": "code",
   "outputs": [],
   "source": [
    "mitgcm_grid = get_grid(config.paths.grid_folder_path)"
   ],
   "metadata": {
    "collapsed": false,
    "ExecuteTime": {
     "end_time": "2025-02-21T09:45:44.662573Z",
     "start_time": "2025-02-21T09:45:44.655088Z"
    }
   },
   "id": "76f46ca4e25e98dc",
   "execution_count": 4
  },
  {
   "cell_type": "code",
   "outputs": [],
   "source": [
    "buffer_icon_grid = config.weather_download_buffer\n",
    "base_url = config.weather_api_base_url\n",
    "folder_path = r'C:\\Users\\leroquan\\Documents\\Data\\meteo\\u_v_leman_2022-2025\\icon'"
   ],
   "metadata": {
    "collapsed": false,
    "ExecuteTime": {
     "end_time": "2025-02-21T09:45:44.987514Z",
     "start_time": "2025-02-21T09:45:44.976804Z"
    }
   },
   "id": "1e020e6636f2b93a",
   "execution_count": 5
  },
  {
   "cell_type": "markdown",
   "source": [
    "## Fetch reanalysis"
   ],
   "metadata": {
    "collapsed": false
   },
   "id": "e9b82eaff7a4d476"
  },
  {
   "cell_type": "code",
   "execution_count": 6,
   "id": "2ee76e20",
   "metadata": {
    "ExecuteTime": {
     "end_time": "2025-02-21T09:49:21.843259Z",
     "start_time": "2025-02-21T09:45:46.564895Z"
    }
   },
   "outputs": [
    {
     "name": "stdout",
     "output_type": "stream",
     "text": [
      "Saved data to C:\\Users\\leroquan\\Documents\\Data\\meteo\\u_v_leman_2022-2025\\icon\\20240801_20240816_U.json\n",
      "Saved data to C:\\Users\\leroquan\\Documents\\Data\\meteo\\u_v_leman_2022-2025\\icon\\20240801_20240816_V.json\n",
      "Saved data to C:\\Users\\leroquan\\Documents\\Data\\meteo\\u_v_leman_2022-2025\\icon\\20240817_20240901_U.json\n",
      "Saved data to C:\\Users\\leroquan\\Documents\\Data\\meteo\\u_v_leman_2022-2025\\icon\\20240817_20240901_V.json\n",
      "Saved data to C:\\Users\\leroquan\\Documents\\Data\\meteo\\u_v_leman_2022-2025\\icon\\20240902_20240917_U.json\n",
      "Saved data to C:\\Users\\leroquan\\Documents\\Data\\meteo\\u_v_leman_2022-2025\\icon\\20240902_20240917_V.json\n",
      "Saved data to C:\\Users\\leroquan\\Documents\\Data\\meteo\\u_v_leman_2022-2025\\icon\\20240918_20241003_U.json\n",
      "Saved data to C:\\Users\\leroquan\\Documents\\Data\\meteo\\u_v_leman_2022-2025\\icon\\20240918_20241003_V.json\n",
      "Saved data to C:\\Users\\leroquan\\Documents\\Data\\meteo\\u_v_leman_2022-2025\\icon\\20241004_20241019_U.json\n",
      "Saved data to C:\\Users\\leroquan\\Documents\\Data\\meteo\\u_v_leman_2022-2025\\icon\\20241004_20241019_V.json\n",
      "Saved data to C:\\Users\\leroquan\\Documents\\Data\\meteo\\u_v_leman_2022-2025\\icon\\20241020_20241104_U.json\n",
      "Saved data to C:\\Users\\leroquan\\Documents\\Data\\meteo\\u_v_leman_2022-2025\\icon\\20241020_20241104_V.json\n",
      "Saved data to C:\\Users\\leroquan\\Documents\\Data\\meteo\\u_v_leman_2022-2025\\icon\\20241105_20241120_U.json\n",
      "Saved data to C:\\Users\\leroquan\\Documents\\Data\\meteo\\u_v_leman_2022-2025\\icon\\20241105_20241120_V.json\n",
      "Saved data to C:\\Users\\leroquan\\Documents\\Data\\meteo\\u_v_leman_2022-2025\\icon\\20241121_20241206_U.json\n",
      "Saved data to C:\\Users\\leroquan\\Documents\\Data\\meteo\\u_v_leman_2022-2025\\icon\\20241121_20241206_V.json\n",
      "Saved data to C:\\Users\\leroquan\\Documents\\Data\\meteo\\u_v_leman_2022-2025\\icon\\20241207_20241222_U.json\n",
      "Saved data to C:\\Users\\leroquan\\Documents\\Data\\meteo\\u_v_leman_2022-2025\\icon\\20241207_20241222_V.json\n",
      "Saved data to C:\\Users\\leroquan\\Documents\\Data\\meteo\\u_v_leman_2022-2025\\icon\\20241223_20250101_U.json\n",
      "Saved data to C:\\Users\\leroquan\\Documents\\Data\\meteo\\u_v_leman_2022-2025\\icon\\20241223_20250101_V.json\n"
     ]
    }
   ],
   "source": [
    "test = fetch_daily_data(base_url, config.start_date, config.end_date, mitgcm_grid.lat_grid.min() - buffer_icon_grid, mitgcm_grid.lon_grid.min() - buffer_icon_grid, mitgcm_grid.lat_grid.max() + buffer_icon_grid, mitgcm_grid.lon_grid.max() + buffer_icon_grid, folder_path)"
   ]
  },
  {
   "cell_type": "markdown",
   "source": [
    "## Fetch forecasts"
   ],
   "metadata": {
    "collapsed": false
   },
   "id": "8a049fd1852dd2e9"
  },
  {
   "cell_type": "code",
   "outputs": [
    {
     "name": "stdout",
     "output_type": "stream",
     "text": [
      "Saved data to C:\\Users\\leroquan\\Documents\\00-Work_space\\06-mit_gcm_geneva\\data\\ICON forecasts\\raw_from_alplakes_api\\20240910_20240914_T_2M.json\n",
      "Saved data to C:\\Users\\leroquan\\Documents\\00-Work_space\\06-mit_gcm_geneva\\data\\ICON forecasts\\raw_from_alplakes_api\\20240910_20240914_U.json\n",
      "Saved data to C:\\Users\\leroquan\\Documents\\00-Work_space\\06-mit_gcm_geneva\\data\\ICON forecasts\\raw_from_alplakes_api\\20240910_20240914_V.json\n",
      "Saved data to C:\\Users\\leroquan\\Documents\\00-Work_space\\06-mit_gcm_geneva\\data\\ICON forecasts\\raw_from_alplakes_api\\20240910_20240914_GLOB.json\n",
      "Saved data to C:\\Users\\leroquan\\Documents\\00-Work_space\\06-mit_gcm_geneva\\data\\ICON forecasts\\raw_from_alplakes_api\\20240910_20240914_RELHUM_2M.json\n",
      "Saved data to C:\\Users\\leroquan\\Documents\\00-Work_space\\06-mit_gcm_geneva\\data\\ICON forecasts\\raw_from_alplakes_api\\20240910_20240914_PMSL.json\n",
      "Saved data to C:\\Users\\leroquan\\Documents\\00-Work_space\\06-mit_gcm_geneva\\data\\ICON forecasts\\raw_from_alplakes_api\\20240910_20240914_CLCT.json\n",
      "Saved data to C:\\Users\\leroquan\\Documents\\00-Work_space\\06-mit_gcm_geneva\\data\\ICON forecasts\\raw_from_alplakes_api\\20240910_20240914_PS.json\n"
     ]
    }
   ],
   "source": [
    "start_dt = datetime.strptime(start_date, \"%Y%m%d\")\n",
    "end_dt = start_dt + timedelta(days=4)\n",
    "variables = ['T_2M', 'U', 'V', 'GLOB', 'RELHUM_2M', 'PMSL', 'CLCT', 'PS']\n",
    "for var in variables:\n",
    "    url = f'{base_url}/{start_dt.strftime(\"%Y%m%d\")}/{lat0_icon_wgs84 - buffer_icon_grid}/{long0_icon_wgs84 - buffer_icon_grid}/{lat1_icon_wgs84 + buffer_icon_grid}/{long1_icon_wgs84+ buffer_icon_grid}?variables={var}'\n",
    "    # Fetch data from the API\n",
    "    response = requests.get(url)\n",
    "\n",
    "    if response.status_code == 200:\n",
    "        data = response.json()\n",
    "        \n",
    "        # Save the data to a file with date range in the filename\n",
    "        file_name = f'{start_dt.strftime(\"%Y%m%d\")}_{end_dt.strftime(\"%Y%m%d\")}_{var}.json'\n",
    "        \n",
    "        file_path = os.path.join(folder_path, file_name)\n",
    "        \n",
    "        with open(file_path, \"w\") as file:\n",
    "            file.write(response.text)\n",
    "            print(f\"Saved data to {file_path}\")\n",
    "    else:\n",
    "        print(f\"Failed to fetch data for {start_dt} to {end_dt}. Error : {response.text}. url : {url}\")"
   ],
   "metadata": {
    "collapsed": false,
    "ExecuteTime": {
     "end_time": "2024-09-18T13:03:29.192686Z",
     "start_time": "2024-09-18T13:03:24.148886Z"
    }
   },
   "id": "a88b25c42ea7e61f",
   "execution_count": 23
  },
  {
   "cell_type": "code",
   "outputs": [],
   "source": [
    "start_dt = datetime.strptime(start_date, \"%Y%m%d\")"
   ],
   "metadata": {
    "collapsed": false,
    "ExecuteTime": {
     "end_time": "2024-09-18T12:56:59.700767Z",
     "start_time": "2024-09-18T12:56:59.687767Z"
    }
   },
   "id": "6b4187f06d881621",
   "execution_count": 19
  },
  {
   "cell_type": "code",
   "outputs": [],
   "source": [],
   "metadata": {
    "collapsed": false
   },
   "id": "85b22e8678c7937f"
  }
 ],
 "metadata": {
  "kernelspec": {
   "display_name": "mitgcm_venv",
   "language": "python",
   "name": "python3"
  },
  "language_info": {
   "codemirror_mode": {
    "name": "ipython",
    "version": 3
   },
   "file_extension": ".py",
   "mimetype": "text/x-python",
   "name": "python",
   "nbconvert_exporter": "python",
   "pygments_lexer": "ipython3",
   "version": "3.9.6"
  }
 },
 "nbformat": 4,
 "nbformat_minor": 5
}
