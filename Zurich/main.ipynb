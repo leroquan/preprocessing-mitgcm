{
 "cells": [
  {
   "cell_type": "code",
   "execution_count": 23,
   "id": "a71c63f6ed1dc57a",
   "metadata": {
    "ExecuteTime": {
     "end_time": "2025-04-02T13:13:43.370029Z",
     "start_time": "2025-04-02T13:13:43.356234Z"
    },
    "collapsed": false,
    "jupyter": {
     "outputs_hidden": false
    }
   },
   "outputs": [],
   "source": [
    "import os\n",
    "import sys\n",
    "from datetime import datetime\n",
    "import shutil\n",
    "import numpy as np"
   ]
  },
  {
   "cell_type": "code",
   "execution_count": 24,
   "id": "6c0c5203-0743-4db4-93e9-a25979264be6",
   "metadata": {},
   "outputs": [
    {
     "name": "stdout",
     "output_type": "stream",
     "text": [
      "C:\\Users\\rasmusso\\Desktop\\preprocessing-mitgcm\n"
     ]
    }
   ],
   "source": [
    "parent_folder = os.path.abspath(os.path.join(os.getcwd(), '..'))\n",
    "print(parent_folder)\n",
    "sys.path.append(parent_folder)"
   ]
  },
  {
   "cell_type": "code",
   "execution_count": 25,
   "id": "initial_id",
   "metadata": {
    "ExecuteTime": {
     "end_time": "2025-04-02T13:13:44.266732Z",
     "start_time": "2025-04-02T13:13:43.372134Z"
    }
   },
   "outputs": [],
   "source": [
    "from configs.config_object import ConfigObject\n",
    "from grid_and_bathy import get_dz_grid, get_grid\n",
    "from surface_forcings import extract_and_save_surface_forcings, download_weather_reanalysis, download_weather_forecast\n",
    "from initial_conditions import download_profile_idronaut_datalakes, create_initial_temperature_from_measure_profile, parse_alplakes_1d_from_directory\n",
    "from run_preprocessing import write_data_config_files, copy_template, remove_all_files_and_folders, write_size_config_files\n",
    "from utils import modify_arguments, convert_binary_files"
   ]
  },
  {
   "cell_type": "markdown",
   "id": "e017a697ab5dd281",
   "metadata": {
    "collapsed": false,
    "jupyter": {
     "outputs_hidden": false
    }
   },
   "source": [
    "## Load config"
   ]
  },
  {
   "cell_type": "code",
   "execution_count": 26,
   "id": "bfae6ace9f9eefb3",
   "metadata": {
    "ExecuteTime": {
     "end_time": "2025-04-02T13:13:44.281853Z",
     "start_time": "2025-04-02T13:13:44.268787Z"
    },
    "collapsed": false,
    "jupyter": {
     "outputs_hidden": false
    }
   },
   "outputs": [
    {
     "name": "stdout",
     "output_type": "stream",
     "text": [
      "./00-template_mitgcm/zurich_base\n"
     ]
    }
   ],
   "source": [
    "config = ConfigObject('configs/config.json')\n",
    "output_folder = './99-output/'\n",
    "template_folder = os.path.join('./00-template_mitgcm/', config.template_folder)\n",
    "print(template_folder)"
   ]
  },
  {
   "cell_type": "code",
   "execution_count": 27,
   "id": "f7f3bcdacfbb25f",
   "metadata": {
    "ExecuteTime": {
     "end_time": "2025-04-02T13:13:45.123813Z",
     "start_time": "2025-04-02T13:13:45.107117Z"
    },
    "collapsed": false,
    "jupyter": {
     "outputs_hidden": false
    }
   },
   "outputs": [],
   "source": [
    "parsed_start_date = datetime.strptime(config.start_date, '%Y%m%d')\n",
    "parsed_end_date = datetime.strptime(config.end_date, '%Y%m%d')\n",
    "parsed_ref_date = datetime.strptime(config.reference_date, '%Y%m%d')\n",
    "\n",
    "sim_duration_in_second = (parsed_end_date - parsed_start_date).total_seconds()\n",
    "start_time_in_second_from_ref_date = (parsed_start_date - parsed_ref_date).total_seconds()\n",
    "end_time_in_second_from_ref_date = (parsed_end_date - parsed_ref_date).total_seconds()"
   ]
  },
  {
   "cell_type": "markdown",
   "id": "c7df9c6962b557b7",
   "metadata": {
    "collapsed": false,
    "jupyter": {
     "outputs_hidden": false
    }
   },
   "source": [
    "## Initialize output folder"
   ]
  },
  {
   "cell_type": "code",
   "execution_count": 28,
   "id": "61510542679c189b",
   "metadata": {
    "ExecuteTime": {
     "end_time": "2025-04-02T13:13:45.997511Z",
     "start_time": "2025-04-02T13:13:45.961090Z"
    },
    "collapsed": false,
    "jupyter": {
     "outputs_hidden": false
    }
   },
   "outputs": [],
   "source": [
    "remove_all_files_and_folders(output_folder)\n",
    "#copy_template('./00-template_mitgcm/geneva_base', output_folder)\n",
    "copy_template(template_folder, output_folder)\n",
    "config.write_metadata_to_file(os.path.join(output_folder, 'metadata_simulation.txt'))"
   ]
  },
  {
   "cell_type": "markdown",
   "id": "3de5145a6740583e",
   "metadata": {
    "collapsed": false,
    "jupyter": {
     "outputs_hidden": false
    }
   },
   "source": [
    "## Get MITgcm grid"
   ]
  },
  {
   "cell_type": "markdown",
   "id": "f5ed1f3c1b7039dc",
   "metadata": {
    "collapsed": false,
    "jupyter": {
     "outputs_hidden": false
    }
   },
   "source": [
    "#In case the grid has not been created yet\n",
    "build_and_save_mitgcm_grid(config.paths.grid_folder_path, \n",
    "                           config.Nx, \n",
    "                           config.Ny, \n",
    "                           config.grid_resolution, \n",
    "                           config.x0_ch1903, \n",
    "                           config.y0_ch1903, \n",
    "                           config.x1_ch1903, \n",
    "                           config.y1_ch1903)"
   ]
  },
  {
   "cell_type": "code",
   "execution_count": 29,
   "id": "b905cccc44f15ff8",
   "metadata": {
    "ExecuteTime": {
     "end_time": "2025-04-02T13:13:47.156592Z",
     "start_time": "2025-04-02T13:13:47.147462Z"
    },
    "collapsed": false,
    "jupyter": {
     "outputs_hidden": false
    },
    "scrolled": true
   },
   "outputs": [],
   "source": [
    "mitgcm_grid = get_grid(config.paths.grid_folder_path)"
   ]
  },
  {
   "cell_type": "markdown",
   "id": "f12b5099d4d8e3b5",
   "metadata": {
    "collapsed": false,
    "jupyter": {
     "outputs_hidden": false
    }
   },
   "source": [
    "## Build binary files"
   ]
  },
  {
   "cell_type": "code",
   "execution_count": 30,
   "id": "72cbdf023054ec88",
   "metadata": {
    "ExecuteTime": {
     "end_time": "2025-04-02T13:13:48.332570Z",
     "start_time": "2025-04-02T13:13:48.318222Z"
    },
    "collapsed": false,
    "jupyter": {
     "outputs_hidden": false
    }
   },
   "outputs": [
    {
     "name": "stdout",
     "output_type": "stream",
     "text": [
      "Directory './99-output/binary_data' created.\n"
     ]
    }
   ],
   "source": [
    "binary_data_folder = os.path.join(output_folder, 'binary_data')\n",
    "if not os.path.exists(binary_data_folder):\n",
    "    os.makedirs(binary_data_folder)\n",
    "    print(f\"Directory '{binary_data_folder}' created.\")"
   ]
  },
  {
   "cell_type": "markdown",
   "id": "88d4f6666cadd83",
   "metadata": {
    "collapsed": false,
    "jupyter": {
     "outputs_hidden": false
    }
   },
   "source": [
    "**Get bathymetry**"
   ]
  },
  {
   "cell_type": "code",
   "execution_count": 31,
   "id": "1abe7bf9ca450da2",
   "metadata": {
    "ExecuteTime": {
     "end_time": "2025-04-02T13:13:50.230146Z",
     "start_time": "2025-04-02T13:13:50.205576Z"
    },
    "collapsed": false,
    "jupyter": {
     "outputs_hidden": false
    }
   },
   "outputs": [
    {
     "data": {
      "text/plain": [
       "'./99-output/binary_data\\\\bathy.bin'"
      ]
     },
     "execution_count": 31,
     "metadata": {},
     "output_type": "execute_result"
    }
   ],
   "source": [
    "#To create bathymetry, see notebook 'create_bathy'\n",
    "shutil.copy(config.paths.bathy_path, os.path.join(binary_data_folder, 'bathy.bin'))"
   ]
  },
  {
   "cell_type": "markdown",
   "id": "9673032f29e5e681",
   "metadata": {
    "collapsed": false,
    "jupyter": {
     "outputs_hidden": false
    }
   },
   "source": [
    "**Get surface forcings**\n",
    "run to dowload external forcing.\n",
    "Once downloaded, no need to run that cell again"
   ]
  },
  {
   "cell_type": "code",
   "execution_count": 32,
   "id": "83b791fc7d942cc8",
   "metadata": {
    "ExecuteTime": {
     "end_time": "2025-04-02T13:13:52.037315Z",
     "start_time": "2025-04-02T13:13:52.010308Z"
    },
    "collapsed": false,
    "jupyter": {
     "outputs_hidden": false
    },
    "scrolled": true
   },
   "outputs": [
    {
     "name": "stdout",
     "output_type": "stream",
     "text": [
      "Data already exists: C:\\Users\\rasmusso\\Documents\\ZH\\data\\meteo\\continuous reanalysis\\20240301_20240301_T_2M.json\n",
      "Data already exists: C:\\Users\\rasmusso\\Documents\\ZH\\data\\meteo\\continuous reanalysis\\20240301_20240301_U.json\n",
      "Data already exists: C:\\Users\\rasmusso\\Documents\\ZH\\data\\meteo\\continuous reanalysis\\20240301_20240301_GLOB.json\n",
      "Data already exists: C:\\Users\\rasmusso\\Documents\\ZH\\data\\meteo\\continuous reanalysis\\20240301_20240301_V.json\n",
      "Data already exists: C:\\Users\\rasmusso\\Documents\\ZH\\data\\meteo\\continuous reanalysis\\20240301_20240301_RELHUM_2M.json\n",
      "Data already exists: C:\\Users\\rasmusso\\Documents\\ZH\\data\\meteo\\continuous reanalysis\\20240301_20240301_PS.json\n",
      "Data already exists: C:\\Users\\rasmusso\\Documents\\ZH\\data\\meteo\\continuous reanalysis\\20240301_20240301_CLCT.json\n",
      "Data already exists: C:\\Users\\rasmusso\\Documents\\ZH\\data\\meteo\\continuous reanalysis\\20240301_20240301_PMSL.json\n",
      "Data already exists: C:\\Users\\rasmusso\\Documents\\ZH\\data\\meteo\\continuous reanalysis\\20240302_20240302_T_2M.json\n",
      "Data already exists: C:\\Users\\rasmusso\\Documents\\ZH\\data\\meteo\\continuous reanalysis\\20240302_20240302_U.json\n",
      "Data already exists: C:\\Users\\rasmusso\\Documents\\ZH\\data\\meteo\\continuous reanalysis\\20240302_20240302_V.json\n",
      "Data already exists: C:\\Users\\rasmusso\\Documents\\ZH\\data\\meteo\\continuous reanalysis\\20240302_20240302_GLOB.json\n",
      "Data already exists: C:\\Users\\rasmusso\\Documents\\ZH\\data\\meteo\\continuous reanalysis\\20240302_20240302_PMSL.json\n",
      "Data already exists: C:\\Users\\rasmusso\\Documents\\ZH\\data\\meteo\\continuous reanalysis\\20240302_20240302_RELHUM_2M.json\n",
      "Data already exists: C:\\Users\\rasmusso\\Documents\\ZH\\data\\meteo\\continuous reanalysis\\20240302_20240302_PS.json\n",
      "Data already exists: C:\\Users\\rasmusso\\Documents\\ZH\\data\\meteo\\continuous reanalysis\\20240302_20240302_CLCT.json\n",
      "Data already exists: C:\\Users\\rasmusso\\Documents\\ZH\\data\\meteo\\continuous reanalysis\\20240303_20240303_U.json\n",
      "Data already exists: C:\\Users\\rasmusso\\Documents\\ZH\\data\\meteo\\continuous reanalysis\\20240303_20240303_T_2M.json\n",
      "Data already exists: C:\\Users\\rasmusso\\Documents\\ZH\\data\\meteo\\continuous reanalysis\\20240303_20240303_V.json\n",
      "Data already exists: C:\\Users\\rasmusso\\Documents\\ZH\\data\\meteo\\continuous reanalysis\\20240303_20240303_GLOB.json\n",
      "Data already exists: C:\\Users\\rasmusso\\Documents\\ZH\\data\\meteo\\continuous reanalysis\\20240303_20240303_RELHUM_2M.json\n",
      "Data already exists: C:\\Users\\rasmusso\\Documents\\ZH\\data\\meteo\\continuous reanalysis\\20240303_20240303_PMSL.json\n",
      "Data already exists: C:\\Users\\rasmusso\\Documents\\ZH\\data\\meteo\\continuous reanalysis\\20240303_20240303_CLCT.json\n",
      "Data already exists: C:\\Users\\rasmusso\\Documents\\ZH\\data\\meteo\\continuous reanalysis\\20240303_20240303_PS.json\n",
      "Data already exists: C:\\Users\\rasmusso\\Documents\\ZH\\data\\meteo\\continuous reanalysis\\20240304_20240304_T_2M.json\n",
      "Data already exists: C:\\Users\\rasmusso\\Documents\\ZH\\data\\meteo\\continuous reanalysis\\20240304_20240304_U.json\n",
      "Data already exists: C:\\Users\\rasmusso\\Documents\\ZH\\data\\meteo\\continuous reanalysis\\20240304_20240304_V.json\n",
      "Data already exists: C:\\Users\\rasmusso\\Documents\\ZH\\data\\meteo\\continuous reanalysis\\20240304_20240304_GLOB.json\n",
      "Data already exists: C:\\Users\\rasmusso\\Documents\\ZH\\data\\meteo\\continuous reanalysis\\20240304_20240304_PMSL.json\n",
      "Data already exists: C:\\Users\\rasmusso\\Documents\\ZH\\data\\meteo\\continuous reanalysis\\20240304_20240304_CLCT.json\n",
      "Data already exists: C:\\Users\\rasmusso\\Documents\\ZH\\data\\meteo\\continuous reanalysis\\20240304_20240304_PS.json\n",
      "Data already exists: C:\\Users\\rasmusso\\Documents\\ZH\\data\\meteo\\continuous reanalysis\\20240305_20240305_U.json\n",
      "Data already exists: C:\\Users\\rasmusso\\Documents\\ZH\\data\\meteo\\continuous reanalysis\\20240305_20240305_V.json\n",
      "Data already exists: C:\\Users\\rasmusso\\Documents\\ZH\\data\\meteo\\continuous reanalysis\\20240305_20240305_GLOB.json\n",
      "Data already exists: C:\\Users\\rasmusso\\Documents\\ZH\\data\\meteo\\continuous reanalysis\\20240305_20240305_RELHUM_2M.json\n",
      "Data already exists: C:\\Users\\rasmusso\\Documents\\ZH\\data\\meteo\\continuous reanalysis\\20240305_20240305_PMSL.json\n",
      "Data already exists: C:\\Users\\rasmusso\\Documents\\ZH\\data\\meteo\\continuous reanalysis\\20240305_20240305_CLCT.json\n",
      "Data already exists: C:\\Users\\rasmusso\\Documents\\ZH\\data\\meteo\\continuous reanalysis\\20240305_20240305_PS.json\n",
      "Data already exists: C:\\Users\\rasmusso\\Documents\\ZH\\data\\meteo\\continuous reanalysis\\20240306_20240306_U.json\n",
      "Data already exists: C:\\Users\\rasmusso\\Documents\\ZH\\data\\meteo\\continuous reanalysis\\20240306_20240306_T_2M.json\n",
      "Data already exists: C:\\Users\\rasmusso\\Documents\\ZH\\data\\meteo\\continuous reanalysis\\20240306_20240306_GLOB.json\n",
      "Data already exists: C:\\Users\\rasmusso\\Documents\\ZH\\data\\meteo\\continuous reanalysis\\20240306_20240306_RELHUM_2M.json\n",
      "Data already exists: C:\\Users\\rasmusso\\Documents\\ZH\\data\\meteo\\continuous reanalysis\\20240306_20240306_PMSL.json\n",
      "Data already exists: C:\\Users\\rasmusso\\Documents\\ZH\\data\\meteo\\continuous reanalysis\\20240306_20240306_CLCT.json\n",
      "Data already exists: C:\\Users\\rasmusso\\Documents\\ZH\\data\\meteo\\continuous reanalysis\\20240306_20240306_PS.json\n",
      "Data already exists: C:\\Users\\rasmusso\\Documents\\ZH\\data\\meteo\\continuous reanalysis\\20240307_20240307_T_2M.json\n",
      "Data already exists: C:\\Users\\rasmusso\\Documents\\ZH\\data\\meteo\\continuous reanalysis\\20240307_20240307_V.json\n",
      "Data already exists: C:\\Users\\rasmusso\\Documents\\ZH\\data\\meteo\\continuous reanalysis\\20240307_20240307_RELHUM_2M.json\n",
      "Data already exists: C:\\Users\\rasmusso\\Documents\\ZH\\data\\meteo\\continuous reanalysis\\20240307_20240307_GLOB.json\n",
      "Data already exists: C:\\Users\\rasmusso\\Documents\\ZH\\data\\meteo\\continuous reanalysis\\20240307_20240307_PMSL.json\n",
      "Data already exists: C:\\Users\\rasmusso\\Documents\\ZH\\data\\meteo\\continuous reanalysis\\20240307_20240307_CLCT.json\n",
      "Data already exists: C:\\Users\\rasmusso\\Documents\\ZH\\data\\meteo\\continuous reanalysis\\20240307_20240307_PS.json\n",
      "Data already exists: C:\\Users\\rasmusso\\Documents\\ZH\\data\\meteo\\continuous reanalysis\\20240306_20240306_V.json\n",
      "Data already exists: C:\\Users\\rasmusso\\Documents\\ZH\\data\\meteo\\continuous reanalysis\\20240308_20240308_V.json\n",
      "Data already exists: C:\\Users\\rasmusso\\Documents\\ZH\\data\\meteo\\continuous reanalysis\\20240308_20240308_GLOB.json\n",
      "Data already exists: C:\\Users\\rasmusso\\Documents\\ZH\\data\\meteo\\continuous reanalysis\\20240308_20240308_PMSL.json\n",
      "Data already exists: C:\\Users\\rasmusso\\Documents\\ZH\\data\\meteo\\continuous reanalysis\\20240308_20240308_CLCT.json\n",
      "Data already exists: C:\\Users\\rasmusso\\Documents\\ZH\\data\\meteo\\continuous reanalysis\\20240308_20240308_PS.json\n",
      "Data already exists: C:\\Users\\rasmusso\\Documents\\ZH\\data\\meteo\\continuous reanalysis\\20240309_20240309_T_2M.json\n",
      "Data already exists: C:\\Users\\rasmusso\\Documents\\ZH\\data\\meteo\\continuous reanalysis\\20240309_20240309_U.json\n",
      "Data already exists: C:\\Users\\rasmusso\\Documents\\ZH\\data\\meteo\\continuous reanalysis\\20240307_20240307_U.json\n",
      "Data already exists: C:\\Users\\rasmusso\\Documents\\ZH\\data\\meteo\\continuous reanalysis\\20240309_20240309_GLOB.json\n",
      "Data already exists: C:\\Users\\rasmusso\\Documents\\ZH\\data\\meteo\\continuous reanalysis\\20240308_20240308_U.json\n",
      "Data already exists: C:\\Users\\rasmusso\\Documents\\ZH\\data\\meteo\\continuous reanalysis\\20240309_20240309_RELHUM_2M.json\n",
      "Data already exists: C:\\Users\\rasmusso\\Documents\\ZH\\data\\meteo\\continuous reanalysis\\20240308_20240308_RELHUM_2M.json\n",
      "Data already exists: C:\\Users\\rasmusso\\Documents\\ZH\\data\\meteo\\continuous reanalysis\\20240309_20240309_PS.json\n",
      "Data already exists: C:\\Users\\rasmusso\\Documents\\ZH\\data\\meteo\\continuous reanalysis\\20240310_20240310_U.json\n",
      "Data already exists: C:\\Users\\rasmusso\\Documents\\ZH\\data\\meteo\\continuous reanalysis\\20240310_20240310_T_2M.json\n",
      "Data already exists: C:\\Users\\rasmusso\\Documents\\ZH\\data\\meteo\\continuous reanalysis\\20240310_20240310_V.json\n",
      "Data already exists: C:\\Users\\rasmusso\\Documents\\ZH\\data\\meteo\\continuous reanalysis\\20240310_20240310_GLOB.json\n",
      "Data already exists: C:\\Users\\rasmusso\\Documents\\ZH\\data\\meteo\\continuous reanalysis\\20240310_20240310_RELHUM_2M.json\n",
      "Data already exists: C:\\Users\\rasmusso\\Documents\\ZH\\data\\meteo\\continuous reanalysis\\20240310_20240310_PMSL.json\n",
      "Data already exists: C:\\Users\\rasmusso\\Documents\\ZH\\data\\meteo\\continuous reanalysis\\20240310_20240310_CLCT.json\n",
      "Data already exists: C:\\Users\\rasmusso\\Documents\\ZH\\data\\meteo\\continuous reanalysis\\20240309_20240309_CLCT.json\n",
      "Data already exists: C:\\Users\\rasmusso\\Documents\\ZH\\data\\meteo\\continuous reanalysis\\20240311_20240311_U.json\n",
      "Data already exists: C:\\Users\\rasmusso\\Documents\\ZH\\data\\meteo\\continuous reanalysis\\20240311_20240311_V.json\n",
      "Data already exists: C:\\Users\\rasmusso\\Documents\\ZH\\data\\meteo\\continuous reanalysis\\20240304_20240304_RELHUM_2M.json\n",
      "Data already exists: C:\\Users\\rasmusso\\Documents\\ZH\\data\\meteo\\continuous reanalysis\\20240311_20240311_T_2M.json\n",
      "Data already exists: C:\\Users\\rasmusso\\Documents\\ZH\\data\\meteo\\continuous reanalysis\\20240311_20240311_GLOB.json\n",
      "Data already exists: C:\\Users\\rasmusso\\Documents\\ZH\\data\\meteo\\continuous reanalysis\\20240311_20240311_RELHUM_2M.json\n",
      "Data already exists: C:\\Users\\rasmusso\\Documents\\ZH\\data\\meteo\\continuous reanalysis\\20240311_20240311_PMSL.json\n",
      "Data already exists: C:\\Users\\rasmusso\\Documents\\ZH\\data\\meteo\\continuous reanalysis\\20240311_20240311_CLCT.json\n",
      "Data already exists: C:\\Users\\rasmusso\\Documents\\ZH\\data\\meteo\\continuous reanalysis\\20240312_20240312_T_2M.json\n",
      "Data already exists: C:\\Users\\rasmusso\\Documents\\ZH\\data\\meteo\\continuous reanalysis\\20240311_20240311_PS.json\n",
      "Data already exists: C:\\Users\\rasmusso\\Documents\\ZH\\data\\meteo\\continuous reanalysis\\20240312_20240312_U.json\n",
      "Data already exists: C:\\Users\\rasmusso\\Documents\\ZH\\data\\meteo\\continuous reanalysis\\20240312_20240312_V.json\n",
      "Data already exists: C:\\Users\\rasmusso\\Documents\\ZH\\data\\meteo\\continuous reanalysis\\20240312_20240312_RELHUM_2M.json\n",
      "Data already exists: C:\\Users\\rasmusso\\Documents\\ZH\\data\\meteo\\continuous reanalysis\\20240312_20240312_GLOB.json\n",
      "Data already exists: C:\\Users\\rasmusso\\Documents\\ZH\\data\\meteo\\continuous reanalysis\\20240312_20240312_PMSL.json\n",
      "Data already exists: C:\\Users\\rasmusso\\Documents\\ZH\\data\\meteo\\continuous reanalysis\\20240312_20240312_CLCT.json\n",
      "Data already exists: C:\\Users\\rasmusso\\Documents\\ZH\\data\\meteo\\continuous reanalysis\\20240312_20240312_PS.json\n",
      "Data already exists: C:\\Users\\rasmusso\\Documents\\ZH\\data\\meteo\\continuous reanalysis\\20240313_20240313_T_2M.json\n",
      "Data already exists: C:\\Users\\rasmusso\\Documents\\ZH\\data\\meteo\\continuous reanalysis\\20240313_20240313_U.json\n",
      "Data already exists: C:\\Users\\rasmusso\\Documents\\ZH\\data\\meteo\\continuous reanalysis\\20240313_20240313_V.json\n",
      "Data already exists: C:\\Users\\rasmusso\\Documents\\ZH\\data\\meteo\\continuous reanalysis\\20240313_20240313_GLOB.json\n",
      "Data already exists: C:\\Users\\rasmusso\\Documents\\ZH\\data\\meteo\\continuous reanalysis\\20240313_20240313_RELHUM_2M.json\n",
      "Data already exists: C:\\Users\\rasmusso\\Documents\\ZH\\data\\meteo\\continuous reanalysis\\20240313_20240313_PMSL.json\n",
      "Data already exists: C:\\Users\\rasmusso\\Documents\\ZH\\data\\meteo\\continuous reanalysis\\20240313_20240313_CLCT.json\n",
      "Data already exists: C:\\Users\\rasmusso\\Documents\\ZH\\data\\meteo\\continuous reanalysis\\20240313_20240313_PS.json\n",
      "Data already exists: C:\\Users\\rasmusso\\Documents\\ZH\\data\\meteo\\continuous reanalysis\\20240314_20240314_T_2M.json\n",
      "Data already exists: C:\\Users\\rasmusso\\Documents\\ZH\\data\\meteo\\continuous reanalysis\\20240314_20240314_U.json\n",
      "Data already exists: C:\\Users\\rasmusso\\Documents\\ZH\\data\\meteo\\continuous reanalysis\\20240314_20240314_V.json\n",
      "Data already exists: C:\\Users\\rasmusso\\Documents\\ZH\\data\\meteo\\continuous reanalysis\\20240314_20240314_GLOB.json\n",
      "Data already exists: C:\\Users\\rasmusso\\Documents\\ZH\\data\\meteo\\continuous reanalysis\\20240314_20240314_PMSL.json\n",
      "Data already exists: C:\\Users\\rasmusso\\Documents\\ZH\\data\\meteo\\continuous reanalysis\\20240314_20240314_RELHUM_2M.json\n",
      "Data already exists: C:\\Users\\rasmusso\\Documents\\ZH\\data\\meteo\\continuous reanalysis\\20240314_20240314_PS.json\n",
      "Data already exists: C:\\Users\\rasmusso\\Documents\\ZH\\data\\meteo\\continuous reanalysis\\20240315_20240315_T_2M.json\n",
      "Data already exists: C:\\Users\\rasmusso\\Documents\\ZH\\data\\meteo\\continuous reanalysis\\20240315_20240315_V.json\n",
      "Data already exists: C:\\Users\\rasmusso\\Documents\\ZH\\data\\meteo\\continuous reanalysis\\20240315_20240315_GLOB.json\n",
      "Data already exists: C:\\Users\\rasmusso\\Documents\\ZH\\data\\meteo\\continuous reanalysis\\20240315_20240315_U.json\n",
      "Data already exists: C:\\Users\\rasmusso\\Documents\\ZH\\data\\meteo\\continuous reanalysis\\20240315_20240315_RELHUM_2M.json\n",
      "Data already exists: C:\\Users\\rasmusso\\Documents\\ZH\\data\\meteo\\continuous reanalysis\\20240315_20240315_PMSL.json\n",
      "Data already exists: C:\\Users\\rasmusso\\Documents\\ZH\\data\\meteo\\continuous reanalysis\\20240315_20240315_CLCT.json\n",
      "Data already exists: C:\\Users\\rasmusso\\Documents\\ZH\\data\\meteo\\continuous reanalysis\\20240315_20240315_PS.json\n",
      "Data already exists: C:\\Users\\rasmusso\\Documents\\ZH\\data\\meteo\\continuous reanalysis\\20240316_20240316_T_2M.json\n",
      "Data already exists: C:\\Users\\rasmusso\\Documents\\ZH\\data\\meteo\\continuous reanalysis\\20240316_20240316_U.json\n",
      "Data already exists: C:\\Users\\rasmusso\\Documents\\ZH\\data\\meteo\\continuous reanalysis\\20240316_20240316_GLOB.json\n",
      "Data already exists: C:\\Users\\rasmusso\\Documents\\ZH\\data\\meteo\\continuous reanalysis\\20240316_20240316_RELHUM_2M.json\n",
      "Data already exists: C:\\Users\\rasmusso\\Documents\\ZH\\data\\meteo\\continuous reanalysis\\20240316_20240316_V.json\n",
      "Data already exists: C:\\Users\\rasmusso\\Documents\\ZH\\data\\meteo\\continuous reanalysis\\20240316_20240316_PMSL.json\n",
      "Data already exists: C:\\Users\\rasmusso\\Documents\\ZH\\data\\meteo\\continuous reanalysis\\20240316_20240316_CLCT.json\n",
      "Data already exists: C:\\Users\\rasmusso\\Documents\\ZH\\data\\meteo\\continuous reanalysis\\20240314_20240314_CLCT.json\n",
      "Data already exists: C:\\Users\\rasmusso\\Documents\\ZH\\data\\meteo\\continuous reanalysis\\20240316_20240316_PS.json\n",
      "Data already exists: C:\\Users\\rasmusso\\Documents\\ZH\\data\\meteo\\continuous reanalysis\\20240317_20240317_T_2M.json\n",
      "Data already exists: C:\\Users\\rasmusso\\Documents\\ZH\\data\\meteo\\continuous reanalysis\\20240317_20240317_U.json\n",
      "Data already exists: C:\\Users\\rasmusso\\Documents\\ZH\\data\\meteo\\continuous reanalysis\\20240317_20240317_V.json\n",
      "Data already exists: C:\\Users\\rasmusso\\Documents\\ZH\\data\\meteo\\continuous reanalysis\\20240317_20240317_GLOB.json\n",
      "Data already exists: C:\\Users\\rasmusso\\Documents\\ZH\\data\\meteo\\continuous reanalysis\\20240317_20240317_RELHUM_2M.json\n",
      "Data already exists: C:\\Users\\rasmusso\\Documents\\ZH\\data\\meteo\\continuous reanalysis\\20240317_20240317_PMSL.json\n",
      "Data already exists: C:\\Users\\rasmusso\\Documents\\ZH\\data\\meteo\\continuous reanalysis\\20240317_20240317_CLCT.json\n",
      "Data already exists: C:\\Users\\rasmusso\\Documents\\ZH\\data\\meteo\\continuous reanalysis\\20240317_20240317_PS.json\n",
      "Data already exists: C:\\Users\\rasmusso\\Documents\\ZH\\data\\meteo\\continuous reanalysis\\20240318_20240318_T_2M.json\n",
      "Data already exists: C:\\Users\\rasmusso\\Documents\\ZH\\data\\meteo\\continuous reanalysis\\20240318_20240318_U.json\n",
      "Data already exists: C:\\Users\\rasmusso\\Documents\\ZH\\data\\meteo\\continuous reanalysis\\20240318_20240318_V.json\n",
      "Data already exists: C:\\Users\\rasmusso\\Documents\\ZH\\data\\meteo\\continuous reanalysis\\20240318_20240318_GLOB.json\n",
      "Data already exists: C:\\Users\\rasmusso\\Documents\\ZH\\data\\meteo\\continuous reanalysis\\20240318_20240318_RELHUM_2M.json\n",
      "Data already exists: C:\\Users\\rasmusso\\Documents\\ZH\\data\\meteo\\continuous reanalysis\\20240318_20240318_PMSL.json\n",
      "Data already exists: C:\\Users\\rasmusso\\Documents\\ZH\\data\\meteo\\continuous reanalysis\\20240318_20240318_CLCT.json\n",
      "Data already exists: C:\\Users\\rasmusso\\Documents\\ZH\\data\\meteo\\continuous reanalysis\\20240318_20240318_PS.json\n",
      "Data already exists: C:\\Users\\rasmusso\\Documents\\ZH\\data\\meteo\\continuous reanalysis\\20240319_20240319_T_2M.json\n",
      "Data already exists: C:\\Users\\rasmusso\\Documents\\ZH\\data\\meteo\\continuous reanalysis\\20240319_20240319_U.json\n",
      "Data already exists: C:\\Users\\rasmusso\\Documents\\ZH\\data\\meteo\\continuous reanalysis\\20240319_20240319_V.json\n",
      "Data already exists: C:\\Users\\rasmusso\\Documents\\ZH\\data\\meteo\\continuous reanalysis\\20240319_20240319_GLOB.json\n",
      "Data already exists: C:\\Users\\rasmusso\\Documents\\ZH\\data\\meteo\\continuous reanalysis\\20240319_20240319_RELHUM_2M.json\n",
      "Data already exists: C:\\Users\\rasmusso\\Documents\\ZH\\data\\meteo\\continuous reanalysis\\20240319_20240319_PMSL.json\n",
      "Data already exists: C:\\Users\\rasmusso\\Documents\\ZH\\data\\meteo\\continuous reanalysis\\20240319_20240319_CLCT.json\n",
      "Data already exists: C:\\Users\\rasmusso\\Documents\\ZH\\data\\meteo\\continuous reanalysis\\20240319_20240319_PS.json\n",
      "Data already exists: C:\\Users\\rasmusso\\Documents\\ZH\\data\\meteo\\continuous reanalysis\\20240320_20240320_T_2M.json\n",
      "Data already exists: C:\\Users\\rasmusso\\Documents\\ZH\\data\\meteo\\continuous reanalysis\\20240320_20240320_U.json\n",
      "Data already exists: C:\\Users\\rasmusso\\Documents\\ZH\\data\\meteo\\continuous reanalysis\\20240320_20240320_GLOB.json\n",
      "Data already exists: C:\\Users\\rasmusso\\Documents\\ZH\\data\\meteo\\continuous reanalysis\\20240320_20240320_V.json\n",
      "Data already exists: C:\\Users\\rasmusso\\Documents\\ZH\\data\\meteo\\continuous reanalysis\\20240320_20240320_CLCT.json\n",
      "Data already exists: C:\\Users\\rasmusso\\Documents\\ZH\\data\\meteo\\continuous reanalysis\\20240320_20240320_PMSL.json\n",
      "Data already exists: C:\\Users\\rasmusso\\Documents\\ZH\\data\\meteo\\continuous reanalysis\\20240320_20240320_RELHUM_2M.json\n",
      "Data already exists: C:\\Users\\rasmusso\\Documents\\ZH\\data\\meteo\\continuous reanalysis\\20240320_20240320_PS.json\n",
      "Data already exists: C:\\Users\\rasmusso\\Documents\\ZH\\data\\meteo\\continuous reanalysis\\20240321_20240321_U.json\n",
      "Data already exists: C:\\Users\\rasmusso\\Documents\\ZH\\data\\meteo\\continuous reanalysis\\20240321_20240321_T_2M.json\n",
      "Data already exists: C:\\Users\\rasmusso\\Documents\\ZH\\data\\meteo\\continuous reanalysis\\20240321_20240321_GLOB.json\n",
      "Data already exists: C:\\Users\\rasmusso\\Documents\\ZH\\data\\meteo\\continuous reanalysis\\20240321_20240321_PMSL.json\n",
      "Data already exists: C:\\Users\\rasmusso\\Documents\\ZH\\data\\meteo\\continuous reanalysis\\20240321_20240321_RELHUM_2M.json\n",
      "Data already exists: C:\\Users\\rasmusso\\Documents\\ZH\\data\\meteo\\continuous reanalysis\\20240321_20240321_V.json\n",
      "Data already exists: C:\\Users\\rasmusso\\Documents\\ZH\\data\\meteo\\continuous reanalysis\\20240321_20240321_CLCT.json\n",
      "Data already exists: C:\\Users\\rasmusso\\Documents\\ZH\\data\\meteo\\continuous reanalysis\\20240321_20240321_PS.json\n",
      "Data already exists: C:\\Users\\rasmusso\\Documents\\ZH\\data\\meteo\\continuous reanalysis\\20240322_20240322_T_2M.json\n",
      "Data already exists: C:\\Users\\rasmusso\\Documents\\ZH\\data\\meteo\\continuous reanalysis\\20240322_20240322_U.json\n",
      "Data already exists: C:\\Users\\rasmusso\\Documents\\ZH\\data\\meteo\\continuous reanalysis\\20240322_20240322_V.json\n",
      "Data already exists: C:\\Users\\rasmusso\\Documents\\ZH\\data\\meteo\\continuous reanalysis\\20240322_20240322_GLOB.json\n",
      "Data already exists: C:\\Users\\rasmusso\\Documents\\ZH\\data\\meteo\\continuous reanalysis\\20240322_20240322_PMSL.json\n",
      "Data already exists: C:\\Users\\rasmusso\\Documents\\ZH\\data\\meteo\\continuous reanalysis\\20240322_20240322_PS.json\n",
      "Data already exists: C:\\Users\\rasmusso\\Documents\\ZH\\data\\meteo\\continuous reanalysis\\20240322_20240322_CLCT.json\n",
      "Data already exists: C:\\Users\\rasmusso\\Documents\\ZH\\data\\meteo\\continuous reanalysis\\20240323_20240323_U.json\n",
      "Data already exists: C:\\Users\\rasmusso\\Documents\\ZH\\data\\meteo\\continuous reanalysis\\20240322_20240322_RELHUM_2M.json\n",
      "Data already exists: C:\\Users\\rasmusso\\Documents\\ZH\\data\\meteo\\continuous reanalysis\\20240323_20240323_V.json\n",
      "Data already exists: C:\\Users\\rasmusso\\Documents\\ZH\\data\\meteo\\continuous reanalysis\\20240323_20240323_T_2M.json\n",
      "Data already exists: C:\\Users\\rasmusso\\Documents\\ZH\\data\\meteo\\continuous reanalysis\\20240323_20240323_GLOB.json\n",
      "Data already exists: C:\\Users\\rasmusso\\Documents\\ZH\\data\\meteo\\continuous reanalysis\\20240323_20240323_PMSL.json\n",
      "Data already exists: C:\\Users\\rasmusso\\Documents\\ZH\\data\\meteo\\continuous reanalysis\\20240323_20240323_CLCT.json\n",
      "Data already exists: C:\\Users\\rasmusso\\Documents\\ZH\\data\\meteo\\continuous reanalysis\\20240323_20240323_PS.json\n",
      "Data already exists: C:\\Users\\rasmusso\\Documents\\ZH\\data\\meteo\\continuous reanalysis\\20240324_20240324_T_2M.json\n",
      "Data already exists: C:\\Users\\rasmusso\\Documents\\ZH\\data\\meteo\\continuous reanalysis\\20240324_20240324_U.json\n",
      "Data already exists: C:\\Users\\rasmusso\\Documents\\ZH\\data\\meteo\\continuous reanalysis\\20240324_20240324_V.json\n",
      "Data already exists: C:\\Users\\rasmusso\\Documents\\ZH\\data\\meteo\\continuous reanalysis\\20240324_20240324_RELHUM_2M.json\n",
      "Data already exists: C:\\Users\\rasmusso\\Documents\\ZH\\data\\meteo\\continuous reanalysis\\20240324_20240324_PMSL.json\n",
      "Data already exists: C:\\Users\\rasmusso\\Documents\\ZH\\data\\meteo\\continuous reanalysis\\20240324_20240324_GLOB.json\n",
      "Data already exists: C:\\Users\\rasmusso\\Documents\\ZH\\data\\meteo\\continuous reanalysis\\20240324_20240324_CLCT.json\n",
      "Data already exists: C:\\Users\\rasmusso\\Documents\\ZH\\data\\meteo\\continuous reanalysis\\20240324_20240324_PS.json\n",
      "Data already exists: C:\\Users\\rasmusso\\Documents\\ZH\\data\\meteo\\continuous reanalysis\\20240325_20240325_U.json\n",
      "Data already exists: C:\\Users\\rasmusso\\Documents\\ZH\\data\\meteo\\continuous reanalysis\\20240325_20240325_V.json\n",
      "Data already exists: C:\\Users\\rasmusso\\Documents\\ZH\\data\\meteo\\continuous reanalysis\\20240325_20240325_T_2M.json\n",
      "Data already exists: C:\\Users\\rasmusso\\Documents\\ZH\\data\\meteo\\continuous reanalysis\\20240325_20240325_GLOB.json\n",
      "Data already exists: C:\\Users\\rasmusso\\Documents\\ZH\\data\\meteo\\continuous reanalysis\\20240325_20240325_RELHUM_2M.json\n",
      "Data already exists: C:\\Users\\rasmusso\\Documents\\ZH\\data\\meteo\\continuous reanalysis\\20240325_20240325_PMSL.json\n",
      "Data already exists: C:\\Users\\rasmusso\\Documents\\ZH\\data\\meteo\\continuous reanalysis\\20240309_20240309_V.json\n",
      "Data already exists: C:\\Users\\rasmusso\\Documents\\ZH\\data\\meteo\\continuous reanalysis\\20240325_20240325_CLCT.json\n",
      "Data already exists: C:\\Users\\rasmusso\\Documents\\ZH\\data\\meteo\\continuous reanalysis\\20240325_20240325_PS.json\n",
      "Data already exists: C:\\Users\\rasmusso\\Documents\\ZH\\data\\meteo\\continuous reanalysis\\20240326_20240326_T_2M.json\n",
      "Data already exists: C:\\Users\\rasmusso\\Documents\\ZH\\data\\meteo\\continuous reanalysis\\20240326_20240326_U.json\n",
      "Data already exists: C:\\Users\\rasmusso\\Documents\\ZH\\data\\meteo\\continuous reanalysis\\20240326_20240326_V.json\n",
      "Data already exists: C:\\Users\\rasmusso\\Documents\\ZH\\data\\meteo\\continuous reanalysis\\20240326_20240326_GLOB.json\n",
      "Data already exists: C:\\Users\\rasmusso\\Documents\\ZH\\data\\meteo\\continuous reanalysis\\20240326_20240326_RELHUM_2M.json\n",
      "Data already exists: C:\\Users\\rasmusso\\Documents\\ZH\\data\\meteo\\continuous reanalysis\\20240326_20240326_PMSL.json\n",
      "Data already exists: C:\\Users\\rasmusso\\Documents\\ZH\\data\\meteo\\continuous reanalysis\\20240326_20240326_CLCT.json\n",
      "Data already exists: C:\\Users\\rasmusso\\Documents\\ZH\\data\\meteo\\continuous reanalysis\\20240326_20240326_PS.json\n",
      "Data already exists: C:\\Users\\rasmusso\\Documents\\ZH\\data\\meteo\\continuous reanalysis\\20240327_20240327_T_2M.json\n",
      "Data already exists: C:\\Users\\rasmusso\\Documents\\ZH\\data\\meteo\\continuous reanalysis\\20240327_20240327_U.json\n",
      "Data already exists: C:\\Users\\rasmusso\\Documents\\ZH\\data\\meteo\\continuous reanalysis\\20240327_20240327_V.json\n",
      "Data already exists: C:\\Users\\rasmusso\\Documents\\ZH\\data\\meteo\\continuous reanalysis\\20240327_20240327_GLOB.json\n",
      "Data already exists: C:\\Users\\rasmusso\\Documents\\ZH\\data\\meteo\\continuous reanalysis\\20240327_20240327_RELHUM_2M.json\n",
      "Data already exists: C:\\Users\\rasmusso\\Documents\\ZH\\data\\meteo\\continuous reanalysis\\20240327_20240327_PMSL.json\n",
      "Data already exists: C:\\Users\\rasmusso\\Documents\\ZH\\data\\meteo\\continuous reanalysis\\20240327_20240327_CLCT.json\n",
      "Data already exists: C:\\Users\\rasmusso\\Documents\\ZH\\data\\meteo\\continuous reanalysis\\20240327_20240327_PS.json\n",
      "Data already exists: C:\\Users\\rasmusso\\Documents\\ZH\\data\\meteo\\continuous reanalysis\\20240328_20240328_U.json\n",
      "Data already exists: C:\\Users\\rasmusso\\Documents\\ZH\\data\\meteo\\continuous reanalysis\\20240328_20240328_GLOB.json\n",
      "Data already exists: C:\\Users\\rasmusso\\Documents\\ZH\\data\\meteo\\continuous reanalysis\\20240328_20240328_RELHUM_2M.json\n",
      "Data already exists: C:\\Users\\rasmusso\\Documents\\ZH\\data\\meteo\\continuous reanalysis\\20240328_20240328_T_2M.json\n",
      "Data already exists: C:\\Users\\rasmusso\\Documents\\ZH\\data\\meteo\\continuous reanalysis\\20240308_20240308_T_2M.json\n",
      "Data already exists: C:\\Users\\rasmusso\\Documents\\ZH\\data\\meteo\\continuous reanalysis\\20240328_20240328_PMSL.json\n",
      "Data already exists: C:\\Users\\rasmusso\\Documents\\ZH\\data\\meteo\\continuous reanalysis\\20240328_20240328_PS.json\n",
      "Data already exists: C:\\Users\\rasmusso\\Documents\\ZH\\data\\meteo\\continuous reanalysis\\20240329_20240329_U.json\n",
      "Data already exists: C:\\Users\\rasmusso\\Documents\\ZH\\data\\meteo\\continuous reanalysis\\20240329_20240329_T_2M.json\n",
      "Data already exists: C:\\Users\\rasmusso\\Documents\\ZH\\data\\meteo\\continuous reanalysis\\20240329_20240329_V.json\n",
      "Data already exists: C:\\Users\\rasmusso\\Documents\\ZH\\data\\meteo\\continuous reanalysis\\20240329_20240329_GLOB.json\n",
      "Data already exists: C:\\Users\\rasmusso\\Documents\\ZH\\data\\meteo\\continuous reanalysis\\20240329_20240329_RELHUM_2M.json\n",
      "Data already exists: C:\\Users\\rasmusso\\Documents\\ZH\\data\\meteo\\continuous reanalysis\\20240329_20240329_PMSL.json\n",
      "Data already exists: C:\\Users\\rasmusso\\Documents\\ZH\\data\\meteo\\continuous reanalysis\\20240329_20240329_CLCT.json\n",
      "Data already exists: C:\\Users\\rasmusso\\Documents\\ZH\\data\\meteo\\continuous reanalysis\\20240329_20240329_PS.json\n",
      "Data already exists: C:\\Users\\rasmusso\\Documents\\ZH\\data\\meteo\\continuous reanalysis\\20240330_20240330_T_2M.json\n",
      "Data already exists: C:\\Users\\rasmusso\\Documents\\ZH\\data\\meteo\\continuous reanalysis\\20240330_20240330_V.json\n",
      "Data already exists: C:\\Users\\rasmusso\\Documents\\ZH\\data\\meteo\\continuous reanalysis\\20240330_20240330_U.json\n",
      "Data already exists: C:\\Users\\rasmusso\\Documents\\ZH\\data\\meteo\\continuous reanalysis\\20240330_20240330_GLOB.json\n",
      "Data already exists: C:\\Users\\rasmusso\\Documents\\ZH\\data\\meteo\\continuous reanalysis\\20240330_20240330_RELHUM_2M.json\n",
      "Data already exists: C:\\Users\\rasmusso\\Documents\\ZH\\data\\meteo\\continuous reanalysis\\20240330_20240330_PMSL.json\n",
      "Data already exists: C:\\Users\\rasmusso\\Documents\\ZH\\data\\meteo\\continuous reanalysis\\20240330_20240330_CLCT.json\n",
      "Data already exists: C:\\Users\\rasmusso\\Documents\\ZH\\data\\meteo\\continuous reanalysis\\20240330_20240330_PS.json\n",
      "Data already exists: C:\\Users\\rasmusso\\Documents\\ZH\\data\\meteo\\continuous reanalysis\\20240331_20240331_T_2M.json\n",
      "Data already exists: C:\\Users\\rasmusso\\Documents\\ZH\\data\\meteo\\continuous reanalysis\\20240331_20240331_U.json\n",
      "Data already exists: C:\\Users\\rasmusso\\Documents\\ZH\\data\\meteo\\continuous reanalysis\\20240331_20240331_GLOB.json\n",
      "Data already exists: C:\\Users\\rasmusso\\Documents\\ZH\\data\\meteo\\continuous reanalysis\\20240331_20240331_V.json\n",
      "Data already exists: C:\\Users\\rasmusso\\Documents\\ZH\\data\\meteo\\continuous reanalysis\\20240331_20240331_RELHUM_2M.json\n",
      "Data already exists: C:\\Users\\rasmusso\\Documents\\ZH\\data\\meteo\\continuous reanalysis\\20240331_20240331_CLCT.json\n",
      "Data already exists: C:\\Users\\rasmusso\\Documents\\ZH\\data\\meteo\\continuous reanalysis\\20240331_20240331_PMSL.json\n",
      "Data already exists: C:\\Users\\rasmusso\\Documents\\ZH\\data\\meteo\\continuous reanalysis\\20240331_20240331_PS.json\n",
      "Data already exists: C:\\Users\\rasmusso\\Documents\\ZH\\data\\meteo\\continuous reanalysis\\20240328_20240328_CLCT.json\n",
      "Data already exists: C:\\Users\\rasmusso\\Documents\\ZH\\data\\meteo\\continuous reanalysis\\20240309_20240309_PMSL.json\n",
      "Data already exists: C:\\Users\\rasmusso\\Documents\\ZH\\data\\meteo\\continuous reanalysis\\20240310_20240310_PS.json\n",
      "Data already exists: C:\\Users\\rasmusso\\Documents\\ZH\\data\\meteo\\continuous reanalysis\\20240305_20240305_T_2M.json\n",
      "Data already exists: C:\\Users\\rasmusso\\Documents\\ZH\\data\\meteo\\continuous reanalysis\\20240323_20240323_RELHUM_2M.json\n",
      "Data already exists: C:\\Users\\rasmusso\\Documents\\ZH\\data\\meteo\\continuous reanalysis\\20240328_20240328_V.json\n",
      "Finished downloading weather reanalysis\n"
     ]
    }
   ],
   "source": [
    "buffer = config.weather_download_buffer\n",
    "if config.weather_model_type == 'reanalysis':\n",
    "    download_weather_reanalysis(config.weather_api_base_url, \n",
    "                                config.start_date, config.end_date, \n",
    "                                mitgcm_grid.lat_grid.min() - buffer, \n",
    "                                mitgcm_grid.lon_grid.min() - buffer, \n",
    "                                mitgcm_grid.lat_grid.max() + buffer, \n",
    "                                mitgcm_grid.lon_grid.max() + buffer, \n",
    "                                config.paths.raw_results_from_api_folder)\n",
    "    print('Finished downloading weather reanalysis')\n",
    "elif config.weather_model_type == 'forecast':\n",
    "    download_weather_forecast(config.weather_api_base_url, \n",
    "                                config.start_date,  \n",
    "                                mitgcm_grid.lat_grid.min() - buffer, \n",
    "                                mitgcm_grid.lon_grid.min() - buffer, \n",
    "                                mitgcm_grid.lat_grid.max() + buffer, \n",
    "                                mitgcm_grid.lon_grid.max() + buffer, \n",
    "                                config.paths.raw_results_from_api_folder)\n",
    "    print('Finished downloading weather forecasts')"
   ]
  },
  {
   "cell_type": "code",
   "execution_count": 33,
   "id": "4f733dcd0b84869e",
   "metadata": {
    "ExecuteTime": {
     "end_time": "2025-04-02T13:14:12.843974Z",
     "start_time": "2025-04-02T13:13:55.351617Z"
    },
    "collapsed": false,
    "jupyter": {
     "outputs_hidden": false
    }
   },
   "outputs": [
    {
     "name": "stdout",
     "output_type": "stream",
     "text": [
      "Interpolating U to grid...\n",
      "Saving u10...\n",
      "Interpolating V to grid...\n",
      "Saving v10...\n",
      "Interpolating GLOB to grid...\n",
      "Saving swdown...\n",
      "Interpolating T_2M to grid...\n",
      "Saving atemp...\n",
      "Interpolating PS to grid...\n",
      "Saving apressure...\n",
      "Computing specific humidity (aqh)...\n",
      "Interpolating RELHUM_2M to grid...\n",
      "Saving relhum...\n",
      "Saving aqh...\n",
      "Computing longwave radiation (lwdown)...\n",
      "Interpolating CLCT to grid...\n",
      "Saving clct...\n",
      "Saving lwdown...\n",
      "Done computing binary data.\n"
     ]
    }
   ],
   "source": [
    "time_format = 'UTC'\n",
    "extract_and_save_surface_forcings(binary_data_folder, \n",
    "                                  config.start_date, \n",
    "                                  config.end_date, \n",
    "                                  config.paths.raw_results_from_api_folder, \n",
    "                                  mitgcm_grid,\n",
    "                                  1, # Number of cores used in interpolation\n",
    "                                  config.weather_model_type)"
   ]
  },
  {
   "cell_type": "markdown",
   "id": "514d506f8bccf648",
   "metadata": {
    "collapsed": false,
    "jupyter": {
     "outputs_hidden": false
    }
   },
   "source": [
    "**Convert to little endian if necessary** (for cscs computation)"
   ]
  },
  {
   "cell_type": "code",
   "execution_count": 34,
   "id": "205dfc0e21bf338c",
   "metadata": {
    "ExecuteTime": {
     "end_time": "2025-04-02T13:14:17.280448Z",
     "start_time": "2025-04-02T13:14:17.268585Z"
    },
    "collapsed": false,
    "jupyter": {
     "outputs_hidden": false
    }
   },
   "outputs": [],
   "source": [
    "# TO DO : implement check to see whether the datatypes are correct\n",
    "if config.endian_type == 'little_endian':\n",
    "    convert_binary_files(os.path.join(output_folder, 'binary_data'), '>f8', '<f8')"
   ]
  },
  {
   "cell_type": "markdown",
   "id": "c996e2309ad359b3",
   "metadata": {
    "collapsed": false,
    "jupyter": {
     "outputs_hidden": false
    }
   },
   "source": [
    "### Get initial conditions"
   ]
  },
  {
   "cell_type": "markdown",
   "id": "67590cd2-51ee-4977-904a-c0ade28dc314",
   "metadata": {
    "ExecuteTime": {
     "end_time": "2025-04-02T13:14:20.103608Z",
     "start_time": "2025-04-02T13:14:18.771989Z"
    },
    "collapsed": false,
    "jupyter": {
     "outputs_hidden": false
    }
   },
   "source": [
    "file_date, measured_temperature = download_profile_idronaut_datalakes(parsed_start_date)\n",
    "print('Initial conditions from Idronaut file from ', file_date)\n",
    "dz_grid = get_dz_grid(config.paths.dz_grid_csv_path)\n",
    "shaped_temp_initial = create_initial_temperature_from_measure_profile(dz_grid, measured_temperature)"
   ]
  },
  {
   "cell_type": "code",
   "execution_count": 35,
   "id": "886b3ea9-7cd2-479e-b401-c5d20b4b04a8",
   "metadata": {},
   "outputs": [
    {
     "name": "stdout",
     "output_type": "stream",
     "text": [
      "Initial conditions from Simstrat  2024-03-01T01:00:02.880000000\n"
     ]
    }
   ],
   "source": [
    "# From Simstrat results (Aplakes)\n",
    "simstrat_temperature = parse_alplakes_1d_from_directory(r'./initial_conditions/simstrat_data')\n",
    "profile_simstrat = simstrat_temperature.sel(time = parsed_start_date, method='nearest')\n",
    "print('Initial conditions from Simstrat ', profile_simstrat.time.values)\n",
    "dz_grid = get_dz_grid(config.paths.dz_grid_csv_path)\n",
    "shaped_temp_initial = create_initial_temperature_from_measure_profile(dz_grid, profile_simstrat)"
   ]
  },
  {
   "cell_type": "markdown",
   "id": "b3486f12c2ed801e",
   "metadata": {
    "collapsed": false,
    "jupyter": {
     "outputs_hidden": false
    }
   },
   "source": [
    "### Get pickup files"
   ]
  },
  {
   "cell_type": "code",
   "execution_count": 37,
   "id": "fd2ff3748833ddea",
   "metadata": {
    "ExecuteTime": {
     "end_time": "2025-04-02T13:14:23.782194Z",
     "start_time": "2025-04-02T13:14:23.768953Z"
    },
    "collapsed": false,
    "jupyter": {
     "outputs_hidden": false
    }
   },
   "outputs": [
    {
     "name": "stdout",
     "output_type": "stream",
     "text": [
      "\n"
     ]
    }
   ],
   "source": [
    "if config.with_pickup:\n",
    "    dt_sim_in_second = config.time_step\n",
    "    pickup_number = f\"pickup.{str(int(start_time_in_second_from_ref_date / dt_sim_in_second)).zfill(10)}\"\n",
    "else:\n",
    "    pickup_number = \"\"\n",
    "print(pickup_number)"
   ]
  },
  {
   "cell_type": "markdown",
   "id": "3f029e92bdaaa42e",
   "metadata": {
    "collapsed": false,
    "jupyter": {
     "outputs_hidden": false
    }
   },
   "source": [
    "### Adapt config files"
   ]
  },
  {
   "cell_type": "code",
   "execution_count": 38,
   "id": "af17ea5536e9f333",
   "metadata": {
    "ExecuteTime": {
     "end_time": "2025-04-02T13:14:25.786651Z",
     "start_time": "2025-04-02T13:14:25.774665Z"
    },
    "collapsed": false,
    "jupyter": {
     "outputs_hidden": false
    }
   },
   "outputs": [],
   "source": [
    "modify_arguments('!reference_date!', [config.reference_date], os.path.join(output_folder, 'run_config/data.cal'))"
   ]
  },
  {
   "cell_type": "code",
   "execution_count": 39,
   "id": "8da31ad8c10f7f18",
   "metadata": {
    "ExecuteTime": {
     "end_time": "2025-04-02T13:14:26.658174Z",
     "start_time": "2025-04-02T13:14:26.647175Z"
    },
    "collapsed": false,
    "jupyter": {
     "outputs_hidden": false
    }
   },
   "outputs": [],
   "source": [
    "modify_arguments('!start_date!', [config.start_date], os.path.join(output_folder, 'run_config/data.exf'))"
   ]
  },
  {
   "cell_type": "code",
   "execution_count": 40,
   "id": "9fa5300bfc079c5a",
   "metadata": {
    "ExecuteTime": {
     "end_time": "2025-04-02T13:14:27.827618Z",
     "start_time": "2025-04-02T13:14:27.814579Z"
    },
    "collapsed": false,
    "jupyter": {
     "outputs_hidden": false
    }
   },
   "outputs": [],
   "source": [
    "write_data_config_files(os.path.join(output_folder, 'run_config/data'), \n",
    "                        shaped_temp_initial, \n",
    "                        start_time_in_second_from_ref_date, \n",
    "                        end_time_in_second_from_ref_date,\n",
    "                        pickup_number,\n",
    "                        dz_grid, \n",
    "                        config.grid_resolution,\n",
    "                        config.time_step)"
   ]
  },
  {
   "cell_type": "code",
   "execution_count": 41,
   "id": "48e34d67c6ef5420",
   "metadata": {
    "ExecuteTime": {
     "end_time": "2025-04-02T13:14:29.102329Z",
     "start_time": "2025-04-02T13:14:29.082724Z"
    },
    "collapsed": false,
    "jupyter": {
     "outputs_hidden": false
    }
   },
   "outputs": [],
   "source": [
    "use_exch2=False\n",
    "# Package to ignore cores that are attributed to land. See notebook grid_and_bathy/check_core_allocation to create files land_cores_Px..etc.txt.\n",
    "# Doc here: https://wiki.math.uwaterloo.ca/fluidswiki/index.php?title=MITgcm_tips#Setting_the_equation_of_state (look for exch2)\n",
    "# And there: https://mitgcm.readthedocs.io/en/latest/phys_pkgs/exch2.html (not so helpful... don't we love the official documentation of MITgcm?)\n",
    "if use_exch2:    \n",
    "    blank_list_path=os.path.join(config.paths.grid_folder_path, f\"land_cores_Px{config.Px}_Py{config.Py}.txt\")\n",
    "    with open(blank_list_path, \"r\") as file:\n",
    "        nb_blank_cores, blank_list = file.read().splitlines()\n",
    "        \n",
    "    Px = (config.Px * config.Py) - int(nb_blank_cores)\n",
    "    Py = 1\n",
    "    \n",
    "    modify_arguments('!Nx!', [config.Nx], os.path.join(output_folder, 'run_config/data.exch2'))\n",
    "    modify_arguments('!Ny!', [config.Ny], os.path.join(output_folder, 'run_config/data.exch2'))\n",
    "    modify_arguments('!blank_list!', [blank_list], os.path.join(output_folder, 'run_config/data.exch2'))\n",
    "else:\n",
    "    Px = config.Px\n",
    "    Py = config.Py"
   ]
  },
  {
   "cell_type": "code",
   "execution_count": 42,
   "id": "b857d0522c095917",
   "metadata": {
    "ExecuteTime": {
     "end_time": "2025-04-02T13:14:30.454884Z",
     "start_time": "2025-04-02T13:14:30.440711Z"
    },
    "collapsed": false,
    "jupyter": {
     "outputs_hidden": false
    }
   },
   "outputs": [],
   "source": [
    "write_size_config_files(os.path.join(output_folder, 'code/SIZE.h'), \n",
    "                        Px, \n",
    "                        Py,\n",
    "                        config.Nx, \n",
    "                        config.Ny, \n",
    "                        np.count_nonzero(~np.isnan(dz_grid)))"
   ]
  },
  {
   "cell_type": "markdown",
   "id": "db14cf08215b46f6",
   "metadata": {
    "collapsed": false,
    "jupyter": {
     "outputs_hidden": false
    }
   },
   "source": [
    "## Next steps"
   ]
  },
  {
   "cell_type": "markdown",
   "id": "c931932f70f981a",
   "metadata": {
    "collapsed": false,
    "jupyter": {
     "outputs_hidden": false
    }
   },
   "source": [
    "- Copy-paste the folders in \"99-output\" to the cscs server \n",
    "- Change #SBATCH --time=00:05:00 in run/submit-daint-short.sh\n",
    "- Open CSCS putty console:\n",
    "\n",
    "export MITGCM_ROOTDIR=/scratch/snx3000/aleroqua/MITgcm-checkpoint67z/\n",
    "\n",
    "cd /scratch/snx3000/aleroqua/xx/build\n",
    "$MITGCM_ROOTDIR/tools/genmake2 -mods ../code -mpi -enable=mnc -of ${MITGCM_ROOTDIR}/tools/build_options/linux_ia64_cray_archer\n",
    "make depend\n",
    "make -j 8\n",
    "\n",
    "cd ..\n",
    "rm -r run\n",
    "mkdir run\n",
    "cd run\n",
    "ln -s ../pickup/* .\n",
    "ln -s ../run_config/* .\n",
    "cp ../build/mitgcmuv .\n",
    "\n",
    "sbatch submit-daint-short.sh"
   ]
  },
  {
   "cell_type": "markdown",
   "id": "aa3ea68a8ae13358",
   "metadata": {
    "collapsed": false,
    "jupyter": {
     "outputs_hidden": false
    }
   },
   "source": [
    "### TO DO"
   ]
  },
  {
   "cell_type": "code",
   "execution_count": null,
   "id": "87f6d2aead8eb053",
   "metadata": {
    "collapsed": false,
    "jupyter": {
     "outputs_hidden": false
    }
   },
   "outputs": [],
   "source": [
    "# add selection of pickup file\n",
    "# add selection of pickup frequency, diagnostic frequency\n",
    "# add selection of output type (mnc = true or false)\n",
    "# add automatic change of computing time? (submit-daint)"
   ]
  }
 ],
 "metadata": {
  "kernelspec": {
   "display_name": "preprocessing-mitgcm",
   "language": "python",
   "name": "preprocessing-mitgcm"
  },
  "language_info": {
   "codemirror_mode": {
    "name": "ipython",
    "version": 3
   },
   "file_extension": ".py",
   "mimetype": "text/x-python",
   "name": "python",
   "nbconvert_exporter": "python",
   "pygments_lexer": "ipython3",
   "version": "3.12.7"
  }
 },
 "nbformat": 4,
 "nbformat_minor": 5
}
