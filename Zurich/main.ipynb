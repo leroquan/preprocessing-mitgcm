{
 "cells": [
  {
   "cell_type": "code",
   "execution_count": 107,
   "id": "a71c63f6ed1dc57a",
   "metadata": {
    "ExecuteTime": {
     "end_time": "2025-04-02T13:13:43.370029Z",
     "start_time": "2025-04-02T13:13:43.356234Z"
    },
    "collapsed": false,
    "jupyter": {
     "outputs_hidden": false
    }
   },
   "outputs": [],
   "source": [
    "import os\n",
    "import sys\n",
    "from datetime import datetime\n",
    "import shutil\n",
    "import numpy as np\n",
    "import pandas as pd\n",
    "import xarray as xr\n",
    "import matplotlib.pyplot as plt"
   ]
  },
  {
   "cell_type": "code",
   "execution_count": 108,
   "id": "6c0c5203-0743-4db4-93e9-a25979264be6",
   "metadata": {},
   "outputs": [
    {
     "name": "stdout",
     "output_type": "stream",
     "text": [
      "C:\\Users\\rasmusso\\Desktop\\preprocessing-mitgcm\n"
     ]
    }
   ],
   "source": [
    "parent_folder = os.path.abspath(os.path.join(os.getcwd(), '..'))\n",
    "print(parent_folder)\n",
    "sys.path.append(parent_folder)"
   ]
  },
  {
   "cell_type": "code",
   "execution_count": 109,
   "id": "initial_id",
   "metadata": {
    "ExecuteTime": {
     "end_time": "2025-04-02T13:13:44.266732Z",
     "start_time": "2025-04-02T13:13:43.372134Z"
    }
   },
   "outputs": [],
   "source": [
    "from configs.config_object import ConfigObject\n",
    "from grid_and_bathy import get_dz_grid, get_grid\n",
    "from surface_forcings import extract_and_save_surface_forcings, download_weather_reanalysis, download_weather_forecast\n",
    "from initial_conditions import download_profile_idronaut_datalakes, create_initial_temperature_from_measure_profile, parse_alplakes_1d_from_directory\n",
    "from run_preprocessing import write_data_config_files, copy_template, remove_all_files_and_folders, write_size_config_files\n",
    "from utils import modify_arguments, convert_binary_files"
   ]
  },
  {
   "cell_type": "markdown",
   "id": "e017a697ab5dd281",
   "metadata": {
    "collapsed": false,
    "jupyter": {
     "outputs_hidden": false
    }
   },
   "source": [
    "## Load config"
   ]
  },
  {
   "cell_type": "code",
   "execution_count": 110,
   "id": "bfae6ace9f9eefb3",
   "metadata": {
    "ExecuteTime": {
     "end_time": "2025-04-02T13:13:44.281853Z",
     "start_time": "2025-04-02T13:13:44.268787Z"
    },
    "collapsed": false,
    "jupyter": {
     "outputs_hidden": false
    }
   },
   "outputs": [
    {
     "name": "stdout",
     "output_type": "stream",
     "text": [
      "./00-template_mitgcm/zurich_base\n"
     ]
    }
   ],
   "source": [
    "config = ConfigObject('configs/config.json')\n",
    "output_folder = './99-output/'\n",
    "template_folder = os.path.join('./00-template_mitgcm/', config.template_folder)\n",
    "print(template_folder)"
   ]
  },
  {
   "cell_type": "code",
   "execution_count": 111,
   "id": "f7f3bcdacfbb25f",
   "metadata": {
    "ExecuteTime": {
     "end_time": "2025-04-02T13:13:45.123813Z",
     "start_time": "2025-04-02T13:13:45.107117Z"
    },
    "collapsed": false,
    "jupyter": {
     "outputs_hidden": false
    }
   },
   "outputs": [],
   "source": [
    "parsed_start_date = datetime.strptime(config.start_date, '%Y%m%d')\n",
    "parsed_end_date = datetime.strptime(config.end_date, '%Y%m%d')\n",
    "parsed_ref_date = datetime.strptime(config.reference_date, '%Y%m%d')\n",
    "\n",
    "sim_duration_in_second = (parsed_end_date - parsed_start_date).total_seconds()\n",
    "start_time_in_second_from_ref_date = (parsed_start_date - parsed_ref_date).total_seconds()\n",
    "end_time_in_second_from_ref_date = (parsed_end_date - parsed_ref_date).total_seconds()"
   ]
  },
  {
   "cell_type": "markdown",
   "id": "c7df9c6962b557b7",
   "metadata": {
    "collapsed": false,
    "jupyter": {
     "outputs_hidden": false
    }
   },
   "source": [
    "## Initialize output folder"
   ]
  },
  {
   "cell_type": "code",
   "execution_count": 112,
   "id": "61510542679c189b",
   "metadata": {
    "ExecuteTime": {
     "end_time": "2025-04-02T13:13:45.997511Z",
     "start_time": "2025-04-02T13:13:45.961090Z"
    },
    "collapsed": false,
    "jupyter": {
     "outputs_hidden": false
    }
   },
   "outputs": [],
   "source": [
    "remove_all_files_and_folders(output_folder)\n",
    "#copy_template('./00-template_mitgcm/geneva_base', output_folder)\n",
    "copy_template(template_folder, output_folder)\n",
    "config.write_metadata_to_file(os.path.join(output_folder, 'metadata_simulation.txt'))"
   ]
  },
  {
   "cell_type": "markdown",
   "id": "3de5145a6740583e",
   "metadata": {
    "collapsed": false,
    "jupyter": {
     "outputs_hidden": false
    }
   },
   "source": [
    "## Get MITgcm grid"
   ]
  },
  {
   "cell_type": "markdown",
   "id": "f5ed1f3c1b7039dc",
   "metadata": {
    "collapsed": false,
    "jupyter": {
     "outputs_hidden": false
    }
   },
   "source": [
    "#In case the grid has not been created yet\n",
    "build_and_save_mitgcm_grid(config.paths.grid_folder_path, \n",
    "                           config.Nx, \n",
    "                           config.Ny, \n",
    "                           config.grid_resolution, \n",
    "                           config.x0_ch1903, \n",
    "                           config.y0_ch1903, \n",
    "                           config.x1_ch1903, \n",
    "                           config.y1_ch1903)"
   ]
  },
  {
   "cell_type": "code",
   "execution_count": 113,
   "id": "b905cccc44f15ff8",
   "metadata": {
    "ExecuteTime": {
     "end_time": "2025-04-02T13:13:47.156592Z",
     "start_time": "2025-04-02T13:13:47.147462Z"
    },
    "collapsed": false,
    "jupyter": {
     "outputs_hidden": false
    },
    "scrolled": true
   },
   "outputs": [],
   "source": [
    "mitgcm_grid = get_grid(config.paths.grid_folder_path)"
   ]
  },
  {
   "cell_type": "markdown",
   "id": "f12b5099d4d8e3b5",
   "metadata": {
    "collapsed": false,
    "jupyter": {
     "outputs_hidden": false
    }
   },
   "source": [
    "## Build binary files"
   ]
  },
  {
   "cell_type": "code",
   "execution_count": 114,
   "id": "72cbdf023054ec88",
   "metadata": {
    "ExecuteTime": {
     "end_time": "2025-04-02T13:13:48.332570Z",
     "start_time": "2025-04-02T13:13:48.318222Z"
    },
    "collapsed": false,
    "jupyter": {
     "outputs_hidden": false
    }
   },
   "outputs": [
    {
     "name": "stdout",
     "output_type": "stream",
     "text": [
      "Directory './99-output/binary_data' created.\n"
     ]
    }
   ],
   "source": [
    "binary_data_folder = os.path.join(output_folder, 'binary_data')\n",
    "if not os.path.exists(binary_data_folder):\n",
    "    os.makedirs(binary_data_folder)\n",
    "    print(f\"Directory '{binary_data_folder}' created.\")"
   ]
  },
  {
   "cell_type": "markdown",
   "id": "88d4f6666cadd83",
   "metadata": {
    "collapsed": false,
    "jupyter": {
     "outputs_hidden": false
    }
   },
   "source": [
    "**Get bathymetry**"
   ]
  },
  {
   "cell_type": "code",
   "execution_count": 115,
   "id": "1abe7bf9ca450da2",
   "metadata": {
    "ExecuteTime": {
     "end_time": "2025-04-02T13:13:50.230146Z",
     "start_time": "2025-04-02T13:13:50.205576Z"
    },
    "collapsed": false,
    "jupyter": {
     "outputs_hidden": false
    }
   },
   "outputs": [
    {
     "data": {
      "text/plain": [
       "'./99-output/binary_data\\\\bathy.bin'"
      ]
     },
     "execution_count": 115,
     "metadata": {},
     "output_type": "execute_result"
    }
   ],
   "source": [
    "#To create bathymetry, see notebook 'create_bathy'\n",
    "shutil.copy(config.paths.bathy_path, os.path.join(binary_data_folder, 'bathy.bin'))"
   ]
  },
  {
   "cell_type": "markdown",
   "id": "9673032f29e5e681",
   "metadata": {
    "collapsed": false,
    "jupyter": {
     "outputs_hidden": false
    }
   },
   "source": [
    "**Get surface forcings**\n",
    "run to dowload external forcing.\n",
    "Once downloaded, no need to run that cell again"
   ]
  },
  {
   "cell_type": "code",
   "execution_count": 116,
   "id": "83b791fc7d942cc8",
   "metadata": {
    "ExecuteTime": {
     "end_time": "2025-04-02T13:13:52.037315Z",
     "start_time": "2025-04-02T13:13:52.010308Z"
    },
    "collapsed": false,
    "jupyter": {
     "outputs_hidden": false
    },
    "scrolled": true
   },
   "outputs": [
    {
     "name": "stdout",
     "output_type": "stream",
     "text": [
      "Data already exists: C:\\Users\\rasmusso\\Documents\\ZH\\data\\meteo\\continuous reanalysis\\20240301_20240301_T_2M.json\n",
      "Data already exists: C:\\Users\\rasmusso\\Documents\\ZH\\data\\meteo\\continuous reanalysis\\20240301_20240301_U.json\n",
      "Data already exists: C:\\Users\\rasmusso\\Documents\\ZH\\data\\meteo\\continuous reanalysis\\20240301_20240301_V.json\n",
      "Data already exists: C:\\Users\\rasmusso\\Documents\\ZH\\data\\meteo\\continuous reanalysis\\20240301_20240301_RELHUM_2M.json\n",
      "Data already exists: C:\\Users\\rasmusso\\Documents\\ZH\\data\\meteo\\continuous reanalysis\\20240301_20240301_PMSL.json\n",
      "Data already exists: C:\\Users\\rasmusso\\Documents\\ZH\\data\\meteo\\continuous reanalysis\\20240301_20240301_GLOB.json\n",
      "Data already exists: C:\\Users\\rasmusso\\Documents\\ZH\\data\\meteo\\continuous reanalysis\\20240301_20240301_CLCT.json\n",
      "Data already exists: C:\\Users\\rasmusso\\Documents\\ZH\\data\\meteo\\continuous reanalysis\\20240302_20240302_T_2M.json\n",
      "Data already exists: C:\\Users\\rasmusso\\Documents\\ZH\\data\\meteo\\continuous reanalysis\\20240301_20240301_PS.json\n",
      "Data already exists: C:\\Users\\rasmusso\\Documents\\ZH\\data\\meteo\\continuous reanalysis\\20240302_20240302_U.json\n",
      "Data already exists: C:\\Users\\rasmusso\\Documents\\ZH\\data\\meteo\\continuous reanalysis\\20240302_20240302_V.json\n",
      "Data already exists: C:\\Users\\rasmusso\\Documents\\ZH\\data\\meteo\\continuous reanalysis\\20240302_20240302_GLOB.json\n",
      "Data already exists: C:\\Users\\rasmusso\\Documents\\ZH\\data\\meteo\\continuous reanalysis\\20240302_20240302_PMSL.json\n",
      "Data already exists: C:\\Users\\rasmusso\\Documents\\ZH\\data\\meteo\\continuous reanalysis\\20240302_20240302_CLCT.json\n",
      "Data already exists: C:\\Users\\rasmusso\\Documents\\ZH\\data\\meteo\\continuous reanalysis\\20240302_20240302_RELHUM_2M.json\n",
      "Data already exists: C:\\Users\\rasmusso\\Documents\\ZH\\data\\meteo\\continuous reanalysis\\20240302_20240302_PS.json\n",
      "Data already exists: C:\\Users\\rasmusso\\Documents\\ZH\\data\\meteo\\continuous reanalysis\\20240303_20240303_T_2M.json\n",
      "Data already exists: C:\\Users\\rasmusso\\Documents\\ZH\\data\\meteo\\continuous reanalysis\\20240303_20240303_U.json\n",
      "Data already exists: C:\\Users\\rasmusso\\Documents\\ZH\\data\\meteo\\continuous reanalysis\\20240303_20240303_GLOB.json\n",
      "Data already exists: C:\\Users\\rasmusso\\Documents\\ZH\\data\\meteo\\continuous reanalysis\\20240303_20240303_V.json\n",
      "Data already exists: C:\\Users\\rasmusso\\Documents\\ZH\\data\\meteo\\continuous reanalysis\\20240303_20240303_RELHUM_2M.json\n",
      "Data already exists: C:\\Users\\rasmusso\\Documents\\ZH\\data\\meteo\\continuous reanalysis\\20240303_20240303_PMSL.json\n",
      "Data already exists: C:\\Users\\rasmusso\\Documents\\ZH\\data\\meteo\\continuous reanalysis\\20240303_20240303_PS.json\n",
      "Data already exists: C:\\Users\\rasmusso\\Documents\\ZH\\data\\meteo\\continuous reanalysis\\20240304_20240304_T_2M.json\n",
      "Data already exists: C:\\Users\\rasmusso\\Documents\\ZH\\data\\meteo\\continuous reanalysis\\20240303_20240303_CLCT.json\n",
      "Data already exists: C:\\Users\\rasmusso\\Documents\\ZH\\data\\meteo\\continuous reanalysis\\20240304_20240304_U.json\n",
      "Data already exists: C:\\Users\\rasmusso\\Documents\\ZH\\data\\meteo\\continuous reanalysis\\20240304_20240304_V.json\n",
      "Data already exists: C:\\Users\\rasmusso\\Documents\\ZH\\data\\meteo\\continuous reanalysis\\20240304_20240304_GLOB.json\n",
      "Data already exists: C:\\Users\\rasmusso\\Documents\\ZH\\data\\meteo\\continuous reanalysis\\20240304_20240304_RELHUM_2M.json\n",
      "Data already exists: C:\\Users\\rasmusso\\Documents\\ZH\\data\\meteo\\continuous reanalysis\\20240304_20240304_PMSL.json\n",
      "Data already exists: C:\\Users\\rasmusso\\Documents\\ZH\\data\\meteo\\continuous reanalysis\\20240304_20240304_CLCT.json\n",
      "Data already exists: C:\\Users\\rasmusso\\Documents\\ZH\\data\\meteo\\continuous reanalysis\\20240304_20240304_PS.json\n",
      "Data already exists: C:\\Users\\rasmusso\\Documents\\ZH\\data\\meteo\\continuous reanalysis\\20240305_20240305_T_2M.json\n",
      "Data already exists: C:\\Users\\rasmusso\\Documents\\ZH\\data\\meteo\\continuous reanalysis\\20240305_20240305_V.json\n",
      "Data already exists: C:\\Users\\rasmusso\\Documents\\ZH\\data\\meteo\\continuous reanalysis\\20240305_20240305_GLOB.json\n",
      "Data already exists: C:\\Users\\rasmusso\\Documents\\ZH\\data\\meteo\\continuous reanalysis\\20240305_20240305_RELHUM_2M.json\n",
      "Data already exists: C:\\Users\\rasmusso\\Documents\\ZH\\data\\meteo\\continuous reanalysis\\20240305_20240305_PMSL.json\n",
      "Data already exists: C:\\Users\\rasmusso\\Documents\\ZH\\data\\meteo\\continuous reanalysis\\20240305_20240305_CLCT.json\n",
      "Data already exists: C:\\Users\\rasmusso\\Documents\\ZH\\data\\meteo\\continuous reanalysis\\20240305_20240305_U.json\n",
      "Data already exists: C:\\Users\\rasmusso\\Documents\\ZH\\data\\meteo\\continuous reanalysis\\20240306_20240306_T_2M.json\n",
      "Data already exists: C:\\Users\\rasmusso\\Documents\\ZH\\data\\meteo\\continuous reanalysis\\20240306_20240306_U.json\n",
      "Data already exists: C:\\Users\\rasmusso\\Documents\\ZH\\data\\meteo\\continuous reanalysis\\20240306_20240306_V.json\n",
      "Data already exists: C:\\Users\\rasmusso\\Documents\\ZH\\data\\meteo\\continuous reanalysis\\20240306_20240306_GLOB.json\n",
      "Data already exists: C:\\Users\\rasmusso\\Documents\\ZH\\data\\meteo\\continuous reanalysis\\20240306_20240306_RELHUM_2M.json\n",
      "Data already exists: C:\\Users\\rasmusso\\Documents\\ZH\\data\\meteo\\continuous reanalysis\\20240306_20240306_PMSL.json\n",
      "Data already exists: C:\\Users\\rasmusso\\Documents\\ZH\\data\\meteo\\continuous reanalysis\\20240306_20240306_CLCT.json\n",
      "Data already exists: C:\\Users\\rasmusso\\Documents\\ZH\\data\\meteo\\continuous reanalysis\\20240306_20240306_PS.json\n",
      "Data already exists: C:\\Users\\rasmusso\\Documents\\ZH\\data\\meteo\\continuous reanalysis\\20240307_20240307_T_2M.json\n",
      "Data already exists: C:\\Users\\rasmusso\\Documents\\ZH\\data\\meteo\\continuous reanalysis\\20240307_20240307_U.json\n",
      "Data already exists: C:\\Users\\rasmusso\\Documents\\ZH\\data\\meteo\\continuous reanalysis\\20240307_20240307_V.json\n",
      "Data already exists: C:\\Users\\rasmusso\\Documents\\ZH\\data\\meteo\\continuous reanalysis\\20240307_20240307_GLOB.json\n",
      "Data already exists: C:\\Users\\rasmusso\\Documents\\ZH\\data\\meteo\\continuous reanalysis\\20240307_20240307_PMSL.json\n",
      "Data already exists: C:\\Users\\rasmusso\\Documents\\ZH\\data\\meteo\\continuous reanalysis\\20240307_20240307_RELHUM_2M.json\n",
      "Data already exists: C:\\Users\\rasmusso\\Documents\\ZH\\data\\meteo\\continuous reanalysis\\20240307_20240307_PS.json\n",
      "Data already exists: C:\\Users\\rasmusso\\Documents\\ZH\\data\\meteo\\continuous reanalysis\\20240308_20240308_T_2M.json\n",
      "Data already exists: C:\\Users\\rasmusso\\Documents\\ZH\\data\\meteo\\continuous reanalysis\\20240308_20240308_V.json\n",
      "Data already exists: C:\\Users\\rasmusso\\Documents\\ZH\\data\\meteo\\continuous reanalysis\\20240308_20240308_GLOB.json\n",
      "Data already exists: C:\\Users\\rasmusso\\Documents\\ZH\\data\\meteo\\continuous reanalysis\\20240308_20240308_RELHUM_2M.json\n",
      "Data already exists: C:\\Users\\rasmusso\\Documents\\ZH\\data\\meteo\\continuous reanalysis\\20240305_20240305_PS.json\n",
      "Data already exists: C:\\Users\\rasmusso\\Documents\\ZH\\data\\meteo\\continuous reanalysis\\20240308_20240308_CLCT.json\n",
      "Data already exists: C:\\Users\\rasmusso\\Documents\\ZH\\data\\meteo\\continuous reanalysis\\20240308_20240308_PS.json\n",
      "Data already exists: C:\\Users\\rasmusso\\Documents\\ZH\\data\\meteo\\continuous reanalysis\\20240309_20240309_T_2M.json\n",
      "Data already exists: C:\\Users\\rasmusso\\Documents\\ZH\\data\\meteo\\continuous reanalysis\\20240309_20240309_U.json\n",
      "Data already exists: C:\\Users\\rasmusso\\Documents\\ZH\\data\\meteo\\continuous reanalysis\\20240309_20240309_V.json\n",
      "Data already exists: C:\\Users\\rasmusso\\Documents\\ZH\\data\\meteo\\continuous reanalysis\\20240309_20240309_GLOB.json\n",
      "Data already exists: C:\\Users\\rasmusso\\Documents\\ZH\\data\\meteo\\continuous reanalysis\\20240309_20240309_PMSL.json\n",
      "Data already exists: C:\\Users\\rasmusso\\Documents\\ZH\\data\\meteo\\continuous reanalysis\\20240309_20240309_CLCT.json\n",
      "Data already exists: C:\\Users\\rasmusso\\Documents\\ZH\\data\\meteo\\continuous reanalysis\\20240309_20240309_PS.json\n",
      "Data already exists: C:\\Users\\rasmusso\\Documents\\ZH\\data\\meteo\\continuous reanalysis\\20240310_20240310_U.json\n",
      "Data already exists: C:\\Users\\rasmusso\\Documents\\ZH\\data\\meteo\\continuous reanalysis\\20240310_20240310_V.json\n",
      "Data already exists: C:\\Users\\rasmusso\\Documents\\ZH\\data\\meteo\\continuous reanalysis\\20240310_20240310_RELHUM_2M.json\n",
      "Data already exists: C:\\Users\\rasmusso\\Documents\\ZH\\data\\meteo\\continuous reanalysis\\20240310_20240310_PMSL.json\n",
      "Data already exists: C:\\Users\\rasmusso\\Documents\\ZH\\data\\meteo\\continuous reanalysis\\20240310_20240310_CLCT.json\n",
      "Data already exists: C:\\Users\\rasmusso\\Documents\\ZH\\data\\meteo\\continuous reanalysis\\20240310_20240310_PS.json\n",
      "Data already exists: C:\\Users\\rasmusso\\Documents\\ZH\\data\\meteo\\continuous reanalysis\\20240311_20240311_T_2M.json\n",
      "Data already exists: C:\\Users\\rasmusso\\Documents\\ZH\\data\\meteo\\continuous reanalysis\\20240311_20240311_U.json\n",
      "Data already exists: C:\\Users\\rasmusso\\Documents\\ZH\\data\\meteo\\continuous reanalysis\\20240311_20240311_V.json\n",
      "Data already exists: C:\\Users\\rasmusso\\Documents\\ZH\\data\\meteo\\continuous reanalysis\\20240311_20240311_GLOB.json\n",
      "Data already exists: C:\\Users\\rasmusso\\Documents\\ZH\\data\\meteo\\continuous reanalysis\\20240311_20240311_RELHUM_2M.json\n",
      "Data already exists: C:\\Users\\rasmusso\\Documents\\ZH\\data\\meteo\\continuous reanalysis\\20240311_20240311_PMSL.json\n",
      "Data already exists: C:\\Users\\rasmusso\\Documents\\ZH\\data\\meteo\\continuous reanalysis\\20240311_20240311_CLCT.json\n",
      "Data already exists: C:\\Users\\rasmusso\\Documents\\ZH\\data\\meteo\\continuous reanalysis\\20240311_20240311_PS.json\n",
      "Data already exists: C:\\Users\\rasmusso\\Documents\\ZH\\data\\meteo\\continuous reanalysis\\20240312_20240312_T_2M.json\n",
      "Data already exists: C:\\Users\\rasmusso\\Documents\\ZH\\data\\meteo\\continuous reanalysis\\20240312_20240312_U.json\n",
      "Data already exists: C:\\Users\\rasmusso\\Documents\\ZH\\data\\meteo\\continuous reanalysis\\20240312_20240312_V.json\n",
      "Data already exists: C:\\Users\\rasmusso\\Documents\\ZH\\data\\meteo\\continuous reanalysis\\20240312_20240312_GLOB.json\n",
      "Data already exists: C:\\Users\\rasmusso\\Documents\\ZH\\data\\meteo\\continuous reanalysis\\20240312_20240312_RELHUM_2M.json\n",
      "Data already exists: C:\\Users\\rasmusso\\Documents\\ZH\\data\\meteo\\continuous reanalysis\\20240312_20240312_PMSL.json\n",
      "Data already exists: C:\\Users\\rasmusso\\Documents\\ZH\\data\\meteo\\continuous reanalysis\\20240312_20240312_CLCT.json\n",
      "Data already exists: C:\\Users\\rasmusso\\Documents\\ZH\\data\\meteo\\continuous reanalysis\\20240312_20240312_PS.json\n",
      "Data already exists: C:\\Users\\rasmusso\\Documents\\ZH\\data\\meteo\\continuous reanalysis\\20240313_20240313_T_2M.json\n",
      "Data already exists: C:\\Users\\rasmusso\\Documents\\ZH\\data\\meteo\\continuous reanalysis\\20240313_20240313_U.json\n",
      "Data already exists: C:\\Users\\rasmusso\\Documents\\ZH\\data\\meteo\\continuous reanalysis\\20240313_20240313_V.json\n",
      "Data already exists: C:\\Users\\rasmusso\\Documents\\ZH\\data\\meteo\\continuous reanalysis\\20240313_20240313_GLOB.json\n",
      "Data already exists: C:\\Users\\rasmusso\\Documents\\ZH\\data\\meteo\\continuous reanalysis\\20240313_20240313_RELHUM_2M.json\n",
      "Data already exists: C:\\Users\\rasmusso\\Documents\\ZH\\data\\meteo\\continuous reanalysis\\20240307_20240307_CLCT.json\n",
      "Data already exists: C:\\Users\\rasmusso\\Documents\\ZH\\data\\meteo\\continuous reanalysis\\20240313_20240313_CLCT.json\n",
      "Data already exists: C:\\Users\\rasmusso\\Documents\\ZH\\data\\meteo\\continuous reanalysis\\20240313_20240313_PS.json\n",
      "Data already exists: C:\\Users\\rasmusso\\Documents\\ZH\\data\\meteo\\continuous reanalysis\\20240314_20240314_T_2M.json\n",
      "Data already exists: C:\\Users\\rasmusso\\Documents\\ZH\\data\\meteo\\continuous reanalysis\\20240314_20240314_U.json\n",
      "Data already exists: C:\\Users\\rasmusso\\Documents\\ZH\\data\\meteo\\continuous reanalysis\\20240314_20240314_V.json\n",
      "Data already exists: C:\\Users\\rasmusso\\Documents\\ZH\\data\\meteo\\continuous reanalysis\\20240308_20240308_PMSL.json\n",
      "Data already exists: C:\\Users\\rasmusso\\Documents\\ZH\\data\\meteo\\continuous reanalysis\\20240310_20240310_GLOB.json\n",
      "Data already exists: C:\\Users\\rasmusso\\Documents\\ZH\\data\\meteo\\continuous reanalysis\\20240314_20240314_RELHUM_2M.json\n",
      "Data already exists: C:\\Users\\rasmusso\\Documents\\ZH\\data\\meteo\\continuous reanalysis\\20240314_20240314_PMSL.json\n",
      "Data already exists: C:\\Users\\rasmusso\\Documents\\ZH\\data\\meteo\\continuous reanalysis\\20240314_20240314_CLCT.json\n",
      "Data already exists: C:\\Users\\rasmusso\\Documents\\ZH\\data\\meteo\\continuous reanalysis\\20240308_20240308_U.json\n",
      "Data already exists: C:\\Users\\rasmusso\\Documents\\ZH\\data\\meteo\\continuous reanalysis\\20240315_20240315_T_2M.json\n",
      "Data already exists: C:\\Users\\rasmusso\\Documents\\ZH\\data\\meteo\\continuous reanalysis\\20240314_20240314_GLOB.json\n",
      "Data already exists: C:\\Users\\rasmusso\\Documents\\ZH\\data\\meteo\\continuous reanalysis\\20240309_20240309_RELHUM_2M.json\n",
      "Data already exists: C:\\Users\\rasmusso\\Documents\\ZH\\data\\meteo\\continuous reanalysis\\20240315_20240315_GLOB.json\n",
      "Data already exists: C:\\Users\\rasmusso\\Documents\\ZH\\data\\meteo\\continuous reanalysis\\20240315_20240315_U.json\n",
      "Data already exists: C:\\Users\\rasmusso\\Documents\\ZH\\data\\meteo\\continuous reanalysis\\20240313_20240313_PMSL.json\n",
      "Data already exists: C:\\Users\\rasmusso\\Documents\\ZH\\data\\meteo\\continuous reanalysis\\20240315_20240315_V.json\n",
      "Data already exists: C:\\Users\\rasmusso\\Documents\\ZH\\data\\meteo\\continuous reanalysis\\20240315_20240315_PS.json\n",
      "Data already exists: C:\\Users\\rasmusso\\Documents\\ZH\\data\\meteo\\continuous reanalysis\\20240316_20240316_T_2M.json\n",
      "Data already exists: C:\\Users\\rasmusso\\Documents\\ZH\\data\\meteo\\continuous reanalysis\\20240316_20240316_U.json\n",
      "Data already exists: C:\\Users\\rasmusso\\Documents\\ZH\\data\\meteo\\continuous reanalysis\\20240316_20240316_V.json\n",
      "Data already exists: C:\\Users\\rasmusso\\Documents\\ZH\\data\\meteo\\continuous reanalysis\\20240316_20240316_GLOB.json\n",
      "Data already exists: C:\\Users\\rasmusso\\Documents\\ZH\\data\\meteo\\continuous reanalysis\\20240316_20240316_RELHUM_2M.json\n",
      "Data already exists: C:\\Users\\rasmusso\\Documents\\ZH\\data\\meteo\\continuous reanalysis\\20240316_20240316_PMSL.json\n",
      "Data already exists: C:\\Users\\rasmusso\\Documents\\ZH\\data\\meteo\\continuous reanalysis\\20240316_20240316_CLCT.json\n",
      "Data already exists: C:\\Users\\rasmusso\\Documents\\ZH\\data\\meteo\\continuous reanalysis\\20240316_20240316_PS.json\n",
      "Data already exists: C:\\Users\\rasmusso\\Documents\\ZH\\data\\meteo\\continuous reanalysis\\20240317_20240317_T_2M.json\n",
      "Data already exists: C:\\Users\\rasmusso\\Documents\\ZH\\data\\meteo\\continuous reanalysis\\20240317_20240317_U.json\n",
      "Data already exists: C:\\Users\\rasmusso\\Documents\\ZH\\data\\meteo\\continuous reanalysis\\20240317_20240317_V.json\n",
      "Data already exists: C:\\Users\\rasmusso\\Documents\\ZH\\data\\meteo\\continuous reanalysis\\20240317_20240317_GLOB.json\n",
      "Data already exists: C:\\Users\\rasmusso\\Documents\\ZH\\data\\meteo\\continuous reanalysis\\20240315_20240315_RELHUM_2M.json\n",
      "Data already exists: C:\\Users\\rasmusso\\Documents\\ZH\\data\\meteo\\continuous reanalysis\\20240317_20240317_PMSL.json\n",
      "Data already exists: C:\\Users\\rasmusso\\Documents\\ZH\\data\\meteo\\continuous reanalysis\\20240317_20240317_CLCT.json\n",
      "Data already exists: C:\\Users\\rasmusso\\Documents\\ZH\\data\\meteo\\continuous reanalysis\\20240314_20240314_PS.json\n",
      "Data already exists: C:\\Users\\rasmusso\\Documents\\ZH\\data\\meteo\\continuous reanalysis\\20240318_20240318_T_2M.json\n",
      "Data already exists: C:\\Users\\rasmusso\\Documents\\ZH\\data\\meteo\\continuous reanalysis\\20240318_20240318_U.json\n",
      "Data already exists: C:\\Users\\rasmusso\\Documents\\ZH\\data\\meteo\\continuous reanalysis\\20240318_20240318_V.json\n",
      "Data already exists: C:\\Users\\rasmusso\\Documents\\ZH\\data\\meteo\\continuous reanalysis\\20240318_20240318_GLOB.json\n",
      "Data already exists: C:\\Users\\rasmusso\\Documents\\ZH\\data\\meteo\\continuous reanalysis\\20240318_20240318_RELHUM_2M.json\n",
      "Data already exists: C:\\Users\\rasmusso\\Documents\\ZH\\data\\meteo\\continuous reanalysis\\20240315_20240315_CLCT.json\n",
      "Data already exists: C:\\Users\\rasmusso\\Documents\\ZH\\data\\meteo\\continuous reanalysis\\20240318_20240318_CLCT.json\n",
      "Data already exists: C:\\Users\\rasmusso\\Documents\\ZH\\data\\meteo\\continuous reanalysis\\20240317_20240317_RELHUM_2M.json\n",
      "Data already exists: C:\\Users\\rasmusso\\Documents\\ZH\\data\\meteo\\continuous reanalysis\\20240318_20240318_PS.json\n",
      "Data already exists: C:\\Users\\rasmusso\\Documents\\ZH\\data\\meteo\\continuous reanalysis\\20240319_20240319_U.json\n",
      "Data already exists: C:\\Users\\rasmusso\\Documents\\ZH\\data\\meteo\\continuous reanalysis\\20240319_20240319_V.json\n",
      "Data already exists: C:\\Users\\rasmusso\\Documents\\ZH\\data\\meteo\\continuous reanalysis\\20240318_20240318_PMSL.json\n",
      "Data already exists: C:\\Users\\rasmusso\\Documents\\ZH\\data\\meteo\\continuous reanalysis\\20240319_20240319_RELHUM_2M.json\n",
      "Data already exists: C:\\Users\\rasmusso\\Documents\\ZH\\data\\meteo\\continuous reanalysis\\20240319_20240319_GLOB.json\n",
      "Data already exists: C:\\Users\\rasmusso\\Documents\\ZH\\data\\meteo\\continuous reanalysis\\20240319_20240319_CLCT.json\n",
      "Data already exists: C:\\Users\\rasmusso\\Documents\\ZH\\data\\meteo\\continuous reanalysis\\20240319_20240319_PS.json\n",
      "Data already exists: C:\\Users\\rasmusso\\Documents\\ZH\\data\\meteo\\continuous reanalysis\\20240319_20240319_T_2M.json\n",
      "Data already exists: C:\\Users\\rasmusso\\Documents\\ZH\\data\\meteo\\continuous reanalysis\\20240317_20240317_PS.json\n",
      "Data already exists: C:\\Users\\rasmusso\\Documents\\ZH\\data\\meteo\\continuous reanalysis\\20240320_20240320_V.json\n",
      "Data already exists: C:\\Users\\rasmusso\\Documents\\ZH\\data\\meteo\\continuous reanalysis\\20240320_20240320_GLOB.json\n",
      "Data already exists: C:\\Users\\rasmusso\\Documents\\ZH\\data\\meteo\\continuous reanalysis\\20240320_20240320_RELHUM_2M.json\n",
      "Data already exists: C:\\Users\\rasmusso\\Documents\\ZH\\data\\meteo\\continuous reanalysis\\20240320_20240320_PMSL.json\n",
      "Data already exists: C:\\Users\\rasmusso\\Documents\\ZH\\data\\meteo\\continuous reanalysis\\20240320_20240320_CLCT.json\n",
      "Data already exists: C:\\Users\\rasmusso\\Documents\\ZH\\data\\meteo\\continuous reanalysis\\20240320_20240320_PS.json\n",
      "Data already exists: C:\\Users\\rasmusso\\Documents\\ZH\\data\\meteo\\continuous reanalysis\\20240321_20240321_U.json\n",
      "Data already exists: C:\\Users\\rasmusso\\Documents\\ZH\\data\\meteo\\continuous reanalysis\\20240319_20240319_PMSL.json\n",
      "Data already exists: C:\\Users\\rasmusso\\Documents\\ZH\\data\\meteo\\continuous reanalysis\\20240321_20240321_V.json\n",
      "Data already exists: C:\\Users\\rasmusso\\Documents\\ZH\\data\\meteo\\continuous reanalysis\\20240321_20240321_GLOB.json\n",
      "Data already exists: C:\\Users\\rasmusso\\Documents\\ZH\\data\\meteo\\continuous reanalysis\\20240321_20240321_RELHUM_2M.json\n",
      "Data already exists: C:\\Users\\rasmusso\\Documents\\ZH\\data\\meteo\\continuous reanalysis\\20240321_20240321_PMSL.json\n",
      "Data already exists: C:\\Users\\rasmusso\\Documents\\ZH\\data\\meteo\\continuous reanalysis\\20240321_20240321_CLCT.json\n",
      "Data already exists: C:\\Users\\rasmusso\\Documents\\ZH\\data\\meteo\\continuous reanalysis\\20240321_20240321_PS.json\n",
      "Data already exists: C:\\Users\\rasmusso\\Documents\\ZH\\data\\meteo\\continuous reanalysis\\20240322_20240322_T_2M.json\n",
      "Data already exists: C:\\Users\\rasmusso\\Documents\\ZH\\data\\meteo\\continuous reanalysis\\20240320_20240320_T_2M.json\n",
      "Data already exists: C:\\Users\\rasmusso\\Documents\\ZH\\data\\meteo\\continuous reanalysis\\20240322_20240322_V.json\n",
      "Data already exists: C:\\Users\\rasmusso\\Documents\\ZH\\data\\meteo\\continuous reanalysis\\20240322_20240322_GLOB.json\n",
      "Data already exists: C:\\Users\\rasmusso\\Documents\\ZH\\data\\meteo\\continuous reanalysis\\20240320_20240320_U.json\n",
      "Data already exists: C:\\Users\\rasmusso\\Documents\\ZH\\data\\meteo\\continuous reanalysis\\20240322_20240322_RELHUM_2M.json\n",
      "Data already exists: C:\\Users\\rasmusso\\Documents\\ZH\\data\\meteo\\continuous reanalysis\\20240322_20240322_CLCT.json\n",
      "Data already exists: C:\\Users\\rasmusso\\Documents\\ZH\\data\\meteo\\continuous reanalysis\\20240322_20240322_PS.json\n",
      "Data already exists: C:\\Users\\rasmusso\\Documents\\ZH\\data\\meteo\\continuous reanalysis\\20240322_20240322_PMSL.json\n",
      "Data already exists: C:\\Users\\rasmusso\\Documents\\ZH\\data\\meteo\\continuous reanalysis\\20240323_20240323_U.json\n",
      "Data already exists: C:\\Users\\rasmusso\\Documents\\ZH\\data\\meteo\\continuous reanalysis\\20240323_20240323_V.json\n",
      "Data already exists: C:\\Users\\rasmusso\\Documents\\ZH\\data\\meteo\\continuous reanalysis\\20240321_20240321_T_2M.json\n",
      "Data already exists: C:\\Users\\rasmusso\\Documents\\ZH\\data\\meteo\\continuous reanalysis\\20240323_20240323_RELHUM_2M.json\n",
      "Data already exists: C:\\Users\\rasmusso\\Documents\\ZH\\data\\meteo\\continuous reanalysis\\20240315_20240315_PMSL.json\n",
      "Data already exists: C:\\Users\\rasmusso\\Documents\\ZH\\data\\meteo\\continuous reanalysis\\20240323_20240323_T_2M.json\n",
      "Data already exists: C:\\Users\\rasmusso\\Documents\\ZH\\data\\meteo\\continuous reanalysis\\20240323_20240323_PS.json\n",
      "Data already exists: C:\\Users\\rasmusso\\Documents\\ZH\\data\\meteo\\continuous reanalysis\\20240324_20240324_T_2M.json\n",
      "Data already exists: C:\\Users\\rasmusso\\Documents\\ZH\\data\\meteo\\continuous reanalysis\\20240322_20240322_U.json\n",
      "Data already exists: C:\\Users\\rasmusso\\Documents\\ZH\\data\\meteo\\continuous reanalysis\\20240324_20240324_V.json\n",
      "Data already exists: C:\\Users\\rasmusso\\Documents\\ZH\\data\\meteo\\continuous reanalysis\\20240324_20240324_GLOB.json\n",
      "Data already exists: C:\\Users\\rasmusso\\Documents\\ZH\\data\\meteo\\continuous reanalysis\\20240324_20240324_RELHUM_2M.json\n",
      "Data already exists: C:\\Users\\rasmusso\\Documents\\ZH\\data\\meteo\\continuous reanalysis\\20240324_20240324_PMSL.json\n",
      "Data already exists: C:\\Users\\rasmusso\\Documents\\ZH\\data\\meteo\\continuous reanalysis\\20240324_20240324_CLCT.json\n",
      "Data already exists: C:\\Users\\rasmusso\\Documents\\ZH\\data\\meteo\\continuous reanalysis\\20240324_20240324_PS.json\n",
      "Data already exists: C:\\Users\\rasmusso\\Documents\\ZH\\data\\meteo\\continuous reanalysis\\20240325_20240325_T_2M.json\n",
      "Data already exists: C:\\Users\\rasmusso\\Documents\\ZH\\data\\meteo\\continuous reanalysis\\20240325_20240325_U.json\n",
      "Data already exists: C:\\Users\\rasmusso\\Documents\\ZH\\data\\meteo\\continuous reanalysis\\20240325_20240325_V.json\n",
      "Data already exists: C:\\Users\\rasmusso\\Documents\\ZH\\data\\meteo\\continuous reanalysis\\20240325_20240325_GLOB.json\n",
      "Data already exists: C:\\Users\\rasmusso\\Documents\\ZH\\data\\meteo\\continuous reanalysis\\20240325_20240325_RELHUM_2M.json\n",
      "Data already exists: C:\\Users\\rasmusso\\Documents\\ZH\\data\\meteo\\continuous reanalysis\\20240325_20240325_PMSL.json\n",
      "Data already exists: C:\\Users\\rasmusso\\Documents\\ZH\\data\\meteo\\continuous reanalysis\\20240325_20240325_CLCT.json\n",
      "Data already exists: C:\\Users\\rasmusso\\Documents\\ZH\\data\\meteo\\continuous reanalysis\\20240325_20240325_PS.json\n",
      "Data already exists: C:\\Users\\rasmusso\\Documents\\ZH\\data\\meteo\\continuous reanalysis\\20240326_20240326_T_2M.json\n",
      "Data already exists: C:\\Users\\rasmusso\\Documents\\ZH\\data\\meteo\\continuous reanalysis\\20240326_20240326_U.json\n",
      "Data already exists: C:\\Users\\rasmusso\\Documents\\ZH\\data\\meteo\\continuous reanalysis\\20240323_20240323_PMSL.json\n",
      "Data already exists: C:\\Users\\rasmusso\\Documents\\ZH\\data\\meteo\\continuous reanalysis\\20240323_20240323_CLCT.json\n",
      "Data already exists: C:\\Users\\rasmusso\\Documents\\ZH\\data\\meteo\\continuous reanalysis\\20240326_20240326_RELHUM_2M.json\n",
      "Data already exists: C:\\Users\\rasmusso\\Documents\\ZH\\data\\meteo\\continuous reanalysis\\20240326_20240326_PMSL.json\n",
      "Data already exists: C:\\Users\\rasmusso\\Documents\\ZH\\data\\meteo\\continuous reanalysis\\20240326_20240326_CLCT.json\n",
      "Data already exists: C:\\Users\\rasmusso\\Documents\\ZH\\data\\meteo\\continuous reanalysis\\20240326_20240326_PS.json\n",
      "Data already exists: C:\\Users\\rasmusso\\Documents\\ZH\\data\\meteo\\continuous reanalysis\\20240327_20240327_T_2M.json\n",
      "Data already exists: C:\\Users\\rasmusso\\Documents\\ZH\\data\\meteo\\continuous reanalysis\\20240327_20240327_U.json\n",
      "Data already exists: C:\\Users\\rasmusso\\Documents\\ZH\\data\\meteo\\continuous reanalysis\\20240327_20240327_V.json\n",
      "Data already exists: C:\\Users\\rasmusso\\Documents\\ZH\\data\\meteo\\continuous reanalysis\\20240327_20240327_GLOB.json\n",
      "Data already exists: C:\\Users\\rasmusso\\Documents\\ZH\\data\\meteo\\continuous reanalysis\\20240327_20240327_RELHUM_2M.json\n",
      "Data already exists: C:\\Users\\rasmusso\\Documents\\ZH\\data\\meteo\\continuous reanalysis\\20240327_20240327_PMSL.json\n",
      "Data already exists: C:\\Users\\rasmusso\\Documents\\ZH\\data\\meteo\\continuous reanalysis\\20240327_20240327_CLCT.json\n",
      "Data already exists: C:\\Users\\rasmusso\\Documents\\ZH\\data\\meteo\\continuous reanalysis\\20240327_20240327_PS.json\n",
      "Data already exists: C:\\Users\\rasmusso\\Documents\\ZH\\data\\meteo\\continuous reanalysis\\20240328_20240328_T_2M.json\n",
      "Data already exists: C:\\Users\\rasmusso\\Documents\\ZH\\data\\meteo\\continuous reanalysis\\20240328_20240328_U.json\n",
      "Data already exists: C:\\Users\\rasmusso\\Documents\\ZH\\data\\meteo\\continuous reanalysis\\20240323_20240323_GLOB.json\n",
      "Data already exists: C:\\Users\\rasmusso\\Documents\\ZH\\data\\meteo\\continuous reanalysis\\20240326_20240326_GLOB.json\n",
      "Data already exists: C:\\Users\\rasmusso\\Documents\\ZH\\data\\meteo\\continuous reanalysis\\20240328_20240328_RELHUM_2M.json\n",
      "Data already exists: C:\\Users\\rasmusso\\Documents\\ZH\\data\\meteo\\continuous reanalysis\\20240328_20240328_PMSL.json\n",
      "Data already exists: C:\\Users\\rasmusso\\Documents\\ZH\\data\\meteo\\continuous reanalysis\\20240326_20240326_V.json\n",
      "Data already exists: C:\\Users\\rasmusso\\Documents\\ZH\\data\\meteo\\continuous reanalysis\\20240328_20240328_PS.json\n",
      "Data already exists: C:\\Users\\rasmusso\\Documents\\ZH\\data\\meteo\\continuous reanalysis\\20240329_20240329_T_2M.json\n",
      "Data already exists: C:\\Users\\rasmusso\\Documents\\ZH\\data\\meteo\\continuous reanalysis\\20240329_20240329_U.json\n",
      "Data already exists: C:\\Users\\rasmusso\\Documents\\ZH\\data\\meteo\\continuous reanalysis\\20240329_20240329_V.json\n",
      "Data already exists: C:\\Users\\rasmusso\\Documents\\ZH\\data\\meteo\\continuous reanalysis\\20240329_20240329_GLOB.json\n",
      "Data already exists: C:\\Users\\rasmusso\\Documents\\ZH\\data\\meteo\\continuous reanalysis\\20240329_20240329_RELHUM_2M.json\n",
      "Data already exists: C:\\Users\\rasmusso\\Documents\\ZH\\data\\meteo\\continuous reanalysis\\20240329_20240329_PMSL.json\n",
      "Data already exists: C:\\Users\\rasmusso\\Documents\\ZH\\data\\meteo\\continuous reanalysis\\20240329_20240329_CLCT.json\n",
      "Data already exists: C:\\Users\\rasmusso\\Documents\\ZH\\data\\meteo\\continuous reanalysis\\20240329_20240329_PS.json\n",
      "Data already exists: C:\\Users\\rasmusso\\Documents\\ZH\\data\\meteo\\continuous reanalysis\\20240330_20240330_T_2M.json\n",
      "Data already exists: C:\\Users\\rasmusso\\Documents\\ZH\\data\\meteo\\continuous reanalysis\\20240330_20240330_U.json\n",
      "Data already exists: C:\\Users\\rasmusso\\Documents\\ZH\\data\\meteo\\continuous reanalysis\\20240330_20240330_V.json\n",
      "Data already exists: C:\\Users\\rasmusso\\Documents\\ZH\\data\\meteo\\continuous reanalysis\\20240330_20240330_GLOB.json\n",
      "Data already exists: C:\\Users\\rasmusso\\Documents\\ZH\\data\\meteo\\continuous reanalysis\\20240328_20240328_V.json\n",
      "Data already exists: C:\\Users\\rasmusso\\Documents\\ZH\\data\\meteo\\continuous reanalysis\\20240330_20240330_PS.json\n",
      "Data already exists: C:\\Users\\rasmusso\\Documents\\ZH\\data\\meteo\\continuous reanalysis\\20240330_20240330_CLCT.json\n",
      "Data already exists: C:\\Users\\rasmusso\\Documents\\ZH\\data\\meteo\\continuous reanalysis\\20240330_20240330_PMSL.json\n",
      "Data already exists: C:\\Users\\rasmusso\\Documents\\ZH\\data\\meteo\\continuous reanalysis\\20240331_20240331_T_2M.json\n",
      "Data already exists: C:\\Users\\rasmusso\\Documents\\ZH\\data\\meteo\\continuous reanalysis\\20240331_20240331_U.json\n",
      "Data already exists: C:\\Users\\rasmusso\\Documents\\ZH\\data\\meteo\\continuous reanalysis\\20240331_20240331_V.json\n",
      "Data already exists: C:\\Users\\rasmusso\\Documents\\ZH\\data\\meteo\\continuous reanalysis\\20240331_20240331_GLOB.json\n",
      "Data already exists: C:\\Users\\rasmusso\\Documents\\ZH\\data\\meteo\\continuous reanalysis\\20240331_20240331_RELHUM_2M.json\n",
      "Data already exists: C:\\Users\\rasmusso\\Documents\\ZH\\data\\meteo\\continuous reanalysis\\20240331_20240331_CLCT.json\n",
      "Data already exists: C:\\Users\\rasmusso\\Documents\\ZH\\data\\meteo\\continuous reanalysis\\20240331_20240331_PS.json\n",
      "Data already exists: C:\\Users\\rasmusso\\Documents\\ZH\\data\\meteo\\continuous reanalysis\\20240401_20240401_T_2M.json\n",
      "Data already exists: C:\\Users\\rasmusso\\Documents\\ZH\\data\\meteo\\continuous reanalysis\\20240401_20240401_U.json\n",
      "Data already exists: C:\\Users\\rasmusso\\Documents\\ZH\\data\\meteo\\continuous reanalysis\\20240401_20240401_V.json\n",
      "Data already exists: C:\\Users\\rasmusso\\Documents\\ZH\\data\\meteo\\continuous reanalysis\\20240401_20240401_GLOB.json\n",
      "Data already exists: C:\\Users\\rasmusso\\Documents\\ZH\\data\\meteo\\continuous reanalysis\\20240328_20240328_CLCT.json\n",
      "Data already exists: C:\\Users\\rasmusso\\Documents\\ZH\\data\\meteo\\continuous reanalysis\\20240401_20240401_PMSL.json\n",
      "Data already exists: C:\\Users\\rasmusso\\Documents\\ZH\\data\\meteo\\continuous reanalysis\\20240401_20240401_CLCT.json\n",
      "Data already exists: C:\\Users\\rasmusso\\Documents\\ZH\\data\\meteo\\continuous reanalysis\\20240401_20240401_PS.json\n",
      "Data already exists: C:\\Users\\rasmusso\\Documents\\ZH\\data\\meteo\\continuous reanalysis\\20240402_20240402_T_2M.json\n",
      "Data already exists: C:\\Users\\rasmusso\\Documents\\ZH\\data\\meteo\\continuous reanalysis\\20240402_20240402_U.json\n",
      "Data already exists: C:\\Users\\rasmusso\\Documents\\ZH\\data\\meteo\\continuous reanalysis\\20240324_20240324_U.json\n",
      "Data already exists: C:\\Users\\rasmusso\\Documents\\ZH\\data\\meteo\\continuous reanalysis\\20240402_20240402_GLOB.json\n",
      "Data already exists: C:\\Users\\rasmusso\\Documents\\ZH\\data\\meteo\\continuous reanalysis\\20240330_20240330_RELHUM_2M.json\n",
      "Data already exists: C:\\Users\\rasmusso\\Documents\\ZH\\data\\meteo\\continuous reanalysis\\20240402_20240402_PMSL.json\n",
      "Data already exists: C:\\Users\\rasmusso\\Documents\\ZH\\data\\meteo\\continuous reanalysis\\20240402_20240402_RELHUM_2M.json\n",
      "Data already exists: C:\\Users\\rasmusso\\Documents\\ZH\\data\\meteo\\continuous reanalysis\\20240328_20240328_GLOB.json\n",
      "Data already exists: C:\\Users\\rasmusso\\Documents\\ZH\\data\\meteo\\continuous reanalysis\\20240402_20240402_PS.json\n",
      "Data already exists: C:\\Users\\rasmusso\\Documents\\ZH\\data\\meteo\\continuous reanalysis\\20240403_20240403_U.json\n",
      "Data already exists: C:\\Users\\rasmusso\\Documents\\ZH\\data\\meteo\\continuous reanalysis\\20240403_20240403_V.json\n",
      "Data already exists: C:\\Users\\rasmusso\\Documents\\ZH\\data\\meteo\\continuous reanalysis\\20240403_20240403_T_2M.json\n",
      "Data already exists: C:\\Users\\rasmusso\\Documents\\ZH\\data\\meteo\\continuous reanalysis\\20240403_20240403_PMSL.json\n",
      "Data already exists: C:\\Users\\rasmusso\\Documents\\ZH\\data\\meteo\\continuous reanalysis\\20240402_20240402_V.json\n",
      "Data already exists: C:\\Users\\rasmusso\\Documents\\ZH\\data\\meteo\\continuous reanalysis\\20240403_20240403_CLCT.json\n",
      "Data already exists: C:\\Users\\rasmusso\\Documents\\ZH\\data\\meteo\\continuous reanalysis\\20240403_20240403_PS.json\n",
      "Data already exists: C:\\Users\\rasmusso\\Documents\\ZH\\data\\meteo\\continuous reanalysis\\20240404_20240404_T_2M.json\n",
      "Data already exists: C:\\Users\\rasmusso\\Documents\\ZH\\data\\meteo\\continuous reanalysis\\20240404_20240404_U.json\n",
      "Data already exists: C:\\Users\\rasmusso\\Documents\\ZH\\data\\meteo\\continuous reanalysis\\20240404_20240404_V.json\n",
      "Data already exists: C:\\Users\\rasmusso\\Documents\\ZH\\data\\meteo\\continuous reanalysis\\20240404_20240404_GLOB.json\n",
      "Data already exists: C:\\Users\\rasmusso\\Documents\\ZH\\data\\meteo\\continuous reanalysis\\20240404_20240404_RELHUM_2M.json\n",
      "Data already exists: C:\\Users\\rasmusso\\Documents\\ZH\\data\\meteo\\continuous reanalysis\\20240404_20240404_PMSL.json\n",
      "Data already exists: C:\\Users\\rasmusso\\Documents\\ZH\\data\\meteo\\continuous reanalysis\\20240404_20240404_CLCT.json\n",
      "Data already exists: C:\\Users\\rasmusso\\Documents\\ZH\\data\\meteo\\continuous reanalysis\\20240405_20240405_T_2M.json\n",
      "Data already exists: C:\\Users\\rasmusso\\Documents\\ZH\\data\\meteo\\continuous reanalysis\\20240404_20240404_PS.json\n",
      "Data already exists: C:\\Users\\rasmusso\\Documents\\ZH\\data\\meteo\\continuous reanalysis\\20240401_20240401_RELHUM_2M.json\n",
      "Data already exists: C:\\Users\\rasmusso\\Documents\\ZH\\data\\meteo\\continuous reanalysis\\20240405_20240405_V.json\n",
      "Data already exists: C:\\Users\\rasmusso\\Documents\\ZH\\data\\meteo\\continuous reanalysis\\20240405_20240405_RELHUM_2M.json\n",
      "Data already exists: C:\\Users\\rasmusso\\Documents\\ZH\\data\\meteo\\continuous reanalysis\\20240405_20240405_PMSL.json\n",
      "Data already exists: C:\\Users\\rasmusso\\Documents\\ZH\\data\\meteo\\continuous reanalysis\\20240405_20240405_CLCT.json\n",
      "Data already exists: C:\\Users\\rasmusso\\Documents\\ZH\\data\\meteo\\continuous reanalysis\\20240403_20240403_RELHUM_2M.json\n",
      "Data already exists: C:\\Users\\rasmusso\\Documents\\ZH\\data\\meteo\\continuous reanalysis\\20240405_20240405_PS.json\n",
      "Data already exists: C:\\Users\\rasmusso\\Documents\\ZH\\data\\meteo\\continuous reanalysis\\20240406_20240406_T_2M.json\n",
      "Data already exists: C:\\Users\\rasmusso\\Documents\\ZH\\data\\meteo\\continuous reanalysis\\20240406_20240406_U.json\n",
      "Data already exists: C:\\Users\\rasmusso\\Documents\\ZH\\data\\meteo\\continuous reanalysis\\20240406_20240406_V.json\n",
      "Data already exists: C:\\Users\\rasmusso\\Documents\\ZH\\data\\meteo\\continuous reanalysis\\20240406_20240406_GLOB.json\n",
      "Data already exists: C:\\Users\\rasmusso\\Documents\\ZH\\data\\meteo\\continuous reanalysis\\20240406_20240406_RELHUM_2M.json\n",
      "Data already exists: C:\\Users\\rasmusso\\Documents\\ZH\\data\\meteo\\continuous reanalysis\\20240405_20240405_GLOB.json\n",
      "Data already exists: C:\\Users\\rasmusso\\Documents\\ZH\\data\\meteo\\continuous reanalysis\\20240406_20240406_CLCT.json\n",
      "Data already exists: C:\\Users\\rasmusso\\Documents\\ZH\\data\\meteo\\continuous reanalysis\\20240406_20240406_PS.json\n",
      "Data already exists: C:\\Users\\rasmusso\\Documents\\ZH\\data\\meteo\\continuous reanalysis\\20240402_20240402_CLCT.json\n",
      "Data already exists: C:\\Users\\rasmusso\\Documents\\ZH\\data\\meteo\\continuous reanalysis\\20240407_20240407_V.json\n",
      "Data already exists: C:\\Users\\rasmusso\\Documents\\ZH\\data\\meteo\\continuous reanalysis\\20240407_20240407_U.json\n",
      "Data already exists: C:\\Users\\rasmusso\\Documents\\ZH\\data\\meteo\\continuous reanalysis\\20240407_20240407_GLOB.json\n",
      "Data already exists: C:\\Users\\rasmusso\\Documents\\ZH\\data\\meteo\\continuous reanalysis\\20240407_20240407_RELHUM_2M.json\n",
      "Data already exists: C:\\Users\\rasmusso\\Documents\\ZH\\data\\meteo\\continuous reanalysis\\20240407_20240407_PMSL.json\n",
      "Data already exists: C:\\Users\\rasmusso\\Documents\\ZH\\data\\meteo\\continuous reanalysis\\20240407_20240407_CLCT.json\n",
      "Data already exists: C:\\Users\\rasmusso\\Documents\\ZH\\data\\meteo\\continuous reanalysis\\20240407_20240407_PS.json\n",
      "Data already exists: C:\\Users\\rasmusso\\Documents\\ZH\\data\\meteo\\continuous reanalysis\\20240408_20240408_T_2M.json\n",
      "Data already exists: C:\\Users\\rasmusso\\Documents\\ZH\\data\\meteo\\continuous reanalysis\\20240408_20240408_U.json\n",
      "Data already exists: C:\\Users\\rasmusso\\Documents\\ZH\\data\\meteo\\continuous reanalysis\\20240408_20240408_GLOB.json\n",
      "Data already exists: C:\\Users\\rasmusso\\Documents\\ZH\\data\\meteo\\continuous reanalysis\\20240408_20240408_V.json\n",
      "Data already exists: C:\\Users\\rasmusso\\Documents\\ZH\\data\\meteo\\continuous reanalysis\\20240408_20240408_RELHUM_2M.json\n",
      "Data already exists: C:\\Users\\rasmusso\\Documents\\ZH\\data\\meteo\\continuous reanalysis\\20240408_20240408_CLCT.json\n",
      "Data already exists: C:\\Users\\rasmusso\\Documents\\ZH\\data\\meteo\\continuous reanalysis\\20240408_20240408_PMSL.json\n",
      "Data already exists: C:\\Users\\rasmusso\\Documents\\ZH\\data\\meteo\\continuous reanalysis\\20240408_20240408_PS.json\n",
      "Data already exists: C:\\Users\\rasmusso\\Documents\\ZH\\data\\meteo\\continuous reanalysis\\20240409_20240409_T_2M.json\n",
      "Data already exists: C:\\Users\\rasmusso\\Documents\\ZH\\data\\meteo\\continuous reanalysis\\20240403_20240403_GLOB.json\n",
      "Data already exists: C:\\Users\\rasmusso\\Documents\\ZH\\data\\meteo\\continuous reanalysis\\20240409_20240409_V.json\n",
      "Data already exists: C:\\Users\\rasmusso\\Documents\\ZH\\data\\meteo\\continuous reanalysis\\20240409_20240409_GLOB.json\n",
      "Data already exists: C:\\Users\\rasmusso\\Documents\\ZH\\data\\meteo\\continuous reanalysis\\20240409_20240409_RELHUM_2M.json\n",
      "Data already exists: C:\\Users\\rasmusso\\Documents\\ZH\\data\\meteo\\continuous reanalysis\\20240409_20240409_PMSL.json\n",
      "Data already exists: C:\\Users\\rasmusso\\Documents\\ZH\\data\\meteo\\continuous reanalysis\\20240409_20240409_PS.json\n",
      "Data already exists: C:\\Users\\rasmusso\\Documents\\ZH\\data\\meteo\\continuous reanalysis\\20240410_20240410_T_2M.json\n",
      "Data already exists: C:\\Users\\rasmusso\\Documents\\ZH\\data\\meteo\\continuous reanalysis\\20240409_20240409_CLCT.json\n",
      "Data already exists: C:\\Users\\rasmusso\\Documents\\ZH\\data\\meteo\\continuous reanalysis\\20240410_20240410_U.json\n",
      "Data already exists: C:\\Users\\rasmusso\\Documents\\ZH\\data\\meteo\\continuous reanalysis\\20240406_20240406_PMSL.json\n",
      "Data already exists: C:\\Users\\rasmusso\\Documents\\ZH\\data\\meteo\\continuous reanalysis\\20240410_20240410_RELHUM_2M.json\n",
      "Data already exists: C:\\Users\\rasmusso\\Documents\\ZH\\data\\meteo\\continuous reanalysis\\20240407_20240407_T_2M.json\n",
      "Data already exists: C:\\Users\\rasmusso\\Documents\\ZH\\data\\meteo\\continuous reanalysis\\20240410_20240410_PMSL.json\n",
      "Data already exists: C:\\Users\\rasmusso\\Documents\\ZH\\data\\meteo\\continuous reanalysis\\20240410_20240410_CLCT.json\n",
      "Data already exists: C:\\Users\\rasmusso\\Documents\\ZH\\data\\meteo\\continuous reanalysis\\20240410_20240410_PS.json\n",
      "Data already exists: C:\\Users\\rasmusso\\Documents\\ZH\\data\\meteo\\continuous reanalysis\\20240411_20240411_T_2M.json\n",
      "Data already exists: C:\\Users\\rasmusso\\Documents\\ZH\\data\\meteo\\continuous reanalysis\\20240411_20240411_U.json\n",
      "Data already exists: C:\\Users\\rasmusso\\Documents\\ZH\\data\\meteo\\continuous reanalysis\\20240411_20240411_GLOB.json\n",
      "Data already exists: C:\\Users\\rasmusso\\Documents\\ZH\\data\\meteo\\continuous reanalysis\\20240411_20240411_RELHUM_2M.json\n",
      "Data already exists: C:\\Users\\rasmusso\\Documents\\ZH\\data\\meteo\\continuous reanalysis\\20240411_20240411_V.json\n",
      "Data already exists: C:\\Users\\rasmusso\\Documents\\ZH\\data\\meteo\\continuous reanalysis\\20240410_20240410_GLOB.json\n",
      "Data already exists: C:\\Users\\rasmusso\\Documents\\ZH\\data\\meteo\\continuous reanalysis\\20240411_20240411_CLCT.json\n",
      "Data already exists: C:\\Users\\rasmusso\\Documents\\ZH\\data\\meteo\\continuous reanalysis\\20240411_20240411_PMSL.json\n",
      "Data already exists: C:\\Users\\rasmusso\\Documents\\ZH\\data\\meteo\\continuous reanalysis\\20240409_20240409_U.json\n",
      "Data already exists: C:\\Users\\rasmusso\\Documents\\ZH\\data\\meteo\\continuous reanalysis\\20240331_20240331_PMSL.json\n",
      "Data already exists: C:\\Users\\rasmusso\\Documents\\ZH\\data\\meteo\\continuous reanalysis\\20240411_20240411_PS.json\n",
      "Data already exists: C:\\Users\\rasmusso\\Documents\\ZH\\data\\meteo\\continuous reanalysis\\20240405_20240405_U.json\n",
      "Data already exists: C:\\Users\\rasmusso\\Documents\\ZH\\data\\meteo\\continuous reanalysis\\20240310_20240310_T_2M.json\n",
      "Data already exists: C:\\Users\\rasmusso\\Documents\\ZH\\data\\meteo\\continuous reanalysis\\20240410_20240410_V.json\n",
      "Finished downloading weather reanalysis\n"
     ]
    }
   ],
   "source": [
    "buffer = config.weather_download_buffer\n",
    "if config.weather_model_type == 'reanalysis':\n",
    "    download_weather_reanalysis(config.weather_api_base_url, \n",
    "                                config.start_date, config.end_date, \n",
    "                                mitgcm_grid.lat_grid.min() - buffer, \n",
    "                                mitgcm_grid.lon_grid.min() - buffer, \n",
    "                                mitgcm_grid.lat_grid.max() + buffer, \n",
    "                                mitgcm_grid.lon_grid.max() + buffer, \n",
    "                                config.paths.raw_results_from_api_folder)\n",
    "    print('Finished downloading weather reanalysis')\n",
    "elif config.weather_model_type == 'forecast':\n",
    "    download_weather_forecast(config.weather_api_base_url, \n",
    "                                config.start_date,  \n",
    "                                mitgcm_grid.lat_grid.min() - buffer, \n",
    "                                mitgcm_grid.lon_grid.min() - buffer, \n",
    "                                mitgcm_grid.lat_grid.max() + buffer, \n",
    "                                mitgcm_grid.lon_grid.max() + buffer, \n",
    "                                config.paths.raw_results_from_api_folder)\n",
    "    print('Finished downloading weather forecasts')"
   ]
  },
  {
   "cell_type": "code",
   "execution_count": 117,
   "id": "4f733dcd0b84869e",
   "metadata": {
    "ExecuteTime": {
     "end_time": "2025-04-02T13:14:12.843974Z",
     "start_time": "2025-04-02T13:13:55.351617Z"
    },
    "collapsed": false,
    "jupyter": {
     "outputs_hidden": false
    }
   },
   "outputs": [
    {
     "name": "stdout",
     "output_type": "stream",
     "text": [
      "Interpolating U to grid...\n",
      "Saving u10...\n",
      "Interpolating V to grid...\n",
      "Saving v10...\n",
      "Interpolating GLOB to grid...\n",
      "Saving swdown...\n",
      "Interpolating T_2M to grid...\n",
      "Saving atemp...\n",
      "Interpolating PS to grid...\n",
      "Saving apressure...\n",
      "Computing specific humidity (aqh)...\n",
      "Interpolating RELHUM_2M to grid...\n",
      "Saving relhum...\n",
      "Saving aqh...\n",
      "Computing longwave radiation (lwdown)...\n",
      "Interpolating CLCT to grid...\n",
      "Saving clct...\n",
      "Saving lwdown...\n",
      "Done computing binary data.\n"
     ]
    }
   ],
   "source": [
    "time_format = 'UTC'\n",
    "extract_and_save_surface_forcings(binary_data_folder, \n",
    "                                  config.start_date, \n",
    "                                  config.end_date, \n",
    "                                  config.paths.raw_results_from_api_folder, \n",
    "                                  mitgcm_grid,\n",
    "                                  1, # Number of cores used in interpolation\n",
    "                                  config.weather_model_type)"
   ]
  },
  {
   "cell_type": "markdown",
   "id": "514d506f8bccf648",
   "metadata": {
    "collapsed": false,
    "jupyter": {
     "outputs_hidden": false
    }
   },
   "source": [
    "**Convert to little endian if necessary** (for cscs computation)"
   ]
  },
  {
   "cell_type": "code",
   "execution_count": 118,
   "id": "205dfc0e21bf338c",
   "metadata": {
    "ExecuteTime": {
     "end_time": "2025-04-02T13:14:17.280448Z",
     "start_time": "2025-04-02T13:14:17.268585Z"
    },
    "collapsed": false,
    "jupyter": {
     "outputs_hidden": false
    }
   },
   "outputs": [],
   "source": [
    "# TO DO : implement check to see whether the datatypes are correct\n",
    "if config.endian_type == 'little_endian':\n",
    "    convert_binary_files(os.path.join(output_folder, 'binary_data'), '>f8', '<f8')"
   ]
  },
  {
   "cell_type": "markdown",
   "id": "c996e2309ad359b3",
   "metadata": {
    "collapsed": false,
    "jupyter": {
     "outputs_hidden": false
    }
   },
   "source": [
    "## Get initial conditions\n",
    "### 1. From excel file"
   ]
  },
  {
   "cell_type": "code",
   "execution_count": 119,
   "id": "0dc058b3-5362-4135-a131-3a3257621aa4",
   "metadata": {},
   "outputs": [
    {
     "name": "stdout",
     "output_type": "stream",
     "text": [
      "['03.01.2024', '07.02.2024', '06.03.2024', '03.04.2024', '07.05.2024', '05.06.2024', '03.07.2024', '07.08.2024', '04.09.2024', '09.10.2024', '06.11.2024', '04.12.2024']\n"
     ]
    }
   ],
   "source": [
    "df = pd.read_excel(r'C:\\Users\\rasmusso\\Documents\\ZH\\data\\measurement kanton\\zurich_profile_2024.xlsx')\n",
    "available_dates_meas = df.columns[1:].tolist()\n",
    "print(available_dates_meas)"
   ]
  },
  {
   "cell_type": "code",
   "execution_count": 120,
   "id": "40b95c2b-f5bf-4951-965e-034889dce38c",
   "metadata": {},
   "outputs": [
    {
     "data": {
      "text/html": [
       "<div><svg style=\"position: absolute; width: 0; height: 0; overflow: hidden\">\n",
       "<defs>\n",
       "<symbol id=\"icon-database\" viewBox=\"0 0 32 32\">\n",
       "<path d=\"M16 0c-8.837 0-16 2.239-16 5v4c0 2.761 7.163 5 16 5s16-2.239 16-5v-4c0-2.761-7.163-5-16-5z\"></path>\n",
       "<path d=\"M16 17c-8.837 0-16-2.239-16-5v6c0 2.761 7.163 5 16 5s16-2.239 16-5v-6c0 2.761-7.163 5-16 5z\"></path>\n",
       "<path d=\"M16 26c-8.837 0-16-2.239-16-5v6c0 2.761 7.163 5 16 5s16-2.239 16-5v-6c0 2.761-7.163 5-16 5z\"></path>\n",
       "</symbol>\n",
       "<symbol id=\"icon-file-text2\" viewBox=\"0 0 32 32\">\n",
       "<path d=\"M28.681 7.159c-0.694-0.947-1.662-2.053-2.724-3.116s-2.169-2.030-3.116-2.724c-1.612-1.182-2.393-1.319-2.841-1.319h-15.5c-1.378 0-2.5 1.121-2.5 2.5v27c0 1.378 1.122 2.5 2.5 2.5h23c1.378 0 2.5-1.122 2.5-2.5v-19.5c0-0.448-0.137-1.23-1.319-2.841zM24.543 5.457c0.959 0.959 1.712 1.825 2.268 2.543h-4.811v-4.811c0.718 0.556 1.584 1.309 2.543 2.268zM28 29.5c0 0.271-0.229 0.5-0.5 0.5h-23c-0.271 0-0.5-0.229-0.5-0.5v-27c0-0.271 0.229-0.5 0.5-0.5 0 0 15.499-0 15.5 0v7c0 0.552 0.448 1 1 1h7v19.5z\"></path>\n",
       "<path d=\"M23 26h-14c-0.552 0-1-0.448-1-1s0.448-1 1-1h14c0.552 0 1 0.448 1 1s-0.448 1-1 1z\"></path>\n",
       "<path d=\"M23 22h-14c-0.552 0-1-0.448-1-1s0.448-1 1-1h14c0.552 0 1 0.448 1 1s-0.448 1-1 1z\"></path>\n",
       "<path d=\"M23 18h-14c-0.552 0-1-0.448-1-1s0.448-1 1-1h14c0.552 0 1 0.448 1 1s-0.448 1-1 1z\"></path>\n",
       "</symbol>\n",
       "</defs>\n",
       "</svg>\n",
       "<style>/* CSS stylesheet for displaying xarray objects in jupyterlab.\n",
       " *\n",
       " */\n",
       "\n",
       ":root {\n",
       "  --xr-font-color0: var(--jp-content-font-color0, rgba(0, 0, 0, 1));\n",
       "  --xr-font-color2: var(--jp-content-font-color2, rgba(0, 0, 0, 0.54));\n",
       "  --xr-font-color3: var(--jp-content-font-color3, rgba(0, 0, 0, 0.38));\n",
       "  --xr-border-color: var(--jp-border-color2, #e0e0e0);\n",
       "  --xr-disabled-color: var(--jp-layout-color3, #bdbdbd);\n",
       "  --xr-background-color: var(--jp-layout-color0, white);\n",
       "  --xr-background-color-row-even: var(--jp-layout-color1, white);\n",
       "  --xr-background-color-row-odd: var(--jp-layout-color2, #eeeeee);\n",
       "}\n",
       "\n",
       "html[theme=dark],\n",
       "body[data-theme=dark],\n",
       "body.vscode-dark {\n",
       "  --xr-font-color0: rgba(255, 255, 255, 1);\n",
       "  --xr-font-color2: rgba(255, 255, 255, 0.54);\n",
       "  --xr-font-color3: rgba(255, 255, 255, 0.38);\n",
       "  --xr-border-color: #1F1F1F;\n",
       "  --xr-disabled-color: #515151;\n",
       "  --xr-background-color: #111111;\n",
       "  --xr-background-color-row-even: #111111;\n",
       "  --xr-background-color-row-odd: #313131;\n",
       "}\n",
       "\n",
       ".xr-wrap {\n",
       "  display: block !important;\n",
       "  min-width: 300px;\n",
       "  max-width: 700px;\n",
       "}\n",
       "\n",
       ".xr-text-repr-fallback {\n",
       "  /* fallback to plain text repr when CSS is not injected (untrusted notebook) */\n",
       "  display: none;\n",
       "}\n",
       "\n",
       ".xr-header {\n",
       "  padding-top: 6px;\n",
       "  padding-bottom: 6px;\n",
       "  margin-bottom: 4px;\n",
       "  border-bottom: solid 1px var(--xr-border-color);\n",
       "}\n",
       "\n",
       ".xr-header > div,\n",
       ".xr-header > ul {\n",
       "  display: inline;\n",
       "  margin-top: 0;\n",
       "  margin-bottom: 0;\n",
       "}\n",
       "\n",
       ".xr-obj-type,\n",
       ".xr-array-name {\n",
       "  margin-left: 2px;\n",
       "  margin-right: 10px;\n",
       "}\n",
       "\n",
       ".xr-obj-type {\n",
       "  color: var(--xr-font-color2);\n",
       "}\n",
       "\n",
       ".xr-sections {\n",
       "  padding-left: 0 !important;\n",
       "  display: grid;\n",
       "  grid-template-columns: 150px auto auto 1fr 20px 20px;\n",
       "}\n",
       "\n",
       ".xr-section-item {\n",
       "  display: contents;\n",
       "}\n",
       "\n",
       ".xr-section-item input {\n",
       "  display: none;\n",
       "}\n",
       "\n",
       ".xr-section-item input + label {\n",
       "  color: var(--xr-disabled-color);\n",
       "}\n",
       "\n",
       ".xr-section-item input:enabled + label {\n",
       "  cursor: pointer;\n",
       "  color: var(--xr-font-color2);\n",
       "}\n",
       "\n",
       ".xr-section-item input:enabled + label:hover {\n",
       "  color: var(--xr-font-color0);\n",
       "}\n",
       "\n",
       ".xr-section-summary {\n",
       "  grid-column: 1;\n",
       "  color: var(--xr-font-color2);\n",
       "  font-weight: 500;\n",
       "}\n",
       "\n",
       ".xr-section-summary > span {\n",
       "  display: inline-block;\n",
       "  padding-left: 0.5em;\n",
       "}\n",
       "\n",
       ".xr-section-summary-in:disabled + label {\n",
       "  color: var(--xr-font-color2);\n",
       "}\n",
       "\n",
       ".xr-section-summary-in + label:before {\n",
       "  display: inline-block;\n",
       "  content: '►';\n",
       "  font-size: 11px;\n",
       "  width: 15px;\n",
       "  text-align: center;\n",
       "}\n",
       "\n",
       ".xr-section-summary-in:disabled + label:before {\n",
       "  color: var(--xr-disabled-color);\n",
       "}\n",
       "\n",
       ".xr-section-summary-in:checked + label:before {\n",
       "  content: '▼';\n",
       "}\n",
       "\n",
       ".xr-section-summary-in:checked + label > span {\n",
       "  display: none;\n",
       "}\n",
       "\n",
       ".xr-section-summary,\n",
       ".xr-section-inline-details {\n",
       "  padding-top: 4px;\n",
       "  padding-bottom: 4px;\n",
       "}\n",
       "\n",
       ".xr-section-inline-details {\n",
       "  grid-column: 2 / -1;\n",
       "}\n",
       "\n",
       ".xr-section-details {\n",
       "  display: none;\n",
       "  grid-column: 1 / -1;\n",
       "  margin-bottom: 5px;\n",
       "}\n",
       "\n",
       ".xr-section-summary-in:checked ~ .xr-section-details {\n",
       "  display: contents;\n",
       "}\n",
       "\n",
       ".xr-array-wrap {\n",
       "  grid-column: 1 / -1;\n",
       "  display: grid;\n",
       "  grid-template-columns: 20px auto;\n",
       "}\n",
       "\n",
       ".xr-array-wrap > label {\n",
       "  grid-column: 1;\n",
       "  vertical-align: top;\n",
       "}\n",
       "\n",
       ".xr-preview {\n",
       "  color: var(--xr-font-color3);\n",
       "}\n",
       "\n",
       ".xr-array-preview,\n",
       ".xr-array-data {\n",
       "  padding: 0 5px !important;\n",
       "  grid-column: 2;\n",
       "}\n",
       "\n",
       ".xr-array-data,\n",
       ".xr-array-in:checked ~ .xr-array-preview {\n",
       "  display: none;\n",
       "}\n",
       "\n",
       ".xr-array-in:checked ~ .xr-array-data,\n",
       ".xr-array-preview {\n",
       "  display: inline-block;\n",
       "}\n",
       "\n",
       ".xr-dim-list {\n",
       "  display: inline-block !important;\n",
       "  list-style: none;\n",
       "  padding: 0 !important;\n",
       "  margin: 0;\n",
       "}\n",
       "\n",
       ".xr-dim-list li {\n",
       "  display: inline-block;\n",
       "  padding: 0;\n",
       "  margin: 0;\n",
       "}\n",
       "\n",
       ".xr-dim-list:before {\n",
       "  content: '(';\n",
       "}\n",
       "\n",
       ".xr-dim-list:after {\n",
       "  content: ')';\n",
       "}\n",
       "\n",
       ".xr-dim-list li:not(:last-child):after {\n",
       "  content: ',';\n",
       "  padding-right: 5px;\n",
       "}\n",
       "\n",
       ".xr-has-index {\n",
       "  font-weight: bold;\n",
       "}\n",
       "\n",
       ".xr-var-list,\n",
       ".xr-var-item {\n",
       "  display: contents;\n",
       "}\n",
       "\n",
       ".xr-var-item > div,\n",
       ".xr-var-item label,\n",
       ".xr-var-item > .xr-var-name span {\n",
       "  background-color: var(--xr-background-color-row-even);\n",
       "  margin-bottom: 0;\n",
       "}\n",
       "\n",
       ".xr-var-item > .xr-var-name:hover span {\n",
       "  padding-right: 5px;\n",
       "}\n",
       "\n",
       ".xr-var-list > li:nth-child(odd) > div,\n",
       ".xr-var-list > li:nth-child(odd) > label,\n",
       ".xr-var-list > li:nth-child(odd) > .xr-var-name span {\n",
       "  background-color: var(--xr-background-color-row-odd);\n",
       "}\n",
       "\n",
       ".xr-var-name {\n",
       "  grid-column: 1;\n",
       "}\n",
       "\n",
       ".xr-var-dims {\n",
       "  grid-column: 2;\n",
       "}\n",
       "\n",
       ".xr-var-dtype {\n",
       "  grid-column: 3;\n",
       "  text-align: right;\n",
       "  color: var(--xr-font-color2);\n",
       "}\n",
       "\n",
       ".xr-var-preview {\n",
       "  grid-column: 4;\n",
       "}\n",
       "\n",
       ".xr-index-preview {\n",
       "  grid-column: 2 / 5;\n",
       "  color: var(--xr-font-color2);\n",
       "}\n",
       "\n",
       ".xr-var-name,\n",
       ".xr-var-dims,\n",
       ".xr-var-dtype,\n",
       ".xr-preview,\n",
       ".xr-attrs dt {\n",
       "  white-space: nowrap;\n",
       "  overflow: hidden;\n",
       "  text-overflow: ellipsis;\n",
       "  padding-right: 10px;\n",
       "}\n",
       "\n",
       ".xr-var-name:hover,\n",
       ".xr-var-dims:hover,\n",
       ".xr-var-dtype:hover,\n",
       ".xr-attrs dt:hover {\n",
       "  overflow: visible;\n",
       "  width: auto;\n",
       "  z-index: 1;\n",
       "}\n",
       "\n",
       ".xr-var-attrs,\n",
       ".xr-var-data,\n",
       ".xr-index-data {\n",
       "  display: none;\n",
       "  background-color: var(--xr-background-color) !important;\n",
       "  padding-bottom: 5px !important;\n",
       "}\n",
       "\n",
       ".xr-var-attrs-in:checked ~ .xr-var-attrs,\n",
       ".xr-var-data-in:checked ~ .xr-var-data,\n",
       ".xr-index-data-in:checked ~ .xr-index-data {\n",
       "  display: block;\n",
       "}\n",
       "\n",
       ".xr-var-data > table {\n",
       "  float: right;\n",
       "}\n",
       "\n",
       ".xr-var-name span,\n",
       ".xr-var-data,\n",
       ".xr-index-name div,\n",
       ".xr-index-data,\n",
       ".xr-attrs {\n",
       "  padding-left: 25px !important;\n",
       "}\n",
       "\n",
       ".xr-attrs,\n",
       ".xr-var-attrs,\n",
       ".xr-var-data,\n",
       ".xr-index-data {\n",
       "  grid-column: 1 / -1;\n",
       "}\n",
       "\n",
       "dl.xr-attrs {\n",
       "  padding: 0;\n",
       "  margin: 0;\n",
       "  display: grid;\n",
       "  grid-template-columns: 125px auto;\n",
       "}\n",
       "\n",
       ".xr-attrs dt,\n",
       ".xr-attrs dd {\n",
       "  padding: 0;\n",
       "  margin: 0;\n",
       "  float: left;\n",
       "  padding-right: 10px;\n",
       "  width: auto;\n",
       "}\n",
       "\n",
       ".xr-attrs dt {\n",
       "  font-weight: normal;\n",
       "  grid-column: 1;\n",
       "}\n",
       "\n",
       ".xr-attrs dt:hover span {\n",
       "  display: inline-block;\n",
       "  background: var(--xr-background-color);\n",
       "  padding-right: 10px;\n",
       "}\n",
       "\n",
       ".xr-attrs dd {\n",
       "  grid-column: 2;\n",
       "  white-space: pre-wrap;\n",
       "  word-break: break-all;\n",
       "}\n",
       "\n",
       ".xr-icon-database,\n",
       ".xr-icon-file-text2,\n",
       ".xr-no-icon {\n",
       "  display: inline-block;\n",
       "  vertical-align: middle;\n",
       "  width: 1em;\n",
       "  height: 1.5em !important;\n",
       "  stroke-width: 0;\n",
       "  stroke: currentColor;\n",
       "  fill: currentColor;\n",
       "}\n",
       "</style><pre class='xr-text-repr-fallback'>&lt;xarray.Dataset&gt;\n",
       "Dimensions:  (depth: 12)\n",
       "Coordinates:\n",
       "  * depth    (depth) int64 0 5 10 15 20 40 60 80 100 120 130 135\n",
       "    time     datetime64[ns] 2024-03-01\n",
       "Data variables:\n",
       "    temp     (depth) float64 7.1 7.1 7.1 7.1 7.1 7.1 6.0 5.5 5.4 5.3 5.3 5.3</pre><div class='xr-wrap' style='display:none'><div class='xr-header'><div class='xr-obj-type'>xarray.Dataset</div></div><ul class='xr-sections'><li class='xr-section-item'><input id='section-2a3424b3-07d9-4472-8466-1491917cde65' class='xr-section-summary-in' type='checkbox' disabled ><label for='section-2a3424b3-07d9-4472-8466-1491917cde65' class='xr-section-summary'  title='Expand/collapse section'>Dimensions:</label><div class='xr-section-inline-details'><ul class='xr-dim-list'><li><span class='xr-has-index'>depth</span>: 12</li></ul></div><div class='xr-section-details'></div></li><li class='xr-section-item'><input id='section-fe3c2077-d8bf-4857-965b-7ad24b55a8f0' class='xr-section-summary-in' type='checkbox'  checked><label for='section-fe3c2077-d8bf-4857-965b-7ad24b55a8f0' class='xr-section-summary' >Coordinates: <span>(2)</span></label><div class='xr-section-inline-details'></div><div class='xr-section-details'><ul class='xr-var-list'><li class='xr-var-item'><div class='xr-var-name'><span class='xr-has-index'>depth</span></div><div class='xr-var-dims'>(depth)</div><div class='xr-var-dtype'>int64</div><div class='xr-var-preview xr-preview'>0 5 10 15 20 ... 80 100 120 130 135</div><input id='attrs-62ef2bce-e65a-4bff-8548-ce4a71358791' class='xr-var-attrs-in' type='checkbox' disabled><label for='attrs-62ef2bce-e65a-4bff-8548-ce4a71358791' title='Show/Hide attributes'><svg class='icon xr-icon-file-text2'><use xlink:href='#icon-file-text2'></use></svg></label><input id='data-fb294c3b-d9bb-40b7-b18a-74acf73954bd' class='xr-var-data-in' type='checkbox'><label for='data-fb294c3b-d9bb-40b7-b18a-74acf73954bd' title='Show/Hide data repr'><svg class='icon xr-icon-database'><use xlink:href='#icon-database'></use></svg></label><div class='xr-var-attrs'><dl class='xr-attrs'></dl></div><div class='xr-var-data'><pre>array([  0,   5,  10,  15,  20,  40,  60,  80, 100, 120, 130, 135], dtype=int64)</pre></div></li><li class='xr-var-item'><div class='xr-var-name'><span>time</span></div><div class='xr-var-dims'>()</div><div class='xr-var-dtype'>datetime64[ns]</div><div class='xr-var-preview xr-preview'>2024-03-01</div><input id='attrs-41431190-91cc-4a35-893d-67cad58e6016' class='xr-var-attrs-in' type='checkbox' disabled><label for='attrs-41431190-91cc-4a35-893d-67cad58e6016' title='Show/Hide attributes'><svg class='icon xr-icon-file-text2'><use xlink:href='#icon-file-text2'></use></svg></label><input id='data-4c2ca5ee-ff9f-4399-97a7-cc7718f5420a' class='xr-var-data-in' type='checkbox'><label for='data-4c2ca5ee-ff9f-4399-97a7-cc7718f5420a' title='Show/Hide data repr'><svg class='icon xr-icon-database'><use xlink:href='#icon-database'></use></svg></label><div class='xr-var-attrs'><dl class='xr-attrs'></dl></div><div class='xr-var-data'><pre>array(&#x27;2024-03-01T00:00:00.000000000&#x27;, dtype=&#x27;datetime64[ns]&#x27;)</pre></div></li></ul></div></li><li class='xr-section-item'><input id='section-9c3797b4-e4d0-4213-a60b-3a64a9aedd12' class='xr-section-summary-in' type='checkbox'  checked><label for='section-9c3797b4-e4d0-4213-a60b-3a64a9aedd12' class='xr-section-summary' >Data variables: <span>(1)</span></label><div class='xr-section-inline-details'></div><div class='xr-section-details'><ul class='xr-var-list'><li class='xr-var-item'><div class='xr-var-name'><span>temp</span></div><div class='xr-var-dims'>(depth)</div><div class='xr-var-dtype'>float64</div><div class='xr-var-preview xr-preview'>7.1 7.1 7.1 7.1 ... 5.4 5.3 5.3 5.3</div><input id='attrs-b066e049-fa01-445d-9e76-4273240af045' class='xr-var-attrs-in' type='checkbox' disabled><label for='attrs-b066e049-fa01-445d-9e76-4273240af045' title='Show/Hide attributes'><svg class='icon xr-icon-file-text2'><use xlink:href='#icon-file-text2'></use></svg></label><input id='data-743648b4-a192-4988-a87b-6aafc86410a1' class='xr-var-data-in' type='checkbox'><label for='data-743648b4-a192-4988-a87b-6aafc86410a1' title='Show/Hide data repr'><svg class='icon xr-icon-database'><use xlink:href='#icon-database'></use></svg></label><div class='xr-var-attrs'><dl class='xr-attrs'></dl></div><div class='xr-var-data'><pre>array([7.1, 7.1, 7.1, 7.1, 7.1, 7.1, 6. , 5.5, 5.4, 5.3, 5.3, 5.3])</pre></div></li></ul></div></li><li class='xr-section-item'><input id='section-a56816b5-02be-424d-a9c6-025743157a96' class='xr-section-summary-in' type='checkbox'  ><label for='section-a56816b5-02be-424d-a9c6-025743157a96' class='xr-section-summary' >Indexes: <span>(1)</span></label><div class='xr-section-inline-details'></div><div class='xr-section-details'><ul class='xr-var-list'><li class='xr-var-item'><div class='xr-index-name'><div>depth</div></div><div class='xr-index-preview'>PandasIndex</div><div></div><input id='index-90b4d2ec-3c53-4ce8-8f05-88c36819f161' class='xr-index-data-in' type='checkbox'/><label for='index-90b4d2ec-3c53-4ce8-8f05-88c36819f161' title='Show/Hide index repr'><svg class='icon xr-icon-database'><use xlink:href='#icon-database'></use></svg></label><div class='xr-index-data'><pre>PandasIndex(Index([0, 5, 10, 15, 20, 40, 60, 80, 100, 120, 130, 135], dtype=&#x27;int64&#x27;, name=&#x27;depth&#x27;))</pre></div></li></ul></div></li><li class='xr-section-item'><input id='section-f692d203-ad29-43ab-8386-8496b0bac3a7' class='xr-section-summary-in' type='checkbox' disabled ><label for='section-f692d203-ad29-43ab-8386-8496b0bac3a7' class='xr-section-summary'  title='Expand/collapse section'>Attributes: <span>(0)</span></label><div class='xr-section-inline-details'></div><div class='xr-section-details'><dl class='xr-attrs'></dl></div></li></ul></div></div>"
      ],
      "text/plain": [
       "<xarray.Dataset>\n",
       "Dimensions:  (depth: 12)\n",
       "Coordinates:\n",
       "  * depth    (depth) int64 0 5 10 15 20 40 60 80 100 120 130 135\n",
       "    time     datetime64[ns] 2024-03-01\n",
       "Data variables:\n",
       "    temp     (depth) float64 7.1 7.1 7.1 7.1 7.1 7.1 6.0 5.5 5.4 5.3 5.3 5.3"
      ]
     },
     "execution_count": 120,
     "metadata": {},
     "output_type": "execute_result"
    }
   ],
   "source": [
    "# Choisir sa date de mesure (available_dates_meas) en entrant le mois (int)\n",
    "month = 3    # btwn 3 and 12 for 2024\n",
    "temperature_month = df[available_dates_meas[month-3]]\n",
    "depth = df['Depth']\n",
    "date_profil = pd.to_datetime(available_dates_meas[month-3], format=\"%m.%d.%Y\")\n",
    "\n",
    "ds = xr.Dataset(\n",
    "    data_vars={\n",
    "        \"temp\": (\"depth\", temperature_month)\n",
    "    },\n",
    "    coords={\n",
    "        \"depth\": depth,\n",
    "        \"time\": date_profil  # Coordonnée scalaire\n",
    "    }\n",
    ")\n",
    "ds"
   ]
  },
  {
   "cell_type": "code",
   "execution_count": 99,
   "id": "84ddb583-54cb-417f-ab06-4b390dfac753",
   "metadata": {},
   "outputs": [
    {
     "data": {
      "text/plain": [
       "74"
      ]
     },
     "execution_count": 99,
     "metadata": {},
     "output_type": "execute_result"
    }
   ],
   "source": [
    "#preparing the input for the IC plot\n",
    "dz_grid = get_dz_grid(config.paths.dz_grid_csv_path)\n",
    "shaped_temp_initial = create_initial_temperature_from_measure_profile(dz_grid, ds)\n",
    "shaped_t_plot = shaped_temp_initial.flatten()\n",
    "shaped_t_plot = shaped_t_plot[:-6]\n",
    "len(shaped_t_plot)"
   ]
  },
  {
   "cell_type": "markdown",
   "id": "429338d5-2081-427b-acdf-024f05a14d73",
   "metadata": {
    "ExecuteTime": {
     "end_time": "2025-04-02T13:14:20.103608Z",
     "start_time": "2025-04-02T13:14:18.771989Z"
    },
    "collapsed": false,
    "jupyter": {
     "outputs_hidden": false
    }
   },
   "source": [
    "file_date, measured_temperature = download_profile_idronaut_datalakes(parsed_start_date)\n",
    "print('Initial conditions from Idronaut file from ', file_date)\n",
    "config.paths.dz_grid_csv_path)\n",
    "shaped_temp_initial = create_initial_temperature_from_measure_profile(dz_grid, measured_temperature)"
   ]
  },
  {
   "cell_type": "code",
   "execution_count": 121,
   "id": "0bc97aa8-075f-4c03-83ef-cddbe5f52783",
   "metadata": {},
   "outputs": [
    {
     "data": {
      "image/png": "[encoded data removed]",
      "text/plain": [
       "<Figure size 640x480 with 1 Axes>"
      ]
     },
     "metadata": {},
     "output_type": "display_data"
    }
   ],
   "source": [
    "#PLOT THE INTERPOLATION OF INITIAL CONDITIONS\n",
    "date_profil = pd.to_datetime(ds.time.values).date()\n",
    "plt.plot(ds[\"temp\"].values,depth.values,label=\"measured profile\")  # y='depth' makes depth vertical (standard for ocean/atmo data)\n",
    "plt.scatter(shaped_t_plot,dz_grid[~np.isnan(dz_grid)].cumsum().flatten(),color='red',label=\"Interpolated on mitgcm grid\")\n",
    "plt.gca().invert_yaxis()  # Depth increases downward\n",
    "plt.title(f\" Temperature profile from {date_profil} \")\n",
    "plt.xlabel(\"Temperature (°C)\")\n",
    "plt.ylabel(\"Depth (m)\")\n",
    "plt.legend()\n",
    "plt.show()"
   ]
  },
  {
   "cell_type": "markdown",
   "id": "db4ed862-4b16-4f8c-a656-1d4c55e307dd",
   "metadata": {},
   "source": [
    "## From Simstrat results (Aplakes)\n",
    "#simstrat_temperature = parse_alplakes_1d_from_directory(r'./initial_conditions/simstrat_data')\n",
    "profile_simstrat = simstrat_temperature.sel(time = parsed_start_date, method='nearest')\n",
    "print('Initial conditions from Simstrat ', profile_simstrat.time.values)\n",
    "dz_grid = get_dz_grid(config.paths.dz_grid_csv_path)\n",
    "shaped_temp_initial = create_initial_temperature_from_measure_profile(dz_grid, profile_simstrat)"
   ]
  },
  {
   "cell_type": "markdown",
   "id": "b3486f12c2ed801e",
   "metadata": {
    "collapsed": false,
    "jupyter": {
     "outputs_hidden": false
    }
   },
   "source": [
    "### Get pickup files"
   ]
  },
  {
   "cell_type": "code",
   "execution_count": 122,
   "id": "fd2ff3748833ddea",
   "metadata": {
    "ExecuteTime": {
     "end_time": "2025-04-02T13:14:23.782194Z",
     "start_time": "2025-04-02T13:14:23.768953Z"
    },
    "collapsed": false,
    "jupyter": {
     "outputs_hidden": false
    }
   },
   "outputs": [
    {
     "name": "stdout",
     "output_type": "stream",
     "text": [
      "\n"
     ]
    }
   ],
   "source": [
    "if config.with_pickup:\n",
    "    dt_sim_in_second = config.time_step\n",
    "    pickup_number = f\"pickup.{str(int(start_time_in_second_from_ref_date / dt_sim_in_second)).zfill(10)}\"\n",
    "else:\n",
    "    pickup_number = \"\"\n",
    "print(pickup_number)"
   ]
  },
  {
   "cell_type": "markdown",
   "id": "3f029e92bdaaa42e",
   "metadata": {
    "collapsed": false,
    "jupyter": {
     "outputs_hidden": false
    }
   },
   "source": [
    "### Adapt config files"
   ]
  },
  {
   "cell_type": "code",
   "execution_count": 123,
   "id": "af17ea5536e9f333",
   "metadata": {
    "ExecuteTime": {
     "end_time": "2025-04-02T13:14:25.786651Z",
     "start_time": "2025-04-02T13:14:25.774665Z"
    },
    "collapsed": false,
    "jupyter": {
     "outputs_hidden": false
    }
   },
   "outputs": [],
   "source": [
    "modify_arguments('!reference_date!', [config.reference_date], os.path.join(output_folder, 'run_config/data.cal'))"
   ]
  },
  {
   "cell_type": "code",
   "execution_count": 125,
   "id": "9fa5300bfc079c5a",
   "metadata": {
    "ExecuteTime": {
     "end_time": "2025-04-02T13:14:27.827618Z",
     "start_time": "2025-04-02T13:14:27.814579Z"
    },
    "collapsed": false,
    "jupyter": {
     "outputs_hidden": false
    }
   },
   "outputs": [],
   "source": [
    "write_data_config_files(os.path.join(output_folder, 'run_config/data'), \n",
    "                        shaped_temp_initial, \n",
    "                        start_time_in_second_from_ref_date, \n",
    "                        end_time_in_second_from_ref_date,\n",
    "                        pickup_number,\n",
    "                        dz_grid, \n",
    "                        config.grid_resolution,\n",
    "                        config.time_step)"
   ]
  },
  {
   "cell_type": "code",
   "execution_count": 124,
   "id": "8da31ad8c10f7f18",
   "metadata": {
    "ExecuteTime": {
     "end_time": "2025-04-02T13:14:26.658174Z",
     "start_time": "2025-04-02T13:14:26.647175Z"
    },
    "collapsed": false,
    "jupyter": {
     "outputs_hidden": false
    }
   },
   "outputs": [],
   "source": [
    "modify_arguments('!start_date!', [config.start_date], os.path.join(output_folder, 'run_config/data.exf'))"
   ]
  },
  {
   "cell_type": "code",
   "execution_count": 126,
   "id": "48e34d67c6ef5420",
   "metadata": {
    "ExecuteTime": {
     "end_time": "2025-04-02T13:14:29.102329Z",
     "start_time": "2025-04-02T13:14:29.082724Z"
    },
    "collapsed": false,
    "jupyter": {
     "outputs_hidden": false
    }
   },
   "outputs": [],
   "source": [
    "use_exch2=False\n",
    "# Package to ignore cores that are attributed to land. See notebook grid_and_bathy/check_core_allocation to create files land_cores_Px..etc.txt.\n",
    "# Doc here: https://wiki.math.uwaterloo.ca/fluidswiki/index.php?title=MITgcm_tips#Setting_the_equation_of_state (look for exch2)\n",
    "# And there: https://mitgcm.readthedocs.io/en/latest/phys_pkgs/exch2.html (not so helpful... don't we love the official documentation of MITgcm?)\n",
    "if use_exch2:    \n",
    "    blank_list_path=os.path.join(config.paths.grid_folder_path, f\"land_cores_Px{config.Px}_Py{config.Py}.txt\")\n",
    "    with open(blank_list_path, \"r\") as file:\n",
    "        nb_blank_cores, blank_list = file.read().splitlines()\n",
    "        \n",
    "    Px = (config.Px * config.Py) - int(nb_blank_cores)\n",
    "    Py = 1\n",
    "    \n",
    "    modify_arguments('!Nx!', [config.Nx], os.path.join(output_folder, 'run_config/data.exch2'))\n",
    "    modify_arguments('!Ny!', [config.Ny], os.path.join(output_folder, 'run_config/data.exch2'))\n",
    "    modify_arguments('!blank_list!', [blank_list], os.path.join(output_folder, 'run_config/data.exch2'))\n",
    "else:\n",
    "    Px = config.Px\n",
    "    Py = config.Py"
   ]
  },
  {
   "cell_type": "code",
   "execution_count": 127,
   "id": "b857d0522c095917",
   "metadata": {
    "ExecuteTime": {
     "end_time": "2025-04-02T13:14:30.454884Z",
     "start_time": "2025-04-02T13:14:30.440711Z"
    },
    "collapsed": false,
    "jupyter": {
     "outputs_hidden": false
    }
   },
   "outputs": [],
   "source": [
    "write_size_config_files(os.path.join(output_folder, 'code/SIZE.h'), \n",
    "                        Px, \n",
    "                        Py,\n",
    "                        config.Nx, \n",
    "                        config.Ny, \n",
    "                        np.count_nonzero(~np.isnan(dz_grid)))"
   ]
  },
  {
   "cell_type": "markdown",
   "id": "db14cf08215b46f6",
   "metadata": {
    "collapsed": false,
    "jupyter": {
     "outputs_hidden": false
    }
   },
   "source": [
    "## Next steps"
   ]
  },
  {
   "cell_type": "markdown",
   "id": "c931932f70f981a",
   "metadata": {
    "collapsed": false,
    "jupyter": {
     "outputs_hidden": false
    }
   },
   "source": [
    "- Copy-paste the folders in \"99-output\" to the cscs server \n",
    "- Change #SBATCH --time=00:05:00 in run/submit-daint-short.sh\n",
    "- Open CSCS putty console:\n",
    "\n",
    "export MITGCM_ROOTDIR=/scratch/snx3000/aleroqua/MITgcm-checkpoint67z/\n",
    "\n",
    "cd /scratch/snx3000/aleroqua/xx/build\n",
    "$MITGCM_ROOTDIR/tools/genmake2 -mods ../code -mpi -enable=mnc -of ${MITGCM_ROOTDIR}/tools/build_options/linux_ia64_cray_archer\n",
    "make depend\n",
    "make -j 8\n",
    "\n",
    "cd ..\n",
    "rm -r run\n",
    "mkdir run\n",
    "cd run\n",
    "ln -s ../pickup/* .\n",
    "ln -s ../run_config/* .\n",
    "cp ../build/mitgcmuv .\n",
    "\n",
    "sbatch submit-daint-short.sh"
   ]
  },
  {
   "cell_type": "markdown",
   "id": "aa3ea68a8ae13358",
   "metadata": {
    "collapsed": false,
    "jupyter": {
     "outputs_hidden": false
    }
   },
   "source": [
    "### TO DO"
   ]
  },
  {
   "cell_type": "code",
   "execution_count": null,
   "id": "87f6d2aead8eb053",
   "metadata": {
    "collapsed": false,
    "jupyter": {
     "outputs_hidden": false
    }
   },
   "outputs": [],
   "source": [
    "# add selection of pickup file\n",
    "# add selection of pickup frequency, diagnostic frequency\n",
    "# add selection of output type (mnc = true or false)\n",
    "# add automatic change of computing time? (submit-daint)"
   ]
  }
 ],
 "metadata": {
  "kernelspec": {
   "display_name": "preprocessing-mitgcm",
   "language": "python",
   "name": "preprocessing-mitgcm"
  },
  "language_info": {
   "codemirror_mode": {
    "name": "ipython",
    "version": 3
   },
   "file_extension": ".py",
   "mimetype": "text/x-python",
   "name": "python",
   "nbconvert_exporter": "python",
   "pygments_lexer": "ipython3",
   "version": "3.12.7"
  }
 },
 "nbformat": 4,
 "nbformat_minor": 5
}
