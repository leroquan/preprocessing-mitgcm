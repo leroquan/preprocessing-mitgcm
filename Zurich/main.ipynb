{
 "cells": [
  {
   "cell_type": "code",
   "execution_count": 15,
   "id": "a71c63f6ed1dc57a",
   "metadata": {
    "ExecuteTime": {
     "end_time": "2025-04-02T13:13:43.370029Z",
     "start_time": "2025-04-02T13:13:43.356234Z"
    },
    "collapsed": false,
    "jupyter": {
     "outputs_hidden": false
    }
   },
   "outputs": [],
   "source": [
    "import os\n",
    "import sys\n",
    "from datetime import datetime\n",
    "import shutil\n",
    "import numpy as np"
   ]
  },
  {
   "cell_type": "code",
   "execution_count": 16,
   "id": "6c0c5203-0743-4db4-93e9-a25979264be6",
   "metadata": {},
   "outputs": [
    {
     "name": "stdout",
     "output_type": "stream",
     "text": [
      "C:\\Users\\rasmusso\\Desktop\\preprocessing-mitgcm\n"
     ]
    }
   ],
   "source": [
    "parent_folder = os.path.abspath(os.path.join(os.getcwd(), '..'))\n",
    "print(parent_folder)\n",
    "sys.path.append(parent_folder)"
   ]
  },
  {
   "cell_type": "code",
   "execution_count": 17,
   "id": "initial_id",
   "metadata": {
    "ExecuteTime": {
     "end_time": "2025-04-02T13:13:44.266732Z",
     "start_time": "2025-04-02T13:13:43.372134Z"
    }
   },
   "outputs": [],
   "source": [
    "from configs.config_object import ConfigObject\n",
    "from grid_and_bathy import get_dz_grid, get_grid\n",
    "from surface_forcings import extract_and_save_surface_forcings, download_weather_reanalysis, download_weather_forecast\n",
    "from initial_conditions import download_profile_idronaut_datalakes, create_initial_temperature_from_measure_profile, parse_alplakes_1d_from_directory\n",
    "from run_preprocessing import write_data_config_files, copy_template, remove_all_files_and_folders, write_size_config_files\n",
    "from utils import modify_arguments, convert_binary_files"
   ]
  },
  {
   "cell_type": "markdown",
   "id": "e017a697ab5dd281",
   "metadata": {
    "collapsed": false,
    "jupyter": {
     "outputs_hidden": false
    }
   },
   "source": [
    "## Load config"
   ]
  },
  {
   "cell_type": "code",
   "execution_count": 18,
   "id": "bfae6ace9f9eefb3",
   "metadata": {
    "ExecuteTime": {
     "end_time": "2025-04-02T13:13:44.281853Z",
     "start_time": "2025-04-02T13:13:44.268787Z"
    },
    "collapsed": false,
    "jupyter": {
     "outputs_hidden": false
    }
   },
   "outputs": [
    {
     "name": "stdout",
     "output_type": "stream",
     "text": [
      "./00-template_mitgcm/zurich_base\n"
     ]
    }
   ],
   "source": [
    "config = ConfigObject('configs/config.json')\n",
    "output_folder = './99-output/'\n",
    "template_folder = os.path.join('./00-template_mitgcm/', config.template_folder)\n",
    "print(template_folder)"
   ]
  },
  {
   "cell_type": "code",
   "execution_count": 19,
   "id": "f7f3bcdacfbb25f",
   "metadata": {
    "ExecuteTime": {
     "end_time": "2025-04-02T13:13:45.123813Z",
     "start_time": "2025-04-02T13:13:45.107117Z"
    },
    "collapsed": false,
    "jupyter": {
     "outputs_hidden": false
    }
   },
   "outputs": [],
   "source": [
    "parsed_start_date = datetime.strptime(config.start_date, '%Y%m%d')\n",
    "parsed_end_date = datetime.strptime(config.end_date, '%Y%m%d')\n",
    "parsed_ref_date = datetime.strptime(config.reference_date, '%Y%m%d')\n",
    "\n",
    "sim_duration_in_second = (parsed_end_date - parsed_start_date).total_seconds()\n",
    "start_time_in_second_from_ref_date = (parsed_start_date - parsed_ref_date).total_seconds()\n",
    "end_time_in_second_from_ref_date = (parsed_end_date - parsed_ref_date).total_seconds()"
   ]
  },
  {
   "cell_type": "markdown",
   "id": "c7df9c6962b557b7",
   "metadata": {
    "collapsed": false,
    "jupyter": {
     "outputs_hidden": false
    }
   },
   "source": [
    "## Initialize output folder"
   ]
  },
  {
   "cell_type": "code",
   "execution_count": 20,
   "id": "61510542679c189b",
   "metadata": {
    "ExecuteTime": {
     "end_time": "2025-04-02T13:13:45.997511Z",
     "start_time": "2025-04-02T13:13:45.961090Z"
    },
    "collapsed": false,
    "jupyter": {
     "outputs_hidden": false
    }
   },
   "outputs": [],
   "source": [
    "remove_all_files_and_folders(output_folder)\n",
    "#copy_template('./00-template_mitgcm/geneva_base', output_folder)\n",
    "copy_template(template_folder, output_folder)\n",
    "config.write_metadata_to_file(os.path.join(output_folder, 'metadata_simulation.txt'))"
   ]
  },
  {
   "cell_type": "markdown",
   "id": "3de5145a6740583e",
   "metadata": {
    "collapsed": false,
    "jupyter": {
     "outputs_hidden": false
    }
   },
   "source": [
    "## Get MITgcm grid"
   ]
  },
  {
   "cell_type": "markdown",
   "id": "f5ed1f3c1b7039dc",
   "metadata": {
    "collapsed": false,
    "jupyter": {
     "outputs_hidden": false
    }
   },
   "source": [
    "#In case the grid has not been created yet\n",
    "build_and_save_mitgcm_grid(config.paths.grid_folder_path, \n",
    "                           config.Nx, \n",
    "                           config.Ny, \n",
    "                           config.grid_resolution, \n",
    "                           config.x0_ch1903, \n",
    "                           config.y0_ch1903, \n",
    "                           config.x1_ch1903, \n",
    "                           config.y1_ch1903)"
   ]
  },
  {
   "cell_type": "code",
   "execution_count": 21,
   "id": "b905cccc44f15ff8",
   "metadata": {
    "ExecuteTime": {
     "end_time": "2025-04-02T13:13:47.156592Z",
     "start_time": "2025-04-02T13:13:47.147462Z"
    },
    "collapsed": false,
    "jupyter": {
     "outputs_hidden": false
    },
    "scrolled": true
   },
   "outputs": [],
   "source": [
    "mitgcm_grid = get_grid(config.paths.grid_folder_path)"
   ]
  },
  {
   "cell_type": "markdown",
   "id": "f12b5099d4d8e3b5",
   "metadata": {
    "collapsed": false,
    "jupyter": {
     "outputs_hidden": false
    }
   },
   "source": [
    "## Build binary files"
   ]
  },
  {
   "cell_type": "code",
   "execution_count": 22,
   "id": "72cbdf023054ec88",
   "metadata": {
    "ExecuteTime": {
     "end_time": "2025-04-02T13:13:48.332570Z",
     "start_time": "2025-04-02T13:13:48.318222Z"
    },
    "collapsed": false,
    "jupyter": {
     "outputs_hidden": false
    }
   },
   "outputs": [
    {
     "name": "stdout",
     "output_type": "stream",
     "text": [
      "Directory './99-output/binary_data' created.\n"
     ]
    }
   ],
   "source": [
    "binary_data_folder = os.path.join(output_folder, 'binary_data')\n",
    "if not os.path.exists(binary_data_folder):\n",
    "    os.makedirs(binary_data_folder)\n",
    "    print(f\"Directory '{binary_data_folder}' created.\")"
   ]
  },
  {
   "cell_type": "markdown",
   "id": "88d4f6666cadd83",
   "metadata": {
    "collapsed": false,
    "jupyter": {
     "outputs_hidden": false
    }
   },
   "source": [
    "**Get bathymetry**"
   ]
  },
  {
   "cell_type": "code",
   "execution_count": 23,
   "id": "1abe7bf9ca450da2",
   "metadata": {
    "ExecuteTime": {
     "end_time": "2025-04-02T13:13:50.230146Z",
     "start_time": "2025-04-02T13:13:50.205576Z"
    },
    "collapsed": false,
    "jupyter": {
     "outputs_hidden": false
    }
   },
   "outputs": [
    {
     "data": {
      "text/plain": [
       "'./99-output/binary_data\\\\bathy.bin'"
      ]
     },
     "execution_count": 23,
     "metadata": {},
     "output_type": "execute_result"
    }
   ],
   "source": [
    "#To create bathymetry, see notebook 'create_bathy'\n",
    "shutil.copy(config.paths.bathy_path, os.path.join(binary_data_folder, 'bathy.bin'))"
   ]
  },
  {
   "cell_type": "markdown",
   "id": "9673032f29e5e681",
   "metadata": {
    "collapsed": false,
    "jupyter": {
     "outputs_hidden": false
    }
   },
   "source": [
    "**Get surface forcings**\n",
    "run to dowload external forcing.\n",
    "Once downloaded, no need to run that cell again"
   ]
  },
  {
   "cell_type": "code",
   "execution_count": 24,
   "id": "83b791fc7d942cc8",
   "metadata": {
    "ExecuteTime": {
     "end_time": "2025-04-02T13:13:52.037315Z",
     "start_time": "2025-04-02T13:13:52.010308Z"
    },
    "collapsed": false,
    "jupyter": {
     "outputs_hidden": false
    },
    "scrolled": true
   },
   "outputs": [
    {
     "name": "stdout",
     "output_type": "stream",
     "text": [
      "Data already exists: C:\\Users\\rasmusso\\Documents\\ZH\\data\\meteo\\continuous reanalysis\\20240301_20240301_T_2M.json\n",
      "Data already exists: C:\\Users\\rasmusso\\Documents\\ZH\\data\\meteo\\continuous reanalysis\\20240301_20240301_U.json\n",
      "Data already exists: C:\\Users\\rasmusso\\Documents\\ZH\\data\\meteo\\continuous reanalysis\\20240301_20240301_GLOB.json\n",
      "Data already exists: C:\\Users\\rasmusso\\Documents\\ZH\\data\\meteo\\continuous reanalysis\\20240301_20240301_V.json\n",
      "Data already exists: C:\\Users\\rasmusso\\Documents\\ZH\\data\\meteo\\continuous reanalysis\\20240301_20240301_RELHUM_2M.json\n",
      "Data already exists: C:\\Users\\rasmusso\\Documents\\ZH\\data\\meteo\\continuous reanalysis\\20240301_20240301_PMSL.json\n",
      "Data already exists: C:\\Users\\rasmusso\\Documents\\ZH\\data\\meteo\\continuous reanalysis\\20240301_20240301_CLCT.json\n",
      "Data already exists: C:\\Users\\rasmusso\\Documents\\ZH\\data\\meteo\\continuous reanalysis\\20240301_20240301_PS.json\n",
      "Data already exists: C:\\Users\\rasmusso\\Documents\\ZH\\data\\meteo\\continuous reanalysis\\20240302_20240302_V.json\n",
      "Data already exists: C:\\Users\\rasmusso\\Documents\\ZH\\data\\meteo\\continuous reanalysis\\20240302_20240302_T_2M.json\n",
      "Data already exists: C:\\Users\\rasmusso\\Documents\\ZH\\data\\meteo\\continuous reanalysis\\20240302_20240302_GLOB.json\n",
      "Data already exists: C:\\Users\\rasmusso\\Documents\\ZH\\data\\meteo\\continuous reanalysis\\20240302_20240302_U.json\n",
      "Data already exists: C:\\Users\\rasmusso\\Documents\\ZH\\data\\meteo\\continuous reanalysis\\20240302_20240302_RELHUM_2M.json\n",
      "Data already exists: C:\\Users\\rasmusso\\Documents\\ZH\\data\\meteo\\continuous reanalysis\\20240302_20240302_CLCT.json\n",
      "Data already exists: C:\\Users\\rasmusso\\Documents\\ZH\\data\\meteo\\continuous reanalysis\\20240302_20240302_PMSL.json\n",
      "Data already exists: C:\\Users\\rasmusso\\Documents\\ZH\\data\\meteo\\continuous reanalysis\\20240302_20240302_PS.json\n",
      "Finished downloading weather reanalysis\n"
     ]
    }
   ],
   "source": [
    "buffer = config.weather_download_buffer\n",
    "if config.weather_model_type == 'reanalysis':\n",
    "    download_weather_reanalysis(config.weather_api_base_url, \n",
    "                                config.start_date, config.end_date, \n",
    "                                mitgcm_grid.lat_grid.min() - buffer, \n",
    "                                mitgcm_grid.lon_grid.min() - buffer, \n",
    "                                mitgcm_grid.lat_grid.max() + buffer, \n",
    "                                mitgcm_grid.lon_grid.max() + buffer, \n",
    "                                config.paths.raw_results_from_api_folder)\n",
    "    print('Finished downloading weather reanalysis')\n",
    "elif config.weather_model_type == 'forecast':\n",
    "    download_weather_forecast(config.weather_api_base_url, \n",
    "                                config.start_date,  \n",
    "                                mitgcm_grid.lat_grid.min() - buffer, \n",
    "                                mitgcm_grid.lon_grid.min() - buffer, \n",
    "                                mitgcm_grid.lat_grid.max() + buffer, \n",
    "                                mitgcm_grid.lon_grid.max() + buffer, \n",
    "                                config.paths.raw_results_from_api_folder)\n",
    "    print('Finished downloading weather forecasts')"
   ]
  },
  {
   "cell_type": "code",
   "execution_count": 25,
   "id": "4f733dcd0b84869e",
   "metadata": {
    "ExecuteTime": {
     "end_time": "2025-04-02T13:14:12.843974Z",
     "start_time": "2025-04-02T13:13:55.351617Z"
    },
    "collapsed": false,
    "jupyter": {
     "outputs_hidden": false
    }
   },
   "outputs": [
    {
     "name": "stdout",
     "output_type": "stream",
     "text": [
      "Interpolating U to grid...\n",
      "Saving u10...\n",
      "Interpolating V to grid...\n",
      "Saving v10...\n",
      "Interpolating GLOB to grid...\n",
      "Saving swdown...\n",
      "Interpolating T_2M to grid...\n",
      "Saving atemp...\n",
      "Interpolating PS to grid...\n",
      "Saving apressure...\n",
      "Computing specific humidity (aqh)...\n",
      "Interpolating RELHUM_2M to grid...\n",
      "Saving relhum...\n",
      "Saving aqh...\n",
      "Computing longwave radiation (lwdown)...\n",
      "Interpolating CLCT to grid...\n",
      "Saving clct...\n",
      "Saving lwdown...\n",
      "Done computing binary data.\n"
     ]
    }
   ],
   "source": [
    "time_format = 'UTC'\n",
    "extract_and_save_surface_forcings(binary_data_folder, \n",
    "                                  config.start_date, \n",
    "                                  config.end_date, \n",
    "                                  config.paths.raw_results_from_api_folder, \n",
    "                                  mitgcm_grid,\n",
    "                                  1, # Number of cores used in interpolation\n",
    "                                  config.weather_model_type)"
   ]
  },
  {
   "cell_type": "markdown",
   "id": "514d506f8bccf648",
   "metadata": {
    "collapsed": false,
    "jupyter": {
     "outputs_hidden": false
    }
   },
   "source": [
    "**Convert to little endian if necessary** (for cscs computation)"
   ]
  },
  {
   "cell_type": "code",
   "execution_count": 26,
   "id": "205dfc0e21bf338c",
   "metadata": {
    "ExecuteTime": {
     "end_time": "2025-04-02T13:14:17.280448Z",
     "start_time": "2025-04-02T13:14:17.268585Z"
    },
    "collapsed": false,
    "jupyter": {
     "outputs_hidden": false
    }
   },
   "outputs": [],
   "source": [
    "# TO DO : implement check to see whether the datatypes are correct\n",
    "if config.endian_type == 'little_endian':\n",
    "    convert_binary_files(os.path.join(output_folder, 'binary_data'), '>f8', '<f8')"
   ]
  },
  {
   "cell_type": "markdown",
   "id": "c996e2309ad359b3",
   "metadata": {
    "collapsed": false,
    "jupyter": {
     "outputs_hidden": false
    }
   },
   "source": [
    "### Get initial conditions"
   ]
  },
  {
   "cell_type": "markdown",
   "id": "67590cd2-51ee-4977-904a-c0ade28dc314",
   "metadata": {
    "ExecuteTime": {
     "end_time": "2025-04-02T13:14:20.103608Z",
     "start_time": "2025-04-02T13:14:18.771989Z"
    },
    "collapsed": false,
    "jupyter": {
     "outputs_hidden": false
    }
   },
   "source": [
    "file_date, measured_temperature = download_profile_idronaut_datalakes(parsed_start_date)\n",
    "print('Initial conditions from Idronaut file from ', file_date)\n",
    "dz_grid = get_dz_grid(config.paths.dz_grid_csv_path)\n",
    "shaped_temp_initial = create_initial_temperature_from_measure_profile(dz_grid, measured_temperature)"
   ]
  },
  {
   "cell_type": "code",
   "execution_count": 27,
   "id": "886b3ea9-7cd2-479e-b401-c5d20b4b04a8",
   "metadata": {},
   "outputs": [
    {
     "name": "stdout",
     "output_type": "stream",
     "text": [
      "Initial conditions from Simstrat  2024-03-01T01:00:02.880000000\n"
     ]
    }
   ],
   "source": [
    "# From Simstrat results (Aplakes)\n",
    "simstrat_temperature = parse_alplakes_1d_from_directory(r'./initial_conditions/simstrat_data')\n",
    "profile_simstrat = simstrat_temperature.sel(time = parsed_start_date, method='nearest')\n",
    "print('Initial conditions from Simstrat ', profile_simstrat.time.values)\n",
    "dz_grid = get_dz_grid(config.paths.dz_grid_csv_path)\n",
    "dz_grid = dz_grid[~np.isnan(dz_grid)]\n",
    "shaped_temp_initial = create_initial_temperature_from_measure_profile(dz_grid, profile_simstrat)"
   ]
  },
  {
   "cell_type": "markdown",
   "id": "b3486f12c2ed801e",
   "metadata": {
    "collapsed": false,
    "jupyter": {
     "outputs_hidden": false
    }
   },
   "source": [
    "### Get pickup files"
   ]
  },
  {
   "cell_type": "code",
   "execution_count": 30,
   "id": "fd2ff3748833ddea",
   "metadata": {
    "ExecuteTime": {
     "end_time": "2025-04-02T13:14:23.782194Z",
     "start_time": "2025-04-02T13:14:23.768953Z"
    },
    "collapsed": false,
    "jupyter": {
     "outputs_hidden": false
    }
   },
   "outputs": [
    {
     "name": "stdout",
     "output_type": "stream",
     "text": [
      "\n"
     ]
    }
   ],
   "source": [
    "if config.with_pickup:\n",
    "    dt_sim_in_second = config.time_step\n",
    "    pickup_number = f\"pickup.{str(int(start_time_in_second_from_ref_date / dt_sim_in_second)).zfill(10)}\"\n",
    "else:\n",
    "    pickup_number = \"\"\n",
    "print(pickup_number)"
   ]
  },
  {
   "cell_type": "markdown",
   "id": "3f029e92bdaaa42e",
   "metadata": {
    "collapsed": false,
    "jupyter": {
     "outputs_hidden": false
    }
   },
   "source": [
    "### Adapt config files"
   ]
  },
  {
   "cell_type": "code",
   "execution_count": 31,
   "id": "af17ea5536e9f333",
   "metadata": {
    "ExecuteTime": {
     "end_time": "2025-04-02T13:14:25.786651Z",
     "start_time": "2025-04-02T13:14:25.774665Z"
    },
    "collapsed": false,
    "jupyter": {
     "outputs_hidden": false
    }
   },
   "outputs": [],
   "source": [
    "modify_arguments('!reference_date!', [config.reference_date], os.path.join(output_folder, 'run_config/data.cal'))"
   ]
  },
  {
   "cell_type": "code",
   "execution_count": 32,
   "id": "8da31ad8c10f7f18",
   "metadata": {
    "ExecuteTime": {
     "end_time": "2025-04-02T13:14:26.658174Z",
     "start_time": "2025-04-02T13:14:26.647175Z"
    },
    "collapsed": false,
    "jupyter": {
     "outputs_hidden": false
    }
   },
   "outputs": [],
   "source": [
    "modify_arguments('!start_date!', [config.start_date], os.path.join(output_folder, 'run_config/data.exf'))"
   ]
  },
  {
   "cell_type": "code",
   "execution_count": 44,
   "id": "5079750f4f30a0c9",
   "metadata": {
    "ExecuteTime": {
     "end_time": "2025-04-02T13:14:27.414268Z",
     "start_time": "2025-04-02T13:14:27.407880Z"
    },
    "collapsed": false,
    "jupyter": {
     "outputs_hidden": false
    }
   },
   "outputs": [
    {
     "name": "stdout",
     "output_type": "stream",
     "text": [
      "6.323,\n",
      "6.32706,\n",
      "6.329184000000001,\n",
      "6.331188,\n",
      "6.3323160000000005,\n",
      "6.333,\n",
      "6.333,\n",
      "6.331626,\n",
      "6.32867,\n",
      "6.319472,\n",
      "6.3031299999999995,\n",
      "6.281428,\n",
      "6.2555439999999995,\n",
      "6.234151,\n",
      "6.218086,\n",
      "6.207749,\n",
      "6.2004410000000005,\n",
      "6.194484,\n",
      "6.1884429999999995,\n",
      "6.18168,\n",
      "6.174344,\n",
      "6.167186,\n",
      "6.160368,\n",
      "6.1541,\n",
      "6.148925,\n",
      "6.143595,\n",
      "6.13868,\n",
      "6.134148,\n",
      "6.1294759999999995,\n",
      "6.12466,\n",
      "6.118392,\n",
      "6.102715,\n",
      "6.079386,\n",
      "6.058052,\n",
      "6.039121,\n",
      "6.021603,\n",
      "6.005235,\n",
      "5.989659,\n",
      "5.9747,\n",
      "5.9607600000000005,\n",
      "5.945679999999999,\n",
      "5.931824,\n",
      "5.9175439999999995,\n",
      "5.903824,\n",
      "5.890236000000001,\n",
      "5.877755,\n",
      "5.86768,\n",
      "5.858977,\n",
      "5.853036,\n",
      "5.848622,\n",
      "5.846036,\n",
      "5.844691,\n",
      "5.843274,\n",
      "5.843,\n",
      "5.8422149999999995,\n",
      "5.842,\n",
      "5.842,\n",
      "5.842,\n",
      "5.842,\n",
      "5.842,\n",
      "5.842,\n",
      "5.841,\n",
      "5.841,\n",
      "5.841,\n",
      "5.841,\n",
      "5.841,\n",
      "5.841,\n",
      "5.841,\n",
      "5.841,\n",
      "5.841,\n",
      "5.841,\n",
      "5.841,\n",
      "5.842,\n",
      "5.842,\n",
      "\n"
     ]
    }
   ],
   "source": [
    "#TO DO: write output type (binary or netcdf -->   diag_mnc = .FALSE./.TRUE. in data.diagnostics)\n",
    "len(shaped_temp_initial)\n",
    "str_values=''\n",
    "for row in shaped_temp_initial:\n",
    "    str_values += str(str(row) + ',')\n",
    "    str_values += '\\n'\n",
    "print(str_values)"
   ]
  },
  {
   "cell_type": "code",
   "execution_count": 42,
   "id": "9fa5300bfc079c5a",
   "metadata": {
    "ExecuteTime": {
     "end_time": "2025-04-02T13:14:27.827618Z",
     "start_time": "2025-04-02T13:14:27.814579Z"
    },
    "collapsed": false,
    "jupyter": {
     "outputs_hidden": false
    }
   },
   "outputs": [
    {
     "ename": "TypeError",
     "evalue": "'numpy.float64' object is not iterable",
     "output_type": "error",
     "traceback": [
      "\u001b[1;31m---------------------------------------------------------------------------\u001b[0m",
      "\u001b[1;31mTypeError\u001b[0m                                 Traceback (most recent call last)",
      "Cell \u001b[1;32mIn[42], line 1\u001b[0m\n\u001b[1;32m----> 1\u001b[0m write_data_config_files(os\u001b[38;5;241m.\u001b[39mpath\u001b[38;5;241m.\u001b[39mjoin(output_folder, \u001b[38;5;124m'\u001b[39m\u001b[38;5;124mrun_config/data\u001b[39m\u001b[38;5;124m'\u001b[39m), \n\u001b[0;32m      2\u001b[0m                         shaped_temp_initial, \n\u001b[0;32m      3\u001b[0m                         start_time_in_second_from_ref_date, \n\u001b[0;32m      4\u001b[0m                         end_time_in_second_from_ref_date,\n\u001b[0;32m      5\u001b[0m                         pickup_number,\n\u001b[0;32m      6\u001b[0m                         dz_grid, \n\u001b[0;32m      7\u001b[0m                         config\u001b[38;5;241m.\u001b[39mgrid_resolution,\n\u001b[0;32m      8\u001b[0m                         config\u001b[38;5;241m.\u001b[39mtime_step)\n",
      "File \u001b[1;32m~\\Desktop\\preprocessing-mitgcm\\Zurich\\run_preprocessing\\run.py:36\u001b[0m, in \u001b[0;36mwrite_data_config_files\u001b[1;34m(data_config_path, initial_temperature, start_time_in_second, end_time_in_second, pickup_number, dz_grid, grid_resolution, time_step)\u001b[0m\n\u001b[0;32m     33\u001b[0m \u001b[38;5;28;01mdef\u001b[39;00m \u001b[38;5;21mwrite_data_config_files\u001b[39m(data_config_path: \u001b[38;5;28mstr\u001b[39m, initial_temperature: np\u001b[38;5;241m.\u001b[39marray, start_time_in_second: \u001b[38;5;28mint\u001b[39m,\n\u001b[0;32m     34\u001b[0m                             end_time_in_second: \u001b[38;5;28mint\u001b[39m, pickup_number: \u001b[38;5;28mstr\u001b[39m, dz_grid: np\u001b[38;5;241m.\u001b[39marray, grid_resolution: \u001b[38;5;28mint\u001b[39m,\n\u001b[0;32m     35\u001b[0m                             time_step: \u001b[38;5;28mint\u001b[39m):\n\u001b[1;32m---> 36\u001b[0m     modify_arguments(\u001b[38;5;124m'\u001b[39m\u001b[38;5;124m!initial_temperature!\u001b[39m\u001b[38;5;124m'\u001b[39m, initial_temperature, data_config_path)\n\u001b[0;32m     37\u001b[0m     modify_arguments(\u001b[38;5;124m'\u001b[39m\u001b[38;5;124m!start_time!\u001b[39m\u001b[38;5;124m'\u001b[39m, [start_time_in_second], data_config_path)\n\u001b[0;32m     38\u001b[0m     modify_arguments(\u001b[38;5;124m'\u001b[39m\u001b[38;5;124m!end_time!\u001b[39m\u001b[38;5;124m'\u001b[39m, [end_time_in_second], data_config_path)\n",
      "File \u001b[1;32m~\\Desktop\\preprocessing-mitgcm\\Zurich\\utils\\write_files.py:21\u001b[0m, in \u001b[0;36mmodify_arguments\u001b[1;34m(param_name, values, file_path)\u001b[0m\n\u001b[0;32m     19\u001b[0m \u001b[38;5;28;01mif\u001b[39;00m \u001b[38;5;28mlen\u001b[39m(values) \u001b[38;5;241m>\u001b[39m \u001b[38;5;241m1\u001b[39m:\n\u001b[0;32m     20\u001b[0m     \u001b[38;5;28;01mfor\u001b[39;00m row \u001b[38;5;129;01min\u001b[39;00m values:\n\u001b[1;32m---> 21\u001b[0m         \u001b[38;5;28;01mfor\u001b[39;00m val \u001b[38;5;129;01min\u001b[39;00m row:\n\u001b[0;32m     22\u001b[0m             str_values \u001b[38;5;241m+\u001b[39m\u001b[38;5;241m=\u001b[39m \u001b[38;5;28mstr\u001b[39m(\u001b[38;5;28mstr\u001b[39m(val) \u001b[38;5;241m+\u001b[39m \u001b[38;5;124m'\u001b[39m\u001b[38;5;124m,\u001b[39m\u001b[38;5;124m'\u001b[39m)\n\u001b[0;32m     23\u001b[0m         str_values \u001b[38;5;241m+\u001b[39m\u001b[38;5;241m=\u001b[39m \u001b[38;5;124m'\u001b[39m\u001b[38;5;130;01m\\n\u001b[39;00m\u001b[38;5;124m'\u001b[39m\n",
      "\u001b[1;31mTypeError\u001b[0m: 'numpy.float64' object is not iterable"
     ]
    }
   ],
   "source": [
    "write_data_config_files(os.path.join(output_folder, 'run_config/data'), \n",
    "                        shaped_temp_initial, \n",
    "                        start_time_in_second_from_ref_date, \n",
    "                        end_time_in_second_from_ref_date,\n",
    "                        pickup_number,\n",
    "                        dz_grid, \n",
    "                        config.grid_resolution,\n",
    "                        config.time_step)"
   ]
  },
  {
   "cell_type": "code",
   "execution_count": 40,
   "id": "48e34d67c6ef5420",
   "metadata": {
    "ExecuteTime": {
     "end_time": "2025-04-02T13:14:29.102329Z",
     "start_time": "2025-04-02T13:14:29.082724Z"
    },
    "collapsed": false,
    "jupyter": {
     "outputs_hidden": false
    }
   },
   "outputs": [],
   "source": [
    "use_exch2=False\n",
    "# Package to ignore cores that are attributed to land. See notebook grid_and_bathy/check_core_allocation to create files land_cores_Px..etc.txt.\n",
    "# Doc here: https://wiki.math.uwaterloo.ca/fluidswiki/index.php?title=MITgcm_tips#Setting_the_equation_of_state (look for exch2)\n",
    "# And there: https://mitgcm.readthedocs.io/en/latest/phys_pkgs/exch2.html (not so helpful... don't we love the official documentation of MITgcm?)\n",
    "if use_exch2:    \n",
    "    blank_list_path=os.path.join(config.paths.grid_folder_path, f\"land_cores_Px{config.Px}_Py{config.Py}.txt\")\n",
    "    with open(blank_list_path, \"r\") as file:\n",
    "        nb_blank_cores, blank_list = file.read().splitlines()\n",
    "        \n",
    "    Px = (config.Px * config.Py) - int(nb_blank_cores)\n",
    "    Py = 1\n",
    "    \n",
    "    modify_arguments('!Nx!', [config.Nx], os.path.join(output_folder, 'run_config/data.exch2'))\n",
    "    modify_arguments('!Ny!', [config.Ny], os.path.join(output_folder, 'run_config/data.exch2'))\n",
    "    modify_arguments('!blank_list!', [blank_list], os.path.join(output_folder, 'run_config/data.exch2'))\n",
    "else:\n",
    "    Px = config.Px\n",
    "    Py = config.Py"
   ]
  },
  {
   "cell_type": "code",
   "execution_count": 41,
   "id": "b857d0522c095917",
   "metadata": {
    "ExecuteTime": {
     "end_time": "2025-04-02T13:14:30.454884Z",
     "start_time": "2025-04-02T13:14:30.440711Z"
    },
    "collapsed": false,
    "jupyter": {
     "outputs_hidden": false
    }
   },
   "outputs": [],
   "source": [
    "write_size_config_files(os.path.join(output_folder, 'code/SIZE.h'), \n",
    "                        Px, \n",
    "                        Py, \n",
    "                        config.Nx, \n",
    "                        config.Ny, \n",
    "                        len(dz_grid.flatten()))"
   ]
  },
  {
   "cell_type": "markdown",
   "id": "db14cf08215b46f6",
   "metadata": {
    "collapsed": false,
    "jupyter": {
     "outputs_hidden": false
    }
   },
   "source": [
    "## Next steps"
   ]
  },
  {
   "cell_type": "markdown",
   "id": "c931932f70f981a",
   "metadata": {
    "collapsed": false,
    "jupyter": {
     "outputs_hidden": false
    }
   },
   "source": [
    "- Copy-paste the folders in \"99-output\" to the cscs server \n",
    "- Change #SBATCH --time=00:05:00 in run/submit-daint-short.sh\n",
    "- Open CSCS putty console:\n",
    "\n",
    "export MITGCM_ROOTDIR=/scratch/snx3000/aleroqua/MITgcm-checkpoint67z/\n",
    "\n",
    "cd /scratch/snx3000/aleroqua/xx/build\n",
    "$MITGCM_ROOTDIR/tools/genmake2 -mods ../code -mpi -enable=mnc -of ${MITGCM_ROOTDIR}/tools/build_options/linux_ia64_cray_archer\n",
    "make depend\n",
    "make -j 8\n",
    "\n",
    "cd ..\n",
    "rm -r run\n",
    "mkdir run\n",
    "cd run\n",
    "ln -s ../pickup/* .\n",
    "ln -s ../run_config/* .\n",
    "cp ../build/mitgcmuv .\n",
    "\n",
    "sbatch submit-daint-short.sh"
   ]
  },
  {
   "cell_type": "markdown",
   "id": "aa3ea68a8ae13358",
   "metadata": {
    "collapsed": false,
    "jupyter": {
     "outputs_hidden": false
    }
   },
   "source": [
    "### TO DO"
   ]
  },
  {
   "cell_type": "code",
   "execution_count": null,
   "id": "87f6d2aead8eb053",
   "metadata": {
    "collapsed": false,
    "jupyter": {
     "outputs_hidden": false
    }
   },
   "outputs": [],
   "source": [
    "# add selection of pickup file\n",
    "# add selection of pickup frequency, diagnostic frequency\n",
    "# add selection of output type (mnc = true or false)\n",
    "# add automatic change of computing time? (submit-daint)"
   ]
  }
 ],
 "metadata": {
  "kernelspec": {
   "display_name": "preprocessing-mitgcm",
   "language": "python",
   "name": "preprocessing-mitgcm"
  },
  "language_info": {
   "codemirror_mode": {
    "name": "ipython",
    "version": 3
   },
   "file_extension": ".py",
   "mimetype": "text/x-python",
   "name": "python",
   "nbconvert_exporter": "python",
   "pygments_lexer": "ipython3",
   "version": "3.12.7"
  }
 },
 "nbformat": 4,
 "nbformat_minor": 5
}
