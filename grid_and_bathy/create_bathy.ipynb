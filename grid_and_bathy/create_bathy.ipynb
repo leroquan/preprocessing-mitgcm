{
 "cells": [
  {
   "cell_type": "code",
   "execution_count": 1,
   "id": "initial_id",
   "metadata": {
    "collapsed": true,
    "ExecuteTime": {
     "end_time": "2025-07-14T12:58:57.752578Z",
     "start_time": "2025-07-14T12:58:56.864563Z"
    }
   },
   "outputs": [],
   "source": [
    "from rasterstats import zonal_stats\n",
    "import geopandas as gpd\n",
    "\n",
    "import os\n",
    "import numpy as np\n",
    "import matplotlib.pyplot as plt\n",
    "\n",
    "from configs.config_object import ConfigObject"
   ]
  },
  {
   "cell_type": "code",
   "outputs": [],
   "source": [
    "config = ConfigObject('../configs/config.json')"
   ],
   "metadata": {
    "collapsed": false,
    "ExecuteTime": {
     "end_time": "2025-07-14T13:00:23.997926Z",
     "start_time": "2025-07-14T13:00:23.979866Z"
    }
   },
   "id": "7479aff8cb4b9fad",
   "execution_count": 7
  },
  {
   "cell_type": "markdown",
   "source": [
    "## Load bathymetry asc files"
   ],
   "metadata": {
    "collapsed": false
   },
   "id": "f6d02c68ad62a955"
  },
  {
   "cell_type": "markdown",
   "source": [
    "See at the end of the notebook if merging of different tiles is necessary"
   ],
   "metadata": {
    "collapsed": false
   },
   "id": "f59b43c42c2afc98"
  },
  {
   "cell_type": "code",
   "outputs": [],
   "source": [
    "raw_bathy_path = config.paths.raw_bathy_path #input\n",
    "path_grid = config.paths.grid_folder_path #output"
   ],
   "metadata": {
    "collapsed": false,
    "ExecuteTime": {
     "end_time": "2025-07-14T13:00:26.136432Z",
     "start_time": "2025-07-14T13:00:26.119387Z"
    }
   },
   "id": "ab9dc4d2c978d844",
   "execution_count": 8
  },
  {
   "cell_type": "markdown",
   "source": [
    "## Load MITgcm grid"
   ],
   "metadata": {
    "collapsed": false
   },
   "id": "c6831eb44f2c20ad"
  },
  {
   "cell_type": "code",
   "outputs": [],
   "source": [
    "grid = gpd.read_file(os.path.join(path_grid, f\"grid_epsg{config.epsg_projection}.gpkg\"))"
   ],
   "metadata": {
    "collapsed": false,
    "ExecuteTime": {
     "end_time": "2025-07-14T13:00:09.579967Z",
     "start_time": "2025-07-14T13:00:09.316866Z"
    }
   },
   "id": "289777868d58df5b",
   "execution_count": 5
  },
  {
   "cell_type": "markdown",
   "source": [
    "# to get the grid shape\n",
    "with open(os.path.join(path_grid, f'x_epsg{config.epsg_projection}_grid.npy'), 'rb') as f:\n",
    "    x = np.load(f)"
   ],
   "metadata": {
    "collapsed": false
   },
   "id": "581912736da4a80b"
  },
  {
   "cell_type": "markdown",
   "source": [
    "## Compute average depth per cell"
   ],
   "metadata": {
    "collapsed": false
   },
   "id": "d114d06532dff9d3"
  },
  {
   "cell_type": "code",
   "outputs": [],
   "source": [
    "# Compute zonal statistics\n",
    "stats = zonal_stats(grid, raw_bathy_path, stats=\"mean\", nodata=-9999)"
   ],
   "metadata": {
    "collapsed": false,
    "ExecuteTime": {
     "end_time": "2025-07-14T13:17:02.857080Z",
     "start_time": "2025-07-14T13:12:32.339215Z"
    }
   },
   "id": "a3cc8ec2e06ed9a1",
   "execution_count": 29
  },
  {
   "cell_type": "code",
   "outputs": [],
   "source": [
    "grid[\"avg_altitude\"] = [s[\"mean\"] for s in stats]"
   ],
   "metadata": {
    "collapsed": false,
    "ExecuteTime": {
     "end_time": "2025-07-14T13:17:02.887306Z",
     "start_time": "2025-07-14T13:17:02.861080Z"
    }
   },
   "id": "7600b74ff12eaf2e",
   "execution_count": 30
  },
  {
   "cell_type": "code",
   "outputs": [
    {
     "data": {
      "text/plain": "562.0091853035144"
     },
     "execution_count": 31,
     "metadata": {},
     "output_type": "execute_result"
    }
   ],
   "source": [
    "grid[\"avg_altitude\"].max()"
   ],
   "metadata": {
    "collapsed": false,
    "ExecuteTime": {
     "end_time": "2025-07-14T13:17:02.903216Z",
     "start_time": "2025-07-14T13:17:02.889198Z"
    }
   },
   "id": "f0a6a8a74c97258c",
   "execution_count": 31
  },
  {
   "cell_type": "code",
   "outputs": [
    {
     "data": {
      "text/plain": "219.863825"
     },
     "execution_count": 32,
     "metadata": {},
     "output_type": "execute_result"
    }
   ],
   "source": [
    "grid[\"avg_altitude\"].min()"
   ],
   "metadata": {
    "collapsed": false,
    "ExecuteTime": {
     "end_time": "2025-07-14T13:17:02.919350Z",
     "start_time": "2025-07-14T13:17:02.905199Z"
    }
   },
   "id": "8f9991bfd8f783d4",
   "execution_count": 32
  },
  {
   "cell_type": "code",
   "outputs": [],
   "source": [
    "grid[\"avg_depth\"] = grid[\"avg_altitude\"] - config.lake_altitude"
   ],
   "metadata": {
    "collapsed": false,
    "ExecuteTime": {
     "end_time": "2025-07-14T13:18:22.960926Z",
     "start_time": "2025-07-14T13:18:22.942866Z"
    }
   },
   "id": "31e88d4c527ccecb",
   "execution_count": 33
  },
  {
   "cell_type": "code",
   "outputs": [
    {
     "data": {
      "text/plain": "434"
     },
     "execution_count": 34,
     "metadata": {},
     "output_type": "execute_result"
    }
   ],
   "source": [
    "config.lake_altitude"
   ],
   "metadata": {
    "collapsed": false,
    "ExecuteTime": {
     "end_time": "2025-07-14T13:18:23.493837Z",
     "start_time": "2025-07-14T13:18:23.477850Z"
    }
   },
   "id": "f0561092341ac84c",
   "execution_count": 34
  },
  {
   "cell_type": "code",
   "outputs": [
    {
     "data": {
      "text/plain": "0   NaN\n1   NaN\n2   NaN\n3   NaN\n4   NaN\nName: avg_altitude, dtype: float64"
     },
     "execution_count": 35,
     "metadata": {},
     "output_type": "execute_result"
    }
   ],
   "source": [
    "grid[\"avg_altitude\"].head()"
   ],
   "metadata": {
    "collapsed": false,
    "ExecuteTime": {
     "end_time": "2025-07-14T13:18:27.696306Z",
     "start_time": "2025-07-14T13:18:27.675308Z"
    }
   },
   "id": "cd1e4f8c86555178",
   "execution_count": 35
  },
  {
   "cell_type": "code",
   "outputs": [],
   "source": [
    "grid[\"avg_depth\"] = grid[\"avg_depth\"].fillna(2)\n",
    "depth_array = grid[\"avg_depth\"].to_numpy().reshape(x.shape)"
   ],
   "metadata": {
    "collapsed": false,
    "ExecuteTime": {
     "end_time": "2025-07-14T13:18:29.899831Z",
     "start_time": "2025-07-14T13:18:29.887319Z"
    }
   },
   "id": "f94cc20eadc2aa99",
   "execution_count": 36
  },
  {
   "cell_type": "code",
   "outputs": [
    {
     "data": {
      "text/plain": "Text(0.5, 1.0, 'Depth (m)')"
     },
     "execution_count": 43,
     "metadata": {},
     "output_type": "execute_result"
    },
    {
     "data": {
      "text/plain": "<Figure size 640x480 with 2 Axes>",
      "image/png": "[encoded data removed]"
     },
     "metadata": {},
     "output_type": "display_data"
    }
   ],
   "source": [
    "plt.imshow(depth_array)\n",
    "plt.gca().invert_yaxis()\n",
    "cbar = plt.colorbar(orientation=\"horizontal\")\n",
    "plt.title(\"Depth (m)\")"
   ],
   "metadata": {
    "collapsed": false,
    "ExecuteTime": {
     "end_time": "2025-07-14T13:20:13.300595Z",
     "start_time": "2025-07-14T13:20:13.145832Z"
    }
   },
   "id": "26ddcb8730cf90df",
   "execution_count": 43
  },
  {
   "cell_type": "markdown",
   "source": [
    "## Save bathymetry"
   ],
   "metadata": {
    "collapsed": false
   },
   "id": "5a399cd1a465e786"
  },
  {
   "cell_type": "code",
   "outputs": [],
   "source": [
    "# Write gpkg file\n",
    "grid.to_file(os.path.join(config.paths.grid_folder_path, \"grid_with_depth_epsg2056.gpkg\"), driver=\"GPKG\")"
   ],
   "metadata": {
    "collapsed": false,
    "ExecuteTime": {
     "end_time": "2025-07-14T13:20:22.324686Z",
     "start_time": "2025-07-14T13:20:21.997215Z"
    }
   },
   "id": "6fbcc9b84e7d4eec",
   "execution_count": 44
  },
  {
   "cell_type": "code",
   "outputs": [],
   "source": [
    "# Write binary file\n",
    "fid = open(os.path.join(config.paths.grid_folder_path, \"bathy.bin\"), 'wb')\n",
    "depth_array.astype('>f8').tofile(fid)\n",
    "fid.close()"
   ],
   "metadata": {
    "collapsed": false,
    "ExecuteTime": {
     "end_time": "2025-07-14T13:20:22.703849Z",
     "start_time": "2025-07-14T13:20:22.694863Z"
    }
   },
   "id": "5b3c93b5bdd673d9",
   "execution_count": 45
  },
  {
   "cell_type": "markdown",
   "source": [
    "# UTILS"
   ],
   "metadata": {
    "collapsed": false
   },
   "id": "b46c1c4d9e7273db"
  },
  {
   "cell_type": "markdown",
   "source": [
    "# Use to merge different tiles into one .tif file\n",
    "import glob\n",
    "import rasterio\n",
    "from rasterio.merge import merge\n",
    "\n",
    "# Find all .asc files\n",
    "asc_files = glob.glob(\"C:\\Users\\leroquan\\Documents\\Data\\bathymetry\\lucerne\\swissbathy3d_vierwaldstaettersee_2056_5728.esriasciigrid\\*.asc)\n",
    "\n",
    "# Open all the .asc files with rasterio\n",
    "src_files_to_mosaic = []\n",
    "for fp in asc_files:\n",
    "    src = rasterio.open(fp)\n",
    "    src_files_to_mosaic.append(src)\n",
    "\n",
    "# Merge them into a single mosaic\n",
    "mosaic, out_trans = merge(src_files_to_mosaic)\n",
    "\n",
    "# Copy metadata from one of the source files and update\n",
    "out_meta = src_files_to_mosaic[0].meta.copy()\n",
    "out_meta.update({\n",
    "    \"driver\": \"GTiff\",\n",
    "    \"height\": mosaic.shape[1],\n",
    "    \"width\": mosaic.shape[2],\n",
    "    \"transform\": out_trans,\n",
    "    \"dtype\": mosaic.dtype\n",
    "})\n",
    "\n",
    "# Write the mosaic to disk\n",
    "output_tif = os.path.join(raw_bathy_path, 'merged_output.tif')\n",
    "with rasterio.open(output_tif, \"w\", **out_meta) as dest:\n",
    "    dest.write(mosaic)\n",
    "\n",
    "print(f\"Merged {len(asc_files)} .asc files into {output_tif}\")\n"
   ],
   "metadata": {
    "collapsed": false
   },
   "id": "321c20209ef05689"
  }
 ],
 "metadata": {
  "kernelspec": {
   "display_name": "Python 3",
   "language": "python",
   "name": "python3"
  },
  "language_info": {
   "codemirror_mode": {
    "name": "ipython",
    "version": 2
   },
   "file_extension": ".py",
   "mimetype": "text/x-python",
   "name": "python",
   "nbconvert_exporter": "python",
   "pygments_lexer": "ipython2",
   "version": "2.7.6"
  }
 },
 "nbformat": 4,
 "nbformat_minor": 5
}
