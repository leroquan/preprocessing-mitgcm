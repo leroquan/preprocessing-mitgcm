{
 "cells": [
  {
   "cell_type": "code",
   "execution_count": 2,
   "id": "initial_id",
   "metadata": {
    "collapsed": true,
    "ExecuteTime": {
     "end_time": "2025-05-29T12:37:01.642098Z",
     "start_time": "2025-05-29T12:37:01.629081Z"
    }
   },
   "outputs": [],
   "source": [
    "from rasterstats import zonal_stats\n",
    "import geopandas as gpd\n",
    "\n",
    "import glob\n",
    "import os\n",
    "import numpy as np\n",
    "\n",
    "from configs.config_object import ConfigObject"
   ]
  },
  {
   "cell_type": "code",
   "outputs": [],
   "source": [
    "config = ConfigObject('../configs/config.json')"
   ],
   "metadata": {
    "collapsed": false,
    "ExecuteTime": {
     "end_time": "2025-05-29T12:37:02.049454Z",
     "start_time": "2025-05-29T12:37:02.042451Z"
    }
   },
   "id": "7479aff8cb4b9fad",
   "execution_count": 3
  },
  {
   "cell_type": "markdown",
   "source": [
    "## Load bathymetry asc files"
   ],
   "metadata": {
    "collapsed": false
   },
   "id": "f6d02c68ad62a955"
  },
  {
   "cell_type": "code",
   "outputs": [],
   "source": [
    "# List of ASC files\n",
    "path_swisstopo = config.paths.swiss_topo_path\n",
    "path_grid = config.paths.grid_folder_path"
   ],
   "metadata": {
    "collapsed": false,
    "ExecuteTime": {
     "end_time": "2025-05-29T12:37:03.096713Z",
     "start_time": "2025-05-29T12:37:03.086112Z"
    }
   },
   "id": "ab9dc4d2c978d844",
   "execution_count": 4
  },
  {
   "cell_type": "markdown",
   "source": [
    "## Load MITgcm grid"
   ],
   "metadata": {
    "collapsed": false
   },
   "id": "c6831eb44f2c20ad"
  },
  {
   "cell_type": "code",
   "outputs": [],
   "source": [
    "grid = gpd.read_file(os.path.join(path_grid, \"grid_epsg2056.gpkg\"))"
   ],
   "metadata": {
    "collapsed": false,
    "ExecuteTime": {
     "end_time": "2025-05-29T12:37:04.462433Z",
     "start_time": "2025-05-29T12:37:04.381434Z"
    }
   },
   "id": "289777868d58df5b",
   "execution_count": 6
  },
  {
   "cell_type": "code",
   "outputs": [],
   "source": [
    "# to get the grid shape\n",
    "with open(os.path.join(path_grid, 'x_sg_grid.npy'), 'rb') as f:\n",
    "    x = np.load(f)"
   ],
   "metadata": {
    "collapsed": false,
    "ExecuteTime": {
     "end_time": "2025-05-29T13:09:22.789339Z",
     "start_time": "2025-05-29T13:09:22.769340Z"
    }
   },
   "id": "6e601bd661d8812",
   "execution_count": 38
  },
  {
   "cell_type": "markdown",
   "source": [
    "## Compute average depth per cell"
   ],
   "metadata": {
    "collapsed": false
   },
   "id": "d114d06532dff9d3"
  },
  {
   "cell_type": "code",
   "outputs": [],
   "source": [
    "# Compute zonal statistics\n",
    "stats = zonal_stats(grid, os.path.join(path_swisstopo, \"merged_epsg2056.tif\"), stats=\"mean\", nodata=0)"
   ],
   "metadata": {
    "collapsed": false,
    "ExecuteTime": {
     "end_time": "2025-05-29T12:57:51.047815Z",
     "start_time": "2025-05-29T12:56:49.645882Z"
    }
   },
   "id": "a3cc8ec2e06ed9a1",
   "execution_count": 24
  },
  {
   "cell_type": "code",
   "outputs": [],
   "source": [
    "grid[\"avg_altitude\"] = [s[\"mean\"] for s in stats]"
   ],
   "metadata": {
    "collapsed": false,
    "ExecuteTime": {
     "end_time": "2025-05-29T13:03:47.617957Z",
     "start_time": "2025-05-29T13:03:47.601956Z"
    }
   },
   "id": "7600b74ff12eaf2e",
   "execution_count": 30
  },
  {
   "cell_type": "code",
   "outputs": [
    {
     "data": {
      "text/plain": "371.66381278538813"
     },
     "execution_count": 31,
     "metadata": {},
     "output_type": "execute_result"
    }
   ],
   "source": [
    "grid[\"avg_altitude\"].max()"
   ],
   "metadata": {
    "collapsed": false,
    "ExecuteTime": {
     "end_time": "2025-05-29T13:03:47.833970Z",
     "start_time": "2025-05-29T13:03:47.813957Z"
    }
   },
   "id": "f0a6a8a74c97258c",
   "execution_count": 31
  },
  {
   "cell_type": "code",
   "outputs": [],
   "source": [
    "grid[\"avg_depth\"] = grid[\"avg_altitude\"] - config.lake_altitude"
   ],
   "metadata": {
    "collapsed": false,
    "ExecuteTime": {
     "end_time": "2025-05-29T13:03:48.383991Z",
     "start_time": "2025-05-29T13:03:48.368977Z"
    }
   },
   "id": "31e88d4c527ccecb",
   "execution_count": 32
  },
  {
   "cell_type": "code",
   "outputs": [
    {
     "data": {
      "text/plain": "0    2.0\n1    2.0\n2    2.0\n3    2.0\n4    2.0\nName: avg_depth, dtype: float64"
     },
     "execution_count": 36,
     "metadata": {},
     "output_type": "execute_result"
    }
   ],
   "source": [
    "grid[\"avg_depth\"].head()"
   ],
   "metadata": {
    "collapsed": false,
    "ExecuteTime": {
     "end_time": "2025-05-29T13:05:16.993077Z",
     "start_time": "2025-05-29T13:05:16.970898Z"
    }
   },
   "id": "cd1e4f8c86555178",
   "execution_count": 36
  },
  {
   "cell_type": "code",
   "outputs": [],
   "source": [
    "grid[\"avg_depth\"] = grid[\"avg_depth\"].fillna(2)\n",
    "depth_array = grid[\"avg_depth\"].to_numpy().reshape(x.shape)"
   ],
   "metadata": {
    "collapsed": false,
    "ExecuteTime": {
     "end_time": "2025-05-29T13:05:13.919958Z",
     "start_time": "2025-05-29T13:05:13.903960Z"
    }
   },
   "id": "f94cc20eadc2aa99",
   "execution_count": 35
  },
  {
   "cell_type": "markdown",
   "source": [
    "## Save bathymetry"
   ],
   "metadata": {
    "collapsed": false
   },
   "id": "5a399cd1a465e786"
  },
  {
   "cell_type": "code",
   "outputs": [],
   "source": [
    "# Write gpkg file\n",
    "grid.to_file(os.path.join(config.paths.grid_folder_path, \"grid_with_depth_epsg2056.gpkg\"), driver=\"GPKG\")"
   ],
   "metadata": {
    "collapsed": false,
    "ExecuteTime": {
     "end_time": "2025-05-29T13:05:35.485796Z",
     "start_time": "2025-05-29T13:05:35.417750Z"
    }
   },
   "id": "6fbcc9b84e7d4eec",
   "execution_count": 37
  },
  {
   "cell_type": "code",
   "outputs": [],
   "source": [
    "# Write binary file\n",
    "fid = open(os.path.join(config.paths.grid_folder_path, \"bathy.bin\"), 'wb')\n",
    "depth_array.astype('>f8').tofile(fid)\n",
    "fid.close()"
   ],
   "metadata": {
    "collapsed": false,
    "ExecuteTime": {
     "end_time": "2025-05-29T13:13:17.858959Z",
     "start_time": "2025-05-29T13:13:17.838959Z"
    }
   },
   "id": "5b3c93b5bdd673d9",
   "execution_count": 42
  },
  {
   "cell_type": "code",
   "outputs": [],
   "source": [],
   "metadata": {
    "collapsed": false
   },
   "id": "ccf49a5aec3d8c96"
  }
 ],
 "metadata": {
  "kernelspec": {
   "display_name": "Python 3",
   "language": "python",
   "name": "python3"
  },
  "language_info": {
   "codemirror_mode": {
    "name": "ipython",
    "version": 2
   },
   "file_extension": ".py",
   "mimetype": "text/x-python",
   "name": "python",
   "nbconvert_exporter": "python",
   "pygments_lexer": "ipython2",
   "version": "2.7.6"
  }
 },
 "nbformat": 4,
 "nbformat_minor": 5
}
