{
 "cells": [
  {
   "cell_type": "code",
   "outputs": [],
   "source": [
    "import os\n",
    "from datetime import datetime\n",
    "import shutil"
   ],
   "metadata": {
    "collapsed": false,
    "ExecuteTime": {
     "end_time": "2025-02-24T09:26:56.525711Z",
     "start_time": "2025-02-24T09:26:56.504416Z"
    }
   },
   "id": "a71c63f6ed1dc57a",
   "execution_count": 1
  },
  {
   "cell_type": "code",
   "outputs": [],
   "source": [
    "from configs.config_object import ConfigObject\n",
    "from grid_and_bathy import get_dz_grid, get_grid\n",
    "from surface_forcings import extract_and_save_surface_forcings, download_weather_reanalysis, download_weather_forecast\n",
    "from initial_conditions import download_profile_idronaut_datalakes, create_initial_temperature_from_measure_profile\n",
    "from run_preprocessing import write_data_config_files, copy_template, remove_all_files_and_folders, write_size_config_files\n",
    "from utils import modify_arguments, convert_binary_files"
   ],
   "metadata": {
    "collapsed": true,
    "ExecuteTime": {
     "end_time": "2025-02-24T09:26:57.748774Z",
     "start_time": "2025-02-24T09:26:56.527805Z"
    }
   },
   "id": "initial_id",
   "execution_count": 2
  },
  {
   "cell_type": "markdown",
   "source": [
    "## Load config"
   ],
   "metadata": {
    "collapsed": false
   },
   "id": "e017a697ab5dd281"
  },
  {
   "cell_type": "code",
   "outputs": [],
   "source": [
    "config = ConfigObject('configs/config.json')\n",
    "output_folder = './99-output/'\n",
    "template_folder = os.path.join('./00-template_mitgcm/', config.template_folder)"
   ],
   "metadata": {
    "collapsed": false,
    "ExecuteTime": {
     "end_time": "2025-02-24T09:26:57.763984Z",
     "start_time": "2025-02-24T09:26:57.750040Z"
    }
   },
   "id": "bfae6ace9f9eefb3",
   "execution_count": 3
  },
  {
   "cell_type": "code",
   "outputs": [],
   "source": [
    "parsed_start_date = datetime.strptime(config.start_date, '%Y%m%d')\n",
    "parsed_end_date = datetime.strptime(config.end_date, '%Y%m%d')\n",
    "parsed_ref_date = datetime.strptime(config.reference_date, '%Y%m%d')\n",
    "\n",
    "sim_duration_in_second = (parsed_end_date - parsed_start_date).total_seconds()\n",
    "start_time_in_second_from_ref_date = (parsed_start_date - parsed_ref_date).total_seconds()\n",
    "end_time_in_second_from_ref_date = (parsed_end_date - parsed_ref_date).total_seconds()"
   ],
   "metadata": {
    "collapsed": false,
    "ExecuteTime": {
     "end_time": "2025-02-24T09:26:57.780043Z",
     "start_time": "2025-02-24T09:26:57.766055Z"
    }
   },
   "id": "f7f3bcdacfbb25f",
   "execution_count": 4
  },
  {
   "cell_type": "markdown",
   "source": [
    "## Initialize output folder"
   ],
   "metadata": {
    "collapsed": false
   },
   "id": "c7df9c6962b557b7"
  },
  {
   "cell_type": "code",
   "outputs": [],
   "source": [
    "remove_all_files_and_folders(output_folder)\n",
    "copy_template('./00-template_mitgcm/geneva_base', output_folder)\n",
    "copy_template(template_folder, output_folder)\n",
    "config.write_metadata_to_file(os.path.join(output_folder, 'metadata_simulation.txt'))"
   ],
   "metadata": {
    "collapsed": false,
    "ExecuteTime": {
     "end_time": "2025-02-24T09:32:30.561254Z",
     "start_time": "2025-02-24T09:32:30.498929Z"
    }
   },
   "id": "61510542679c189b",
   "execution_count": 25
  },
  {
   "cell_type": "markdown",
   "source": [
    "## Get MITgcm grid"
   ],
   "metadata": {
    "collapsed": false
   },
   "id": "3de5145a6740583e"
  },
  {
   "cell_type": "markdown",
   "source": [
    "#In case the grid has not been created yet\n",
    "build_and_save_mitgcm_grid(config.paths.grid_folder_path, \n",
    "                           config.Nx, \n",
    "                           config.Ny, \n",
    "                           config.grid_resolution, \n",
    "                           config.x0_ch1903, \n",
    "                           config.y0_ch1903, \n",
    "                           config.x1_ch1903, \n",
    "                           config.y1_ch1903)"
   ],
   "metadata": {
    "collapsed": false
   },
   "id": "f5ed1f3c1b7039dc"
  },
  {
   "cell_type": "code",
   "outputs": [],
   "source": [
    "mitgcm_grid = get_grid(config.paths.grid_folder_path)"
   ],
   "metadata": {
    "collapsed": false,
    "ExecuteTime": {
     "end_time": "2025-02-24T09:26:57.918581Z",
     "start_time": "2025-02-24T09:26:57.904950Z"
    }
   },
   "id": "b905cccc44f15ff8",
   "execution_count": 6
  },
  {
   "cell_type": "markdown",
   "source": [
    "## Build binary files"
   ],
   "metadata": {
    "collapsed": false
   },
   "id": "f12b5099d4d8e3b5"
  },
  {
   "cell_type": "code",
   "outputs": [
    {
     "name": "stdout",
     "output_type": "stream",
     "text": [
      "Directory './99-output/binary_data' created.\n"
     ]
    }
   ],
   "source": [
    "binary_data_folder = os.path.join(output_folder, 'binary_data')\n",
    "if not os.path.exists(binary_data_folder):\n",
    "    os.makedirs(binary_data_folder)\n",
    "    print(f\"Directory '{binary_data_folder}' created.\")"
   ],
   "metadata": {
    "collapsed": false,
    "ExecuteTime": {
     "end_time": "2025-02-24T09:26:57.933817Z",
     "start_time": "2025-02-24T09:26:57.920676Z"
    }
   },
   "id": "72cbdf023054ec88",
   "execution_count": 7
  },
  {
   "cell_type": "markdown",
   "source": [
    "**Get bathymetry**"
   ],
   "metadata": {
    "collapsed": false
   },
   "id": "88d4f6666cadd83"
  },
  {
   "cell_type": "code",
   "outputs": [
    {
     "data": {
      "text/plain": "'./99-output/binary_data\\\\bathy.bin'"
     },
     "execution_count": 8,
     "metadata": {},
     "output_type": "execute_result"
    }
   ],
   "source": [
    "#To create bathymetry, see notebook 'create_bathy'\n",
    "shutil.copy(config.paths.bathy_path, os.path.join(binary_data_folder, 'bathy.bin'))"
   ],
   "metadata": {
    "collapsed": false,
    "ExecuteTime": {
     "end_time": "2025-02-24T09:26:57.949477Z",
     "start_time": "2025-02-24T09:26:57.934853Z"
    }
   },
   "id": "1abe7bf9ca450da2",
   "execution_count": 8
  },
  {
   "cell_type": "markdown",
   "source": [
    "**Get surface forcings**"
   ],
   "metadata": {
    "collapsed": false
   },
   "id": "9673032f29e5e681"
  },
  {
   "cell_type": "code",
   "outputs": [
    {
     "name": "stdout",
     "output_type": "stream",
     "text": [
      "Data already exists: C:\\Users\\leroquan\\Documents\\Data\\meteo\\COSMO reanalysis\\raw_from_alplakes_api\\20240401_20240401_U.json\n",
      "Data already exists: C:\\Users\\leroquan\\Documents\\Data\\meteo\\COSMO reanalysis\\raw_from_alplakes_api\\20240401_20240401_T_2M.json\n",
      "Data already exists: C:\\Users\\leroquan\\Documents\\Data\\meteo\\COSMO reanalysis\\raw_from_alplakes_api\\20240401_20240401_GLOB.json\n",
      "Data already exists: C:\\Users\\leroquan\\Documents\\Data\\meteo\\COSMO reanalysis\\raw_from_alplakes_api\\20240401_20240401_V.json\n",
      "Data already exists: C:\\Users\\leroquan\\Documents\\Data\\meteo\\COSMO reanalysis\\raw_from_alplakes_api\\20240401_20240401_RELHUM_2M.json\n",
      "Data already exists: C:\\Users\\leroquan\\Documents\\Data\\meteo\\COSMO reanalysis\\raw_from_alplakes_api\\20240402_20240402_T_2M.json\n",
      "Data already exists: C:\\Users\\leroquan\\Documents\\Data\\meteo\\COSMO reanalysis\\raw_from_alplakes_api\\20240401_20240401_PMSL.json\n",
      "Data already exists: C:\\Users\\leroquan\\Documents\\Data\\meteo\\COSMO reanalysis\\raw_from_alplakes_api\\20240401_20240401_CLCT.json\n",
      "Data already exists: C:\\Users\\leroquan\\Documents\\Data\\meteo\\COSMO reanalysis\\raw_from_alplakes_api\\20240401_20240401_PS.json\n",
      "Data already exists: C:\\Users\\leroquan\\Documents\\Data\\meteo\\COSMO reanalysis\\raw_from_alplakes_api\\20240402_20240402_V.json\n",
      "Data already exists: C:\\Users\\leroquan\\Documents\\Data\\meteo\\COSMO reanalysis\\raw_from_alplakes_api\\20240402_20240402_U.json\n",
      "Data already exists: C:\\Users\\leroquan\\Documents\\Data\\meteo\\COSMO reanalysis\\raw_from_alplakes_api\\20240402_20240402_GLOB.json\n",
      "Data already exists: C:\\Users\\leroquan\\Documents\\Data\\meteo\\COSMO reanalysis\\raw_from_alplakes_api\\20240402_20240402_CLCT.json\n",
      "Data already exists: C:\\Users\\leroquan\\Documents\\Data\\meteo\\COSMO reanalysis\\raw_from_alplakes_api\\20240402_20240402_PMSL.json\n",
      "Data already exists: C:\\Users\\leroquan\\Documents\\Data\\meteo\\COSMO reanalysis\\raw_from_alplakes_api\\20240402_20240402_PS.json\n",
      "Data already exists: C:\\Users\\leroquan\\Documents\\Data\\meteo\\COSMO reanalysis\\raw_from_alplakes_api\\20240402_20240402_RELHUM_2M.json\n",
      "Data already exists: C:\\Users\\leroquan\\Documents\\Data\\meteo\\COSMO reanalysis\\raw_from_alplakes_api\\20240403_20240403_T_2M.json\n",
      "Data already exists: C:\\Users\\leroquan\\Documents\\Data\\meteo\\COSMO reanalysis\\raw_from_alplakes_api\\20240403_20240403_RELHUM_2M.json\n",
      "Data already exists: C:\\Users\\leroquan\\Documents\\Data\\meteo\\COSMO reanalysis\\raw_from_alplakes_api\\20240403_20240403_U.json\n",
      "Data already exists: C:\\Users\\leroquan\\Documents\\Data\\meteo\\COSMO reanalysis\\raw_from_alplakes_api\\20240403_20240403_PMSL.json\n",
      "Data already exists: C:\\Users\\leroquan\\Documents\\Data\\meteo\\COSMO reanalysis\\raw_from_alplakes_api\\20240403_20240403_V.json\n",
      "Data already exists: C:\\Users\\leroquan\\Documents\\Data\\meteo\\COSMO reanalysis\\raw_from_alplakes_api\\20240403_20240403_PS.json\n",
      "Data already exists: C:\\Users\\leroquan\\Documents\\Data\\meteo\\COSMO reanalysis\\raw_from_alplakes_api\\20240403_20240403_GLOB.json\n",
      "Data already exists: C:\\Users\\leroquan\\Documents\\Data\\meteo\\COSMO reanalysis\\raw_from_alplakes_api\\20240403_20240403_CLCT.json\n",
      "Data already exists: C:\\Users\\leroquan\\Documents\\Data\\meteo\\COSMO reanalysis\\raw_from_alplakes_api\\20240404_20240404_PS.json\n",
      "Data already exists: C:\\Users\\leroquan\\Documents\\Data\\meteo\\COSMO reanalysis\\raw_from_alplakes_api\\20240404_20240404_V.json\n",
      "Data already exists: C:\\Users\\leroquan\\Documents\\Data\\meteo\\COSMO reanalysis\\raw_from_alplakes_api\\20240404_20240404_RELHUM_2M.json\n",
      "Data already exists: C:\\Users\\leroquan\\Documents\\Data\\meteo\\COSMO reanalysis\\raw_from_alplakes_api\\20240404_20240404_CLCT.json\n",
      "Data already exists: C:\\Users\\leroquan\\Documents\\Data\\meteo\\COSMO reanalysis\\raw_from_alplakes_api\\20240405_20240405_T_2M.json\n",
      "Data already exists: C:\\Users\\leroquan\\Documents\\Data\\meteo\\COSMO reanalysis\\raw_from_alplakes_api\\20240404_20240404_T_2M.json\n",
      "Data already exists: C:\\Users\\leroquan\\Documents\\Data\\meteo\\COSMO reanalysis\\raw_from_alplakes_api\\20240404_20240404_U.json\n",
      "Data already exists: C:\\Users\\leroquan\\Documents\\Data\\meteo\\COSMO reanalysis\\raw_from_alplakes_api\\20240404_20240404_GLOB.json\n",
      "Data already exists: C:\\Users\\leroquan\\Documents\\Data\\meteo\\COSMO reanalysis\\raw_from_alplakes_api\\20240404_20240404_PMSL.json\n",
      "Data already exists: C:\\Users\\leroquan\\Documents\\Data\\meteo\\COSMO reanalysis\\raw_from_alplakes_api\\20240405_20240405_U.json\n",
      "Data already exists: C:\\Users\\leroquan\\Documents\\Data\\meteo\\COSMO reanalysis\\raw_from_alplakes_api\\20240405_20240405_RELHUM_2M.json\n",
      "Data already exists: C:\\Users\\leroquan\\Documents\\Data\\meteo\\COSMO reanalysis\\raw_from_alplakes_api\\20240405_20240405_PMSL.json\n",
      "Data already exists: C:\\Users\\leroquan\\Documents\\Data\\meteo\\COSMO reanalysis\\raw_from_alplakes_api\\20240405_20240405_PS.json\n",
      "Data already exists: C:\\Users\\leroquan\\Documents\\Data\\meteo\\COSMO reanalysis\\raw_from_alplakes_api\\20240405_20240405_V.json\n",
      "Data already exists: C:\\Users\\leroquan\\Documents\\Data\\meteo\\COSMO reanalysis\\raw_from_alplakes_api\\20240405_20240405_GLOB.json\n",
      "Data already exists: C:\\Users\\leroquan\\Documents\\Data\\meteo\\COSMO reanalysis\\raw_from_alplakes_api\\20240405_20240405_CLCT.json\n",
      "Data already exists: C:\\Users\\leroquan\\Documents\\Data\\meteo\\COSMO reanalysis\\raw_from_alplakes_api\\20240406_20240406_T_2M.json\n",
      "Data already exists: C:\\Users\\leroquan\\Documents\\Data\\meteo\\COSMO reanalysis\\raw_from_alplakes_api\\20240406_20240406_U.json\n",
      "Data already exists: C:\\Users\\leroquan\\Documents\\Data\\meteo\\COSMO reanalysis\\raw_from_alplakes_api\\20240406_20240406_RELHUM_2M.json\n",
      "Data already exists: C:\\Users\\leroquan\\Documents\\Data\\meteo\\COSMO reanalysis\\raw_from_alplakes_api\\20240406_20240406_GLOB.json\n",
      "Data already exists: C:\\Users\\leroquan\\Documents\\Data\\meteo\\COSMO reanalysis\\raw_from_alplakes_api\\20240406_20240406_PS.json\n",
      "Data already exists: C:\\Users\\leroquan\\Documents\\Data\\meteo\\COSMO reanalysis\\raw_from_alplakes_api\\20240406_20240406_CLCT.json\n",
      "Data already exists: C:\\Users\\leroquan\\Documents\\Data\\meteo\\COSMO reanalysis\\raw_from_alplakes_api\\20240407_20240407_GLOB.json\n",
      "Data already exists: C:\\Users\\leroquan\\Documents\\Data\\meteo\\COSMO reanalysis\\raw_from_alplakes_api\\20240406_20240406_PMSL.json\n",
      "Data already exists: C:\\Users\\leroquan\\Documents\\Data\\meteo\\COSMO reanalysis\\raw_from_alplakes_api\\20240407_20240407_V.json\n",
      "Data already exists: C:\\Users\\leroquan\\Documents\\Data\\meteo\\COSMO reanalysis\\raw_from_alplakes_api\\20240407_20240407_U.json\n",
      "Data already exists: C:\\Users\\leroquan\\Documents\\Data\\meteo\\COSMO reanalysis\\raw_from_alplakes_api\\20240406_20240406_V.json\n",
      "Data already exists: C:\\Users\\leroquan\\Documents\\Data\\meteo\\COSMO reanalysis\\raw_from_alplakes_api\\20240407_20240407_T_2M.json\n",
      "Data already exists: C:\\Users\\leroquan\\Documents\\Data\\meteo\\COSMO reanalysis\\raw_from_alplakes_api\\20240407_20240407_RELHUM_2M.json\n",
      "Data already exists: C:\\Users\\leroquan\\Documents\\Data\\meteo\\COSMO reanalysis\\raw_from_alplakes_api\\20240407_20240407_PS.json\n",
      "Data already exists: C:\\Users\\leroquan\\Documents\\Data\\meteo\\COSMO reanalysis\\raw_from_alplakes_api\\20240407_20240407_PMSL.json\n",
      "Data already exists: C:\\Users\\leroquan\\Documents\\Data\\meteo\\COSMO reanalysis\\raw_from_alplakes_api\\20240408_20240408_PMSL.json\n",
      "Data already exists: C:\\Users\\leroquan\\Documents\\Data\\meteo\\COSMO reanalysis\\raw_from_alplakes_api\\20240408_20240408_GLOB.json\n",
      "Data already exists: C:\\Users\\leroquan\\Documents\\Data\\meteo\\COSMO reanalysis\\raw_from_alplakes_api\\20240407_20240407_CLCT.json\n",
      "Data already exists: C:\\Users\\leroquan\\Documents\\Data\\meteo\\COSMO reanalysis\\raw_from_alplakes_api\\20240408_20240408_CLCT.json\n",
      "Data already exists: C:\\Users\\leroquan\\Documents\\Data\\meteo\\COSMO reanalysis\\raw_from_alplakes_api\\20240408_20240408_U.json\n",
      "Data already exists: C:\\Users\\leroquan\\Documents\\Data\\meteo\\COSMO reanalysis\\raw_from_alplakes_api\\20240408_20240408_PS.json\n",
      "Data already exists: C:\\Users\\leroquan\\Documents\\Data\\meteo\\COSMO reanalysis\\raw_from_alplakes_api\\20240408_20240408_V.json\n",
      "Data already exists: C:\\Users\\leroquan\\Documents\\Data\\meteo\\COSMO reanalysis\\raw_from_alplakes_api\\20240409_20240409_T_2M.json\n",
      "Data already exists: C:\\Users\\leroquan\\Documents\\Data\\meteo\\COSMO reanalysis\\raw_from_alplakes_api\\20240408_20240408_RELHUM_2M.json\n",
      "Data already exists: C:\\Users\\leroquan\\Documents\\Data\\meteo\\COSMO reanalysis\\raw_from_alplakes_api\\20240409_20240409_U.json\n",
      "Data already exists: C:\\Users\\leroquan\\Documents\\Data\\meteo\\COSMO reanalysis\\raw_from_alplakes_api\\20240408_20240408_T_2M.json\n",
      "Data already exists: C:\\Users\\leroquan\\Documents\\Data\\meteo\\COSMO reanalysis\\raw_from_alplakes_api\\20240409_20240409_PMSL.json\n",
      "Data already exists: C:\\Users\\leroquan\\Documents\\Data\\meteo\\COSMO reanalysis\\raw_from_alplakes_api\\20240409_20240409_CLCT.json\n",
      "Data already exists: C:\\Users\\leroquan\\Documents\\Data\\meteo\\COSMO reanalysis\\raw_from_alplakes_api\\20240409_20240409_PS.json\n",
      "Data already exists: C:\\Users\\leroquan\\Documents\\Data\\meteo\\COSMO reanalysis\\raw_from_alplakes_api\\20240409_20240409_GLOB.json\n",
      "Data already exists: C:\\Users\\leroquan\\Documents\\Data\\meteo\\COSMO reanalysis\\raw_from_alplakes_api\\20240409_20240409_RELHUM_2M.json\n",
      "Data already exists: C:\\Users\\leroquan\\Documents\\Data\\meteo\\COSMO reanalysis\\raw_from_alplakes_api\\20240410_20240410_U.json\n",
      "Data already exists: C:\\Users\\leroquan\\Documents\\Data\\meteo\\COSMO reanalysis\\raw_from_alplakes_api\\20240409_20240409_V.json\n",
      "Data already exists: C:\\Users\\leroquan\\Documents\\Data\\meteo\\COSMO reanalysis\\raw_from_alplakes_api\\20240410_20240410_PMSL.json\n",
      "Data already exists: C:\\Users\\leroquan\\Documents\\Data\\meteo\\COSMO reanalysis\\raw_from_alplakes_api\\20240410_20240410_V.json\n",
      "Data already exists: C:\\Users\\leroquan\\Documents\\Data\\meteo\\COSMO reanalysis\\raw_from_alplakes_api\\20240410_20240410_T_2M.json\n",
      "Data already exists: C:\\Users\\leroquan\\Documents\\Data\\meteo\\COSMO reanalysis\\raw_from_alplakes_api\\20240410_20240410_PS.json\n",
      "Data already exists: C:\\Users\\leroquan\\Documents\\Data\\meteo\\COSMO reanalysis\\raw_from_alplakes_api\\20240410_20240410_GLOB.json\n",
      "Data already exists: C:\\Users\\leroquan\\Documents\\Data\\meteo\\COSMO reanalysis\\raw_from_alplakes_api\\20240411_20240411_V.json\n",
      "Data already exists: C:\\Users\\leroquan\\Documents\\Data\\meteo\\COSMO reanalysis\\raw_from_alplakes_api\\20240410_20240410_RELHUM_2M.json\n",
      "Data already exists: C:\\Users\\leroquan\\Documents\\Data\\meteo\\COSMO reanalysis\\raw_from_alplakes_api\\20240411_20240411_U.json\n",
      "Data already exists: C:\\Users\\leroquan\\Documents\\Data\\meteo\\COSMO reanalysis\\raw_from_alplakes_api\\20240410_20240410_CLCT.json\n",
      "Data already exists: C:\\Users\\leroquan\\Documents\\Data\\meteo\\COSMO reanalysis\\raw_from_alplakes_api\\20240411_20240411_RELHUM_2M.json\n",
      "Data already exists: C:\\Users\\leroquan\\Documents\\Data\\meteo\\COSMO reanalysis\\raw_from_alplakes_api\\20240411_20240411_GLOB.json\n",
      "Data already exists: C:\\Users\\leroquan\\Documents\\Data\\meteo\\COSMO reanalysis\\raw_from_alplakes_api\\20240411_20240411_T_2M.json\n",
      "Data already exists: C:\\Users\\leroquan\\Documents\\Data\\meteo\\COSMO reanalysis\\raw_from_alplakes_api\\20240412_20240412_T_2M.json\n",
      "Data already exists: C:\\Users\\leroquan\\Documents\\Data\\meteo\\COSMO reanalysis\\raw_from_alplakes_api\\20240411_20240411_PMSL.json\n",
      "Data already exists: C:\\Users\\leroquan\\Documents\\Data\\meteo\\COSMO reanalysis\\raw_from_alplakes_api\\20240411_20240411_PS.json\n",
      "Data already exists: C:\\Users\\leroquan\\Documents\\Data\\meteo\\COSMO reanalysis\\raw_from_alplakes_api\\20240412_20240412_GLOB.json\n",
      "Data already exists: C:\\Users\\leroquan\\Documents\\Data\\meteo\\COSMO reanalysis\\raw_from_alplakes_api\\20240412_20240412_RELHUM_2M.json\n",
      "Data already exists: C:\\Users\\leroquan\\Documents\\Data\\meteo\\COSMO reanalysis\\raw_from_alplakes_api\\20240412_20240412_U.json\n",
      "Data already exists: C:\\Users\\leroquan\\Documents\\Data\\meteo\\COSMO reanalysis\\raw_from_alplakes_api\\20240411_20240411_CLCT.json\n",
      "Data already exists: C:\\Users\\leroquan\\Documents\\Data\\meteo\\COSMO reanalysis\\raw_from_alplakes_api\\20240412_20240412_PMSL.json\n",
      "Data already exists: C:\\Users\\leroquan\\Documents\\Data\\meteo\\COSMO reanalysis\\raw_from_alplakes_api\\20240413_20240413_T_2M.json\n",
      "Data already exists: C:\\Users\\leroquan\\Documents\\Data\\meteo\\COSMO reanalysis\\raw_from_alplakes_api\\20240413_20240413_U.json\n",
      "Data already exists: C:\\Users\\leroquan\\Documents\\Data\\meteo\\COSMO reanalysis\\raw_from_alplakes_api\\20240412_20240412_PS.json\n",
      "Data already exists: C:\\Users\\leroquan\\Documents\\Data\\meteo\\COSMO reanalysis\\raw_from_alplakes_api\\20240412_20240412_CLCT.json\n",
      "Data already exists: C:\\Users\\leroquan\\Documents\\Data\\meteo\\COSMO reanalysis\\raw_from_alplakes_api\\20240413_20240413_V.json\n",
      "Data already exists: C:\\Users\\leroquan\\Documents\\Data\\meteo\\COSMO reanalysis\\raw_from_alplakes_api\\20240413_20240413_RELHUM_2M.json\n",
      "Data already exists: C:\\Users\\leroquan\\Documents\\Data\\meteo\\COSMO reanalysis\\raw_from_alplakes_api\\20240413_20240413_GLOB.json\n",
      "Data already exists: C:\\Users\\leroquan\\Documents\\Data\\meteo\\COSMO reanalysis\\raw_from_alplakes_api\\20240414_20240414_V.json\n",
      "Data already exists: C:\\Users\\leroquan\\Documents\\Data\\meteo\\COSMO reanalysis\\raw_from_alplakes_api\\20240413_20240413_CLCT.json\n",
      "Data already exists: C:\\Users\\leroquan\\Documents\\Data\\meteo\\COSMO reanalysis\\raw_from_alplakes_api\\20240413_20240413_PS.json\n",
      "Data already exists: C:\\Users\\leroquan\\Documents\\Data\\meteo\\COSMO reanalysis\\raw_from_alplakes_api\\20240413_20240413_PMSL.json\n",
      "Data already exists: C:\\Users\\leroquan\\Documents\\Data\\meteo\\COSMO reanalysis\\raw_from_alplakes_api\\20240412_20240412_V.json\n",
      "Data already exists: C:\\Users\\leroquan\\Documents\\Data\\meteo\\COSMO reanalysis\\raw_from_alplakes_api\\20240414_20240414_RELHUM_2M.json\n",
      "Data already exists: C:\\Users\\leroquan\\Documents\\Data\\meteo\\COSMO reanalysis\\raw_from_alplakes_api\\20240414_20240414_U.json\n",
      "Data already exists: C:\\Users\\leroquan\\Documents\\Data\\meteo\\COSMO reanalysis\\raw_from_alplakes_api\\20240414_20240414_PMSL.json\n",
      "Data already exists: C:\\Users\\leroquan\\Documents\\Data\\meteo\\COSMO reanalysis\\raw_from_alplakes_api\\20240414_20240414_GLOB.json\n",
      "Data already exists: C:\\Users\\leroquan\\Documents\\Data\\meteo\\COSMO reanalysis\\raw_from_alplakes_api\\20240414_20240414_CLCT.json\n",
      "Data already exists: C:\\Users\\leroquan\\Documents\\Data\\meteo\\COSMO reanalysis\\raw_from_alplakes_api\\20240414_20240414_T_2M.json\n",
      "Data already exists: C:\\Users\\leroquan\\Documents\\Data\\meteo\\COSMO reanalysis\\raw_from_alplakes_api\\20240415_20240415_T_2M.json\n",
      "Data already exists: C:\\Users\\leroquan\\Documents\\Data\\meteo\\COSMO reanalysis\\raw_from_alplakes_api\\20240414_20240414_PS.json\n",
      "Data already exists: C:\\Users\\leroquan\\Documents\\Data\\meteo\\COSMO reanalysis\\raw_from_alplakes_api\\20240415_20240415_GLOB.json\n",
      "Data already exists: C:\\Users\\leroquan\\Documents\\Data\\meteo\\COSMO reanalysis\\raw_from_alplakes_api\\20240415_20240415_PMSL.json\n",
      "Data already exists: C:\\Users\\leroquan\\Documents\\Data\\meteo\\COSMO reanalysis\\raw_from_alplakes_api\\20240415_20240415_V.json\n",
      "Data already exists: C:\\Users\\leroquan\\Documents\\Data\\meteo\\COSMO reanalysis\\raw_from_alplakes_api\\20240415_20240415_CLCT.json\n",
      "Data already exists: C:\\Users\\leroquan\\Documents\\Data\\meteo\\COSMO reanalysis\\raw_from_alplakes_api\\20240415_20240415_U.json\n",
      "Data already exists: C:\\Users\\leroquan\\Documents\\Data\\meteo\\COSMO reanalysis\\raw_from_alplakes_api\\20240416_20240416_U.json\n",
      "Data already exists: C:\\Users\\leroquan\\Documents\\Data\\meteo\\COSMO reanalysis\\raw_from_alplakes_api\\20240415_20240415_PS.json\n",
      "Data already exists: C:\\Users\\leroquan\\Documents\\Data\\meteo\\COSMO reanalysis\\raw_from_alplakes_api\\20240416_20240416_PMSL.json\n",
      "Data already exists: C:\\Users\\leroquan\\Documents\\Data\\meteo\\COSMO reanalysis\\raw_from_alplakes_api\\20240416_20240416_T_2M.json\n",
      "Data already exists: C:\\Users\\leroquan\\Documents\\Data\\meteo\\COSMO reanalysis\\raw_from_alplakes_api\\20240415_20240415_RELHUM_2M.json\n",
      "Data already exists: C:\\Users\\leroquan\\Documents\\Data\\meteo\\COSMO reanalysis\\raw_from_alplakes_api\\20240416_20240416_V.json\n",
      "Data already exists: C:\\Users\\leroquan\\Documents\\Data\\meteo\\COSMO reanalysis\\raw_from_alplakes_api\\20240416_20240416_GLOB.json\n",
      "Data already exists: C:\\Users\\leroquan\\Documents\\Data\\meteo\\COSMO reanalysis\\raw_from_alplakes_api\\20240416_20240416_RELHUM_2M.json\n",
      "Data already exists: C:\\Users\\leroquan\\Documents\\Data\\meteo\\COSMO reanalysis\\raw_from_alplakes_api\\20240416_20240416_CLCT.json\n",
      "Data already exists: C:\\Users\\leroquan\\Documents\\Data\\meteo\\COSMO reanalysis\\raw_from_alplakes_api\\20240417_20240417_T_2M.json\n",
      "Data already exists: C:\\Users\\leroquan\\Documents\\Data\\meteo\\COSMO reanalysis\\raw_from_alplakes_api\\20240416_20240416_PS.json\n",
      "Data already exists: C:\\Users\\leroquan\\Documents\\Data\\meteo\\COSMO reanalysis\\raw_from_alplakes_api\\20240417_20240417_U.json\n",
      "Data already exists: C:\\Users\\leroquan\\Documents\\Data\\meteo\\COSMO reanalysis\\raw_from_alplakes_api\\20240417_20240417_PS.json\n",
      "Data already exists: C:\\Users\\leroquan\\Documents\\Data\\meteo\\COSMO reanalysis\\raw_from_alplakes_api\\20240417_20240417_RELHUM_2M.json\n",
      "Data already exists: C:\\Users\\leroquan\\Documents\\Data\\meteo\\COSMO reanalysis\\raw_from_alplakes_api\\20240417_20240417_PMSL.json\n",
      "Data already exists: C:\\Users\\leroquan\\Documents\\Data\\meteo\\COSMO reanalysis\\raw_from_alplakes_api\\20240417_20240417_V.json\n",
      "Data already exists: C:\\Users\\leroquan\\Documents\\Data\\meteo\\COSMO reanalysis\\raw_from_alplakes_api\\20240417_20240417_CLCT.json\n",
      "Data already exists: C:\\Users\\leroquan\\Documents\\Data\\meteo\\COSMO reanalysis\\raw_from_alplakes_api\\20240417_20240417_GLOB.json\n",
      "Data already exists: C:\\Users\\leroquan\\Documents\\Data\\meteo\\COSMO reanalysis\\raw_from_alplakes_api\\20240418_20240418_T_2M.json\n",
      "Data already exists: C:\\Users\\leroquan\\Documents\\Data\\meteo\\COSMO reanalysis\\raw_from_alplakes_api\\20240418_20240418_U.json\n",
      "Data already exists: C:\\Users\\leroquan\\Documents\\Data\\meteo\\COSMO reanalysis\\raw_from_alplakes_api\\20240418_20240418_V.json\n",
      "Data already exists: C:\\Users\\leroquan\\Documents\\Data\\meteo\\COSMO reanalysis\\raw_from_alplakes_api\\20240418_20240418_PMSL.json\n",
      "Data already exists: C:\\Users\\leroquan\\Documents\\Data\\meteo\\COSMO reanalysis\\raw_from_alplakes_api\\20240418_20240418_GLOB.json\n",
      "Data already exists: C:\\Users\\leroquan\\Documents\\Data\\meteo\\COSMO reanalysis\\raw_from_alplakes_api\\20240419_20240419_GLOB.json\n",
      "Data already exists: C:\\Users\\leroquan\\Documents\\Data\\meteo\\COSMO reanalysis\\raw_from_alplakes_api\\20240419_20240419_V.json\n",
      "Data already exists: C:\\Users\\leroquan\\Documents\\Data\\meteo\\COSMO reanalysis\\raw_from_alplakes_api\\20240418_20240418_PS.json\n",
      "Data already exists: C:\\Users\\leroquan\\Documents\\Data\\meteo\\COSMO reanalysis\\raw_from_alplakes_api\\20240419_20240419_PMSL.json\n",
      "Data already exists: C:\\Users\\leroquan\\Documents\\Data\\meteo\\COSMO reanalysis\\raw_from_alplakes_api\\20240418_20240418_RELHUM_2M.json\n",
      "Data already exists: C:\\Users\\leroquan\\Documents\\Data\\meteo\\COSMO reanalysis\\raw_from_alplakes_api\\20240419_20240419_RELHUM_2M.json\n",
      "Data already exists: C:\\Users\\leroquan\\Documents\\Data\\meteo\\COSMO reanalysis\\raw_from_alplakes_api\\20240419_20240419_PS.json\n",
      "Data already exists: C:\\Users\\leroquan\\Documents\\Data\\meteo\\COSMO reanalysis\\raw_from_alplakes_api\\20240418_20240418_CLCT.json\n",
      "Data already exists: C:\\Users\\leroquan\\Documents\\Data\\meteo\\COSMO reanalysis\\raw_from_alplakes_api\\20240419_20240419_T_2M.json\n",
      "Data already exists: C:\\Users\\leroquan\\Documents\\Data\\meteo\\COSMO reanalysis\\raw_from_alplakes_api\\20240419_20240419_CLCT.json\n",
      "Data already exists: C:\\Users\\leroquan\\Documents\\Data\\meteo\\COSMO reanalysis\\raw_from_alplakes_api\\20240419_20240419_U.json\n",
      "Data already exists: C:\\Users\\leroquan\\Documents\\Data\\meteo\\COSMO reanalysis\\raw_from_alplakes_api\\20240420_20240420_T_2M.json\n",
      "Data already exists: C:\\Users\\leroquan\\Documents\\Data\\meteo\\COSMO reanalysis\\raw_from_alplakes_api\\20240420_20240420_GLOB.json\n",
      "Data already exists: C:\\Users\\leroquan\\Documents\\Data\\meteo\\COSMO reanalysis\\raw_from_alplakes_api\\20240420_20240420_U.json\n",
      "Data already exists: C:\\Users\\leroquan\\Documents\\Data\\meteo\\COSMO reanalysis\\raw_from_alplakes_api\\20240420_20240420_V.json\n",
      "Data already exists: C:\\Users\\leroquan\\Documents\\Data\\meteo\\COSMO reanalysis\\raw_from_alplakes_api\\20240420_20240420_PMSL.json\n",
      "Data already exists: C:\\Users\\leroquan\\Documents\\Data\\meteo\\COSMO reanalysis\\raw_from_alplakes_api\\20240420_20240420_CLCT.json\n",
      "Data already exists: C:\\Users\\leroquan\\Documents\\Data\\meteo\\COSMO reanalysis\\raw_from_alplakes_api\\20240420_20240420_RELHUM_2M.json\n",
      "Data already exists: C:\\Users\\leroquan\\Documents\\Data\\meteo\\COSMO reanalysis\\raw_from_alplakes_api\\20240421_20240421_U.json\n",
      "Data already exists: C:\\Users\\leroquan\\Documents\\Data\\meteo\\COSMO reanalysis\\raw_from_alplakes_api\\20240421_20240421_RELHUM_2M.json\n",
      "Data already exists: C:\\Users\\leroquan\\Documents\\Data\\meteo\\COSMO reanalysis\\raw_from_alplakes_api\\20240421_20240421_T_2M.json\n",
      "Data already exists: C:\\Users\\leroquan\\Documents\\Data\\meteo\\COSMO reanalysis\\raw_from_alplakes_api\\20240420_20240420_PS.json\n",
      "Data already exists: C:\\Users\\leroquan\\Documents\\Data\\meteo\\COSMO reanalysis\\raw_from_alplakes_api\\20240421_20240421_GLOB.json\n",
      "Data already exists: C:\\Users\\leroquan\\Documents\\Data\\meteo\\COSMO reanalysis\\raw_from_alplakes_api\\20240421_20240421_V.json\n",
      "Data already exists: C:\\Users\\leroquan\\Documents\\Data\\meteo\\COSMO reanalysis\\raw_from_alplakes_api\\20240421_20240421_PMSL.json\n",
      "Data already exists: C:\\Users\\leroquan\\Documents\\Data\\meteo\\COSMO reanalysis\\raw_from_alplakes_api\\20240421_20240421_CLCT.json\n",
      "Data already exists: C:\\Users\\leroquan\\Documents\\Data\\meteo\\COSMO reanalysis\\raw_from_alplakes_api\\20240421_20240421_PS.json\n",
      "Data already exists: C:\\Users\\leroquan\\Documents\\Data\\meteo\\COSMO reanalysis\\raw_from_alplakes_api\\20240422_20240422_T_2M.json\n",
      "Data already exists: C:\\Users\\leroquan\\Documents\\Data\\meteo\\COSMO reanalysis\\raw_from_alplakes_api\\20240422_20240422_GLOB.json\n",
      "Data already exists: C:\\Users\\leroquan\\Documents\\Data\\meteo\\COSMO reanalysis\\raw_from_alplakes_api\\20240422_20240422_U.json\n",
      "Data already exists: C:\\Users\\leroquan\\Documents\\Data\\meteo\\COSMO reanalysis\\raw_from_alplakes_api\\20240422_20240422_V.json\n",
      "Data already exists: C:\\Users\\leroquan\\Documents\\Data\\meteo\\COSMO reanalysis\\raw_from_alplakes_api\\20240422_20240422_PS.json\n",
      "Data already exists: C:\\Users\\leroquan\\Documents\\Data\\meteo\\COSMO reanalysis\\raw_from_alplakes_api\\20240422_20240422_RELHUM_2M.json\n",
      "Data already exists: C:\\Users\\leroquan\\Documents\\Data\\meteo\\COSMO reanalysis\\raw_from_alplakes_api\\20240422_20240422_PMSL.json\n",
      "Data already exists: C:\\Users\\leroquan\\Documents\\Data\\meteo\\COSMO reanalysis\\raw_from_alplakes_api\\20240422_20240422_CLCT.json\n",
      "Data already exists: C:\\Users\\leroquan\\Documents\\Data\\meteo\\COSMO reanalysis\\raw_from_alplakes_api\\20240423_20240423_U.json\n",
      "Data already exists: C:\\Users\\leroquan\\Documents\\Data\\meteo\\COSMO reanalysis\\raw_from_alplakes_api\\20240423_20240423_T_2M.json\n",
      "Data already exists: C:\\Users\\leroquan\\Documents\\Data\\meteo\\COSMO reanalysis\\raw_from_alplakes_api\\20240423_20240423_CLCT.json\n",
      "Data already exists: C:\\Users\\leroquan\\Documents\\Data\\meteo\\COSMO reanalysis\\raw_from_alplakes_api\\20240423_20240423_PMSL.json\n",
      "Data already exists: C:\\Users\\leroquan\\Documents\\Data\\meteo\\COSMO reanalysis\\raw_from_alplakes_api\\20240423_20240423_GLOB.json\n",
      "Data already exists: C:\\Users\\leroquan\\Documents\\Data\\meteo\\COSMO reanalysis\\raw_from_alplakes_api\\20240423_20240423_RELHUM_2M.json\n",
      "Data already exists: C:\\Users\\leroquan\\Documents\\Data\\meteo\\COSMO reanalysis\\raw_from_alplakes_api\\20240423_20240423_V.json\n",
      "Data already exists: C:\\Users\\leroquan\\Documents\\Data\\meteo\\COSMO reanalysis\\raw_from_alplakes_api\\20240423_20240423_PS.json\n",
      "Data already exists: C:\\Users\\leroquan\\Documents\\Data\\meteo\\COSMO reanalysis\\raw_from_alplakes_api\\20240424_20240424_PMSL.json\n",
      "Data already exists: C:\\Users\\leroquan\\Documents\\Data\\meteo\\COSMO reanalysis\\raw_from_alplakes_api\\20240424_20240424_T_2M.json\n",
      "Data already exists: C:\\Users\\leroquan\\Documents\\Data\\meteo\\COSMO reanalysis\\raw_from_alplakes_api\\20240424_20240424_U.json\n",
      "Data already exists: C:\\Users\\leroquan\\Documents\\Data\\meteo\\COSMO reanalysis\\raw_from_alplakes_api\\20240424_20240424_CLCT.json\n",
      "Data already exists: C:\\Users\\leroquan\\Documents\\Data\\meteo\\COSMO reanalysis\\raw_from_alplakes_api\\20240424_20240424_PS.json\n",
      "Data already exists: C:\\Users\\leroquan\\Documents\\Data\\meteo\\COSMO reanalysis\\raw_from_alplakes_api\\20240424_20240424_GLOB.json\n",
      "Data already exists: C:\\Users\\leroquan\\Documents\\Data\\meteo\\COSMO reanalysis\\raw_from_alplakes_api\\20240424_20240424_V.json\n",
      "Data already exists: C:\\Users\\leroquan\\Documents\\Data\\meteo\\COSMO reanalysis\\raw_from_alplakes_api\\20240425_20240425_T_2M.json\n",
      "Data already exists: C:\\Users\\leroquan\\Documents\\Data\\meteo\\COSMO reanalysis\\raw_from_alplakes_api\\20240424_20240424_RELHUM_2M.json\n",
      "Data already exists: C:\\Users\\leroquan\\Documents\\Data\\meteo\\COSMO reanalysis\\raw_from_alplakes_api\\20240425_20240425_U.json\n",
      "Data already exists: C:\\Users\\leroquan\\Documents\\Data\\meteo\\COSMO reanalysis\\raw_from_alplakes_api\\20240425_20240425_GLOB.json\n",
      "Data already exists: C:\\Users\\leroquan\\Documents\\Data\\meteo\\COSMO reanalysis\\raw_from_alplakes_api\\20240425_20240425_V.json\n",
      "Data already exists: C:\\Users\\leroquan\\Documents\\Data\\meteo\\COSMO reanalysis\\raw_from_alplakes_api\\20240425_20240425_RELHUM_2M.json\n",
      "Data already exists: C:\\Users\\leroquan\\Documents\\Data\\meteo\\COSMO reanalysis\\raw_from_alplakes_api\\20240425_20240425_PS.json\n",
      "Data already exists: C:\\Users\\leroquan\\Documents\\Data\\meteo\\COSMO reanalysis\\raw_from_alplakes_api\\20240425_20240425_PMSL.json\n",
      "Data already exists: C:\\Users\\leroquan\\Documents\\Data\\meteo\\COSMO reanalysis\\raw_from_alplakes_api\\20240426_20240426_T_2M.json\n",
      "Data already exists: C:\\Users\\leroquan\\Documents\\Data\\meteo\\COSMO reanalysis\\raw_from_alplakes_api\\20240425_20240425_CLCT.json\n",
      "Data already exists: C:\\Users\\leroquan\\Documents\\Data\\meteo\\COSMO reanalysis\\raw_from_alplakes_api\\20240426_20240426_U.json\n",
      "Data already exists: C:\\Users\\leroquan\\Documents\\Data\\meteo\\COSMO reanalysis\\raw_from_alplakes_api\\20240426_20240426_RELHUM_2M.json\n",
      "Data already exists: C:\\Users\\leroquan\\Documents\\Data\\meteo\\COSMO reanalysis\\raw_from_alplakes_api\\20240426_20240426_V.json\n",
      "Data already exists: C:\\Users\\leroquan\\Documents\\Data\\meteo\\COSMO reanalysis\\raw_from_alplakes_api\\20240426_20240426_GLOB.json\n",
      "Data already exists: C:\\Users\\leroquan\\Documents\\Data\\meteo\\COSMO reanalysis\\raw_from_alplakes_api\\20240426_20240426_CLCT.json\n",
      "Data already exists: C:\\Users\\leroquan\\Documents\\Data\\meteo\\COSMO reanalysis\\raw_from_alplakes_api\\20240426_20240426_PMSL.json\n",
      "Data already exists: C:\\Users\\leroquan\\Documents\\Data\\meteo\\COSMO reanalysis\\raw_from_alplakes_api\\20240426_20240426_PS.json\n",
      "Data already exists: C:\\Users\\leroquan\\Documents\\Data\\meteo\\COSMO reanalysis\\raw_from_alplakes_api\\20240427_20240427_RELHUM_2M.json\n",
      "Data already exists: C:\\Users\\leroquan\\Documents\\Data\\meteo\\COSMO reanalysis\\raw_from_alplakes_api\\20240427_20240427_CLCT.json\n",
      "Data already exists: C:\\Users\\leroquan\\Documents\\Data\\meteo\\COSMO reanalysis\\raw_from_alplakes_api\\20240427_20240427_V.json\n",
      "Data already exists: C:\\Users\\leroquan\\Documents\\Data\\meteo\\COSMO reanalysis\\raw_from_alplakes_api\\20240427_20240427_PMSL.json\n",
      "Data already exists: C:\\Users\\leroquan\\Documents\\Data\\meteo\\COSMO reanalysis\\raw_from_alplakes_api\\20240427_20240427_T_2M.json\n",
      "Data already exists: C:\\Users\\leroquan\\Documents\\Data\\meteo\\COSMO reanalysis\\raw_from_alplakes_api\\20240427_20240427_GLOB.json\n",
      "Data already exists: C:\\Users\\leroquan\\Documents\\Data\\meteo\\COSMO reanalysis\\raw_from_alplakes_api\\20240428_20240428_T_2M.json\n",
      "Data already exists: C:\\Users\\leroquan\\Documents\\Data\\meteo\\COSMO reanalysis\\raw_from_alplakes_api\\20240427_20240427_PS.json\n",
      "Data already exists: C:\\Users\\leroquan\\Documents\\Data\\meteo\\COSMO reanalysis\\raw_from_alplakes_api\\20240427_20240427_U.json\n",
      "Data already exists: C:\\Users\\leroquan\\Documents\\Data\\meteo\\COSMO reanalysis\\raw_from_alplakes_api\\20240428_20240428_V.json\n",
      "Data already exists: C:\\Users\\leroquan\\Documents\\Data\\meteo\\COSMO reanalysis\\raw_from_alplakes_api\\20240428_20240428_GLOB.json\n",
      "Data already exists: C:\\Users\\leroquan\\Documents\\Data\\meteo\\COSMO reanalysis\\raw_from_alplakes_api\\20240428_20240428_RELHUM_2M.json\n",
      "Data already exists: C:\\Users\\leroquan\\Documents\\Data\\meteo\\COSMO reanalysis\\raw_from_alplakes_api\\20240428_20240428_U.json\n",
      "Data already exists: C:\\Users\\leroquan\\Documents\\Data\\meteo\\COSMO reanalysis\\raw_from_alplakes_api\\20240428_20240428_PS.json\n",
      "Data already exists: C:\\Users\\leroquan\\Documents\\Data\\meteo\\COSMO reanalysis\\raw_from_alplakes_api\\20240428_20240428_PMSL.json\n",
      "Data already exists: C:\\Users\\leroquan\\Documents\\Data\\meteo\\COSMO reanalysis\\raw_from_alplakes_api\\20240428_20240428_CLCT.json\n",
      "Data already exists: C:\\Users\\leroquan\\Documents\\Data\\meteo\\COSMO reanalysis\\raw_from_alplakes_api\\20240429_20240429_T_2M.json\n",
      "Data already exists: C:\\Users\\leroquan\\Documents\\Data\\meteo\\COSMO reanalysis\\raw_from_alplakes_api\\20240429_20240429_RELHUM_2M.json\n",
      "Data already exists: C:\\Users\\leroquan\\Documents\\Data\\meteo\\COSMO reanalysis\\raw_from_alplakes_api\\20240429_20240429_GLOB.json\n",
      "Data already exists: C:\\Users\\leroquan\\Documents\\Data\\meteo\\COSMO reanalysis\\raw_from_alplakes_api\\20240429_20240429_V.json\n",
      "Data already exists: C:\\Users\\leroquan\\Documents\\Data\\meteo\\COSMO reanalysis\\raw_from_alplakes_api\\20240429_20240429_U.json\n",
      "Data already exists: C:\\Users\\leroquan\\Documents\\Data\\meteo\\COSMO reanalysis\\raw_from_alplakes_api\\20240429_20240429_PS.json\n",
      "Data already exists: C:\\Users\\leroquan\\Documents\\Data\\meteo\\COSMO reanalysis\\raw_from_alplakes_api\\20240430_20240430_T_2M.json\n",
      "Data already exists: C:\\Users\\leroquan\\Documents\\Data\\meteo\\COSMO reanalysis\\raw_from_alplakes_api\\20240430_20240430_GLOB.json\n",
      "Data already exists: C:\\Users\\leroquan\\Documents\\Data\\meteo\\COSMO reanalysis\\raw_from_alplakes_api\\20240429_20240429_PMSL.json\n",
      "Data already exists: C:\\Users\\leroquan\\Documents\\Data\\meteo\\COSMO reanalysis\\raw_from_alplakes_api\\20240430_20240430_V.json\n",
      "Data already exists: C:\\Users\\leroquan\\Documents\\Data\\meteo\\COSMO reanalysis\\raw_from_alplakes_api\\20240429_20240429_CLCT.json\n",
      "Data already exists: C:\\Users\\leroquan\\Documents\\Data\\meteo\\COSMO reanalysis\\raw_from_alplakes_api\\20240430_20240430_PMSL.json\n",
      "Data already exists: C:\\Users\\leroquan\\Documents\\Data\\meteo\\COSMO reanalysis\\raw_from_alplakes_api\\20240430_20240430_U.json\n",
      "Data already exists: C:\\Users\\leroquan\\Documents\\Data\\meteo\\COSMO reanalysis\\raw_from_alplakes_api\\20240430_20240430_RELHUM_2M.json\n",
      "Data already exists: C:\\Users\\leroquan\\Documents\\Data\\meteo\\COSMO reanalysis\\raw_from_alplakes_api\\20240501_20240501_U.json\n",
      "Data already exists: C:\\Users\\leroquan\\Documents\\Data\\meteo\\COSMO reanalysis\\raw_from_alplakes_api\\20240430_20240430_PS.json\n",
      "Data already exists: C:\\Users\\leroquan\\Documents\\Data\\meteo\\COSMO reanalysis\\raw_from_alplakes_api\\20240430_20240430_CLCT.json\n",
      "Data already exists: C:\\Users\\leroquan\\Documents\\Data\\meteo\\COSMO reanalysis\\raw_from_alplakes_api\\20240501_20240501_T_2M.json\n",
      "Data already exists: C:\\Users\\leroquan\\Documents\\Data\\meteo\\COSMO reanalysis\\raw_from_alplakes_api\\20240501_20240501_V.json\n",
      "Data already exists: C:\\Users\\leroquan\\Documents\\Data\\meteo\\COSMO reanalysis\\raw_from_alplakes_api\\20240501_20240501_PS.json\n",
      "Data already exists: C:\\Users\\leroquan\\Documents\\Data\\meteo\\COSMO reanalysis\\raw_from_alplakes_api\\20240501_20240501_RELHUM_2M.json\n",
      "Data already exists: C:\\Users\\leroquan\\Documents\\Data\\meteo\\COSMO reanalysis\\raw_from_alplakes_api\\20240501_20240501_CLCT.json\n",
      "Data already exists: C:\\Users\\leroquan\\Documents\\Data\\meteo\\COSMO reanalysis\\raw_from_alplakes_api\\20240501_20240501_GLOB.json\n",
      "Data already exists: C:\\Users\\leroquan\\Documents\\Data\\meteo\\COSMO reanalysis\\raw_from_alplakes_api\\20240502_20240502_RELHUM_2M.json\n",
      "Data already exists: C:\\Users\\leroquan\\Documents\\Data\\meteo\\COSMO reanalysis\\raw_from_alplakes_api\\20240502_20240502_PMSL.json\n",
      "Data already exists: C:\\Users\\leroquan\\Documents\\Data\\meteo\\COSMO reanalysis\\raw_from_alplakes_api\\20240502_20240502_GLOB.json\n",
      "Data already exists: C:\\Users\\leroquan\\Documents\\Data\\meteo\\COSMO reanalysis\\raw_from_alplakes_api\\20240502_20240502_V.json\n",
      "Data already exists: C:\\Users\\leroquan\\Documents\\Data\\meteo\\COSMO reanalysis\\raw_from_alplakes_api\\20240502_20240502_CLCT.json\n",
      "Data already exists: C:\\Users\\leroquan\\Documents\\Data\\meteo\\COSMO reanalysis\\raw_from_alplakes_api\\20240502_20240502_T_2M.json\n",
      "Data already exists: C:\\Users\\leroquan\\Documents\\Data\\meteo\\COSMO reanalysis\\raw_from_alplakes_api\\20240501_20240501_PMSL.json\n",
      "Data already exists: C:\\Users\\leroquan\\Documents\\Data\\meteo\\COSMO reanalysis\\raw_from_alplakes_api\\20240502_20240502_U.json\n",
      "Data already exists: C:\\Users\\leroquan\\Documents\\Data\\meteo\\COSMO reanalysis\\raw_from_alplakes_api\\20240503_20240503_V.json\n",
      "Data already exists: C:\\Users\\leroquan\\Documents\\Data\\meteo\\COSMO reanalysis\\raw_from_alplakes_api\\20240503_20240503_U.json\n",
      "Data already exists: C:\\Users\\leroquan\\Documents\\Data\\meteo\\COSMO reanalysis\\raw_from_alplakes_api\\20240503_20240503_T_2M.json\n",
      "Data already exists: C:\\Users\\leroquan\\Documents\\Data\\meteo\\COSMO reanalysis\\raw_from_alplakes_api\\20240502_20240502_PS.json\n",
      "Data already exists: C:\\Users\\leroquan\\Documents\\Data\\meteo\\COSMO reanalysis\\raw_from_alplakes_api\\20240503_20240503_PS.json\n",
      "Data already exists: C:\\Users\\leroquan\\Documents\\Data\\meteo\\COSMO reanalysis\\raw_from_alplakes_api\\20240503_20240503_CLCT.json\n",
      "Data already exists: C:\\Users\\leroquan\\Documents\\Data\\meteo\\COSMO reanalysis\\raw_from_alplakes_api\\20240503_20240503_RELHUM_2M.json\n",
      "Data already exists: C:\\Users\\leroquan\\Documents\\Data\\meteo\\COSMO reanalysis\\raw_from_alplakes_api\\20240503_20240503_PMSL.json\n",
      "Data already exists: C:\\Users\\leroquan\\Documents\\Data\\meteo\\COSMO reanalysis\\raw_from_alplakes_api\\20240503_20240503_GLOB.json\n",
      "Data already exists: C:\\Users\\leroquan\\Documents\\Data\\meteo\\COSMO reanalysis\\raw_from_alplakes_api\\20240504_20240504_GLOB.json\n",
      "Data already exists: C:\\Users\\leroquan\\Documents\\Data\\meteo\\COSMO reanalysis\\raw_from_alplakes_api\\20240504_20240504_RELHUM_2M.json\n",
      "Data already exists: C:\\Users\\leroquan\\Documents\\Data\\meteo\\COSMO reanalysis\\raw_from_alplakes_api\\20240504_20240504_PMSL.json\n",
      "Data already exists: C:\\Users\\leroquan\\Documents\\Data\\meteo\\COSMO reanalysis\\raw_from_alplakes_api\\20240504_20240504_U.json\n",
      "Data already exists: C:\\Users\\leroquan\\Documents\\Data\\meteo\\COSMO reanalysis\\raw_from_alplakes_api\\20240504_20240504_T_2M.json\n",
      "Data already exists: C:\\Users\\leroquan\\Documents\\Data\\meteo\\COSMO reanalysis\\raw_from_alplakes_api\\20240504_20240504_V.json\n",
      "Data already exists: C:\\Users\\leroquan\\Documents\\Data\\meteo\\COSMO reanalysis\\raw_from_alplakes_api\\20240504_20240504_PS.json\n",
      "Data already exists: C:\\Users\\leroquan\\Documents\\Data\\meteo\\COSMO reanalysis\\raw_from_alplakes_api\\20240504_20240504_CLCT.json\n",
      "Data already exists: C:\\Users\\leroquan\\Documents\\Data\\meteo\\COSMO reanalysis\\raw_from_alplakes_api\\20240505_20240505_GLOB.json\n",
      "Data already exists: C:\\Users\\leroquan\\Documents\\Data\\meteo\\COSMO reanalysis\\raw_from_alplakes_api\\20240505_20240505_CLCT.json\n",
      "Data already exists: C:\\Users\\leroquan\\Documents\\Data\\meteo\\COSMO reanalysis\\raw_from_alplakes_api\\20240505_20240505_U.json\n",
      "Data already exists: C:\\Users\\leroquan\\Documents\\Data\\meteo\\COSMO reanalysis\\raw_from_alplakes_api\\20240505_20240505_RELHUM_2M.json\n",
      "Data already exists: C:\\Users\\leroquan\\Documents\\Data\\meteo\\COSMO reanalysis\\raw_from_alplakes_api\\20240505_20240505_PS.json\n",
      "Data already exists: C:\\Users\\leroquan\\Documents\\Data\\meteo\\COSMO reanalysis\\raw_from_alplakes_api\\20240505_20240505_V.json\n",
      "Data already exists: C:\\Users\\leroquan\\Documents\\Data\\meteo\\COSMO reanalysis\\raw_from_alplakes_api\\20240506_20240506_V.json\n",
      "Data already exists: C:\\Users\\leroquan\\Documents\\Data\\meteo\\COSMO reanalysis\\raw_from_alplakes_api\\20240505_20240505_T_2M.json\n",
      "Data already exists: C:\\Users\\leroquan\\Documents\\Data\\meteo\\COSMO reanalysis\\raw_from_alplakes_api\\20240506_20240506_PMSL.json\n",
      "Data already exists: C:\\Users\\leroquan\\Documents\\Data\\meteo\\COSMO reanalysis\\raw_from_alplakes_api\\20240506_20240506_RELHUM_2M.json\n",
      "Data already exists: C:\\Users\\leroquan\\Documents\\Data\\meteo\\COSMO reanalysis\\raw_from_alplakes_api\\20240506_20240506_GLOB.json\n",
      "Data already exists: C:\\Users\\leroquan\\Documents\\Data\\meteo\\COSMO reanalysis\\raw_from_alplakes_api\\20240505_20240505_PMSL.json\n",
      "Data already exists: C:\\Users\\leroquan\\Documents\\Data\\meteo\\COSMO reanalysis\\raw_from_alplakes_api\\20240506_20240506_U.json\n",
      "Data already exists: C:\\Users\\leroquan\\Documents\\Data\\meteo\\COSMO reanalysis\\raw_from_alplakes_api\\20240506_20240506_T_2M.json\n",
      "Data already exists: C:\\Users\\leroquan\\Documents\\Data\\meteo\\COSMO reanalysis\\raw_from_alplakes_api\\20240506_20240506_CLCT.json\n",
      "Data already exists: C:\\Users\\leroquan\\Documents\\Data\\meteo\\COSMO reanalysis\\raw_from_alplakes_api\\20240507_20240507_RELHUM_2M.json\n",
      "Data already exists: C:\\Users\\leroquan\\Documents\\Data\\meteo\\COSMO reanalysis\\raw_from_alplakes_api\\20240507_20240507_T_2M.json\n",
      "Data already exists: C:\\Users\\leroquan\\Documents\\Data\\meteo\\COSMO reanalysis\\raw_from_alplakes_api\\20240507_20240507_V.json\n",
      "Data already exists: C:\\Users\\leroquan\\Documents\\Data\\meteo\\COSMO reanalysis\\raw_from_alplakes_api\\20240507_20240507_U.json\n",
      "Data already exists: C:\\Users\\leroquan\\Documents\\Data\\meteo\\COSMO reanalysis\\raw_from_alplakes_api\\20240507_20240507_PMSL.json\n",
      "Data already exists: C:\\Users\\leroquan\\Documents\\Data\\meteo\\COSMO reanalysis\\raw_from_alplakes_api\\20240507_20240507_GLOB.json\n",
      "Data already exists: C:\\Users\\leroquan\\Documents\\Data\\meteo\\COSMO reanalysis\\raw_from_alplakes_api\\20240507_20240507_CLCT.json\n",
      "Data already exists: C:\\Users\\leroquan\\Documents\\Data\\meteo\\COSMO reanalysis\\raw_from_alplakes_api\\20240508_20240508_V.json\n",
      "Data already exists: C:\\Users\\leroquan\\Documents\\Data\\meteo\\COSMO reanalysis\\raw_from_alplakes_api\\20240507_20240507_PS.json\n",
      "Data already exists: C:\\Users\\leroquan\\Documents\\Data\\meteo\\COSMO reanalysis\\raw_from_alplakes_api\\20240508_20240508_RELHUM_2M.json\n",
      "Data already exists: C:\\Users\\leroquan\\Documents\\Data\\meteo\\COSMO reanalysis\\raw_from_alplakes_api\\20240508_20240508_U.json\n",
      "Data already exists: C:\\Users\\leroquan\\Documents\\Data\\meteo\\COSMO reanalysis\\raw_from_alplakes_api\\20240508_20240508_T_2M.json\n",
      "Data already exists: C:\\Users\\leroquan\\Documents\\Data\\meteo\\COSMO reanalysis\\raw_from_alplakes_api\\20240508_20240508_PS.json\n",
      "Data already exists: C:\\Users\\leroquan\\Documents\\Data\\meteo\\COSMO reanalysis\\raw_from_alplakes_api\\20240508_20240508_CLCT.json\n",
      "Data already exists: C:\\Users\\leroquan\\Documents\\Data\\meteo\\COSMO reanalysis\\raw_from_alplakes_api\\20240508_20240508_PMSL.json\n",
      "Data already exists: C:\\Users\\leroquan\\Documents\\Data\\meteo\\COSMO reanalysis\\raw_from_alplakes_api\\20240508_20240508_GLOB.json\n",
      "Data already exists: C:\\Users\\leroquan\\Documents\\Data\\meteo\\COSMO reanalysis\\raw_from_alplakes_api\\20240506_20240506_PS.json\n",
      "Data already exists: C:\\Users\\leroquan\\Documents\\Data\\meteo\\COSMO reanalysis\\raw_from_alplakes_api\\20240509_20240509_GLOB.json\n",
      "Data already exists: C:\\Users\\leroquan\\Documents\\Data\\meteo\\COSMO reanalysis\\raw_from_alplakes_api\\20240509_20240509_T_2M.json\n",
      "Data already exists: C:\\Users\\leroquan\\Documents\\Data\\meteo\\COSMO reanalysis\\raw_from_alplakes_api\\20240509_20240509_U.json\n",
      "Data already exists: C:\\Users\\leroquan\\Documents\\Data\\meteo\\COSMO reanalysis\\raw_from_alplakes_api\\20240509_20240509_PMSL.json\n",
      "Data already exists: C:\\Users\\leroquan\\Documents\\Data\\meteo\\COSMO reanalysis\\raw_from_alplakes_api\\20240509_20240509_CLCT.json\n",
      "Data already exists: C:\\Users\\leroquan\\Documents\\Data\\meteo\\COSMO reanalysis\\raw_from_alplakes_api\\20240509_20240509_RELHUM_2M.json\n",
      "Data already exists: C:\\Users\\leroquan\\Documents\\Data\\meteo\\COSMO reanalysis\\raw_from_alplakes_api\\20240509_20240509_PS.json\n",
      "Data already exists: C:\\Users\\leroquan\\Documents\\Data\\meteo\\COSMO reanalysis\\raw_from_alplakes_api\\20240510_20240510_RELHUM_2M.json\n",
      "Data already exists: C:\\Users\\leroquan\\Documents\\Data\\meteo\\COSMO reanalysis\\raw_from_alplakes_api\\20240510_20240510_T_2M.json\n",
      "Data already exists: C:\\Users\\leroquan\\Documents\\Data\\meteo\\COSMO reanalysis\\raw_from_alplakes_api\\20240510_20240510_CLCT.json\n",
      "Data already exists: C:\\Users\\leroquan\\Documents\\Data\\meteo\\COSMO reanalysis\\raw_from_alplakes_api\\20240510_20240510_GLOB.json\n",
      "Data already exists: C:\\Users\\leroquan\\Documents\\Data\\meteo\\COSMO reanalysis\\raw_from_alplakes_api\\20240510_20240510_PMSL.json\n",
      "Data already exists: C:\\Users\\leroquan\\Documents\\Data\\meteo\\COSMO reanalysis\\raw_from_alplakes_api\\20240510_20240510_U.json\n",
      "Data already exists: C:\\Users\\leroquan\\Documents\\Data\\meteo\\COSMO reanalysis\\raw_from_alplakes_api\\20240510_20240510_PS.json\n",
      "Data already exists: C:\\Users\\leroquan\\Documents\\Data\\meteo\\COSMO reanalysis\\raw_from_alplakes_api\\20240509_20240509_V.json\n",
      "Data already exists: C:\\Users\\leroquan\\Documents\\Data\\meteo\\COSMO reanalysis\\raw_from_alplakes_api\\20240510_20240510_V.json\n",
      "Finished downloading weather reanalysis\n"
     ]
    }
   ],
   "source": [
    "buffer = config.weather_download_buffer\n",
    "if config.weather_model_type == 'reanalysis':\n",
    "    download_weather_reanalysis(config.weather_api_base_url, \n",
    "                                config.start_date, config.end_date, \n",
    "                                mitgcm_grid.lat_grid.min() - buffer, \n",
    "                                mitgcm_grid.lon_grid.min() - buffer, \n",
    "                                mitgcm_grid.lat_grid.max() + buffer, \n",
    "                                mitgcm_grid.lon_grid.max() + buffer, \n",
    "                                config.paths.raw_results_from_api_folder)\n",
    "    print('Finished downloading weather reanalysis')\n",
    "elif config.weather_model_type == 'forecast':\n",
    "    download_weather_forecast(config.weather_api_base_url, \n",
    "                                config.start_date,  \n",
    "                                mitgcm_grid.lat_grid.min() - buffer, \n",
    "                                mitgcm_grid.lon_grid.min() - buffer, \n",
    "                                mitgcm_grid.lat_grid.max() + buffer, \n",
    "                                mitgcm_grid.lon_grid.max() + buffer, \n",
    "                                config.paths.raw_results_from_api_folder)\n",
    "    print('Finished downloading weather forecasts')"
   ],
   "metadata": {
    "collapsed": false,
    "ExecuteTime": {
     "end_time": "2025-02-24T09:26:57.996592Z",
     "start_time": "2025-02-24T09:26:57.950684Z"
    }
   },
   "id": "83b791fc7d942cc8",
   "execution_count": 9
  },
  {
   "cell_type": "code",
   "outputs": [
    {
     "name": "stdout",
     "output_type": "stream",
     "text": [
      "Interpolating U to grid...\n",
      "Saving u10...\n",
      "Interpolating V to grid...\n",
      "Saving v10...\n",
      "Interpolating GLOB to grid...\n",
      "Saving swdown...\n",
      "Interpolating T_2M to grid...\n",
      "Saving atemp...\n",
      "Interpolating PS to grid...\n",
      "Saving apressure...\n",
      "Computing specific humidity (aqh)...\n",
      "Saving aqh...\n",
      "Computing longwave radiation (lwdown)...\n",
      "Saving lwdown...\n",
      "Done computing binary data.\n"
     ]
    }
   ],
   "source": [
    "time_format = 'UTC'\n",
    "extract_and_save_surface_forcings(binary_data_folder, \n",
    "                                  config.start_date, \n",
    "                                  config.end_date, \n",
    "                                  config.paths.raw_results_from_api_folder, \n",
    "                                  mitgcm_grid,\n",
    "                                  1, # Number of cores used in interpolation\n",
    "                                  config.weather_model_type)"
   ],
   "metadata": {
    "collapsed": false,
    "ExecuteTime": {
     "end_time": "2025-02-24T09:28:55.884528Z",
     "start_time": "2025-02-24T09:26:57.998631Z"
    }
   },
   "id": "4f733dcd0b84869e",
   "execution_count": 10
  },
  {
   "cell_type": "markdown",
   "source": [
    "**Convert to little endian if necessary** (for cscs computation)"
   ],
   "metadata": {
    "collapsed": false
   },
   "id": "514d506f8bccf648"
  },
  {
   "cell_type": "code",
   "outputs": [],
   "source": [
    "# TO DO : implement check to see whether the datatypes are correct\n",
    "if config.endian_type == 'little_endian':\n",
    "    convert_binary_files(os.path.join(output_folder, 'binary_data'), '>f8', '<f8')"
   ],
   "metadata": {
    "collapsed": false,
    "ExecuteTime": {
     "end_time": "2025-02-24T09:28:55.900282Z",
     "start_time": "2025-02-24T09:28:55.888389Z"
    }
   },
   "id": "205dfc0e21bf338c",
   "execution_count": 11
  },
  {
   "cell_type": "markdown",
   "source": [
    "### Get initial conditions"
   ],
   "metadata": {
    "collapsed": false
   },
   "id": "c996e2309ad359b3"
  },
  {
   "cell_type": "code",
   "outputs": [
    {
     "name": "stdout",
     "output_type": "stream",
     "text": [
      "Initial conditions from Idronaut file from  2024-03-31 22:57:11.900000\n"
     ]
    }
   ],
   "source": [
    "file_date, measured_temperature = download_profile_idronaut_datalakes(parsed_start_date)\n",
    "print('Initial conditions from Idronaut file from ', file_date)\n",
    "dz_grid = get_dz_grid(config.paths.dz_grid_csv_path)\n",
    "shaped_temp_initial = create_initial_temperature_from_measure_profile(dz_grid, measured_temperature)"
   ],
   "metadata": {
    "collapsed": false,
    "ExecuteTime": {
     "end_time": "2025-02-24T09:32:59.231341Z",
     "start_time": "2025-02-24T09:32:58.496868Z"
    }
   },
   "id": "3a31b25106648046",
   "execution_count": 26
  },
  {
   "cell_type": "markdown",
   "source": [
    "### Get pickup files"
   ],
   "metadata": {
    "collapsed": false
   },
   "id": "b3486f12c2ed801e"
  },
  {
   "cell_type": "code",
   "outputs": [
    {
     "name": "stdout",
     "output_type": "stream",
     "text": []
    }
   ],
   "source": [
    "if config.with_pickup:\n",
    "    dt_sim_in_second = 4\n",
    "    pickup_number = f\"pickup.{str(int(start_time_in_second_from_ref_date / dt_sim_in_second)).zfill(10)}\"\n",
    "else:\n",
    "    pickup_number = \"\"\n",
    "print(pickup_number)"
   ],
   "metadata": {
    "collapsed": false,
    "ExecuteTime": {
     "end_time": "2025-02-24T09:32:59.852095Z",
     "start_time": "2025-02-24T09:32:59.846718Z"
    }
   },
   "id": "fd2ff3748833ddea",
   "execution_count": 27
  },
  {
   "cell_type": "markdown",
   "source": [
    "### Adapt config files"
   ],
   "metadata": {
    "collapsed": false
   },
   "id": "3f029e92bdaaa42e"
  },
  {
   "cell_type": "code",
   "outputs": [],
   "source": [
    "modify_arguments('!reference_date!', [config.reference_date], os.path.join(output_folder, 'run_config/data.cal'))"
   ],
   "metadata": {
    "collapsed": false,
    "ExecuteTime": {
     "end_time": "2025-02-24T09:33:00.674650Z",
     "start_time": "2025-02-24T09:33:00.663433Z"
    }
   },
   "id": "af17ea5536e9f333",
   "execution_count": 28
  },
  {
   "cell_type": "code",
   "outputs": [],
   "source": [
    "modify_arguments('!start_date!', [config.start_date], os.path.join(output_folder, 'run_config/data.exf'))"
   ],
   "metadata": {
    "collapsed": false,
    "ExecuteTime": {
     "end_time": "2025-02-24T09:33:00.877900Z",
     "start_time": "2025-02-24T09:33:00.867214Z"
    }
   },
   "id": "8da31ad8c10f7f18",
   "execution_count": 29
  },
  {
   "cell_type": "code",
   "outputs": [],
   "source": [
    "#TO DO: write output type (binary or netcdf -->   diag_mnc = .FALSE./.TRUE. in data.diagnostics)"
   ],
   "metadata": {
    "collapsed": false,
    "ExecuteTime": {
     "end_time": "2025-02-24T09:33:01.077324Z",
     "start_time": "2025-02-24T09:33:01.065336Z"
    }
   },
   "id": "5079750f4f30a0c9",
   "execution_count": 30
  },
  {
   "cell_type": "code",
   "outputs": [],
   "source": [
    "write_data_config_files(os.path.join(output_folder, 'run_config/data'), \n",
    "                        shaped_temp_initial, \n",
    "                        start_time_in_second_from_ref_date, \n",
    "                        end_time_in_second_from_ref_date,\n",
    "                        pickup_number,\n",
    "                        dz_grid, \n",
    "                        config.grid_resolution)"
   ],
   "metadata": {
    "collapsed": false,
    "ExecuteTime": {
     "end_time": "2025-02-24T09:33:01.307353Z",
     "start_time": "2025-02-24T09:33:01.292929Z"
    }
   },
   "id": "9fa5300bfc079c5a",
   "execution_count": 31
  },
  {
   "cell_type": "code",
   "outputs": [],
   "source": [
    "write_size_config_files(os.path.join(output_folder, 'code/SIZE.h'), \n",
    "                        config.Px, \n",
    "                        config.Py, \n",
    "                        config.Nx, \n",
    "                        config.Ny, \n",
    "                        len(dz_grid.flatten()))"
   ],
   "metadata": {
    "collapsed": false,
    "ExecuteTime": {
     "end_time": "2025-02-24T09:33:01.509703Z",
     "start_time": "2025-02-24T09:33:01.489321Z"
    }
   },
   "id": "b857d0522c095917",
   "execution_count": 32
  },
  {
   "cell_type": "markdown",
   "source": [
    "## Next steps"
   ],
   "metadata": {
    "collapsed": false
   },
   "id": "db14cf08215b46f6"
  },
  {
   "cell_type": "markdown",
   "source": [
    "- Copy-paste the folders in \"99-output\" to the cscs server \n",
    "- Change #SBATCH --time=00:05:00 in run/submit-daint-short.sh\n",
    "- Open CSCS putty console:\n",
    "\n",
    "export MITGCM_ROOTDIR=/scratch/snx3000/aleroqua/MITgcm-checkpoint67z/\n",
    "\n",
    "cd /scratch/snx3000/aleroqua/xx/build\n",
    "$MITGCM_ROOTDIR/tools/genmake2 -mods ../code -mpi -enable=mnc -of ${MITGCM_ROOTDIR}/tools/build_options/linux_ia64_cray_archer\n",
    "make depend\n",
    "make -j 8\n",
    "\n",
    "cd ..\n",
    "rm -r run\n",
    "mkdir run\n",
    "cd run\n",
    "ln -s ../pickup/* .\n",
    "ln -s ../run_config/* .\n",
    "cp ../build/mitgcmuv .\n",
    "\n",
    "sbatch submit-daint-short.sh"
   ],
   "metadata": {
    "collapsed": false
   },
   "id": "c931932f70f981a"
  },
  {
   "cell_type": "markdown",
   "source": [
    "### TO DO"
   ],
   "metadata": {
    "collapsed": false
   },
   "id": "aa3ea68a8ae13358"
  },
  {
   "cell_type": "code",
   "outputs": [],
   "source": [
    "# add selection of pickup file\n",
    "# add selection of pickup frequency, diagnostic frequency\n",
    "# add selection of output type (mnc = true or false)\n",
    "# add automatic change of computing time? (submit-daint)"
   ],
   "metadata": {
    "collapsed": false,
    "ExecuteTime": {
     "start_time": "2025-02-11T20:41:14.184396Z"
    }
   },
   "id": "87f6d2aead8eb053",
   "execution_count": null
  }
 ],
 "metadata": {
  "kernelspec": {
   "display_name": "Python 3",
   "language": "python",
   "name": "python3"
  },
  "language_info": {
   "codemirror_mode": {
    "name": "ipython",
    "version": 2
   },
   "file_extension": ".py",
   "mimetype": "text/x-python",
   "name": "python",
   "nbconvert_exporter": "python",
   "pygments_lexer": "ipython2",
   "version": "2.7.6"
  }
 },
 "nbformat": 4,
 "nbformat_minor": 5
}
