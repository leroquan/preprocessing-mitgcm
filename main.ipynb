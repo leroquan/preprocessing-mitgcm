{
 "cells": [
  {
   "cell_type": "code",
   "outputs": [],
   "source": [
    "import os\n",
    "from datetime import datetime, timedelta, timezone\n",
    "import shutil"
   ],
   "metadata": {
    "collapsed": false,
    "ExecuteTime": {
     "end_time": "2025-01-08T10:28:25.144682Z",
     "start_time": "2025-01-08T10:28:25.128671Z"
    }
   },
   "id": "a71c63f6ed1dc57a",
   "execution_count": 1
  },
  {
   "cell_type": "code",
   "outputs": [],
   "source": [
    "from configs.config_object import ConfigObject\n",
    "from grid_and_bathy import build_and_save_mitgcm_grid, get_dz_grid, get_grid, MitgcmGrid\n",
    "from surface_forcings import extract_and_save_surface_forcings, download_weather_reanalysis, download_weather_forecast\n",
    "from initial_conditions import download_profile_idronaut_datalakes, create_initial_temperature_from_measure_profile\n",
    "from run_preprocessing import write_data_config_files, copy_template, remove_all_files_and_folders, write_size_config_files\n",
    "from utils import modify_arguments, convert_binary_files"
   ],
   "metadata": {
    "collapsed": true,
    "ExecuteTime": {
     "end_time": "2025-01-08T10:28:26.337271Z",
     "start_time": "2025-01-08T10:28:25.146768Z"
    }
   },
   "id": "initial_id",
   "execution_count": 2
  },
  {
   "cell_type": "markdown",
   "source": [
    "## Load config"
   ],
   "metadata": {
    "collapsed": false
   },
   "id": "e017a697ab5dd281"
  },
  {
   "cell_type": "code",
   "outputs": [],
   "source": [
    "config = ConfigObject('configs/config.json')\n",
    "output_folder = './99-output/'\n",
    "template_folder = './00-template_mitgcm/geneva/'"
   ],
   "metadata": {
    "collapsed": false,
    "ExecuteTime": {
     "end_time": "2025-01-08T10:28:26.352617Z",
     "start_time": "2025-01-08T10:28:26.340570Z"
    }
   },
   "id": "bfae6ace9f9eefb3",
   "execution_count": 3
  },
  {
   "cell_type": "code",
   "outputs": [],
   "source": [
    "parsed_start_date = datetime.strptime(config.start_date, '%Y%m%d')\n",
    "parsed_end_date = datetime.strptime(config.end_date, '%Y%m%d')\n",
    "sim_duration_in_second = (parsed_end_date - parsed_start_date).total_seconds()"
   ],
   "metadata": {
    "collapsed": false,
    "ExecuteTime": {
     "end_time": "2025-01-08T10:28:26.368727Z",
     "start_time": "2025-01-08T10:28:26.354741Z"
    }
   },
   "id": "f7f3bcdacfbb25f",
   "execution_count": 4
  },
  {
   "cell_type": "markdown",
   "source": [
    "## Initialize output folder"
   ],
   "metadata": {
    "collapsed": false
   },
   "id": "c7df9c6962b557b7"
  },
  {
   "cell_type": "code",
   "outputs": [],
   "source": [
    "remove_all_files_and_folders(output_folder)\n",
    "copy_template(template_folder, output_folder)\n",
    "config.write_metadata_to_file(os.path.join(output_folder, 'metadata_simulation.txt'))"
   ],
   "metadata": {
    "collapsed": false,
    "ExecuteTime": {
     "end_time": "2025-01-08T10:28:26.415401Z",
     "start_time": "2025-01-08T10:28:26.373138Z"
    }
   },
   "id": "61510542679c189b",
   "execution_count": 5
  },
  {
   "cell_type": "markdown",
   "source": [
    "## Get MITgcm grid"
   ],
   "metadata": {
    "collapsed": false
   },
   "id": "3de5145a6740583e"
  },
  {
   "cell_type": "code",
   "outputs": [],
   "source": [
    "mitgcm_grid = get_grid(config.paths.grid_folder_path)"
   ],
   "metadata": {
    "collapsed": false,
    "ExecuteTime": {
     "end_time": "2025-01-08T10:28:26.431282Z",
     "start_time": "2025-01-08T10:28:26.416470Z"
    }
   },
   "id": "9df000311cd83388",
   "execution_count": 6
  },
  {
   "cell_type": "markdown",
   "source": [
    "#In case the grid has not been created yet\n",
    "build_and_save_mitgcm_grid(config.paths.grid_folder_path, \n",
    "                           config.Nx, \n",
    "                           config.Ny, \n",
    "                           config.grid_resolution, \n",
    "                           config.x0_ch1903, \n",
    "                           config.y0_ch1903, \n",
    "                           config.x1_ch1903, \n",
    "                           config.y1_ch1903)"
   ],
   "metadata": {
    "collapsed": false
   },
   "id": "1d342ce5f21c348d"
  },
  {
   "cell_type": "markdown",
   "source": [
    "## Build binary files"
   ],
   "metadata": {
    "collapsed": false
   },
   "id": "f12b5099d4d8e3b5"
  },
  {
   "cell_type": "code",
   "outputs": [
    {
     "name": "stdout",
     "output_type": "stream",
     "text": [
      "Directory './99-output/binary_data' created.\n"
     ]
    }
   ],
   "source": [
    "binary_data_folder = os.path.join(output_folder, 'binary_data')\n",
    "if not os.path.exists(binary_data_folder):\n",
    "    os.makedirs(binary_data_folder)\n",
    "    print(f\"Directory '{binary_data_folder}' created.\")"
   ],
   "metadata": {
    "collapsed": false,
    "ExecuteTime": {
     "end_time": "2025-01-08T10:28:26.447239Z",
     "start_time": "2025-01-08T10:28:26.432346Z"
    }
   },
   "id": "72cbdf023054ec88",
   "execution_count": 7
  },
  {
   "cell_type": "markdown",
   "source": [
    "**Get bathymetry**"
   ],
   "metadata": {
    "collapsed": false
   },
   "id": "88d4f6666cadd83"
  },
  {
   "cell_type": "code",
   "outputs": [
    {
     "data": {
      "text/plain": "'./99-output/binary_data\\\\bathy.bin'"
     },
     "execution_count": 8,
     "metadata": {},
     "output_type": "execute_result"
    }
   ],
   "source": [
    "#To create bathymetry, see notebook 'create_bathy'\n",
    "shutil.copy(config.paths.bathy_path, os.path.join(binary_data_folder, 'bathy.bin'))"
   ],
   "metadata": {
    "collapsed": false,
    "ExecuteTime": {
     "end_time": "2025-01-08T10:28:26.463276Z",
     "start_time": "2025-01-08T10:28:26.448298Z"
    }
   },
   "id": "1abe7bf9ca450da2",
   "execution_count": 8
  },
  {
   "cell_type": "markdown",
   "source": [
    "**Get surface forcings**"
   ],
   "metadata": {
    "collapsed": false
   },
   "id": "9673032f29e5e681"
  },
  {
   "cell_type": "code",
   "outputs": [
    {
     "name": "stdout",
     "output_type": "stream",
     "text": [
      "Data already exists: C:\\Users\\leroquan\\Documents\\00-Work_space\\06-mit_gcm_geneva\\data\\COSMO reanalysis\\raw_from_alplakes_api\\20231201_20231202_T_2M.json\n",
      "Data already exists: C:\\Users\\leroquan\\Documents\\00-Work_space\\06-mit_gcm_geneva\\data\\COSMO reanalysis\\raw_from_alplakes_api\\20231201_20231202_U.json\n",
      "Data already exists: C:\\Users\\leroquan\\Documents\\00-Work_space\\06-mit_gcm_geneva\\data\\COSMO reanalysis\\raw_from_alplakes_api\\20231201_20231202_V.json\n",
      "Data already exists: C:\\Users\\leroquan\\Documents\\00-Work_space\\06-mit_gcm_geneva\\data\\COSMO reanalysis\\raw_from_alplakes_api\\20231201_20231202_GLOB.json\n",
      "Data already exists: C:\\Users\\leroquan\\Documents\\00-Work_space\\06-mit_gcm_geneva\\data\\COSMO reanalysis\\raw_from_alplakes_api\\20231201_20231202_RELHUM_2M.json\n",
      "Data already exists: C:\\Users\\leroquan\\Documents\\00-Work_space\\06-mit_gcm_geneva\\data\\COSMO reanalysis\\raw_from_alplakes_api\\20231201_20231202_PMSL.json\n",
      "Data already exists: C:\\Users\\leroquan\\Documents\\00-Work_space\\06-mit_gcm_geneva\\data\\COSMO reanalysis\\raw_from_alplakes_api\\20231201_20231202_CLCT.json\n",
      "Data already exists: C:\\Users\\leroquan\\Documents\\00-Work_space\\06-mit_gcm_geneva\\data\\COSMO reanalysis\\raw_from_alplakes_api\\20231201_20231202_PS.json\n",
      "Data already exists: C:\\Users\\leroquan\\Documents\\00-Work_space\\06-mit_gcm_geneva\\data\\COSMO reanalysis\\raw_from_alplakes_api\\20231202_20231203_T_2M.json\n",
      "Data already exists: C:\\Users\\leroquan\\Documents\\00-Work_space\\06-mit_gcm_geneva\\data\\COSMO reanalysis\\raw_from_alplakes_api\\20231202_20231203_U.json\n",
      "Data already exists: C:\\Users\\leroquan\\Documents\\00-Work_space\\06-mit_gcm_geneva\\data\\COSMO reanalysis\\raw_from_alplakes_api\\20231202_20231203_V.json\n",
      "Data already exists: C:\\Users\\leroquan\\Documents\\00-Work_space\\06-mit_gcm_geneva\\data\\COSMO reanalysis\\raw_from_alplakes_api\\20231202_20231203_GLOB.json\n",
      "Data already exists: C:\\Users\\leroquan\\Documents\\00-Work_space\\06-mit_gcm_geneva\\data\\COSMO reanalysis\\raw_from_alplakes_api\\20231202_20231203_RELHUM_2M.json\n",
      "Data already exists: C:\\Users\\leroquan\\Documents\\00-Work_space\\06-mit_gcm_geneva\\data\\COSMO reanalysis\\raw_from_alplakes_api\\20231202_20231203_PMSL.json\n",
      "Data already exists: C:\\Users\\leroquan\\Documents\\00-Work_space\\06-mit_gcm_geneva\\data\\COSMO reanalysis\\raw_from_alplakes_api\\20231202_20231203_CLCT.json\n",
      "Data already exists: C:\\Users\\leroquan\\Documents\\00-Work_space\\06-mit_gcm_geneva\\data\\COSMO reanalysis\\raw_from_alplakes_api\\20231202_20231203_PS.json\n",
      "Finished downloading weather reanalysis\n"
     ]
    }
   ],
   "source": [
    "buffer = config.weather_download_buffer\n",
    "if config.weather_model_type == 'reanalysis':\n",
    "    download_weather_reanalysis(config.weather_api_base_url, \n",
    "                                config.start_date, config.end_date, \n",
    "                                mitgcm_grid.lat_grid.min() - buffer, \n",
    "                                mitgcm_grid.lon_grid.min() - buffer, \n",
    "                                mitgcm_grid.lat_grid.max() + buffer, \n",
    "                                mitgcm_grid.lon_grid.max() + buffer, \n",
    "                                config.paths.raw_results_from_api_folder)\n",
    "    print('Finished downloading weather reanalysis')\n",
    "elif config.weather_model_type == 'forecast':\n",
    "    download_weather_forecast(config.weather_api_base_url, \n",
    "                                config.start_date,  \n",
    "                                mitgcm_grid.lat_grid.min() - buffer, \n",
    "                                mitgcm_grid.lon_grid.min() - buffer, \n",
    "                                mitgcm_grid.lat_grid.max() + buffer, \n",
    "                                mitgcm_grid.lon_grid.max() + buffer, \n",
    "                                config.paths.raw_results_from_api_folder)\n",
    "    print('Finished downloading weather forecasts')"
   ],
   "metadata": {
    "collapsed": false,
    "ExecuteTime": {
     "end_time": "2025-01-08T10:28:26.478727Z",
     "start_time": "2025-01-08T10:28:26.465390Z"
    }
   },
   "id": "83b791fc7d942cc8",
   "execution_count": 9
  },
  {
   "cell_type": "code",
   "outputs": [
    {
     "name": "stdout",
     "output_type": "stream",
     "text": [
      "Interpolating u10 to grid...\n",
      "Saving u10 to file ./99-output/binary_data\\u10.bin\n",
      "Interpolating v10 to grid...\n",
      "Saving v10 to file ./99-output/binary_data\\v10.bin\n",
      "Interpolating air temperature (atemp) to grid...\n",
      "Saving atemp.\n",
      "Interpolating atmospheric pressure (apress) to grid...\n",
      "Saving apressure.\n",
      "Interpolating relative humidity (relhum) to grid...\n",
      "Computing specific humidity (aqh) from air temperature and cloud cover...\n",
      "Saving aqh.\n",
      "Interpolating shortwave radiation (swdown) to grid...\n",
      "Saving swdown.\n",
      "Interpolating cloud cover (CLCT) to grid...\n",
      "Computing long wave radiation (lwdown) from air temperature and cloud cover...\n",
      "Saving lwdown.\n"
     ]
    }
   ],
   "source": [
    "extract_and_save_surface_forcings(binary_data_folder, \n",
    "                                  config.start_date, \n",
    "                                  config.end_date, \n",
    "                                  config.paths.raw_results_from_api_folder, \n",
    "                                  mitgcm_grid,\n",
    "                                  config.weather_model_type)"
   ],
   "metadata": {
    "collapsed": false,
    "ExecuteTime": {
     "end_time": "2025-01-08T10:31:14.468510Z",
     "start_time": "2025-01-08T10:28:26.479777Z"
    }
   },
   "id": "4f733dcd0b84869e",
   "execution_count": 10
  },
  {
   "cell_type": "markdown",
   "source": [
    "**Convert to little endian if necessary** (for cscs computation)"
   ],
   "metadata": {
    "collapsed": false
   },
   "id": "514d506f8bccf648"
  },
  {
   "cell_type": "code",
   "outputs": [],
   "source": [
    "# TO DO : implement check to see whether the datatypes are correct\n",
    "if config.endian_type == 'little_endian':\n",
    "    convert_binary_files(os.path.join(output_folder, 'binary_data'), '>f8', '<f8')"
   ],
   "metadata": {
    "collapsed": false,
    "ExecuteTime": {
     "end_time": "2025-01-08T10:31:15.921602Z",
     "start_time": "2025-01-08T10:31:14.471651Z"
    }
   },
   "id": "205dfc0e21bf338c",
   "execution_count": 11
  },
  {
   "cell_type": "markdown",
   "source": [
    "### Get initial conditions"
   ],
   "metadata": {
    "collapsed": false
   },
   "id": "c996e2309ad359b3"
  },
  {
   "cell_type": "code",
   "outputs": [
    {
     "name": "stdout",
     "output_type": "stream",
     "text": [
      "Initial conditions from Idronaut file from  2023-11-30 20:53:12.800000\n"
     ]
    }
   ],
   "source": [
    "file_date, measured_temperature = download_profile_idronaut_datalakes(parsed_start_date)\n",
    "print('Initial conditions from Idronaut file from ', file_date)\n",
    "dz_grid = get_dz_grid(config.paths.dz_grid_csv_path)\n",
    "shaped_temp_initial = create_initial_temperature_from_measure_profile(dz_grid, measured_temperature)"
   ],
   "metadata": {
    "collapsed": false,
    "ExecuteTime": {
     "end_time": "2025-01-08T10:31:16.745897Z",
     "start_time": "2025-01-08T10:31:15.922589Z"
    }
   },
   "id": "3a31b25106648046",
   "execution_count": 12
  },
  {
   "cell_type": "markdown",
   "source": [
    "### Get pickup files"
   ],
   "metadata": {
    "collapsed": false
   },
   "id": "b3486f12c2ed801e"
  },
  {
   "cell_type": "code",
   "outputs": [],
   "source": [
    "# TO DO : copy pickup files from designated folder and iteration number"
   ],
   "metadata": {
    "collapsed": false,
    "ExecuteTime": {
     "end_time": "2025-01-08T10:31:16.761334Z",
     "start_time": "2025-01-08T10:31:16.749011Z"
    }
   },
   "id": "fd2ff3748833ddea",
   "execution_count": 13
  },
  {
   "cell_type": "markdown",
   "source": [
    "### Adapt config files"
   ],
   "metadata": {
    "collapsed": false
   },
   "id": "3f029e92bdaaa42e"
  },
  {
   "cell_type": "code",
   "outputs": [],
   "source": [
    "modify_arguments('!start_date!', [config.start_date], os.path.join(output_folder, 'run_config/data.cal'))"
   ],
   "metadata": {
    "collapsed": false,
    "ExecuteTime": {
     "end_time": "2025-01-08T10:31:16.777421Z",
     "start_time": "2025-01-08T10:31:16.763449Z"
    }
   },
   "id": "af17ea5536e9f333",
   "execution_count": 14
  },
  {
   "cell_type": "code",
   "outputs": [],
   "source": [
    "modify_arguments('!start_date!', [config.start_date], os.path.join(output_folder, 'run_config/data.exf'))"
   ],
   "metadata": {
    "collapsed": false,
    "ExecuteTime": {
     "end_time": "2025-01-08T10:31:16.793505Z",
     "start_time": "2025-01-08T10:31:16.781669Z"
    }
   },
   "id": "8da31ad8c10f7f18",
   "execution_count": 15
  },
  {
   "cell_type": "code",
   "outputs": [],
   "source": [
    "#TO DO: write output type (binary or netcdf -->   diag_mnc = .FALSE./.TRUE. in data.diagnostics)"
   ],
   "metadata": {
    "collapsed": false,
    "ExecuteTime": {
     "end_time": "2025-01-08T10:31:16.809627Z",
     "start_time": "2025-01-08T10:31:16.795615Z"
    }
   },
   "id": "5079750f4f30a0c9",
   "execution_count": 16
  },
  {
   "cell_type": "code",
   "outputs": [],
   "source": [
    "write_data_config_files(os.path.join(output_folder, 'run_config/data'), shaped_temp_initial, sim_duration_in_second, dz_grid, config.grid_resolution)"
   ],
   "metadata": {
    "collapsed": false,
    "ExecuteTime": {
     "end_time": "2025-01-08T10:31:16.825039Z",
     "start_time": "2025-01-08T10:31:16.811745Z"
    }
   },
   "id": "9fa5300bfc079c5a",
   "execution_count": 17
  },
  {
   "cell_type": "code",
   "outputs": [],
   "source": [
    "write_size_config_files(os.path.join(output_folder, 'code/SIZE.h'), \n",
    "                        config.Px, \n",
    "                        config.Py, \n",
    "                        config.Nx, \n",
    "                        config.Ny, \n",
    "                        len(dz_grid.flatten()))"
   ],
   "metadata": {
    "collapsed": false,
    "ExecuteTime": {
     "end_time": "2025-01-08T10:31:16.841061Z",
     "start_time": "2025-01-08T10:31:16.827040Z"
    }
   },
   "id": "b857d0522c095917",
   "execution_count": 18
  },
  {
   "cell_type": "markdown",
   "source": [
    "## Next steps"
   ],
   "metadata": {
    "collapsed": false
   },
   "id": "db14cf08215b46f6"
  },
  {
   "cell_type": "markdown",
   "source": [
    "- Copy-paste the folders in \"99-output\" to the cscs server \n",
    "- Change #SBATCH --time=00:05:00 in run/submit-daint-short.sh\n",
    "- Open CSCS putty console:\n",
    "\n",
    "export MITGCM_ROOTDIR=/scratch/snx3000/aleroqua/MITgcm-checkpoint67z/\n",
    "\n",
    "cd /scratch/snx3000/aleroqua/xx/build\n",
    "$MITGCM_ROOTDIR/tools/genmake2 -mods ../code -mpi -enable=mnc -of ${MITGCM_ROOTDIR}/tools/build_options/linux_ia64_cray_archer\n",
    "make depend\n",
    "make -j 8\n",
    "\n",
    "cd ..\n",
    "rm -r run\n",
    "mkdir run\n",
    "cd run\n",
    "ln -s ../pickup/* .\n",
    "ln -s ../run_config/* .\n",
    "cp ../build/mitgcmuv .\n",
    "\n",
    "sbatch submit-daint-short.sh"
   ],
   "metadata": {
    "collapsed": false
   },
   "id": "c931932f70f981a"
  },
  {
   "cell_type": "markdown",
   "source": [
    "### TO DO"
   ],
   "metadata": {
    "collapsed": false
   },
   "id": "aa3ea68a8ae13358"
  },
  {
   "cell_type": "code",
   "outputs": [],
   "source": [
    "# add selection of pickup file\n",
    "# add selection of pickup frequency, diagnostic frequency\n",
    "# add selection of output type (mnc = true or false)\n",
    "# add automatic change of computing time? (submit-daint)"
   ],
   "metadata": {
    "collapsed": false,
    "ExecuteTime": {
     "end_time": "2025-01-08T10:31:16.857053Z",
     "start_time": "2025-01-08T10:31:16.843038Z"
    }
   },
   "id": "87f6d2aead8eb053",
   "execution_count": 19
  }
 ],
 "metadata": {
  "kernelspec": {
   "display_name": "Python 3",
   "language": "python",
   "name": "python3"
  },
  "language_info": {
   "codemirror_mode": {
    "name": "ipython",
    "version": 2
   },
   "file_extension": ".py",
   "mimetype": "text/x-python",
   "name": "python",
   "nbconvert_exporter": "python",
   "pygments_lexer": "ipython2",
   "version": "2.7.6"
  }
 },
 "nbformat": 4,
 "nbformat_minor": 5
}
