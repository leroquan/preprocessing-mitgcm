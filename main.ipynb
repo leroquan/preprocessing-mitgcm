{
 "cells": [
  {
   "cell_type": "code",
   "outputs": [],
   "source": [
    "import os\n",
    "from datetime import datetime, timedelta, timezone\n",
    "import shutil\n",
    "\n",
    "import numpy as np\n",
    "import pandas as pd\n",
    "import xarray as xr"
   ],
   "metadata": {
    "collapsed": false,
    "ExecuteTime": {
     "end_time": "2024-08-26T09:47:05.957899Z",
     "start_time": "2024-08-26T09:47:05.371398Z"
    }
   },
   "id": "a71c63f6ed1dc57a",
   "execution_count": 1
  },
  {
   "cell_type": "code",
   "outputs": [],
   "source": [
    "from configs.config_object import ConfigObject\n",
    "from grid_and_bathy import build_and_save_mitgcm_grid, get_dz_grid\n",
    "from surface_forcings import extract_and_save_surface_forcings\n",
    "from initial_conditions import download_profile_idronaut_datalakes, create_initial_temperature_from_measure_profile\n",
    "from run_preprocessing import write_data_config_files, copy_template, remove_all_files_and_folders, write_size_config_files\n",
    "from utils import modify_arguments, convert_binary_files"
   ],
   "metadata": {
    "collapsed": true,
    "ExecuteTime": {
     "end_time": "2024-08-26T09:47:06.360111Z",
     "start_time": "2024-08-26T09:47:05.959464Z"
    }
   },
   "id": "initial_id",
   "execution_count": 2
  },
  {
   "cell_type": "markdown",
   "source": [
    "### Load config"
   ],
   "metadata": {
    "collapsed": false
   },
   "id": "e017a697ab5dd281"
  },
  {
   "cell_type": "code",
   "outputs": [],
   "source": [
    "config = ConfigObject('configs/config.json')\n",
    "output_folder = './99-output_preprocessing/'\n",
    "template_folder = './00-template_mitgcm/'"
   ],
   "metadata": {
    "collapsed": false,
    "ExecuteTime": {
     "end_time": "2024-08-26T09:47:08.172500Z",
     "start_time": "2024-08-26T09:47:08.161374Z"
    }
   },
   "id": "bfae6ace9f9eefb3",
   "execution_count": 3
  },
  {
   "cell_type": "code",
   "outputs": [],
   "source": [
    "parsed_start_date = datetime.strptime(config.start_date, '%Y%m%d')\n",
    "parsed_end_date = datetime.strptime(config.end_date, '%Y%m%d')\n",
    "sim_duration_in_second = (parsed_end_date - parsed_start_date).total_seconds()"
   ],
   "metadata": {
    "collapsed": false,
    "ExecuteTime": {
     "end_time": "2024-08-26T09:47:08.623531Z",
     "start_time": "2024-08-26T09:47:08.610291Z"
    }
   },
   "id": "f7f3bcdacfbb25f",
   "execution_count": 4
  },
  {
   "cell_type": "markdown",
   "source": [
    "### Initialize output folder"
   ],
   "metadata": {
    "collapsed": false
   },
   "id": "c7df9c6962b557b7"
  },
  {
   "cell_type": "code",
   "outputs": [],
   "source": [
    "remove_all_files_and_folders(output_folder)\n",
    "copy_template(template_folder, output_folder)\n",
    "config.write_metadata_to_file(os.path.join(output_folder, 'metadata_simulation.txt'))"
   ],
   "metadata": {
    "collapsed": false,
    "ExecuteTime": {
     "end_time": "2024-08-26T08:16:16.046248Z",
     "start_time": "2024-08-26T08:16:15.995874Z"
    }
   },
   "id": "61510542679c189b",
   "execution_count": 5
  },
  {
   "cell_type": "markdown",
   "source": [
    "### Build MITgcm grid"
   ],
   "metadata": {
    "collapsed": false
   },
   "id": "3de5145a6740583e"
  },
  {
   "cell_type": "markdown",
   "source": [
    "build_and_save_mitgcm_grid(config.paths.grid_folder_path, \n",
    "                           config.Nx, \n",
    "                           config.Ny, \n",
    "                           config.grid_resolution, \n",
    "                           config.x0_ch1903, \n",
    "                           config.y0_ch1903, \n",
    "                           config.x1_ch1903, \n",
    "                           config.y1_ch1903)"
   ],
   "metadata": {
    "collapsed": false
   },
   "id": "1d342ce5f21c348d"
  },
  {
   "cell_type": "markdown",
   "source": [
    "### Build binary files"
   ],
   "metadata": {
    "collapsed": false
   },
   "id": "f12b5099d4d8e3b5"
  },
  {
   "cell_type": "code",
   "outputs": [],
   "source": [
    "binary_data_folder = os.path.join(output_folder, 'binary_data')\n",
    "if not os.path.exists(binary_data_folder):\n",
    "    os.makedirs(binary_data_folder)\n",
    "    print(f\"Directory '{binary_data_folder}' created.\")"
   ],
   "metadata": {
    "collapsed": false,
    "ExecuteTime": {
     "end_time": "2024-08-26T09:47:16.348954Z",
     "start_time": "2024-08-26T09:47:16.334836Z"
    }
   },
   "id": "72cbdf023054ec88",
   "execution_count": 5
  },
  {
   "cell_type": "markdown",
   "source": [
    "**Get bathymetry**"
   ],
   "metadata": {
    "collapsed": false
   },
   "id": "88d4f6666cadd83"
  },
  {
   "cell_type": "code",
   "outputs": [
    {
     "data": {
      "text/plain": "'./output_preprocessing/binary_data\\\\bathy.bin'"
     },
     "execution_count": 6,
     "metadata": {},
     "output_type": "execute_result"
    }
   ],
   "source": [
    "#TO DO : create bathymetry\n",
    "shutil.copy(config.paths.bathy_path, os.path.join(binary_data_folder, 'bathy.bin'))"
   ],
   "metadata": {
    "collapsed": false,
    "ExecuteTime": {
     "end_time": "2024-08-26T09:47:27.510339Z",
     "start_time": "2024-08-26T09:47:27.454565Z"
    }
   },
   "id": "1abe7bf9ca450da2",
   "execution_count": 6
  },
  {
   "cell_type": "markdown",
   "source": [
    "**Get surface forcings**"
   ],
   "metadata": {
    "collapsed": false
   },
   "id": "9673032f29e5e681"
  },
  {
   "cell_type": "code",
   "outputs": [],
   "source": [
    "extract_and_save_surface_forcings(binary_data_folder, \n",
    "                                  config.start_date, \n",
    "                                  config.end_date, \n",
    "                                  config.paths.raw_results_from_api_folder, \n",
    "                                  config.paths.grid_folder_path)"
   ],
   "metadata": {
    "collapsed": false,
    "ExecuteTime": {
     "end_time": "2024-08-26T09:24:06.090967Z",
     "start_time": "2024-08-26T09:21:19.798706Z"
    }
   },
   "id": "4f733dcd0b84869e",
   "execution_count": 18
  },
  {
   "cell_type": "markdown",
   "source": [
    "**Convert to little endian if necessary** (for cscs computation)"
   ],
   "metadata": {
    "collapsed": false
   },
   "id": "514d506f8bccf648"
  },
  {
   "cell_type": "code",
   "outputs": [],
   "source": [
    "# TO DO : implement check to see whether the datatypes are correct\n",
    "if config.endian_type == 'little_endian':\n",
    "    convert_binary_files(os.path.join(output_folder, 'binary_data'), '>f8', '<f8')"
   ],
   "metadata": {
    "collapsed": false,
    "ExecuteTime": {
     "end_time": "2024-08-26T09:48:23.898393Z",
     "start_time": "2024-08-26T09:48:23.855452Z"
    }
   },
   "id": "205dfc0e21bf338c",
   "execution_count": 7
  },
  {
   "cell_type": "markdown",
   "source": [
    "### Get initial conditions"
   ],
   "metadata": {
    "collapsed": false
   },
   "id": "c996e2309ad359b3"
  },
  {
   "cell_type": "code",
   "outputs": [
    {
     "name": "stdout",
     "output_type": "stream",
     "text": [
      "2024-07-31 02:56:31.500000\n"
     ]
    }
   ],
   "source": [
    "file_date, measured_temperature = download_profile_idronaut_datalakes(parsed_start_date)\n",
    "print(file_date)\n",
    "dz_grid = get_dz_grid(config.paths.dz_grid_csv_path)\n",
    "shaped_temp_initial = create_initial_temperature_from_measure_profile(dz_grid, measured_temperature)"
   ],
   "metadata": {
    "collapsed": false,
    "ExecuteTime": {
     "end_time": "2024-08-26T08:20:25.951316Z",
     "start_time": "2024-08-26T08:20:25.156527Z"
    }
   },
   "id": "3a31b25106648046",
   "execution_count": 10
  },
  {
   "cell_type": "markdown",
   "source": [
    "### Adapt config files"
   ],
   "metadata": {
    "collapsed": false
   },
   "id": "3f029e92bdaaa42e"
  },
  {
   "cell_type": "code",
   "outputs": [],
   "source": [
    "modify_arguments('!start_date!', [config.start_date], os.path.join(output_folder, 'run/data.cal'))"
   ],
   "metadata": {
    "collapsed": false,
    "ExecuteTime": {
     "end_time": "2024-08-26T08:20:36.513962Z",
     "start_time": "2024-08-26T08:20:36.501253Z"
    }
   },
   "id": "af17ea5536e9f333",
   "execution_count": 11
  },
  {
   "cell_type": "code",
   "outputs": [],
   "source": [
    "modify_arguments('!start_date!', [config.start_date], os.path.join(output_folder, 'run/data.exf'))"
   ],
   "metadata": {
    "collapsed": false,
    "ExecuteTime": {
     "end_time": "2024-08-26T08:20:36.794059Z",
     "start_time": "2024-08-26T08:20:36.783158Z"
    }
   },
   "id": "8da31ad8c10f7f18",
   "execution_count": 12
  },
  {
   "cell_type": "code",
   "outputs": [],
   "source": [
    "write_data_config_files(os.path.join(output_folder, 'run/data'), shaped_temp_initial, sim_duration_in_second, dz_grid, config.grid_resolution)"
   ],
   "metadata": {
    "collapsed": false,
    "ExecuteTime": {
     "end_time": "2024-08-26T08:20:37.130901Z",
     "start_time": "2024-08-26T08:20:37.108789Z"
    }
   },
   "id": "9fa5300bfc079c5a",
   "execution_count": 13
  },
  {
   "cell_type": "code",
   "outputs": [],
   "source": [
    "write_size_config_files(os.path.join(output_folder, 'code/SIZE.h'), \n",
    "                        config.Px, \n",
    "                        config.Py, \n",
    "                        config.Nx, \n",
    "                        config.Ny, \n",
    "                        len(dz_grid.flatten()))"
   ],
   "metadata": {
    "collapsed": false,
    "ExecuteTime": {
     "end_time": "2024-08-26T08:20:37.650312Z",
     "start_time": "2024-08-26T08:20:37.635829Z"
    }
   },
   "id": "b857d0522c095917",
   "execution_count": 14
  },
  {
   "cell_type": "markdown",
   "source": [
    "### TO DO"
   ],
   "metadata": {
    "collapsed": false
   },
   "id": "aa3ea68a8ae13358"
  },
  {
   "cell_type": "code",
   "outputs": [],
   "source": [
    "# add automatic change of pickup file\n",
    "# add automatic change of computing time? (submit-daint)"
   ],
   "metadata": {
    "collapsed": false,
    "ExecuteTime": {
     "end_time": "2024-08-22T16:13:18.420883Z",
     "start_time": "2024-08-22T16:13:18.408812Z"
    }
   },
   "id": "87f6d2aead8eb053",
   "execution_count": 14
  }
 ],
 "metadata": {
  "kernelspec": {
   "display_name": "Python 3",
   "language": "python",
   "name": "python3"
  },
  "language_info": {
   "codemirror_mode": {
    "name": "ipython",
    "version": 2
   },
   "file_extension": ".py",
   "mimetype": "text/x-python",
   "name": "python",
   "nbconvert_exporter": "python",
   "pygments_lexer": "ipython2",
   "version": "2.7.6"
  }
 },
 "nbformat": 4,
 "nbformat_minor": 5
}
