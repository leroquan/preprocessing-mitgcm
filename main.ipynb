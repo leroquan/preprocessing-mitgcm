{
 "cells": [
  {
   "cell_type": "code",
   "outputs": [],
   "source": [
    "import os\n",
    "import glob\n",
    "from datetime import datetime\n",
    "import shutil\n",
    "import numpy as np"
   ],
   "metadata": {
    "collapsed": false,
    "ExecuteTime": {
     "end_time": "2025-07-14T13:55:29.282687Z",
     "start_time": "2025-07-14T13:55:29.214674Z"
    }
   },
   "id": "a71c63f6ed1dc57a",
   "execution_count": 1
  },
  {
   "cell_type": "code",
   "outputs": [],
   "source": [
    "from configs.config_object import ConfigObject\n",
    "from grid_and_bathy import get_dz_grid, get_grid, build_and_save_mitgcm_grid\n",
    "from surface_forcings import extract_and_save_surface_forcings, download_weather_reanalysis, download_weather_forecast\n",
    "from initial_conditions import download_profile_idronaut_datalakes, create_initial_temperature_from_measure_profile, parse_alplakes_1d_from_directory\n",
    "from run_preprocessing import write_data_config_files, copy_template, remove_all_files_and_folders, write_size_config_files\n",
    "from utils import modify_arguments, convert_binary_files"
   ],
   "metadata": {
    "collapsed": true,
    "ExecuteTime": {
     "end_time": "2025-07-14T13:55:30.100826Z",
     "start_time": "2025-07-14T13:55:29.420671Z"
    }
   },
   "id": "initial_id",
   "execution_count": 2
  },
  {
   "cell_type": "markdown",
   "source": [
    "## Load config"
   ],
   "metadata": {
    "collapsed": false
   },
   "id": "e017a697ab5dd281"
  },
  {
   "cell_type": "code",
   "outputs": [],
   "source": [
    "config = ConfigObject('configs/config.json')\n",
    "output_folder = './99-output/'\n",
    "template_folder = os.path.join('./00-template_mitgcm/', config.template_folder)"
   ],
   "metadata": {
    "collapsed": false,
    "ExecuteTime": {
     "end_time": "2025-07-14T13:55:30.116826Z",
     "start_time": "2025-07-14T13:55:30.102825Z"
    }
   },
   "id": "bfae6ace9f9eefb3",
   "execution_count": 3
  },
  {
   "cell_type": "code",
   "outputs": [],
   "source": [
    "parsed_start_date = datetime.strptime(config.start_date, '%Y%m%d')\n",
    "parsed_end_date = datetime.strptime(config.end_date, '%Y%m%d')\n",
    "parsed_ref_date = datetime.strptime(config.reference_date, '%Y%m%d')\n",
    "\n",
    "sim_duration_in_second = (parsed_end_date - parsed_start_date).total_seconds()\n",
    "start_time_in_second_from_ref_date = (parsed_start_date - parsed_ref_date).total_seconds()\n",
    "end_time_in_second_from_ref_date = (parsed_end_date - parsed_ref_date).total_seconds()"
   ],
   "metadata": {
    "collapsed": false,
    "ExecuteTime": {
     "end_time": "2025-07-14T13:55:30.131825Z",
     "start_time": "2025-07-14T13:55:30.118825Z"
    }
   },
   "id": "f7f3bcdacfbb25f",
   "execution_count": 4
  },
  {
   "cell_type": "markdown",
   "source": [
    "## Initialize output folder"
   ],
   "metadata": {
    "collapsed": false
   },
   "id": "c7df9c6962b557b7"
  },
  {
   "cell_type": "code",
   "outputs": [],
   "source": [
    "remove_all_files_and_folders(output_folder)\n",
    "copy_template('./00-template_mitgcm/geneva_base', output_folder)\n",
    "copy_template(template_folder, output_folder)\n",
    "config.write_metadata_to_file(os.path.join(output_folder, 'metadata_simulation.txt'))"
   ],
   "metadata": {
    "collapsed": false,
    "ExecuteTime": {
     "end_time": "2025-07-14T13:55:31.106266Z",
     "start_time": "2025-07-14T13:55:31.078267Z"
    }
   },
   "id": "61510542679c189b",
   "execution_count": 5
  },
  {
   "cell_type": "markdown",
   "source": [
    "#In case some files need to be corrected for Linux use.\n",
    "with open('input.txt', 'r') as f:\n",
    "    content = f.read().replace('\\r\\n', '\\n')\n",
    "\n",
    "with open('output.txt', 'w', newline='\\n') as f:\n",
    "    f.write(content)"
   ],
   "metadata": {
    "collapsed": false
   },
   "id": "4aaeb2571c685255"
  },
  {
   "cell_type": "markdown",
   "source": [
    "## Get MITgcm grid"
   ],
   "metadata": {
    "collapsed": false
   },
   "id": "3de5145a6740583e"
  },
  {
   "cell_type": "markdown",
   "source": [
    "#In case the grid has not been created yet\n",
    "build_and_save_mitgcm_grid(config.paths.grid_folder_path, \n",
    "                           config.Nx, \n",
    "                           config.Ny, \n",
    "                           config.grid_resolution, \n",
    "                           config.x0_epsg2056, \n",
    "                           config.y0_epsg2056, \n",
    "                           config.x1_epsg2056, \n",
    "                           config.y1_epsg2056)"
   ],
   "metadata": {
    "collapsed": false
   },
   "id": "531569a003cea63d"
  },
  {
   "cell_type": "code",
   "outputs": [],
   "source": [
    "mitgcm_grid = get_grid(config.paths.grid_folder_path)"
   ],
   "metadata": {
    "collapsed": false,
    "ExecuteTime": {
     "end_time": "2025-07-14T13:55:32.995927Z",
     "start_time": "2025-07-14T13:55:32.986414Z"
    }
   },
   "id": "b905cccc44f15ff8",
   "execution_count": 6
  },
  {
   "cell_type": "markdown",
   "source": [
    "## Build binary files"
   ],
   "metadata": {
    "collapsed": false
   },
   "id": "f12b5099d4d8e3b5"
  },
  {
   "cell_type": "code",
   "outputs": [
    {
     "name": "stdout",
     "output_type": "stream",
     "text": [
      "Directory './99-output/binary_data' created.\n"
     ]
    }
   ],
   "source": [
    "binary_data_folder = os.path.join(output_folder, 'binary_data')\n",
    "if not os.path.exists(binary_data_folder):\n",
    "    os.makedirs(binary_data_folder)\n",
    "    print(f\"Directory '{binary_data_folder}' created.\")"
   ],
   "metadata": {
    "collapsed": false,
    "ExecuteTime": {
     "end_time": "2025-07-14T13:55:33.882081Z",
     "start_time": "2025-07-14T13:55:33.876082Z"
    }
   },
   "id": "72cbdf023054ec88",
   "execution_count": 7
  },
  {
   "cell_type": "markdown",
   "source": [
    "**Get bathymetry**"
   ],
   "metadata": {
    "collapsed": false
   },
   "id": "88d4f6666cadd83"
  },
  {
   "cell_type": "code",
   "outputs": [
    {
     "data": {
      "text/plain": "'./99-output/binary_data\\\\bathy.bin'"
     },
     "execution_count": 8,
     "metadata": {},
     "output_type": "execute_result"
    }
   ],
   "source": [
    "#To create bathymetry, see notebook 'create_bathy'\n",
    "shutil.copy(config.paths.bathy_path, os.path.join(binary_data_folder, 'bathy.bin'))"
   ],
   "metadata": {
    "collapsed": false,
    "ExecuteTime": {
     "end_time": "2025-07-14T13:55:34.896053Z",
     "start_time": "2025-07-14T13:55:34.872828Z"
    }
   },
   "id": "1abe7bf9ca450da2",
   "execution_count": 8
  },
  {
   "cell_type": "markdown",
   "source": [
    "**Get surface forcings**"
   ],
   "metadata": {
    "collapsed": false
   },
   "id": "9673032f29e5e681"
  },
  {
   "cell_type": "code",
   "outputs": [
    {
     "name": "stdout",
     "output_type": "stream",
     "text": [
      "Failed to fetch data from https://alplakes-internal-api.eawag.ch/meteoswiss/cosmo/area/reanalysis/VNXQ34/20240501/20240501/52.08163623194192/38.20510596251273/52.4048863813281/38.73085560908958?variables=PS. Error: {\"detail\":\"Requested area is outside of the COSMO coverage area, or is too small.\"}\n",
      "Failed to fetch data from https://alplakes-internal-api.eawag.ch/meteoswiss/cosmo/area/reanalysis/VNXQ34/20240501/20240501/52.08163623194192/38.20510596251273/52.4048863813281/38.73085560908958?variables=V. Error: {\"detail\":\"Requested area is outside of the COSMO coverage area, or is too small.\"}\n",
      "Failed to fetch data from https://alplakes-internal-api.eawag.ch/meteoswiss/cosmo/area/reanalysis/VNXQ34/20240501/20240501/52.08163623194192/38.20510596251273/52.4048863813281/38.73085560908958?variables=CLCT. Error: {\"detail\":\"Requested area is outside of the COSMO coverage area, or is too small.\"}\n",
      "Failed to fetch data from https://alplakes-internal-api.eawag.ch/meteoswiss/cosmo/area/reanalysis/VNXQ34/20240501/20240501/52.08163623194192/38.20510596251273/52.4048863813281/38.73085560908958?variables=T_2M. Error: {\"detail\":\"Requested area is outside of the COSMO coverage area, or is too small.\"}\n",
      "Failed to fetch data from https://alplakes-internal-api.eawag.ch/meteoswiss/cosmo/area/reanalysis/VNXQ34/20240502/20240502/52.08163623194192/38.20510596251273/52.4048863813281/38.73085560908958?variables=T_2M. Error: {\"detail\":\"Requested area is outside of the COSMO coverage area, or is too small.\"}\n",
      "Failed to fetch data from https://alplakes-internal-api.eawag.ch/meteoswiss/cosmo/area/reanalysis/VNXQ34/20240502/20240502/52.08163623194192/38.20510596251273/52.4048863813281/38.73085560908958?variables=U. Error: {\"detail\":\"Requested area is outside of the COSMO coverage area, or is too small.\"}\n",
      "Failed to fetch data from https://alplakes-internal-api.eawag.ch/meteoswiss/cosmo/area/reanalysis/VNXQ34/20240501/20240501/52.08163623194192/38.20510596251273/52.4048863813281/38.73085560908958?variables=U. Error: {\"detail\":\"Requested area is outside of the COSMO coverage area, or is too small.\"}\n",
      "Failed to fetch data from https://alplakes-internal-api.eawag.ch/meteoswiss/cosmo/area/reanalysis/VNXQ34/20240501/20240501/52.08163623194192/38.20510596251273/52.4048863813281/38.73085560908958?variables=RELHUM_2M. Error: {\"detail\":\"Requested area is outside of the COSMO coverage area, or is too small.\"}\n",
      "Failed to fetch data from https://alplakes-internal-api.eawag.ch/meteoswiss/cosmo/area/reanalysis/VNXQ34/20240501/20240501/52.08163623194192/38.20510596251273/52.4048863813281/38.73085560908958?variables=GLOB. Error: {\"detail\":\"Requested area is outside of the COSMO coverage area, or is too small.\"}\n",
      "Failed to fetch data from https://alplakes-internal-api.eawag.ch/meteoswiss/cosmo/area/reanalysis/VNXQ34/20240501/20240501/52.08163623194192/38.20510596251273/52.4048863813281/38.73085560908958?variables=PMSL. Error: {\"detail\":\"Requested area is outside of the COSMO coverage area, or is too small.\"}\n",
      "Failed to fetch data from https://alplakes-internal-api.eawag.ch/meteoswiss/cosmo/area/reanalysis/VNXQ34/20240502/20240502/52.08163623194192/38.20510596251273/52.4048863813281/38.73085560908958?variables=GLOB. Error: {\"detail\":\"Requested area is outside of the COSMO coverage area, or is too small.\"}\n",
      "Failed to fetch data from https://alplakes-internal-api.eawag.ch/meteoswiss/cosmo/area/reanalysis/VNXQ34/20240502/20240502/52.08163623194192/38.20510596251273/52.4048863813281/38.73085560908958?variables=V. Error: {\"detail\":\"Requested area is outside of the COSMO coverage area, or is too small.\"}\n",
      "Failed to fetch data from https://alplakes-internal-api.eawag.ch/meteoswiss/cosmo/area/reanalysis/VNXQ34/20240502/20240502/52.08163623194192/38.20510596251273/52.4048863813281/38.73085560908958?variables=PMSL. Error: {\"detail\":\"Requested area is outside of the COSMO coverage area, or is too small.\"}\n",
      "Failed to fetch data from https://alplakes-internal-api.eawag.ch/meteoswiss/cosmo/area/reanalysis/VNXQ34/20240502/20240502/52.08163623194192/38.20510596251273/52.4048863813281/38.73085560908958?variables=RELHUM_2M. Error: {\"detail\":\"Requested area is outside of the COSMO coverage area, or is too small.\"}\n",
      "Failed to fetch data from https://alplakes-internal-api.eawag.ch/meteoswiss/cosmo/area/reanalysis/VNXQ34/20240503/20240503/52.08163623194192/38.20510596251273/52.4048863813281/38.73085560908958?variables=U. Error: {\"detail\":\"Requested area is outside of the COSMO coverage area, or is too small.\"}\n",
      "Failed to fetch data from https://alplakes-internal-api.eawag.ch/meteoswiss/cosmo/area/reanalysis/VNXQ34/20240502/20240502/52.08163623194192/38.20510596251273/52.4048863813281/38.73085560908958?variables=PS. Error: {\"detail\":\"Requested area is outside of the COSMO coverage area, or is too small.\"}\n",
      "Failed to fetch data from https://alplakes-internal-api.eawag.ch/meteoswiss/cosmo/area/reanalysis/VNXQ34/20240503/20240503/52.08163623194192/38.20510596251273/52.4048863813281/38.73085560908958?variables=PMSL. Error: {\"detail\":\"Requested area is outside of the COSMO coverage area, or is too small.\"}\n",
      "Failed to fetch data from https://alplakes-internal-api.eawag.ch/meteoswiss/cosmo/area/reanalysis/VNXQ34/20240503/20240503/52.08163623194192/38.20510596251273/52.4048863813281/38.73085560908958?variables=RELHUM_2M. Error: {\"detail\":\"Requested area is outside of the COSMO coverage area, or is too small.\"}\n",
      "Failed to fetch data from https://alplakes-internal-api.eawag.ch/meteoswiss/cosmo/area/reanalysis/VNXQ34/20240503/20240503/52.08163623194192/38.20510596251273/52.4048863813281/38.73085560908958?variables=T_2M. Error: {\"detail\":\"Requested area is outside of the COSMO coverage area, or is too small.\"}\n",
      "Failed to fetch data from https://alplakes-internal-api.eawag.ch/meteoswiss/cosmo/area/reanalysis/VNXQ34/20240502/20240502/52.08163623194192/38.20510596251273/52.4048863813281/38.73085560908958?variables=CLCT. Error: {\"detail\":\"Requested area is outside of the COSMO coverage area, or is too small.\"}\n",
      "Failed to fetch data from https://alplakes-internal-api.eawag.ch/meteoswiss/cosmo/area/reanalysis/VNXQ34/20240503/20240503/52.08163623194192/38.20510596251273/52.4048863813281/38.73085560908958?variables=GLOB. Error: {\"detail\":\"Requested area is outside of the COSMO coverage area, or is too small.\"}\n",
      "Failed to fetch data from https://alplakes-internal-api.eawag.ch/meteoswiss/cosmo/area/reanalysis/VNXQ34/20240503/20240503/52.08163623194192/38.20510596251273/52.4048863813281/38.73085560908958?variables=V. Error: {\"detail\":\"Requested area is outside of the COSMO coverage area, or is too small.\"}\n",
      "Failed to fetch data from https://alplakes-internal-api.eawag.ch/meteoswiss/cosmo/area/reanalysis/VNXQ34/20240503/20240503/52.08163623194192/38.20510596251273/52.4048863813281/38.73085560908958?variables=PS. Error: {\"detail\":\"Requested area is outside of the COSMO coverage area, or is too small.\"}\n",
      "Failed to fetch data from https://alplakes-internal-api.eawag.ch/meteoswiss/cosmo/area/reanalysis/VNXQ34/20240503/20240503/52.08163623194192/38.20510596251273/52.4048863813281/38.73085560908958?variables=CLCT. Error: {\"detail\":\"Requested area is outside of the COSMO coverage area, or is too small.\"}\n",
      "Finished downloading weather reanalysis\n"
     ]
    }
   ],
   "source": [
    "buffer = config.weather_download_buffer\n",
    "os.makedirs(config.paths.raw_weather_folder, exist_ok=True)\n",
    "if config.weather_model_type == 'reanalysis':    \n",
    "    download_weather_reanalysis(config.weather_api_base_url, \n",
    "                                config.start_date, config.end_date, \n",
    "                                mitgcm_grid.lat_grid.min() - buffer, \n",
    "                                mitgcm_grid.lon_grid.min() - buffer, \n",
    "                                mitgcm_grid.lat_grid.max() + buffer, \n",
    "                                mitgcm_grid.lon_grid.max() + buffer, \n",
    "                                config.paths.raw_weather_folder)\n",
    "    print('Finished downloading weather reanalysis')\n",
    "elif config.weather_model_type == 'forecast':\n",
    "    download_weather_forecast(config.weather_api_base_url, \n",
    "                                config.start_date,  \n",
    "                                mitgcm_grid.lat_grid.min() - buffer, \n",
    "                                mitgcm_grid.lon_grid.min() - buffer, \n",
    "                                mitgcm_grid.lat_grid.max() + buffer, \n",
    "                                mitgcm_grid.lon_grid.max() + buffer, \n",
    "                                config.paths.raw_weather_folder)\n",
    "    print('Finished downloading weather forecasts')"
   ],
   "metadata": {
    "collapsed": false,
    "ExecuteTime": {
     "end_time": "2025-07-14T13:55:36.544525Z",
     "start_time": "2025-07-14T13:55:36.235994Z"
    }
   },
   "id": "83b791fc7d942cc8",
   "execution_count": 9
  },
  {
   "cell_type": "code",
   "outputs": [
    {
     "name": "stdout",
     "output_type": "stream",
     "text": [
      "Interpolating U to grid...\n"
     ]
    },
    {
     "ename": "ValueError",
     "evalue": "must supply at least one object to concatenate",
     "output_type": "error",
     "traceback": [
      "\u001B[1;31m---------------------------------------------------------------------------\u001B[0m",
      "\u001B[1;31mStopIteration\u001B[0m                             Traceback (most recent call last)",
      "File \u001B[1;32m~\\AppData\\Local\\anaconda3\\envs\\mitgcm_env\\lib\\site-packages\\xarray\\core\\concat.py:254\u001B[0m, in \u001B[0;36mconcat\u001B[1;34m(objs, dim, data_vars, coords, compat, positions, fill_value, join, combine_attrs, create_index_for_new_dim)\u001B[0m\n\u001B[0;32m    253\u001B[0m \u001B[38;5;28;01mtry\u001B[39;00m:\n\u001B[1;32m--> 254\u001B[0m     first_obj, objs \u001B[38;5;241m=\u001B[39m \u001B[43mutils\u001B[49m\u001B[38;5;241;43m.\u001B[39;49m\u001B[43mpeek_at\u001B[49m\u001B[43m(\u001B[49m\u001B[43mobjs\u001B[49m\u001B[43m)\u001B[49m\n\u001B[0;32m    255\u001B[0m \u001B[38;5;28;01mexcept\u001B[39;00m \u001B[38;5;167;01mStopIteration\u001B[39;00m \u001B[38;5;28;01mas\u001B[39;00m err:\n",
      "File \u001B[1;32m~\\AppData\\Local\\anaconda3\\envs\\mitgcm_env\\lib\\site-packages\\xarray\\core\\utils.py:199\u001B[0m, in \u001B[0;36mpeek_at\u001B[1;34m(iterable)\u001B[0m\n\u001B[0;32m    198\u001B[0m gen \u001B[38;5;241m=\u001B[39m \u001B[38;5;28miter\u001B[39m(iterable)\n\u001B[1;32m--> 199\u001B[0m peek \u001B[38;5;241m=\u001B[39m \u001B[38;5;28;43mnext\u001B[39;49m\u001B[43m(\u001B[49m\u001B[43mgen\u001B[49m\u001B[43m)\u001B[49m\n\u001B[0;32m    200\u001B[0m \u001B[38;5;28;01mreturn\u001B[39;00m peek, itertools\u001B[38;5;241m.\u001B[39mchain([peek], gen)\n",
      "\u001B[1;31mStopIteration\u001B[0m: ",
      "\nThe above exception was the direct cause of the following exception:\n",
      "\u001B[1;31mValueError\u001B[0m                                Traceback (most recent call last)",
      "Cell \u001B[1;32mIn[10], line 2\u001B[0m\n\u001B[0;32m      1\u001B[0m time_format \u001B[38;5;241m=\u001B[39m \u001B[38;5;124m'\u001B[39m\u001B[38;5;124mUTC\u001B[39m\u001B[38;5;124m'\u001B[39m\n\u001B[1;32m----> 2\u001B[0m \u001B[43mextract_and_save_surface_forcings\u001B[49m\u001B[43m(\u001B[49m\u001B[43mbinary_data_folder\u001B[49m\u001B[43m,\u001B[49m\u001B[43m \u001B[49m\n\u001B[0;32m      3\u001B[0m \u001B[43m                                  \u001B[49m\u001B[43mconfig\u001B[49m\u001B[38;5;241;43m.\u001B[39;49m\u001B[43mstart_date\u001B[49m\u001B[43m,\u001B[49m\u001B[43m \u001B[49m\n\u001B[0;32m      4\u001B[0m \u001B[43m                                  \u001B[49m\u001B[43mconfig\u001B[49m\u001B[38;5;241;43m.\u001B[39;49m\u001B[43mend_date\u001B[49m\u001B[43m,\u001B[49m\u001B[43m \u001B[49m\n\u001B[0;32m      5\u001B[0m \u001B[43m                                  \u001B[49m\u001B[43mconfig\u001B[49m\u001B[38;5;241;43m.\u001B[39;49m\u001B[43mpaths\u001B[49m\u001B[38;5;241;43m.\u001B[39;49m\u001B[43mraw_weather_folder\u001B[49m\u001B[43m,\u001B[49m\u001B[43m \u001B[49m\n\u001B[0;32m      6\u001B[0m \u001B[43m                                  \u001B[49m\u001B[43mmitgcm_grid\u001B[49m\u001B[43m,\u001B[49m\n\u001B[0;32m      7\u001B[0m \u001B[43m                                  \u001B[49m\u001B[38;5;241;43m1\u001B[39;49m\u001B[43m,\u001B[49m\u001B[43m \u001B[49m\u001B[38;5;66;43;03m# Number of cores used in interpolation\u001B[39;49;00m\n\u001B[0;32m      8\u001B[0m \u001B[43m                                  \u001B[49m\u001B[43mconfig\u001B[49m\u001B[38;5;241;43m.\u001B[39;49m\u001B[43mweather_model_type\u001B[49m\u001B[43m)\u001B[49m\n",
      "File \u001B[1;32m~\\Documents\\python\\preprocessing-mitgcm\\surface_forcings\\surf_forcing_functions.py:312\u001B[0m, in \u001B[0;36mextract_and_save_surface_forcings\u001B[1;34m(output_folder_path, start_date, end_date, path_raw_weather_folder, mitgcm_grid, parallel_n, weather_model_type)\u001B[0m\n\u001B[0;32m    308\u001B[0m     write_binary(os\u001B[38;5;241m.\u001B[39mpath\u001B[38;5;241m.\u001B[39mjoin(output_folder_path, \u001B[38;5;124mf\u001B[39m\u001B[38;5;124m'\u001B[39m\u001B[38;5;132;01m{\u001B[39;00moutput_name\u001B[38;5;132;01m}\u001B[39;00m\u001B[38;5;124m.bin\u001B[39m\u001B[38;5;124m'\u001B[39m), data)\n\u001B[0;32m    310\u001B[0m     \u001B[38;5;28;01mreturn\u001B[39;00m data\n\u001B[1;32m--> 312\u001B[0m \u001B[43mprocess_variable\u001B[49m\u001B[43m(\u001B[49m\u001B[38;5;124;43m'\u001B[39;49m\u001B[38;5;124;43mU\u001B[39;49m\u001B[38;5;124;43m'\u001B[39;49m\u001B[43m,\u001B[49m\u001B[43m \u001B[49m\u001B[38;5;124;43m'\u001B[39;49m\u001B[38;5;124;43mu10\u001B[39;49m\u001B[38;5;124;43m'\u001B[39;49m\u001B[43m)\u001B[49m\n\u001B[0;32m    313\u001B[0m process_variable(\u001B[38;5;124m'\u001B[39m\u001B[38;5;124mV\u001B[39m\u001B[38;5;124m'\u001B[39m, \u001B[38;5;124m'\u001B[39m\u001B[38;5;124mv10\u001B[39m\u001B[38;5;124m'\u001B[39m)\n\u001B[0;32m    314\u001B[0m swdown \u001B[38;5;241m=\u001B[39m process_variable(\u001B[38;5;124m'\u001B[39m\u001B[38;5;124mGLOB\u001B[39m\u001B[38;5;124m'\u001B[39m, \u001B[38;5;124m'\u001B[39m\u001B[38;5;124mswdown\u001B[39m\u001B[38;5;124m'\u001B[39m)\n",
      "File \u001B[1;32m~\\Documents\\python\\preprocessing-mitgcm\\surface_forcings\\surf_forcing_functions.py:304\u001B[0m, in \u001B[0;36mextract_and_save_surface_forcings.<locals>.process_variable\u001B[1;34m(var_name, output_name)\u001B[0m\n\u001B[0;32m    302\u001B[0m \u001B[38;5;28;01mdef\u001B[39;00m \u001B[38;5;21mprocess_variable\u001B[39m(var_name, output_name):\n\u001B[0;32m    303\u001B[0m     \u001B[38;5;28mprint\u001B[39m(\u001B[38;5;124mf\u001B[39m\u001B[38;5;124m'\u001B[39m\u001B[38;5;124mInterpolating \u001B[39m\u001B[38;5;132;01m{\u001B[39;00mvar_name\u001B[38;5;132;01m}\u001B[39;00m\u001B[38;5;124m to grid...\u001B[39m\u001B[38;5;124m'\u001B[39m)\n\u001B[1;32m--> 304\u001B[0m     data \u001B[38;5;241m=\u001B[39m \u001B[43minterp_concat_json\u001B[49m\u001B[43m(\u001B[49m\u001B[43mpath_raw_weather_folder\u001B[49m\u001B[43m,\u001B[49m\u001B[43m \u001B[49m\u001B[43mvar_name\u001B[49m\u001B[43m,\u001B[49m\u001B[43m \u001B[49m\u001B[43mstart_date\u001B[49m\u001B[43m,\u001B[49m\u001B[43m \u001B[49m\u001B[43mend_date\u001B[49m\u001B[43m,\u001B[49m\u001B[43m \u001B[49m\u001B[43mmitgcm_grid\u001B[49m\u001B[43m,\u001B[49m\u001B[43m \u001B[49m\u001B[43mparallel_n\u001B[49m\u001B[43m,\u001B[49m\n\u001B[0;32m    305\u001B[0m \u001B[43m                              \u001B[49m\u001B[43mweather_model_type\u001B[49m\u001B[43m)\u001B[49m\n\u001B[0;32m    306\u001B[0m     \u001B[38;5;66;03m# data = data.fillna(0)  # Handle missing values early\u001B[39;00m\n\u001B[0;32m    307\u001B[0m     \u001B[38;5;28mprint\u001B[39m(\u001B[38;5;124mf\u001B[39m\u001B[38;5;124m'\u001B[39m\u001B[38;5;124mSaving \u001B[39m\u001B[38;5;132;01m{\u001B[39;00moutput_name\u001B[38;5;132;01m}\u001B[39;00m\u001B[38;5;124m...\u001B[39m\u001B[38;5;124m'\u001B[39m)\n",
      "File \u001B[1;32m~\\Documents\\python\\preprocessing-mitgcm\\surface_forcings\\surf_forcing_functions.py:182\u001B[0m, in \u001B[0;36minterp_concat_json\u001B[1;34m(folder_json_path, data_type, str_start_date, str_end_date, mitgcm_grid, parallel_n, weather_model_type)\u001B[0m\n\u001B[0;32m    179\u001B[0m \u001B[38;5;28;01mwith\u001B[39;00m Pool(parallel_n) \u001B[38;5;28;01mas\u001B[39;00m pool:\n\u001B[0;32m    180\u001B[0m     all_data \u001B[38;5;241m=\u001B[39m pool\u001B[38;5;241m.\u001B[39mstarmap(interp_to_grid, [(file, data_type, mitgcm_grid) \u001B[38;5;28;01mfor\u001B[39;00m file \u001B[38;5;129;01min\u001B[39;00m json_files])\n\u001B[1;32m--> 182\u001B[0m all_data \u001B[38;5;241m=\u001B[39m \u001B[43mxr\u001B[49m\u001B[38;5;241;43m.\u001B[39;49m\u001B[43mconcat\u001B[49m\u001B[43m(\u001B[49m\u001B[43mall_data\u001B[49m\u001B[43m,\u001B[49m\u001B[43m \u001B[49m\u001B[43mdim\u001B[49m\u001B[38;5;241;43m=\u001B[39;49m\u001B[38;5;124;43m'\u001B[39;49m\u001B[38;5;124;43mT\u001B[39;49m\u001B[38;5;124;43m'\u001B[39;49m\u001B[43m)\u001B[49m\u001B[38;5;241m.\u001B[39msortby(\u001B[38;5;124m'\u001B[39m\u001B[38;5;124mT\u001B[39m\u001B[38;5;124m'\u001B[39m)\n\u001B[0;32m    184\u001B[0m unique_values, unique_ind \u001B[38;5;241m=\u001B[39m np\u001B[38;5;241m.\u001B[39munique(all_data[\u001B[38;5;124m'\u001B[39m\u001B[38;5;124mT\u001B[39m\u001B[38;5;124m'\u001B[39m]\u001B[38;5;241m.\u001B[39mvalues, return_index\u001B[38;5;241m=\u001B[39m\u001B[38;5;28;01mTrue\u001B[39;00m)\n\u001B[0;32m    185\u001B[0m all_data_cleaned \u001B[38;5;241m=\u001B[39m all_data\u001B[38;5;241m.\u001B[39misel(T\u001B[38;5;241m=\u001B[39mnp\u001B[38;5;241m.\u001B[39msort(unique_ind))\n",
      "File \u001B[1;32m~\\AppData\\Local\\anaconda3\\envs\\mitgcm_env\\lib\\site-packages\\xarray\\core\\concat.py:256\u001B[0m, in \u001B[0;36mconcat\u001B[1;34m(objs, dim, data_vars, coords, compat, positions, fill_value, join, combine_attrs, create_index_for_new_dim)\u001B[0m\n\u001B[0;32m    254\u001B[0m     first_obj, objs \u001B[38;5;241m=\u001B[39m utils\u001B[38;5;241m.\u001B[39mpeek_at(objs)\n\u001B[0;32m    255\u001B[0m \u001B[38;5;28;01mexcept\u001B[39;00m \u001B[38;5;167;01mStopIteration\u001B[39;00m \u001B[38;5;28;01mas\u001B[39;00m err:\n\u001B[1;32m--> 256\u001B[0m     \u001B[38;5;28;01mraise\u001B[39;00m \u001B[38;5;167;01mValueError\u001B[39;00m(\u001B[38;5;124m\"\u001B[39m\u001B[38;5;124mmust supply at least one object to concatenate\u001B[39m\u001B[38;5;124m\"\u001B[39m) \u001B[38;5;28;01mfrom\u001B[39;00m \u001B[38;5;21;01merr\u001B[39;00m\n\u001B[0;32m    258\u001B[0m \u001B[38;5;28;01mif\u001B[39;00m compat \u001B[38;5;129;01mnot\u001B[39;00m \u001B[38;5;129;01min\u001B[39;00m \u001B[38;5;28mset\u001B[39m(_VALID_COMPAT) \u001B[38;5;241m-\u001B[39m {\u001B[38;5;124m\"\u001B[39m\u001B[38;5;124mminimal\u001B[39m\u001B[38;5;124m\"\u001B[39m}:\n\u001B[0;32m    259\u001B[0m     \u001B[38;5;28;01mraise\u001B[39;00m \u001B[38;5;167;01mValueError\u001B[39;00m(\n\u001B[0;32m    260\u001B[0m         \u001B[38;5;124mf\u001B[39m\u001B[38;5;124m\"\u001B[39m\u001B[38;5;124mcompat=\u001B[39m\u001B[38;5;132;01m{\u001B[39;00mcompat\u001B[38;5;132;01m!r}\u001B[39;00m\u001B[38;5;124m invalid: must be \u001B[39m\u001B[38;5;124m'\u001B[39m\u001B[38;5;124mbroadcast_equals\u001B[39m\u001B[38;5;124m'\u001B[39m\u001B[38;5;124m, \u001B[39m\u001B[38;5;124m'\u001B[39m\u001B[38;5;124mequals\u001B[39m\u001B[38;5;124m'\u001B[39m\u001B[38;5;124m, \u001B[39m\u001B[38;5;124m'\u001B[39m\u001B[38;5;124midentical\u001B[39m\u001B[38;5;124m'\u001B[39m\u001B[38;5;124m, \u001B[39m\u001B[38;5;124m'\u001B[39m\u001B[38;5;124mno_conflicts\u001B[39m\u001B[38;5;124m'\u001B[39m\u001B[38;5;124m or \u001B[39m\u001B[38;5;124m'\u001B[39m\u001B[38;5;124moverride\u001B[39m\u001B[38;5;124m'\u001B[39m\u001B[38;5;124m\"\u001B[39m\n\u001B[0;32m    261\u001B[0m     )\n",
      "\u001B[1;31mValueError\u001B[0m: must supply at least one object to concatenate"
     ]
    }
   ],
   "source": [
    "time_format = 'UTC'\n",
    "extract_and_save_surface_forcings(binary_data_folder, \n",
    "                                  config.start_date, \n",
    "                                  config.end_date, \n",
    "                                  config.paths.raw_weather_folder, \n",
    "                                  mitgcm_grid,\n",
    "                                  1, # Number of cores used in interpolation\n",
    "                                  config.weather_model_type)"
   ],
   "metadata": {
    "collapsed": false,
    "ExecuteTime": {
     "end_time": "2025-07-14T13:55:37.968917Z",
     "start_time": "2025-07-14T13:55:36.959572Z"
    }
   },
   "id": "4f733dcd0b84869e",
   "execution_count": 10
  },
  {
   "cell_type": "markdown",
   "source": [
    "**Convert to little endian if necessary** (for cscs computation)"
   ],
   "metadata": {
    "collapsed": false
   },
   "id": "514d506f8bccf648"
  },
  {
   "cell_type": "code",
   "outputs": [],
   "source": [
    "# TO DO : implement check to see whether the datatypes are correct\n",
    "if config.endian_type == 'little_endian':\n",
    "    convert_binary_files(os.path.join(output_folder, 'binary_data'), '>f8', '<f8')"
   ],
   "metadata": {
    "collapsed": false,
    "ExecuteTime": {
     "end_time": "2025-07-14T13:55:38.412071Z",
     "start_time": "2025-07-14T13:55:38.405071Z"
    }
   },
   "id": "205dfc0e21bf338c",
   "execution_count": 11
  },
  {
   "cell_type": "markdown",
   "source": [
    "### Get initial conditions"
   ],
   "metadata": {
    "collapsed": false
   },
   "id": "c996e2309ad359b3"
  },
  {
   "cell_type": "code",
   "outputs": [
    {
     "name": "stdout",
     "output_type": "stream",
     "text": [
      "Initial conditions from Idronaut file from  2024-04-30 22:57:14.900000\n"
     ]
    }
   ],
   "source": [
    "file_date, measured_temperature = download_profile_idronaut_datalakes(parsed_start_date)\n",
    "print('Initial conditions from Idronaut file from ', file_date)\n",
    "dz_grid = get_dz_grid(config.paths.dz_grid_csv_path)\n",
    "shaped_temp_initial = create_initial_temperature_from_measure_profile(dz_grid, measured_temperature)\n",
    "shaped_salt_initial = np.ones(shaped_temp_initial.shape) * 0.05 # constant default values for salt"
   ],
   "metadata": {
    "collapsed": false,
    "ExecuteTime": {
     "end_time": "2025-07-14T13:55:40.537757Z",
     "start_time": "2025-07-14T13:55:39.595735Z"
    }
   },
   "id": "b77837a3ae8cb532",
   "execution_count": 12
  },
  {
   "cell_type": "markdown",
   "source": [
    "#From Simstrat results (Aplakes)\n",
    "simstrat_temperature = parse_alplakes_1d_from_directory(rf'./initial_conditions/simstrat_data/{config.lake_name}')\n",
    "profile_simstrat = simstrat_temperature.sel(time = parsed_start_date, method='nearest')\n",
    "print('Initial conditions from Simstrat ', profile_simstrat.time.values)\n",
    "dz_grid = get_dz_grid(config.paths.dz_grid_csv_path)\n",
    "shaped_temp_initial = create_initial_temperature_from_measure_profile(dz_grid, profile_simstrat)"
   ],
   "metadata": {
    "collapsed": false
   },
   "id": "9f4dc12dca9c67fe"
  },
  {
   "cell_type": "markdown",
   "source": [
    "### Get pickup files"
   ],
   "metadata": {
    "collapsed": false
   },
   "id": "b3486f12c2ed801e"
  },
  {
   "cell_type": "code",
   "outputs": [
    {
     "name": "stdout",
     "output_type": "stream",
     "text": []
    }
   ],
   "source": [
    "if config.with_pickup:\n",
    "    dt_sim_in_second = config.time_step\n",
    "    pickup_number = f\"pickup.{str(int(start_time_in_second_from_ref_date / dt_sim_in_second)).zfill(10)}\"\n",
    "else:\n",
    "    pickup_number = \"\"\n",
    "print(pickup_number)"
   ],
   "metadata": {
    "collapsed": false,
    "ExecuteTime": {
     "end_time": "2025-07-14T13:55:44.093090Z",
     "start_time": "2025-07-14T13:55:44.077090Z"
    }
   },
   "id": "fd2ff3748833ddea",
   "execution_count": 13
  },
  {
   "cell_type": "markdown",
   "source": [
    "### Adapt config files"
   ],
   "metadata": {
    "collapsed": false
   },
   "id": "3f029e92bdaaa42e"
  },
  {
   "cell_type": "code",
   "outputs": [],
   "source": [
    "modify_arguments('!reference_date!', [config.reference_date], os.path.join(output_folder, 'run_config/data.cal'))"
   ],
   "metadata": {
    "collapsed": false,
    "ExecuteTime": {
     "end_time": "2025-07-14T13:55:45.846146Z",
     "start_time": "2025-07-14T13:55:45.827147Z"
    }
   },
   "id": "af17ea5536e9f333",
   "execution_count": 14
  },
  {
   "cell_type": "code",
   "outputs": [],
   "source": [
    "date_obj = datetime.strptime(config.reference_date, '%Y%m%d')\n",
    "formatted_date = f\"{date_obj.year}-{date_obj.month:02d}-{date_obj.day:02d} 0:0:0\"\n",
    "\n",
    "all_postprocessing_scripts = glob.glob(os.path.join(output_folder, 'postprocessing/*.py'))\n",
    "for script in all_postprocessing_scripts:\n",
    "    modify_arguments('!formatted_ref_date!', [formatted_date], script)\n",
    "    modify_arguments('!time_step!', [config.time_step], script)"
   ],
   "metadata": {
    "collapsed": false,
    "ExecuteTime": {
     "end_time": "2025-07-14T13:55:46.113199Z",
     "start_time": "2025-07-14T13:55:46.098201Z"
    }
   },
   "id": "6564576f6823a7a1",
   "execution_count": 15
  },
  {
   "cell_type": "code",
   "outputs": [],
   "source": [
    "modify_arguments('!start_date!', [config.start_date], os.path.join(output_folder, 'run_config/data.exf'))"
   ],
   "metadata": {
    "collapsed": false,
    "ExecuteTime": {
     "end_time": "2025-07-14T13:55:46.410598Z",
     "start_time": "2025-07-14T13:55:46.400599Z"
    }
   },
   "id": "8da31ad8c10f7f18",
   "execution_count": 16
  },
  {
   "cell_type": "code",
   "outputs": [],
   "source": [
    "#TO DO: write output type (binary or netcdf -->   diag_mnc = .FALSE./.TRUE. in data.diagnostics)"
   ],
   "metadata": {
    "collapsed": false,
    "ExecuteTime": {
     "end_time": "2025-07-14T13:55:46.803875Z",
     "start_time": "2025-07-14T13:55:46.792877Z"
    }
   },
   "id": "5079750f4f30a0c9",
   "execution_count": 17
  },
  {
   "cell_type": "code",
   "outputs": [],
   "source": [
    "write_data_config_files(os.path.join(output_folder, 'run_config/data'), \n",
    "                        shaped_temp_initial, \n",
    "                        shaped_salt_initial,  \n",
    "                        start_time_in_second_from_ref_date, \n",
    "                        end_time_in_second_from_ref_date,\n",
    "                        pickup_number,\n",
    "                        dz_grid, \n",
    "                        config.grid_resolution,\n",
    "                        config.time_step)"
   ],
   "metadata": {
    "collapsed": false,
    "ExecuteTime": {
     "end_time": "2025-07-14T13:55:47.178100Z",
     "start_time": "2025-07-14T13:55:47.162098Z"
    }
   },
   "id": "9fa5300bfc079c5a",
   "execution_count": 18
  },
  {
   "cell_type": "code",
   "outputs": [
    {
     "name": "stdout",
     "output_type": "stream",
     "text": [
      "Number of core to use:33\n"
     ]
    }
   ],
   "source": [
    "use_exch2=False\n",
    "if config.template_folder == \"exch2\":\n",
    "    use_exch2=True\n",
    "    \n",
    "# Package to ignore cores that are attributed to land. See notebook grid_and_bathy/check_core_allocation to create files land_cores_Px..etc.txt.\n",
    "# Doc here: https://wiki.math.uwaterloo.ca/fluidswiki/index.php?title=MITgcm_tips#Setting_the_equation_of_state (look for exch2)\n",
    "# And there: https://mitgcm.readthedocs.io/en/latest/phys_pkgs/exch2.html (not so helpful... don't we love the official documentation of MITgcm?)\n",
    "if use_exch2:    \n",
    "    blank_list_path=os.path.join(config.paths.grid_folder_path, f\"land_cores_Px{config.Px}_Py{config.Py}.txt\")\n",
    "    with open(blank_list_path, \"r\") as file:\n",
    "        nb_blank_cores, blank_list = file.read().splitlines()\n",
    "        \n",
    "    Px = (config.Px * config.Py) - int(nb_blank_cores)\n",
    "    Py = 1\n",
    "    \n",
    "    modify_arguments('!Nx!', [config.Nx], os.path.join(output_folder, 'run_config/data.exch2'))\n",
    "    modify_arguments('!Ny!', [config.Ny], os.path.join(output_folder, 'run_config/data.exch2'))\n",
    "    modify_arguments('!blank_list!', [blank_list], os.path.join(output_folder, 'run_config/data.exch2'))\n",
    "    print('Number of core to use:' + str(Px))\n",
    "else:\n",
    "    Px = config.Px\n",
    "    Py = config.Py"
   ],
   "metadata": {
    "collapsed": false,
    "ExecuteTime": {
     "end_time": "2025-06-04T08:13:20.261769Z",
     "start_time": "2025-06-04T08:13:20.242769Z"
    }
   },
   "id": "48e34d67c6ef5420",
   "execution_count": 22
  },
  {
   "cell_type": "code",
   "outputs": [],
   "source": [
    "write_size_config_files(os.path.join(output_folder, 'code/SIZE.h'), \n",
    "                        Px, \n",
    "                        Py, \n",
    "                        config.Nx, \n",
    "                        config.Ny, \n",
    "                        np.count_nonzero(~np.isnan(dz_grid)),\n",
    "                        int(config.Nx / config.Px),\n",
    "                        int(config.Ny / config.Py))"
   ],
   "metadata": {
    "collapsed": false,
    "ExecuteTime": {
     "end_time": "2025-06-04T08:13:21.490905Z",
     "start_time": "2025-06-04T08:13:21.474906Z"
    }
   },
   "id": "b857d0522c095917",
   "execution_count": 23
  },
  {
   "cell_type": "markdown",
   "source": [
    "## Next steps"
   ],
   "metadata": {
    "collapsed": false
   },
   "id": "db14cf08215b46f6"
  },
  {
   "cell_type": "markdown",
   "source": [
    "- Copy-paste the folders in \"99-output\" to the cscs server \n",
    "- Change #SBATCH --time=00:05:00 in run/submit-daint-short.sh\n",
    "- Open CSCS putty console:\n",
    "\n",
    "export MITGCM_ROOTDIR=/scratch/snx3000/aleroqua/MITgcm-checkpoint67z/\n",
    "\n",
    "cd /scratch/snx3000/aleroqua/xx/build\n",
    "$MITGCM_ROOTDIR/tools/genmake2 -mods ../code -mpi -enable=mnc -of ${MITGCM_ROOTDIR}/tools/build_options/linux_ia64_cray_archer\n",
    "make depend\n",
    "make -j 8\n",
    "\n",
    "cd ..\n",
    "rm -r run\n",
    "mkdir run\n",
    "cd run\n",
    "ln -s ../pickup/* .\n",
    "ln -s ../run_config/* .\n",
    "cp ../build/mitgcmuv .\n",
    "\n",
    "sbatch submit-daint-short.sh"
   ],
   "metadata": {
    "collapsed": false
   },
   "id": "c931932f70f981a"
  },
  {
   "cell_type": "markdown",
   "source": [
    "### TO DO"
   ],
   "metadata": {
    "collapsed": false
   },
   "id": "aa3ea68a8ae13358"
  },
  {
   "cell_type": "code",
   "outputs": [],
   "source": [
    "# add selection of pickup file\n",
    "# add selection of pickup frequency, diagnostic frequency\n",
    "# add selection of output type (mnc = true or false)\n",
    "# add automatic change of computing time? (submit-daint)"
   ],
   "metadata": {
    "collapsed": false,
    "ExecuteTime": {
     "end_time": "2025-05-20T10:27:21.152516Z",
     "start_time": "2025-05-20T10:27:21.137883Z"
    }
   },
   "id": "87f6d2aead8eb053",
   "execution_count": 32
  }
 ],
 "metadata": {
  "kernelspec": {
   "display_name": "Python 3",
   "language": "python",
   "name": "python3"
  },
  "language_info": {
   "codemirror_mode": {
    "name": "ipython",
    "version": 2
   },
   "file_extension": ".py",
   "mimetype": "text/x-python",
   "name": "python",
   "nbconvert_exporter": "python",
   "pygments_lexer": "ipython2",
   "version": "2.7.6"
  }
 },
 "nbformat": 4,
 "nbformat_minor": 5
}
