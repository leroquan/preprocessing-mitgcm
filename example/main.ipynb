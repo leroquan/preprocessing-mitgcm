{
 "cells": [
  {
   "cell_type": "code",
   "execution_count": 1,
   "id": "a71c63f6ed1dc57a",
   "metadata": {
    "ExecuteTime": {
     "end_time": "2025-04-02T13:13:43.370029Z",
     "start_time": "2025-04-02T13:13:43.356234Z"
    },
    "collapsed": false,
    "jupyter": {
     "outputs_hidden": false
    }
   },
   "outputs": [],
   "source": [
    "import os\n",
    "from datetime import datetime\n",
    "import shutil"
   ]
  },
  {
   "cell_type": "code",
   "execution_count": 2,
   "id": "initial_id",
   "metadata": {
    "ExecuteTime": {
     "end_time": "2025-04-02T13:13:44.266732Z",
     "start_time": "2025-04-02T13:13:43.372134Z"
    }
   },
   "outputs": [],
   "source": [
    "from configs.config_object import ConfigObject\n",
    "from grid_and_bathy import get_dz_grid, get_grid\n",
    "from surface_forcings import extract_and_save_surface_forcings, download_weather_reanalysis, download_weather_forecast\n",
    "from initial_conditions import download_profile_idronaut_datalakes, create_initial_temperature_from_measure_profile\n",
    "from run_preprocessing import write_data_config_files, copy_template, remove_all_files_and_folders, write_size_config_files\n",
    "from utils import modify_arguments, convert_binary_files"
   ]
  },
  {
   "cell_type": "markdown",
   "id": "e017a697ab5dd281",
   "metadata": {
    "collapsed": false,
    "jupyter": {
     "outputs_hidden": false
    }
   },
   "source": [
    "## Load config"
   ]
  },
  {
   "cell_type": "code",
   "execution_count": 9,
   "id": "bfae6ace9f9eefb3",
   "metadata": {
    "ExecuteTime": {
     "end_time": "2025-04-02T13:13:44.281853Z",
     "start_time": "2025-04-02T13:13:44.268787Z"
    },
    "collapsed": false,
    "jupyter": {
     "outputs_hidden": false
    }
   },
   "outputs": [
    {
     "name": "stdout",
     "output_type": "stream",
     "text": [
      "../Zurich/99-output/\n"
     ]
    }
   ],
   "source": [
    "config = ConfigObject('configs/config.json')\n",
    "output_folder = '../Zurich/99-output/'\n",
    "template_folder = os.path.join('../Zurich/00-template_mitgcm/', config.template_folder)\n",
    "print(output_folder)"
   ]
  },
  {
   "cell_type": "code",
   "execution_count": 4,
   "id": "f7f3bcdacfbb25f",
   "metadata": {
    "ExecuteTime": {
     "end_time": "2025-04-02T13:13:45.123813Z",
     "start_time": "2025-04-02T13:13:45.107117Z"
    },
    "collapsed": false,
    "jupyter": {
     "outputs_hidden": false
    }
   },
   "outputs": [],
   "source": [
    "parsed_start_date = datetime.strptime(config.start_date, '%Y%m%d')\n",
    "parsed_end_date = datetime.strptime(config.end_date, '%Y%m%d')\n",
    "parsed_ref_date = datetime.strptime(config.reference_date, '%Y%m%d')\n",
    "\n",
    "sim_duration_in_second = (parsed_end_date - parsed_start_date).total_seconds()\n",
    "start_time_in_second_from_ref_date = (parsed_start_date - parsed_ref_date).total_seconds()\n",
    "end_time_in_second_from_ref_date = (parsed_end_date - parsed_ref_date).total_seconds()"
   ]
  },
  {
   "cell_type": "markdown",
   "id": "c7df9c6962b557b7",
   "metadata": {
    "collapsed": false,
    "jupyter": {
     "outputs_hidden": false
    }
   },
   "source": [
    "## Initialize output folder"
   ]
  },
  {
   "cell_type": "code",
   "execution_count": 5,
   "id": "61510542679c189b",
   "metadata": {
    "ExecuteTime": {
     "end_time": "2025-04-02T13:13:45.997511Z",
     "start_time": "2025-04-02T13:13:45.961090Z"
    },
    "collapsed": false,
    "jupyter": {
     "outputs_hidden": false
    }
   },
   "outputs": [
    {
     "ename": "FileNotFoundError",
     "evalue": "[WinError 3] The system cannot find the path specified: '../Zurich/00-template_mitgcm/geneva_base'",
     "output_type": "error",
     "traceback": [
      "\u001b[1;31m---------------------------------------------------------------------------\u001b[0m",
      "\u001b[1;31mFileNotFoundError\u001b[0m                         Traceback (most recent call last)",
      "Cell \u001b[1;32mIn[5], line 3\u001b[0m\n\u001b[0;32m      1\u001b[0m remove_all_files_and_folders(output_folder)\n\u001b[0;32m      2\u001b[0m \u001b[38;5;66;03m#copy_template('./00-template_mitgcm/geneva_base', output_folder)\u001b[39;00m\n\u001b[1;32m----> 3\u001b[0m copy_template(template_folder, output_folder)\n\u001b[0;32m      4\u001b[0m config\u001b[38;5;241m.\u001b[39mwrite_metadata_to_file(os\u001b[38;5;241m.\u001b[39mpath\u001b[38;5;241m.\u001b[39mjoin(output_folder, \u001b[38;5;124m'\u001b[39m\u001b[38;5;124mmetadata_simulation.txt\u001b[39m\u001b[38;5;124m'\u001b[39m))\n",
      "File \u001b[1;32m~\\Desktop\\preprocessing-mitgcm\\example\\run_preprocessing\\run.py:22\u001b[0m, in \u001b[0;36mcopy_template\u001b[1;34m(template_folder, output_folder)\u001b[0m\n\u001b[0;32m     19\u001b[0m \u001b[38;5;28;01mdef\u001b[39;00m \u001b[38;5;21mcopy_template\u001b[39m(template_folder, output_folder):\n\u001b[0;32m     20\u001b[0m \n\u001b[0;32m     21\u001b[0m     \u001b[38;5;66;03m# Iterate through the source directory\u001b[39;00m\n\u001b[1;32m---> 22\u001b[0m     \u001b[38;5;28;01mfor\u001b[39;00m item \u001b[38;5;129;01min\u001b[39;00m os\u001b[38;5;241m.\u001b[39mlistdir(template_folder):\n\u001b[0;32m     23\u001b[0m         s \u001b[38;5;241m=\u001b[39m os\u001b[38;5;241m.\u001b[39mpath\u001b[38;5;241m.\u001b[39mjoin(template_folder, item)\n\u001b[0;32m     24\u001b[0m         d \u001b[38;5;241m=\u001b[39m os\u001b[38;5;241m.\u001b[39mpath\u001b[38;5;241m.\u001b[39mjoin(output_folder, item)\n",
      "\u001b[1;31mFileNotFoundError\u001b[0m: [WinError 3] The system cannot find the path specified: '../Zurich/00-template_mitgcm/geneva_base'"
     ]
    }
   ],
   "source": [
    "remove_all_files_and_folders(output_folder)\n",
    "#copy_template('./00-template_mitgcm/geneva_base', output_folder)\n",
    "copy_template(template_folder, output_folder)\n",
    "config.write_metadata_to_file(os.path.join(output_folder, 'metadata_simulation.txt'))"
   ]
  },
  {
   "cell_type": "markdown",
   "id": "3de5145a6740583e",
   "metadata": {
    "collapsed": false,
    "jupyter": {
     "outputs_hidden": false
    }
   },
   "source": [
    "## Get MITgcm grid"
   ]
  },
  {
   "cell_type": "markdown",
   "id": "f5ed1f3c1b7039dc",
   "metadata": {
    "collapsed": false,
    "jupyter": {
     "outputs_hidden": false
    }
   },
   "source": [
    "#In case the grid has not been created yet\n",
    "build_and_save_mitgcm_grid(config.paths.grid_folder_path, \n",
    "                           config.Nx, \n",
    "                           config.Ny, \n",
    "                           config.grid_resolution, \n",
    "                           config.x0_ch1903, \n",
    "                           config.y0_ch1903, \n",
    "                           config.x1_ch1903, \n",
    "                           config.y1_ch1903)"
   ]
  },
  {
   "cell_type": "code",
   "execution_count": 7,
   "id": "b905cccc44f15ff8",
   "metadata": {
    "ExecuteTime": {
     "end_time": "2025-04-02T13:13:47.156592Z",
     "start_time": "2025-04-02T13:13:47.147462Z"
    },
    "collapsed": false,
    "jupyter": {
     "outputs_hidden": false
    },
    "scrolled": true
   },
   "outputs": [
    {
     "ename": "FileNotFoundError",
     "evalue": "Missing grid file: C:\\Users\\leroquan\\Documents\\Data\\mitgcm_grids\\Geneva\\200m\\x.npy",
     "output_type": "error",
     "traceback": [
      "\u001b[1;31m---------------------------------------------------------------------------\u001b[0m",
      "\u001b[1;31mFileNotFoundError\u001b[0m                         Traceback (most recent call last)",
      "File \u001b[1;32m~\\Desktop\\preprocessing-mitgcm\\example\\grid_and_bathy\\grid_functions.py:30\u001b[0m, in \u001b[0;36mMitgcmGrid.load_from_path\u001b[1;34m(self, path_grid)\u001b[0m\n\u001b[0;32m     29\u001b[0m \u001b[38;5;28;01mtry\u001b[39;00m:\n\u001b[1;32m---> 30\u001b[0m     \u001b[38;5;28mself\u001b[39m\u001b[38;5;241m.\u001b[39mx \u001b[38;5;241m=\u001b[39m np\u001b[38;5;241m.\u001b[39mload(os\u001b[38;5;241m.\u001b[39mpath\u001b[38;5;241m.\u001b[39mjoin(path_grid, \u001b[38;5;124m'\u001b[39m\u001b[38;5;124mx.npy\u001b[39m\u001b[38;5;124m'\u001b[39m))\n\u001b[0;32m     31\u001b[0m     \u001b[38;5;28mself\u001b[39m\u001b[38;5;241m.\u001b[39my \u001b[38;5;241m=\u001b[39m np\u001b[38;5;241m.\u001b[39mload(os\u001b[38;5;241m.\u001b[39mpath\u001b[38;5;241m.\u001b[39mjoin(path_grid, \u001b[38;5;124m'\u001b[39m\u001b[38;5;124my.npy\u001b[39m\u001b[38;5;124m'\u001b[39m))\n",
      "File \u001b[1;32m~\\AppData\\Local\\anaconda3\\Lib\\site-packages\\numpy\\lib\\npyio.py:427\u001b[0m, in \u001b[0;36mload\u001b[1;34m(file, mmap_mode, allow_pickle, fix_imports, encoding, max_header_size)\u001b[0m\n\u001b[0;32m    426\u001b[0m \u001b[38;5;28;01melse\u001b[39;00m:\n\u001b[1;32m--> 427\u001b[0m     fid \u001b[38;5;241m=\u001b[39m stack\u001b[38;5;241m.\u001b[39menter_context(\u001b[38;5;28mopen\u001b[39m(os_fspath(file), \u001b[38;5;124m\"\u001b[39m\u001b[38;5;124mrb\u001b[39m\u001b[38;5;124m\"\u001b[39m))\n\u001b[0;32m    428\u001b[0m     own_fid \u001b[38;5;241m=\u001b[39m \u001b[38;5;28;01mTrue\u001b[39;00m\n",
      "\u001b[1;31mFileNotFoundError\u001b[0m: [Errno 2] No such file or directory: 'C:\\\\Users\\\\leroquan\\\\Documents\\\\Data\\\\mitgcm_grids\\\\Geneva\\\\200m\\\\x.npy'",
      "\nThe above exception was the direct cause of the following exception:\n",
      "\u001b[1;31mFileNotFoundError\u001b[0m                         Traceback (most recent call last)",
      "Cell \u001b[1;32mIn[7], line 1\u001b[0m\n\u001b[1;32m----> 1\u001b[0m mitgcm_grid \u001b[38;5;241m=\u001b[39m get_grid(config\u001b[38;5;241m.\u001b[39mpaths\u001b[38;5;241m.\u001b[39mgrid_folder_path)\n",
      "File \u001b[1;32m~\\Desktop\\preprocessing-mitgcm\\example\\grid_and_bathy\\grid_functions.py:42\u001b[0m, in \u001b[0;36mget_grid\u001b[1;34m(path_folder_grid)\u001b[0m\n\u001b[0;32m     40\u001b[0m \u001b[38;5;28;01mdef\u001b[39;00m \u001b[38;5;21mget_grid\u001b[39m(path_folder_grid: \u001b[38;5;28mstr\u001b[39m) \u001b[38;5;241m-\u001b[39m\u001b[38;5;241m>\u001b[39m MitgcmGrid:\n\u001b[0;32m     41\u001b[0m     mitgcm_grid \u001b[38;5;241m=\u001b[39m MitgcmGrid()\n\u001b[1;32m---> 42\u001b[0m     mitgcm_grid\u001b[38;5;241m.\u001b[39mload_from_path(path_folder_grid)\n\u001b[0;32m     44\u001b[0m     \u001b[38;5;28;01mreturn\u001b[39;00m mitgcm_grid\n",
      "File \u001b[1;32m~\\Desktop\\preprocessing-mitgcm\\example\\grid_and_bathy\\grid_functions.py:35\u001b[0m, in \u001b[0;36mMitgcmGrid.load_from_path\u001b[1;34m(self, path_grid)\u001b[0m\n\u001b[0;32m     33\u001b[0m     \u001b[38;5;28mself\u001b[39m\u001b[38;5;241m.\u001b[39mlon_grid \u001b[38;5;241m=\u001b[39m np\u001b[38;5;241m.\u001b[39mload(os\u001b[38;5;241m.\u001b[39mpath\u001b[38;5;241m.\u001b[39mjoin(path_grid, \u001b[38;5;124m'\u001b[39m\u001b[38;5;124mlon_grid.npy\u001b[39m\u001b[38;5;124m'\u001b[39m))\n\u001b[0;32m     34\u001b[0m \u001b[38;5;28;01mexcept\u001b[39;00m \u001b[38;5;167;01mFileNotFoundError\u001b[39;00m \u001b[38;5;28;01mas\u001b[39;00m e:\n\u001b[1;32m---> 35\u001b[0m     \u001b[38;5;28;01mraise\u001b[39;00m \u001b[38;5;167;01mFileNotFoundError\u001b[39;00m(\u001b[38;5;124mf\u001b[39m\u001b[38;5;124m\"\u001b[39m\u001b[38;5;124mMissing grid file: \u001b[39m\u001b[38;5;132;01m{\u001b[39;00me\u001b[38;5;241m.\u001b[39mfilename\u001b[38;5;132;01m}\u001b[39;00m\u001b[38;5;124m\"\u001b[39m) \u001b[38;5;28;01mfrom\u001b[39;00m \u001b[38;5;21;01me\u001b[39;00m\n\u001b[0;32m     36\u001b[0m \u001b[38;5;28;01mexcept\u001b[39;00m \u001b[38;5;167;01mException\u001b[39;00m \u001b[38;5;28;01mas\u001b[39;00m e:\n\u001b[0;32m     37\u001b[0m     \u001b[38;5;28;01mraise\u001b[39;00m \u001b[38;5;167;01mRuntimeError\u001b[39;00m(\u001b[38;5;124mf\u001b[39m\u001b[38;5;124m\"\u001b[39m\u001b[38;5;124mError loading grid data: \u001b[39m\u001b[38;5;132;01m{\u001b[39;00me\u001b[38;5;132;01m}\u001b[39;00m\u001b[38;5;124m\"\u001b[39m) \u001b[38;5;28;01mfrom\u001b[39;00m \u001b[38;5;21;01me\u001b[39;00m\n",
      "\u001b[1;31mFileNotFoundError\u001b[0m: Missing grid file: C:\\Users\\leroquan\\Documents\\Data\\mitgcm_grids\\Geneva\\200m\\x.npy"
     ]
    }
   ],
   "source": [
    "mitgcm_grid = get_grid(config.paths.grid_folder_path)"
   ]
  },
  {
   "cell_type": "markdown",
   "id": "f12b5099d4d8e3b5",
   "metadata": {
    "collapsed": false,
    "jupyter": {
     "outputs_hidden": false
    }
   },
   "source": [
    "## Build binary files"
   ]
  },
  {
   "cell_type": "code",
   "execution_count": 7,
   "id": "72cbdf023054ec88",
   "metadata": {
    "ExecuteTime": {
     "end_time": "2025-04-02T13:13:48.332570Z",
     "start_time": "2025-04-02T13:13:48.318222Z"
    },
    "collapsed": false,
    "jupyter": {
     "outputs_hidden": false
    }
   },
   "outputs": [
    {
     "name": "stdout",
     "output_type": "stream",
     "text": [
      "Directory './99-output/binary_data' created.\n"
     ]
    }
   ],
   "source": [
    "binary_data_folder = os.path.join(output_folder, 'binary_data')\n",
    "if not os.path.exists(binary_data_folder):\n",
    "    os.makedirs(binary_data_folder)\n",
    "    print(f\"Directory '{binary_data_folder}' created.\")"
   ]
  },
  {
   "cell_type": "markdown",
   "id": "88d4f6666cadd83",
   "metadata": {
    "collapsed": false,
    "jupyter": {
     "outputs_hidden": false
    }
   },
   "source": [
    "**Get bathymetry**"
   ]
  },
  {
   "cell_type": "code",
   "execution_count": 8,
   "id": "1abe7bf9ca450da2",
   "metadata": {
    "ExecuteTime": {
     "end_time": "2025-04-02T13:13:50.230146Z",
     "start_time": "2025-04-02T13:13:50.205576Z"
    },
    "collapsed": false,
    "jupyter": {
     "outputs_hidden": false
    }
   },
   "outputs": [
    {
     "data": {
      "text/plain": [
       "'./99-output/binary_data\\\\bathy.bin'"
      ]
     },
     "execution_count": 8,
     "metadata": {},
     "output_type": "execute_result"
    }
   ],
   "source": [
    "#To create bathymetry, see notebook 'create_bathy'\n",
    "shutil.copy(config.paths.bathy_path, os.path.join(binary_data_folder, 'bathy.bin'))"
   ]
  },
  {
   "cell_type": "markdown",
   "id": "9673032f29e5e681",
   "metadata": {
    "collapsed": false,
    "jupyter": {
     "outputs_hidden": false
    }
   },
   "source": [
    "**Get surface forcings**"
   ]
  },
  {
   "cell_type": "code",
   "execution_count": 9,
   "id": "83b791fc7d942cc8",
   "metadata": {
    "ExecuteTime": {
     "end_time": "2025-04-02T13:13:52.037315Z",
     "start_time": "2025-04-02T13:13:52.010308Z"
    },
    "collapsed": false,
    "jupyter": {
     "outputs_hidden": false
    }
   },
   "outputs": [
    {
     "name": "stdout",
     "output_type": "stream",
     "text": [
      "Data already exists: C:\\Users\\leroquan\\Documents\\Data\\meteo\\continuous_reanalysis\\raw_from_alplakes_api\\20240301_20240301_V.jsonData already exists: C:\\Users\\leroquan\\Documents\\Data\\meteo\\continuous_reanalysis\\raw_from_alplakes_api\\20240301_20240301_T_2M.json\n",
      "Data already exists: C:\\Users\\leroquan\\Documents\\Data\\meteo\\continuous_reanalysis\\raw_from_alplakes_api\\20240301_20240301_RELHUM_2M.json\n",
      "\n",
      "Data already exists: C:\\Users\\leroquan\\Documents\\Data\\meteo\\continuous_reanalysis\\raw_from_alplakes_api\\20240301_20240301_GLOB.json\n",
      "Data already exists: C:\\Users\\leroquan\\Documents\\Data\\meteo\\continuous_reanalysis\\raw_from_alplakes_api\\20240301_20240301_U.json\n",
      "Data already exists: C:\\Users\\leroquan\\Documents\\Data\\meteo\\continuous_reanalysis\\raw_from_alplakes_api\\20240301_20240301_PMSL.json\n",
      "Data already exists: C:\\Users\\leroquan\\Documents\\Data\\meteo\\continuous_reanalysis\\raw_from_alplakes_api\\20240301_20240301_CLCT.json\n",
      "Data already exists: C:\\Users\\leroquan\\Documents\\Data\\meteo\\continuous_reanalysis\\raw_from_alplakes_api\\20240301_20240301_PS.json\n",
      "Data already exists: C:\\Users\\leroquan\\Documents\\Data\\meteo\\continuous_reanalysis\\raw_from_alplakes_api\\20240302_20240302_T_2M.json\n",
      "Data already exists: C:\\Users\\leroquan\\Documents\\Data\\meteo\\continuous_reanalysis\\raw_from_alplakes_api\\20240302_20240302_U.json\n",
      "Data already exists: C:\\Users\\leroquan\\Documents\\Data\\meteo\\continuous_reanalysis\\raw_from_alplakes_api\\20240302_20240302_GLOB.json\n",
      "Data already exists: C:\\Users\\leroquan\\Documents\\Data\\meteo\\continuous_reanalysis\\raw_from_alplakes_api\\20240302_20240302_V.json\n",
      "Data already exists: C:\\Users\\leroquan\\Documents\\Data\\meteo\\continuous_reanalysis\\raw_from_alplakes_api\\20240302_20240302_RELHUM_2M.json\n",
      "Data already exists: C:\\Users\\leroquan\\Documents\\Data\\meteo\\continuous_reanalysis\\raw_from_alplakes_api\\20240302_20240302_PMSL.json\n",
      "Data already exists: C:\\Users\\leroquan\\Documents\\Data\\meteo\\continuous_reanalysis\\raw_from_alplakes_api\\20240302_20240302_CLCT.json\n",
      "Data already exists: C:\\Users\\leroquan\\Documents\\Data\\meteo\\continuous_reanalysis\\raw_from_alplakes_api\\20240302_20240302_PS.json\n",
      "Finished downloading weather reanalysis\n"
     ]
    }
   ],
   "source": [
    "buffer = config.weather_download_buffer\n",
    "if config.weather_model_type == 'reanalysis':\n",
    "    download_weather_reanalysis(config.weather_api_base_url, \n",
    "                                config.start_date, config.end_date, \n",
    "                                mitgcm_grid.lat_grid.min() - buffer, \n",
    "                                mitgcm_grid.lon_grid.min() - buffer, \n",
    "                                mitgcm_grid.lat_grid.max() + buffer, \n",
    "                                mitgcm_grid.lon_grid.max() + buffer, \n",
    "                                config.paths.raw_results_from_api_folder)\n",
    "    print('Finished downloading weather reanalysis')\n",
    "elif config.weather_model_type == 'forecast':\n",
    "    download_weather_forecast(config.weather_api_base_url, \n",
    "                                config.start_date,  \n",
    "                                mitgcm_grid.lat_grid.min() - buffer, \n",
    "                                mitgcm_grid.lon_grid.min() - buffer, \n",
    "                                mitgcm_grid.lat_grid.max() + buffer, \n",
    "                                mitgcm_grid.lon_grid.max() + buffer, \n",
    "                                config.paths.raw_results_from_api_folder)\n",
    "    print('Finished downloading weather forecasts')"
   ]
  },
  {
   "cell_type": "code",
   "execution_count": 10,
   "id": "4f733dcd0b84869e",
   "metadata": {
    "ExecuteTime": {
     "end_time": "2025-04-02T13:14:12.843974Z",
     "start_time": "2025-04-02T13:13:55.351617Z"
    },
    "collapsed": false,
    "jupyter": {
     "outputs_hidden": false
    }
   },
   "outputs": [
    {
     "name": "stdout",
     "output_type": "stream",
     "text": [
      "Interpolating U to grid...\n",
      "Saving u10...\n",
      "Interpolating V to grid...\n",
      "Saving v10...\n",
      "Interpolating GLOB to grid...\n",
      "Saving swdown...\n",
      "Interpolating T_2M to grid...\n",
      "Saving atemp...\n",
      "Interpolating PS to grid...\n",
      "Saving apressure...\n",
      "Computing specific humidity (aqh)...\n",
      "Interpolating RELHUM_2M to grid...\n",
      "Saving relhum...\n",
      "Saving aqh...\n",
      "Computing longwave radiation (lwdown)...\n",
      "Interpolating CLCT to grid...\n",
      "Saving clct...\n",
      "Saving lwdown...\n",
      "Done computing binary data.\n"
     ]
    }
   ],
   "source": [
    "time_format = 'UTC'\n",
    "extract_and_save_surface_forcings(binary_data_folder, \n",
    "                                  config.start_date, \n",
    "                                  config.end_date, \n",
    "                                  config.paths.raw_results_from_api_folder, \n",
    "                                  mitgcm_grid,\n",
    "                                  1, # Number of cores used in interpolation\n",
    "                                  config.weather_model_type)"
   ]
  },
  {
   "cell_type": "markdown",
   "id": "514d506f8bccf648",
   "metadata": {
    "collapsed": false,
    "jupyter": {
     "outputs_hidden": false
    }
   },
   "source": [
    "**Convert to little endian if necessary** (for cscs computation)"
   ]
  },
  {
   "cell_type": "code",
   "execution_count": 11,
   "id": "205dfc0e21bf338c",
   "metadata": {
    "ExecuteTime": {
     "end_time": "2025-04-02T13:14:17.280448Z",
     "start_time": "2025-04-02T13:14:17.268585Z"
    },
    "collapsed": false,
    "jupyter": {
     "outputs_hidden": false
    }
   },
   "outputs": [],
   "source": [
    "# TO DO : implement check to see whether the datatypes are correct\n",
    "if config.endian_type == 'little_endian':\n",
    "    convert_binary_files(os.path.join(output_folder, 'binary_data'), '>f8', '<f8')"
   ]
  },
  {
   "cell_type": "markdown",
   "id": "c996e2309ad359b3",
   "metadata": {
    "collapsed": false,
    "jupyter": {
     "outputs_hidden": false
    }
   },
   "source": [
    "### Get initial conditions"
   ]
  },
  {
   "cell_type": "code",
   "execution_count": 12,
   "id": "3a31b25106648046",
   "metadata": {
    "ExecuteTime": {
     "end_time": "2025-04-02T13:14:20.103608Z",
     "start_time": "2025-04-02T13:14:18.771989Z"
    },
    "collapsed": false,
    "jupyter": {
     "outputs_hidden": false
    }
   },
   "outputs": [
    {
     "name": "stdout",
     "output_type": "stream",
     "text": [
      "Initial conditions from Idronaut file from  2024-02-29 20:57:28.900000\n"
     ]
    }
   ],
   "source": [
    "file_date, measured_temperature = download_profile_idronaut_datalakes(parsed_start_date)\n",
    "print('Initial conditions from Idronaut file from ', file_date)\n",
    "dz_grid = get_dz_grid(config.paths.dz_grid_csv_path)\n",
    "shaped_temp_initial = create_initial_temperature_from_measure_profile(dz_grid, measured_temperature)"
   ]
  },
  {
   "cell_type": "markdown",
   "id": "b3486f12c2ed801e",
   "metadata": {
    "collapsed": false,
    "jupyter": {
     "outputs_hidden": false
    }
   },
   "source": [
    "### Get pickup files"
   ]
  },
  {
   "cell_type": "code",
   "execution_count": 13,
   "id": "fd2ff3748833ddea",
   "metadata": {
    "ExecuteTime": {
     "end_time": "2025-04-02T13:14:23.782194Z",
     "start_time": "2025-04-02T13:14:23.768953Z"
    },
    "collapsed": false,
    "jupyter": {
     "outputs_hidden": false
    }
   },
   "outputs": [
    {
     "name": "stdout",
     "output_type": "stream",
     "text": []
    }
   ],
   "source": [
    "if config.with_pickup:\n",
    "    dt_sim_in_second = config.time_step\n",
    "    pickup_number = f\"pickup.{str(int(start_time_in_second_from_ref_date / dt_sim_in_second)).zfill(10)}\"\n",
    "else:\n",
    "    pickup_number = \"\"\n",
    "print(pickup_number)"
   ]
  },
  {
   "cell_type": "markdown",
   "id": "3f029e92bdaaa42e",
   "metadata": {
    "collapsed": false,
    "jupyter": {
     "outputs_hidden": false
    }
   },
   "source": [
    "### Adapt config files"
   ]
  },
  {
   "cell_type": "code",
   "execution_count": 14,
   "id": "af17ea5536e9f333",
   "metadata": {
    "ExecuteTime": {
     "end_time": "2025-04-02T13:14:25.786651Z",
     "start_time": "2025-04-02T13:14:25.774665Z"
    },
    "collapsed": false,
    "jupyter": {
     "outputs_hidden": false
    }
   },
   "outputs": [],
   "source": [
    "modify_arguments('!reference_date!', [config.reference_date], os.path.join(output_folder, 'run_config/data.cal'))"
   ]
  },
  {
   "cell_type": "code",
   "execution_count": 15,
   "id": "8da31ad8c10f7f18",
   "metadata": {
    "ExecuteTime": {
     "end_time": "2025-04-02T13:14:26.658174Z",
     "start_time": "2025-04-02T13:14:26.647175Z"
    },
    "collapsed": false,
    "jupyter": {
     "outputs_hidden": false
    }
   },
   "outputs": [],
   "source": [
    "modify_arguments('!start_date!', [config.start_date], os.path.join(output_folder, 'run_config/data.exf'))"
   ]
  },
  {
   "cell_type": "code",
   "execution_count": 16,
   "id": "5079750f4f30a0c9",
   "metadata": {
    "ExecuteTime": {
     "end_time": "2025-04-02T13:14:27.414268Z",
     "start_time": "2025-04-02T13:14:27.407880Z"
    },
    "collapsed": false,
    "jupyter": {
     "outputs_hidden": false
    }
   },
   "outputs": [],
   "source": [
    "#TO DO: write output type (binary or netcdf -->   diag_mnc = .FALSE./.TRUE. in data.diagnostics)"
   ]
  },
  {
   "cell_type": "code",
   "execution_count": 17,
   "id": "9fa5300bfc079c5a",
   "metadata": {
    "ExecuteTime": {
     "end_time": "2025-04-02T13:14:27.827618Z",
     "start_time": "2025-04-02T13:14:27.814579Z"
    },
    "collapsed": false,
    "jupyter": {
     "outputs_hidden": false
    }
   },
   "outputs": [],
   "source": [
    "write_data_config_files(os.path.join(output_folder, 'run_config/data'), \n",
    "                        shaped_temp_initial, \n",
    "                        start_time_in_second_from_ref_date, \n",
    "                        end_time_in_second_from_ref_date,\n",
    "                        pickup_number,\n",
    "                        dz_grid, \n",
    "                        config.grid_resolution,\n",
    "                        config.time_step)"
   ]
  },
  {
   "cell_type": "code",
   "execution_count": 18,
   "id": "48e34d67c6ef5420",
   "metadata": {
    "ExecuteTime": {
     "end_time": "2025-04-02T13:14:29.102329Z",
     "start_time": "2025-04-02T13:14:29.082724Z"
    },
    "collapsed": false,
    "jupyter": {
     "outputs_hidden": false
    }
   },
   "outputs": [],
   "source": [
    "use_exch2=False\n",
    "# Package to ignore cores that are attributed to land. See notebook grid_and_bathy/check_core_allocation to create files land_cores_Px..etc.txt.\n",
    "# Doc here: https://wiki.math.uwaterloo.ca/fluidswiki/index.php?title=MITgcm_tips#Setting_the_equation_of_state (look for exch2)\n",
    "# And there: https://mitgcm.readthedocs.io/en/latest/phys_pkgs/exch2.html (not so helpful... don't we love the official documentation of MITgcm?)\n",
    "if use_exch2:    \n",
    "    blank_list_path=os.path.join(config.paths.grid_folder_path, f\"land_cores_Px{config.Px}_Py{config.Py}.txt\")\n",
    "    with open(blank_list_path, \"r\") as file:\n",
    "        nb_blank_cores, blank_list = file.read().splitlines()\n",
    "        \n",
    "    Px = (config.Px * config.Py) - int(nb_blank_cores)\n",
    "    Py = 1\n",
    "    \n",
    "    modify_arguments('!Nx!', [config.Nx], os.path.join(output_folder, 'run_config/data.exch2'))\n",
    "    modify_arguments('!Ny!', [config.Ny], os.path.join(output_folder, 'run_config/data.exch2'))\n",
    "    modify_arguments('!blank_list!', [blank_list], os.path.join(output_folder, 'run_config/data.exch2'))\n",
    "else:\n",
    "    Px = config.Px\n",
    "    Py = config.Py"
   ]
  },
  {
   "cell_type": "code",
   "execution_count": 19,
   "id": "b857d0522c095917",
   "metadata": {
    "ExecuteTime": {
     "end_time": "2025-04-02T13:14:30.454884Z",
     "start_time": "2025-04-02T13:14:30.440711Z"
    },
    "collapsed": false,
    "jupyter": {
     "outputs_hidden": false
    }
   },
   "outputs": [],
   "source": [
    "write_size_config_files(os.path.join(output_folder, 'code/SIZE.h'), \n",
    "                        Px, \n",
    "                        Py, \n",
    "                        config.Nx, \n",
    "                        config.Ny, \n",
    "                        len(dz_grid.flatten()))"
   ]
  },
  {
   "cell_type": "markdown",
   "id": "db14cf08215b46f6",
   "metadata": {
    "collapsed": false,
    "jupyter": {
     "outputs_hidden": false
    }
   },
   "source": [
    "## Next steps"
   ]
  },
  {
   "cell_type": "markdown",
   "id": "c931932f70f981a",
   "metadata": {
    "collapsed": false,
    "jupyter": {
     "outputs_hidden": false
    }
   },
   "source": [
    "- Copy-paste the folders in \"99-output\" to the cscs server \n",
    "- Change #SBATCH --time=00:05:00 in run/submit-daint-short.sh\n",
    "- Open CSCS putty console:\n",
    "\n",
    "export MITGCM_ROOTDIR=/scratch/snx3000/aleroqua/MITgcm-checkpoint67z/\n",
    "\n",
    "cd /scratch/snx3000/aleroqua/xx/build\n",
    "$MITGCM_ROOTDIR/tools/genmake2 -mods ../code -mpi -enable=mnc -of ${MITGCM_ROOTDIR}/tools/build_options/linux_ia64_cray_archer\n",
    "make depend\n",
    "make -j 8\n",
    "\n",
    "cd ..\n",
    "rm -r run\n",
    "mkdir run\n",
    "cd run\n",
    "ln -s ../pickup/* .\n",
    "ln -s ../run_config/* .\n",
    "cp ../build/mitgcmuv .\n",
    "\n",
    "sbatch submit-daint-short.sh"
   ]
  },
  {
   "cell_type": "markdown",
   "id": "aa3ea68a8ae13358",
   "metadata": {
    "collapsed": false,
    "jupyter": {
     "outputs_hidden": false
    }
   },
   "source": [
    "### TO DO"
   ]
  },
  {
   "cell_type": "code",
   "execution_count": null,
   "id": "87f6d2aead8eb053",
   "metadata": {
    "collapsed": false,
    "jupyter": {
     "outputs_hidden": false
    }
   },
   "outputs": [],
   "source": [
    "# add selection of pickup file\n",
    "# add selection of pickup frequency, diagnostic frequency\n",
    "# add selection of output type (mnc = true or false)\n",
    "# add automatic change of computing time? (submit-daint)"
   ]
  }
 ],
 "metadata": {
  "kernelspec": {
   "display_name": "preprocessing-mitgcm",
   "language": "python",
   "name": "preprocessing-mitgcm"
  },
  "language_info": {
   "codemirror_mode": {
    "name": "ipython",
    "version": 3
   },
   "file_extension": ".py",
   "mimetype": "text/x-python",
   "name": "python",
   "nbconvert_exporter": "python",
   "pygments_lexer": "ipython3",
   "version": "3.12.7"
  }
 },
 "nbformat": 4,
 "nbformat_minor": 5
}
