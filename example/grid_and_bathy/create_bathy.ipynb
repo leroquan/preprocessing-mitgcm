{
 "cells": [
  {
   "cell_type": "markdown",
   "id": "e7be2fe5-da2f-45f7-a3b0-5ceab8e3975a",
   "metadata": {},
   "source": [
    "### Creating bathymetry for Lake Geneva "
   ]
  },
  {
   "cell_type": "code",
   "execution_count": 9,
   "id": "bd97a47c-c48b-44cc-a846-acf86633536e",
   "metadata": {},
   "outputs": [],
   "source": [
    "import os\n",
    "import glob\n",
    "\n",
    "import xarray as xr\n",
    "import numpy as np\n",
    "import matplotlib.pyplot as plt\n",
    "from scipy.interpolate import griddata"
   ]
  },
  {
   "cell_type": "code",
   "execution_count": 15,
   "id": "34b636c0-add3-4fb6-a1e3-a5a87b3d7361",
   "metadata": {},
   "outputs": [
    {
     "name": "stdout",
     "output_type": "stream",
     "text": [
      "C:\\Users\\rasmusso\\Desktop\\preprocessing-mitgcm\\example\\grid_and_bathy\\\n"
     ]
    }
   ],
   "source": [
    "# Get the path to the parent folder (one level up)\n",
    "parent_folder = os.path.abspath(os.path.join(os.getcwd(), '..'))\n",
    "print(parent_folder)\n",
    "\n",
    "# Add the parent folder to sys.path\n",
    "sys.path.append(parent_folder)\n",
    "\n",
    "import json"
   ]
  },
  {
   "cell_type": "code",
   "execution_count": 28,
   "id": "9b2d80ae22e40bb2",
   "metadata": {
    "ExecuteTime": {
     "end_time": "2025-04-02T10:00:19.448238Z",
     "start_time": "2025-04-02T10:00:19.435054Z"
    },
    "collapsed": false,
    "jupyter": {
     "outputs_hidden": false
    }
   },
   "outputs": [],
   "source": [
    "config = ConfigObject( '../../Zurich/configs/config.json')"
   ]
  },
  {
   "cell_type": "code",
   "execution_count": 29,
   "id": "f17269e2-bac0-4148-a9cc-bd39c6b6eb4b",
   "metadata": {
    "ExecuteTime": {
     "end_time": "2025-04-02T10:00:21.172503Z",
     "start_time": "2025-04-02T10:00:21.116333Z"
    }
   },
   "outputs": [],
   "source": [
    "# loading swiss topo files first (resolution is 1km)\n",
    "path_swisstopo = config.paths.swiss_topo_path\n",
    "files_topo = glob.glob(os.path.join(path_swisstopo, '*.asc'))"
   ]
  },
  {
   "cell_type": "code",
   "execution_count": 30,
   "id": "a9390af8",
   "metadata": {
    "ExecuteTime": {
     "end_time": "2025-04-02T10:00:35.073682Z",
     "start_time": "2025-04-02T10:00:35.056333Z"
    }
   },
   "outputs": [],
   "source": [
    "# loading x and y files \n",
    "grid_folder_path = config.paths.grid_folder_path\n",
    "\n",
    "with open(os.path.join(grid_folder_path, 'x_sg_grid.npy'), 'rb') as f:\n",
    "    x = np.load(f)\n",
    "\n",
    "with open(os.path.join(grid_folder_path, 'y_sg_grid.npy'), 'rb') as f:\n",
    "    y = np.load(f)"
   ]
  },
  {
   "cell_type": "code",
   "execution_count": 43,
   "id": "80de6999-5ebe-4e0f-8e5b-c0a487340d2a",
   "metadata": {},
   "outputs": [
    {
     "data": {
      "text/plain": [
       "array([[715000.       , 714821.1145618, 714642.2291236, ...,\n",
       "        683337.2774386, 683158.3920004, 682979.5065622],\n",
       "       [714910.5572809, 714731.6718427, 714552.7864045, ...,\n",
       "        683247.8347195, 683068.9492813, 682890.0638431],\n",
       "       [714821.1145618, 714642.2291236, 714463.3436854, ...,\n",
       "        683158.3920004, 682979.5065622, 682800.621124 ],\n",
       "       ...,\n",
       "       [709901.7650113, 709722.8795731, 709543.9941349, ...,\n",
       "        678239.0424499, 678060.1570117, 677881.2715735],\n",
       "       [709812.3222922, 709633.436854 , 709454.5514158, ...,\n",
       "        678149.5997308, 677970.7142926, 677791.8288544],\n",
       "       [709722.8795731, 709543.9941349, 709365.1086967, ...,\n",
       "        678060.1570117, 677881.2715735, 677702.3861353]])"
      ]
     },
     "execution_count": 43,
     "metadata": {},
     "output_type": "execute_result"
    }
   ],
   "source": [
    "x"
   ]
  },
  {
   "cell_type": "code",
   "execution_count": 31,
   "id": "b22eed93-080d-4315-9e9a-e6461de60ac3",
   "metadata": {
    "ExecuteTime": {
     "end_time": "2025-04-02T10:00:38.678687Z",
     "start_time": "2025-04-02T10:00:38.655792Z"
    }
   },
   "outputs": [],
   "source": [
    "def extract_topo(filename):\n",
    "    \n",
    "    # get out variables \n",
    "    ncols = None\n",
    "    nrows = None\n",
    "    xcorner = None\n",
    "    ycorner  = None\n",
    "    cellsize = None\n",
    "    flag = None \n",
    "    \n",
    "    # Read the file and extract ncols and nrows\n",
    "    with open(filename, 'r') as file:\n",
    "        \n",
    "        for i in range(6):\n",
    "            line = file.readline()\n",
    "            \n",
    "            if line.startswith('ncols'):\n",
    "                ncols = int(line.split()[1])\n",
    "            elif line.startswith('nrows'):\n",
    "                nrows = int(line.split()[1])\n",
    "            elif line.startswith('xllcorner'):\n",
    "                xcorner = int(line.split()[1])\n",
    "            elif line.startswith('yllcorner'):\n",
    "                ycorner = int(line.split()[1])\n",
    "            elif line.startswith('cellsize'):\n",
    "                cellsize = int(line.split()[1])\n",
    "            elif line.startswith('nodata_value'):\n",
    "                flag = int(line.split()[1])\n",
    "    \n",
    "    # swiss coordinates for the whole section \n",
    "    xsc = np.arange(xcorner, (xcorner + (ncols*cellsize)), cellsize)\n",
    "    ysc = np.arange(ycorner, (ycorner + (nrows*cellsize)), cellsize)\n",
    "\n",
    "    \n",
    "    # extract data (skipping first 6 rows)\n",
    "    data_topo = np.loadtxt(filename, skiprows=6)\n",
    "    data_topo = np.flip(data_topo, axis=0) #need to flip because somewhere along the way something is funky\n",
    "    \n",
    "    # Replace values of -999 with NaN\n",
    "    data_topo[data_topo == flag] = np.nan\n",
    "    \n",
    "    # creating xarray \n",
    "\n",
    "    #swiss coordinates\n",
    "    topo = xr.DataArray(\n",
    "        data_topo,\n",
    "        coords=[ysc, xsc],\n",
    "        dims=['ysc', 'xsc'],)\n",
    "\n",
    "    \n",
    "    return (topo)        "
   ]
  },
  {
   "cell_type": "markdown",
   "id": "4de19b19",
   "metadata": {},
   "source": [
    "Extract and concatenate files from Swiss topo"
   ]
  },
  {
   "cell_type": "code",
   "execution_count": 32,
   "id": "ea4e316e-fccf-4659-a13a-81bd3f06f7cb",
   "metadata": {
    "ExecuteTime": {
     "end_time": "2025-04-02T10:01:19.066840Z",
     "start_time": "2025-04-02T10:00:46.010567Z"
    },
    "scrolled": true
   },
   "outputs": [],
   "source": [
    "# loading swiss topo files first (resolution is 1km)\n",
    "all_topo = []\n",
    "\n",
    "for file in files_topo:\n",
    "    topo = extract_topo(file)\n",
    "    all_topo.append(topo)\n",
    "\n",
    "all_topo = xr.combine_by_coords(all_topo)"
   ]
  },
  {
   "cell_type": "code",
   "execution_count": 33,
   "id": "7ad19d7a55fadc88",
   "metadata": {
    "ExecuteTime": {
     "end_time": "2025-04-02T10:01:19.082114Z",
     "start_time": "2025-04-02T10:01:19.068841Z"
    },
    "collapsed": false,
    "jupyter": {
     "outputs_hidden": false
    }
   },
   "outputs": [],
   "source": [
    "#transform coordinates from ch1903+ to ch1903\n",
    "all_topo['xsc'] = all_topo.xsc.values - 2000000\n",
    "all_topo['ysc'] = all_topo.ysc.values - 1000000"
   ]
  },
  {
   "cell_type": "code",
   "execution_count": 34,
   "id": "85509eb9",
   "metadata": {
    "ExecuteTime": {
     "end_time": "2025-04-02T10:01:21.178954Z",
     "start_time": "2025-04-02T10:01:19.084627Z"
    }
   },
   "outputs": [
    {
     "data": {
      "text/plain": [
       "array([[404.56958]])"
      ]
     },
     "execution_count": 34,
     "metadata": {},
     "output_type": "execute_result"
    }
   ],
   "source": [
    "# get max elevation \n",
    "all_topo.where(all_topo == all_topo.max(), drop=True).values"
   ]
  },
  {
   "cell_type": "code",
   "execution_count": 48,
   "id": "8d2f9279-1e61-4398-b3ea-4e73b6e928f3",
   "metadata": {},
   "outputs": [
    {
     "data": {
      "text/html": [
       "<div><svg style=\"position: absolute; width: 0; height: 0; overflow: hidden\">\n",
       "<defs>\n",
       "<symbol id=\"icon-database\" viewBox=\"0 0 32 32\">\n",
       "<path d=\"M16 0c-8.837 0-16 2.239-16 5v4c0 2.761 7.163 5 16 5s16-2.239 16-5v-4c0-2.761-7.163-5-16-5z\"></path>\n",
       "<path d=\"M16 17c-8.837 0-16-2.239-16-5v6c0 2.761 7.163 5 16 5s16-2.239 16-5v-6c0 2.761-7.163 5-16 5z\"></path>\n",
       "<path d=\"M16 26c-8.837 0-16-2.239-16-5v6c0 2.761 7.163 5 16 5s16-2.239 16-5v-6c0 2.761-7.163 5-16 5z\"></path>\n",
       "</symbol>\n",
       "<symbol id=\"icon-file-text2\" viewBox=\"0 0 32 32\">\n",
       "<path d=\"M28.681 7.159c-0.694-0.947-1.662-2.053-2.724-3.116s-2.169-2.030-3.116-2.724c-1.612-1.182-2.393-1.319-2.841-1.319h-15.5c-1.378 0-2.5 1.121-2.5 2.5v27c0 1.378 1.122 2.5 2.5 2.5h23c1.378 0 2.5-1.122 2.5-2.5v-19.5c0-0.448-0.137-1.23-1.319-2.841zM24.543 5.457c0.959 0.959 1.712 1.825 2.268 2.543h-4.811v-4.811c0.718 0.556 1.584 1.309 2.543 2.268zM28 29.5c0 0.271-0.229 0.5-0.5 0.5h-23c-0.271 0-0.5-0.229-0.5-0.5v-27c0-0.271 0.229-0.5 0.5-0.5 0 0 15.499-0 15.5 0v7c0 0.552 0.448 1 1 1h7v19.5z\"></path>\n",
       "<path d=\"M23 26h-14c-0.552 0-1-0.448-1-1s0.448-1 1-1h14c0.552 0 1 0.448 1 1s-0.448 1-1 1z\"></path>\n",
       "<path d=\"M23 22h-14c-0.552 0-1-0.448-1-1s0.448-1 1-1h14c0.552 0 1 0.448 1 1s-0.448 1-1 1z\"></path>\n",
       "<path d=\"M23 18h-14c-0.552 0-1-0.448-1-1s0.448-1 1-1h14c0.552 0 1 0.448 1 1s-0.448 1-1 1z\"></path>\n",
       "</symbol>\n",
       "</defs>\n",
       "</svg>\n",
       "<style>/* CSS stylesheet for displaying xarray objects in jupyterlab.\n",
       " *\n",
       " */\n",
       "\n",
       ":root {\n",
       "  --xr-font-color0: var(--jp-content-font-color0, rgba(0, 0, 0, 1));\n",
       "  --xr-font-color2: var(--jp-content-font-color2, rgba(0, 0, 0, 0.54));\n",
       "  --xr-font-color3: var(--jp-content-font-color3, rgba(0, 0, 0, 0.38));\n",
       "  --xr-border-color: var(--jp-border-color2, #e0e0e0);\n",
       "  --xr-disabled-color: var(--jp-layout-color3, #bdbdbd);\n",
       "  --xr-background-color: var(--jp-layout-color0, white);\n",
       "  --xr-background-color-row-even: var(--jp-layout-color1, white);\n",
       "  --xr-background-color-row-odd: var(--jp-layout-color2, #eeeeee);\n",
       "}\n",
       "\n",
       "html[theme=dark],\n",
       "body[data-theme=dark],\n",
       "body.vscode-dark {\n",
       "  --xr-font-color0: rgba(255, 255, 255, 1);\n",
       "  --xr-font-color2: rgba(255, 255, 255, 0.54);\n",
       "  --xr-font-color3: rgba(255, 255, 255, 0.38);\n",
       "  --xr-border-color: #1F1F1F;\n",
       "  --xr-disabled-color: #515151;\n",
       "  --xr-background-color: #111111;\n",
       "  --xr-background-color-row-even: #111111;\n",
       "  --xr-background-color-row-odd: #313131;\n",
       "}\n",
       "\n",
       ".xr-wrap {\n",
       "  display: block !important;\n",
       "  min-width: 300px;\n",
       "  max-width: 700px;\n",
       "}\n",
       "\n",
       ".xr-text-repr-fallback {\n",
       "  /* fallback to plain text repr when CSS is not injected (untrusted notebook) */\n",
       "  display: none;\n",
       "}\n",
       "\n",
       ".xr-header {\n",
       "  padding-top: 6px;\n",
       "  padding-bottom: 6px;\n",
       "  margin-bottom: 4px;\n",
       "  border-bottom: solid 1px var(--xr-border-color);\n",
       "}\n",
       "\n",
       ".xr-header > div,\n",
       ".xr-header > ul {\n",
       "  display: inline;\n",
       "  margin-top: 0;\n",
       "  margin-bottom: 0;\n",
       "}\n",
       "\n",
       ".xr-obj-type,\n",
       ".xr-array-name {\n",
       "  margin-left: 2px;\n",
       "  margin-right: 10px;\n",
       "}\n",
       "\n",
       ".xr-obj-type {\n",
       "  color: var(--xr-font-color2);\n",
       "}\n",
       "\n",
       ".xr-sections {\n",
       "  padding-left: 0 !important;\n",
       "  display: grid;\n",
       "  grid-template-columns: 150px auto auto 1fr 20px 20px;\n",
       "}\n",
       "\n",
       ".xr-section-item {\n",
       "  display: contents;\n",
       "}\n",
       "\n",
       ".xr-section-item input {\n",
       "  display: none;\n",
       "}\n",
       "\n",
       ".xr-section-item input + label {\n",
       "  color: var(--xr-disabled-color);\n",
       "}\n",
       "\n",
       ".xr-section-item input:enabled + label {\n",
       "  cursor: pointer;\n",
       "  color: var(--xr-font-color2);\n",
       "}\n",
       "\n",
       ".xr-section-item input:enabled + label:hover {\n",
       "  color: var(--xr-font-color0);\n",
       "}\n",
       "\n",
       ".xr-section-summary {\n",
       "  grid-column: 1;\n",
       "  color: var(--xr-font-color2);\n",
       "  font-weight: 500;\n",
       "}\n",
       "\n",
       ".xr-section-summary > span {\n",
       "  display: inline-block;\n",
       "  padding-left: 0.5em;\n",
       "}\n",
       "\n",
       ".xr-section-summary-in:disabled + label {\n",
       "  color: var(--xr-font-color2);\n",
       "}\n",
       "\n",
       ".xr-section-summary-in + label:before {\n",
       "  display: inline-block;\n",
       "  content: '►';\n",
       "  font-size: 11px;\n",
       "  width: 15px;\n",
       "  text-align: center;\n",
       "}\n",
       "\n",
       ".xr-section-summary-in:disabled + label:before {\n",
       "  color: var(--xr-disabled-color);\n",
       "}\n",
       "\n",
       ".xr-section-summary-in:checked + label:before {\n",
       "  content: '▼';\n",
       "}\n",
       "\n",
       ".xr-section-summary-in:checked + label > span {\n",
       "  display: none;\n",
       "}\n",
       "\n",
       ".xr-section-summary,\n",
       ".xr-section-inline-details {\n",
       "  padding-top: 4px;\n",
       "  padding-bottom: 4px;\n",
       "}\n",
       "\n",
       ".xr-section-inline-details {\n",
       "  grid-column: 2 / -1;\n",
       "}\n",
       "\n",
       ".xr-section-details {\n",
       "  display: none;\n",
       "  grid-column: 1 / -1;\n",
       "  margin-bottom: 5px;\n",
       "}\n",
       "\n",
       ".xr-section-summary-in:checked ~ .xr-section-details {\n",
       "  display: contents;\n",
       "}\n",
       "\n",
       ".xr-array-wrap {\n",
       "  grid-column: 1 / -1;\n",
       "  display: grid;\n",
       "  grid-template-columns: 20px auto;\n",
       "}\n",
       "\n",
       ".xr-array-wrap > label {\n",
       "  grid-column: 1;\n",
       "  vertical-align: top;\n",
       "}\n",
       "\n",
       ".xr-preview {\n",
       "  color: var(--xr-font-color3);\n",
       "}\n",
       "\n",
       ".xr-array-preview,\n",
       ".xr-array-data {\n",
       "  padding: 0 5px !important;\n",
       "  grid-column: 2;\n",
       "}\n",
       "\n",
       ".xr-array-data,\n",
       ".xr-array-in:checked ~ .xr-array-preview {\n",
       "  display: none;\n",
       "}\n",
       "\n",
       ".xr-array-in:checked ~ .xr-array-data,\n",
       ".xr-array-preview {\n",
       "  display: inline-block;\n",
       "}\n",
       "\n",
       ".xr-dim-list {\n",
       "  display: inline-block !important;\n",
       "  list-style: none;\n",
       "  padding: 0 !important;\n",
       "  margin: 0;\n",
       "}\n",
       "\n",
       ".xr-dim-list li {\n",
       "  display: inline-block;\n",
       "  padding: 0;\n",
       "  margin: 0;\n",
       "}\n",
       "\n",
       ".xr-dim-list:before {\n",
       "  content: '(';\n",
       "}\n",
       "\n",
       ".xr-dim-list:after {\n",
       "  content: ')';\n",
       "}\n",
       "\n",
       ".xr-dim-list li:not(:last-child):after {\n",
       "  content: ',';\n",
       "  padding-right: 5px;\n",
       "}\n",
       "\n",
       ".xr-has-index {\n",
       "  font-weight: bold;\n",
       "}\n",
       "\n",
       ".xr-var-list,\n",
       ".xr-var-item {\n",
       "  display: contents;\n",
       "}\n",
       "\n",
       ".xr-var-item > div,\n",
       ".xr-var-item label,\n",
       ".xr-var-item > .xr-var-name span {\n",
       "  background-color: var(--xr-background-color-row-even);\n",
       "  margin-bottom: 0;\n",
       "}\n",
       "\n",
       ".xr-var-item > .xr-var-name:hover span {\n",
       "  padding-right: 5px;\n",
       "}\n",
       "\n",
       ".xr-var-list > li:nth-child(odd) > div,\n",
       ".xr-var-list > li:nth-child(odd) > label,\n",
       ".xr-var-list > li:nth-child(odd) > .xr-var-name span {\n",
       "  background-color: var(--xr-background-color-row-odd);\n",
       "}\n",
       "\n",
       ".xr-var-name {\n",
       "  grid-column: 1;\n",
       "}\n",
       "\n",
       ".xr-var-dims {\n",
       "  grid-column: 2;\n",
       "}\n",
       "\n",
       ".xr-var-dtype {\n",
       "  grid-column: 3;\n",
       "  text-align: right;\n",
       "  color: var(--xr-font-color2);\n",
       "}\n",
       "\n",
       ".xr-var-preview {\n",
       "  grid-column: 4;\n",
       "}\n",
       "\n",
       ".xr-index-preview {\n",
       "  grid-column: 2 / 5;\n",
       "  color: var(--xr-font-color2);\n",
       "}\n",
       "\n",
       ".xr-var-name,\n",
       ".xr-var-dims,\n",
       ".xr-var-dtype,\n",
       ".xr-preview,\n",
       ".xr-attrs dt {\n",
       "  white-space: nowrap;\n",
       "  overflow: hidden;\n",
       "  text-overflow: ellipsis;\n",
       "  padding-right: 10px;\n",
       "}\n",
       "\n",
       ".xr-var-name:hover,\n",
       ".xr-var-dims:hover,\n",
       ".xr-var-dtype:hover,\n",
       ".xr-attrs dt:hover {\n",
       "  overflow: visible;\n",
       "  width: auto;\n",
       "  z-index: 1;\n",
       "}\n",
       "\n",
       ".xr-var-attrs,\n",
       ".xr-var-data,\n",
       ".xr-index-data {\n",
       "  display: none;\n",
       "  background-color: var(--xr-background-color) !important;\n",
       "  padding-bottom: 5px !important;\n",
       "}\n",
       "\n",
       ".xr-var-attrs-in:checked ~ .xr-var-attrs,\n",
       ".xr-var-data-in:checked ~ .xr-var-data,\n",
       ".xr-index-data-in:checked ~ .xr-index-data {\n",
       "  display: block;\n",
       "}\n",
       "\n",
       ".xr-var-data > table {\n",
       "  float: right;\n",
       "}\n",
       "\n",
       ".xr-var-name span,\n",
       ".xr-var-data,\n",
       ".xr-index-name div,\n",
       ".xr-index-data,\n",
       ".xr-attrs {\n",
       "  padding-left: 25px !important;\n",
       "}\n",
       "\n",
       ".xr-attrs,\n",
       ".xr-var-attrs,\n",
       ".xr-var-data,\n",
       ".xr-index-data {\n",
       "  grid-column: 1 / -1;\n",
       "}\n",
       "\n",
       "dl.xr-attrs {\n",
       "  padding: 0;\n",
       "  margin: 0;\n",
       "  display: grid;\n",
       "  grid-template-columns: 125px auto;\n",
       "}\n",
       "\n",
       ".xr-attrs dt,\n",
       ".xr-attrs dd {\n",
       "  padding: 0;\n",
       "  margin: 0;\n",
       "  float: left;\n",
       "  padding-right: 10px;\n",
       "  width: auto;\n",
       "}\n",
       "\n",
       ".xr-attrs dt {\n",
       "  font-weight: normal;\n",
       "  grid-column: 1;\n",
       "}\n",
       "\n",
       ".xr-attrs dt:hover span {\n",
       "  display: inline-block;\n",
       "  background: var(--xr-background-color);\n",
       "  padding-right: 10px;\n",
       "}\n",
       "\n",
       ".xr-attrs dd {\n",
       "  grid-column: 2;\n",
       "  white-space: pre-wrap;\n",
       "  word-break: break-all;\n",
       "}\n",
       "\n",
       ".xr-icon-database,\n",
       ".xr-icon-file-text2,\n",
       ".xr-no-icon {\n",
       "  display: inline-block;\n",
       "  vertical-align: middle;\n",
       "  width: 1em;\n",
       "  height: 1.5em !important;\n",
       "  stroke-width: 0;\n",
       "  stroke: currentColor;\n",
       "  fill: currentColor;\n",
       "}\n",
       "</style><pre class='xr-text-repr-fallback'>&lt;xarray.DataArray &#x27;ysc&#x27; (ysc: 18248)&gt;\n",
       "array([228527, 228528, 228529, ..., 246772, 246773, 246774])\n",
       "Coordinates:\n",
       "  * ysc      (ysc) int32 228527 228528 228529 228530 ... 246772 246773 246774</pre><div class='xr-wrap' style='display:none'><div class='xr-header'><div class='xr-obj-type'>xarray.DataArray</div><div class='xr-array-name'>'ysc'</div><ul class='xr-dim-list'><li><span class='xr-has-index'>ysc</span>: 18248</li></ul></div><ul class='xr-sections'><li class='xr-section-item'><div class='xr-array-wrap'><input id='section-43a79e2f-4004-46be-9d5c-39b415a3ae71' class='xr-array-in' type='checkbox' checked><label for='section-43a79e2f-4004-46be-9d5c-39b415a3ae71' title='Show/hide data repr'><svg class='icon xr-icon-database'><use xlink:href='#icon-database'></use></svg></label><div class='xr-array-preview xr-preview'><span>228527 228528 228529 228530 228531 ... 246771 246772 246773 246774</span></div><div class='xr-array-data'><pre>array([228527, 228528, 228529, ..., 246772, 246773, 246774])</pre></div></div></li><li class='xr-section-item'><input id='section-bc8193fa-e5c7-4caf-ae8b-a532b59fdefe' class='xr-section-summary-in' type='checkbox'  checked><label for='section-bc8193fa-e5c7-4caf-ae8b-a532b59fdefe' class='xr-section-summary' >Coordinates: <span>(1)</span></label><div class='xr-section-inline-details'></div><div class='xr-section-details'><ul class='xr-var-list'><li class='xr-var-item'><div class='xr-var-name'><span class='xr-has-index'>ysc</span></div><div class='xr-var-dims'>(ysc)</div><div class='xr-var-dtype'>int32</div><div class='xr-var-preview xr-preview'>228527 228528 ... 246773 246774</div><input id='attrs-1c774ddc-81c0-42b8-978d-a239dd11eecf' class='xr-var-attrs-in' type='checkbox' disabled><label for='attrs-1c774ddc-81c0-42b8-978d-a239dd11eecf' title='Show/Hide attributes'><svg class='icon xr-icon-file-text2'><use xlink:href='#icon-file-text2'></use></svg></label><input id='data-fd5448f3-2e07-4cb1-acac-e2c3c3408031' class='xr-var-data-in' type='checkbox'><label for='data-fd5448f3-2e07-4cb1-acac-e2c3c3408031' title='Show/Hide data repr'><svg class='icon xr-icon-database'><use xlink:href='#icon-database'></use></svg></label><div class='xr-var-attrs'><dl class='xr-attrs'></dl></div><div class='xr-var-data'><pre>array([228527, 228528, 228529, ..., 246772, 246773, 246774])</pre></div></li></ul></div></li><li class='xr-section-item'><input id='section-852d9c0e-d782-44fb-9bfc-e6a14bc532c5' class='xr-section-summary-in' type='checkbox'  ><label for='section-852d9c0e-d782-44fb-9bfc-e6a14bc532c5' class='xr-section-summary' >Indexes: <span>(1)</span></label><div class='xr-section-inline-details'></div><div class='xr-section-details'><ul class='xr-var-list'><li class='xr-var-item'><div class='xr-index-name'><div>ysc</div></div><div class='xr-index-preview'>PandasIndex</div><div></div><input id='index-35fc27e6-007c-44ac-8c92-531cbebab7fb' class='xr-index-data-in' type='checkbox'/><label for='index-35fc27e6-007c-44ac-8c92-531cbebab7fb' title='Show/Hide index repr'><svg class='icon xr-icon-database'><use xlink:href='#icon-database'></use></svg></label><div class='xr-index-data'><pre>PandasIndex(Index([228527, 228528, 228529, 228530, 228531, 228532, 228533, 228534, 228535,\n",
       "       228536,\n",
       "       ...\n",
       "       246765, 246766, 246767, 246768, 246769, 246770, 246771, 246772, 246773,\n",
       "       246774],\n",
       "      dtype=&#x27;int32&#x27;, name=&#x27;ysc&#x27;, length=18248))</pre></div></li></ul></div></li><li class='xr-section-item'><input id='section-10146dbc-164d-4e6f-b7c2-5fbd9443aec1' class='xr-section-summary-in' type='checkbox' disabled ><label for='section-10146dbc-164d-4e6f-b7c2-5fbd9443aec1' class='xr-section-summary'  title='Expand/collapse section'>Attributes: <span>(0)</span></label><div class='xr-section-inline-details'></div><div class='xr-section-details'><dl class='xr-attrs'></dl></div></li></ul></div></div>"
      ],
      "text/plain": [
       "<xarray.DataArray 'ysc' (ysc: 18248)>\n",
       "array([228527, 228528, 228529, ..., 246772, 246773, 246774])\n",
       "Coordinates:\n",
       "  * ysc      (ysc) int32 228527 228528 228529 228530 ... 246772 246773 246774"
      ]
     },
     "execution_count": 48,
     "metadata": {},
     "output_type": "execute_result"
    }
   ],
   "source": [
    "all_topo.ysc"
   ]
  },
  {
   "cell_type": "markdown",
   "id": "2bef6be1",
   "metadata": {},
   "source": [
    "#### Interpolate grid"
   ]
  },
  {
   "cell_type": "markdown",
   "id": "9ba3aaacb4c6c614",
   "metadata": {
    "collapsed": false,
    "jupyter": {
     "outputs_hidden": false
    }
   },
   "source": [
    "### grid values"
   ]
  },
  {
   "cell_type": "code",
   "execution_count": 35,
   "id": "d5094a8c3aab1f07",
   "metadata": {
    "ExecuteTime": {
     "end_time": "2025-04-02T10:06:02.343747Z",
     "start_time": "2025-04-02T10:02:06.082954Z"
    },
    "collapsed": false,
    "jupyter": {
     "outputs_hidden": false
    }
   },
   "outputs": [],
   "source": [
    "x_topo, y_topo = np.meshgrid(all_topo.xsc.values,all_topo.ysc.values)\n",
    "values_topo = all_topo.values.flatten()\n",
    "\n",
    "topo_grid_interp = griddata((x_topo.flatten(), y_topo.flatten()), values_topo, (x.flatten(), y.flatten()), method='nearest')"
   ]
  },
  {
   "cell_type": "code",
   "execution_count": 36,
   "id": "539eb72f3d4050f9",
   "metadata": {
    "ExecuteTime": {
     "end_time": "2025-04-02T10:06:02.477620Z",
     "start_time": "2025-04-02T10:06:02.377175Z"
    },
    "collapsed": false,
    "jupyter": {
     "outputs_hidden": false
    }
   },
   "outputs": [],
   "source": [
    "xr_topo_grid_interp = xr.DataArray(\n",
    "        topo_grid_interp.reshape(x.shape),\n",
    "        coords= {'xsc': np.arange(x.shape[1]), 'ysc':np.arange(x.shape[0])},\n",
    "        dims=['ysc', 'xsc'],)"
   ]
  },
  {
   "cell_type": "code",
   "execution_count": 37,
   "id": "fdb9eaded4209d2e",
   "metadata": {
    "ExecuteTime": {
     "end_time": "2025-04-02T10:06:02.508627Z",
     "start_time": "2025-04-02T10:06:02.478713Z"
    },
    "collapsed": false,
    "jupyter": {
     "outputs_hidden": false
    }
   },
   "outputs": [],
   "source": [
    "mask = ~np.isnan(xr_topo_grid_interp)"
   ]
  },
  {
   "cell_type": "code",
   "execution_count": 38,
   "id": "5d0e0a26cd986e5",
   "metadata": {
    "ExecuteTime": {
     "end_time": "2025-04-02T10:06:03.029057Z",
     "start_time": "2025-04-02T10:06:02.511858Z"
    },
    "collapsed": false,
    "jupyter": {
     "outputs_hidden": false
    }
   },
   "outputs": [
    {
     "data": {
      "text/plain": [
       "<matplotlib.collections.QuadMesh at 0x20a3dfb8290>"
      ]
     },
     "execution_count": 38,
     "metadata": {},
     "output_type": "execute_result"
    },
    {
     "data": {
      "image/png": "[encoded data removed]",
      "text/plain": [
       "<Figure size 640x480 with 2 Axes>"
      ]
     },
     "metadata": {},
     "output_type": "display_data"
    }
   ],
   "source": [
    "mask.plot()"
   ]
  },
  {
   "cell_type": "code",
   "execution_count": 39,
   "id": "abd10de2002c7c13",
   "metadata": {
    "ExecuteTime": {
     "end_time": "2025-04-02T10:06:03.044650Z",
     "start_time": "2025-04-02T10:06:03.032437Z"
    },
    "collapsed": false,
    "jupyter": {
     "outputs_hidden": false
    }
   },
   "outputs": [],
   "source": [
    "xr_bathy_grid_interp = xr_topo_grid_interp - config.lake_altitude"
   ]
  },
  {
   "cell_type": "code",
   "execution_count": 40,
   "id": "d1fa3f3a5f3fb16b",
   "metadata": {
    "ExecuteTime": {
     "end_time": "2025-04-02T10:06:03.060084Z",
     "start_time": "2025-04-02T10:06:03.046873Z"
    },
    "collapsed": false,
    "jupyter": {
     "outputs_hidden": false
    }
   },
   "outputs": [],
   "source": [
    "clean_bathy_grid_interp = xr_bathy_grid_interp.where(mask == True, 2)"
   ]
  },
  {
   "cell_type": "code",
   "execution_count": 41,
   "id": "8a472b7c0ab15be3",
   "metadata": {
    "ExecuteTime": {
     "end_time": "2025-04-02T10:06:03.459349Z",
     "start_time": "2025-04-02T10:06:03.062243Z"
    },
    "collapsed": false,
    "jupyter": {
     "outputs_hidden": false
    }
   },
   "outputs": [
    {
     "data": {
      "text/plain": [
       "<matplotlib.collections.QuadMesh at 0x20a3df27e30>"
      ]
     },
     "execution_count": 41,
     "metadata": {},
     "output_type": "execute_result"
    },
    {
     "data": {
      "image/png": "[encoded data removed]",
      "text/plain": [
       "<Figure size 640x480 with 2 Axes>"
      ]
     },
     "metadata": {},
     "output_type": "display_data"
    }
   ],
   "source": [
    "clean_bathy_grid_interp.plot(vmax=0, cmap='jet')"
   ]
  },
  {
   "cell_type": "markdown",
   "id": "712390ce",
   "metadata": {},
   "source": [
    "### Setting zeros to something positive (that is setting non-water to land)"
   ]
  },
  {
   "cell_type": "code",
   "execution_count": 42,
   "id": "ec133135",
   "metadata": {
    "ExecuteTime": {
     "end_time": "2025-04-02T10:06:03.643078Z",
     "start_time": "2025-04-02T10:06:03.461641Z"
    }
   },
   "outputs": [
    {
     "ename": "KeyError",
     "evalue": "\"not all values found in index 'xsc'\"",
     "output_type": "error",
     "traceback": [
      "\u001b[1;31m---------------------------------------------------------------------------\u001b[0m",
      "\u001b[1;31mKeyError\u001b[0m                                  Traceback (most recent call last)",
      "Cell \u001b[1;32mIn[42], line 2\u001b[0m\n\u001b[0;32m      1\u001b[0m bathy_grid_filled \u001b[38;5;241m=\u001b[39m clean_bathy_grid_interp\u001b[38;5;241m.\u001b[39mwhere(clean_bathy_grid_interp \u001b[38;5;241m<\u001b[39m\u001b[38;5;241m=\u001b[39m \u001b[38;5;241m-\u001b[39m\u001b[38;5;241m1\u001b[39m , other\u001b[38;5;241m=\u001b[39m\u001b[38;5;241m2\u001b[39m)\n\u001b[1;32m----> 2\u001b[0m bathy_grid_filled\u001b[38;5;241m.\u001b[39msel(xsc \u001b[38;5;241m=\u001b[39m np\u001b[38;5;241m.\u001b[39marange(\u001b[38;5;241m200\u001b[39m))\u001b[38;5;241m.\u001b[39mplot(vmin \u001b[38;5;241m=\u001b[39m \u001b[38;5;241m-\u001b[39m\u001b[38;5;241m1\u001b[39m, vmax\u001b[38;5;241m=\u001b[39m\u001b[38;5;241m0\u001b[39m, cmap\u001b[38;5;241m=\u001b[39m\u001b[38;5;124m'\u001b[39m\u001b[38;5;124mjet\u001b[39m\u001b[38;5;124m'\u001b[39m)\n",
      "File \u001b[1;32m~\\AppData\\Local\\anaconda3\\Lib\\site-packages\\xarray\\core\\dataarray.py:1550\u001b[0m, in \u001b[0;36mDataArray.sel\u001b[1;34m(self, indexers, method, tolerance, drop, **indexers_kwargs)\u001b[0m\n\u001b[0;32m   1440\u001b[0m \u001b[38;5;28;01mdef\u001b[39;00m \u001b[38;5;21msel\u001b[39m(\n\u001b[0;32m   1441\u001b[0m     \u001b[38;5;28mself\u001b[39m: T_DataArray,\n\u001b[0;32m   1442\u001b[0m     indexers: Mapping[Any, Any] \u001b[38;5;241m|\u001b[39m \u001b[38;5;28;01mNone\u001b[39;00m \u001b[38;5;241m=\u001b[39m \u001b[38;5;28;01mNone\u001b[39;00m,\n\u001b[1;32m   (...)\u001b[0m\n\u001b[0;32m   1446\u001b[0m     \u001b[38;5;241m*\u001b[39m\u001b[38;5;241m*\u001b[39mindexers_kwargs: Any,\n\u001b[0;32m   1447\u001b[0m ) \u001b[38;5;241m-\u001b[39m\u001b[38;5;241m>\u001b[39m T_DataArray:\n\u001b[0;32m   1448\u001b[0m \u001b[38;5;250m    \u001b[39m\u001b[38;5;124;03m\"\"\"Return a new DataArray whose data is given by selecting index\u001b[39;00m\n\u001b[0;32m   1449\u001b[0m \u001b[38;5;124;03m    labels along the specified dimension(s).\u001b[39;00m\n\u001b[0;32m   1450\u001b[0m \n\u001b[1;32m   (...)\u001b[0m\n\u001b[0;32m   1548\u001b[0m \u001b[38;5;124;03m    Dimensions without coordinates: points\u001b[39;00m\n\u001b[0;32m   1549\u001b[0m \u001b[38;5;124;03m    \"\"\"\u001b[39;00m\n\u001b[1;32m-> 1550\u001b[0m     ds \u001b[38;5;241m=\u001b[39m \u001b[38;5;28mself\u001b[39m\u001b[38;5;241m.\u001b[39m_to_temp_dataset()\u001b[38;5;241m.\u001b[39msel(\n\u001b[0;32m   1551\u001b[0m         indexers\u001b[38;5;241m=\u001b[39mindexers,\n\u001b[0;32m   1552\u001b[0m         drop\u001b[38;5;241m=\u001b[39mdrop,\n\u001b[0;32m   1553\u001b[0m         method\u001b[38;5;241m=\u001b[39mmethod,\n\u001b[0;32m   1554\u001b[0m         tolerance\u001b[38;5;241m=\u001b[39mtolerance,\n\u001b[0;32m   1555\u001b[0m         \u001b[38;5;241m*\u001b[39m\u001b[38;5;241m*\u001b[39mindexers_kwargs,\n\u001b[0;32m   1556\u001b[0m     )\n\u001b[0;32m   1557\u001b[0m     \u001b[38;5;28;01mreturn\u001b[39;00m \u001b[38;5;28mself\u001b[39m\u001b[38;5;241m.\u001b[39m_from_temp_dataset(ds)\n",
      "File \u001b[1;32m~\\AppData\\Local\\anaconda3\\Lib\\site-packages\\xarray\\core\\dataset.py:2653\u001b[0m, in \u001b[0;36mDataset.sel\u001b[1;34m(self, indexers, method, tolerance, drop, **indexers_kwargs)\u001b[0m\n\u001b[0;32m   2592\u001b[0m \u001b[38;5;250m\u001b[39m\u001b[38;5;124;03m\"\"\"Returns a new dataset with each array indexed by tick labels\u001b[39;00m\n\u001b[0;32m   2593\u001b[0m \u001b[38;5;124;03malong the specified dimension(s).\u001b[39;00m\n\u001b[0;32m   2594\u001b[0m \n\u001b[1;32m   (...)\u001b[0m\n\u001b[0;32m   2650\u001b[0m \u001b[38;5;124;03mDataArray.sel\u001b[39;00m\n\u001b[0;32m   2651\u001b[0m \u001b[38;5;124;03m\"\"\"\u001b[39;00m\n\u001b[0;32m   2652\u001b[0m indexers \u001b[38;5;241m=\u001b[39m either_dict_or_kwargs(indexers, indexers_kwargs, \u001b[38;5;124m\"\u001b[39m\u001b[38;5;124msel\u001b[39m\u001b[38;5;124m\"\u001b[39m)\n\u001b[1;32m-> 2653\u001b[0m query_results \u001b[38;5;241m=\u001b[39m map_index_queries(\n\u001b[0;32m   2654\u001b[0m     \u001b[38;5;28mself\u001b[39m, indexers\u001b[38;5;241m=\u001b[39mindexers, method\u001b[38;5;241m=\u001b[39mmethod, tolerance\u001b[38;5;241m=\u001b[39mtolerance\n\u001b[0;32m   2655\u001b[0m )\n\u001b[0;32m   2657\u001b[0m \u001b[38;5;28;01mif\u001b[39;00m drop:\n\u001b[0;32m   2658\u001b[0m     no_scalar_variables \u001b[38;5;241m=\u001b[39m {}\n",
      "File \u001b[1;32m~\\AppData\\Local\\anaconda3\\Lib\\site-packages\\xarray\\core\\indexing.py:190\u001b[0m, in \u001b[0;36mmap_index_queries\u001b[1;34m(obj, indexers, method, tolerance, **indexers_kwargs)\u001b[0m\n\u001b[0;32m    188\u001b[0m         results\u001b[38;5;241m.\u001b[39mappend(IndexSelResult(labels))\n\u001b[0;32m    189\u001b[0m     \u001b[38;5;28;01melse\u001b[39;00m:\n\u001b[1;32m--> 190\u001b[0m         results\u001b[38;5;241m.\u001b[39mappend(index\u001b[38;5;241m.\u001b[39msel(labels, \u001b[38;5;241m*\u001b[39m\u001b[38;5;241m*\u001b[39moptions))\n\u001b[0;32m    192\u001b[0m merged \u001b[38;5;241m=\u001b[39m merge_sel_results(results)\n\u001b[0;32m    194\u001b[0m \u001b[38;5;66;03m# drop dimension coordinates found in dimension indexers\u001b[39;00m\n\u001b[0;32m    195\u001b[0m \u001b[38;5;66;03m# (also drop multi-index if any)\u001b[39;00m\n\u001b[0;32m    196\u001b[0m \u001b[38;5;66;03m# (.sel() already ensures alignment)\u001b[39;00m\n",
      "File \u001b[1;32m~\\AppData\\Local\\anaconda3\\Lib\\site-packages\\xarray\\core\\indexes.py:498\u001b[0m, in \u001b[0;36mPandasIndex.sel\u001b[1;34m(self, labels, method, tolerance)\u001b[0m\n\u001b[0;32m    496\u001b[0m     indexer \u001b[38;5;241m=\u001b[39m get_indexer_nd(\u001b[38;5;28mself\u001b[39m\u001b[38;5;241m.\u001b[39mindex, label_array, method, tolerance)\n\u001b[0;32m    497\u001b[0m     \u001b[38;5;28;01mif\u001b[39;00m np\u001b[38;5;241m.\u001b[39many(indexer \u001b[38;5;241m<\u001b[39m \u001b[38;5;241m0\u001b[39m):\n\u001b[1;32m--> 498\u001b[0m         \u001b[38;5;28;01mraise\u001b[39;00m \u001b[38;5;167;01mKeyError\u001b[39;00m(\u001b[38;5;124mf\u001b[39m\u001b[38;5;124m\"\u001b[39m\u001b[38;5;124mnot all values found in index \u001b[39m\u001b[38;5;132;01m{\u001b[39;00mcoord_name\u001b[38;5;132;01m!r}\u001b[39;00m\u001b[38;5;124m\"\u001b[39m)\n\u001b[0;32m    500\u001b[0m \u001b[38;5;66;03m# attach dimension names and/or coordinates to positional indexer\u001b[39;00m\n\u001b[0;32m    501\u001b[0m \u001b[38;5;28;01mif\u001b[39;00m \u001b[38;5;28misinstance\u001b[39m(label, Variable):\n",
      "\u001b[1;31mKeyError\u001b[0m: \"not all values found in index 'xsc'\""
     ]
    }
   ],
   "source": [
    "bathy_grid_filled = clean_bathy_grid_interp.where(clean_bathy_grid_interp <= -1 , other=2)\n",
    "bathy_grid_filled.sel(xsc = np.arange(200)).plot(vmin = -1, vmax=0, cmap='jet')"
   ]
  },
  {
   "cell_type": "markdown",
   "id": "57295f3c",
   "metadata": {},
   "source": [
    "### Display transects for verification"
   ]
  },
  {
   "cell_type": "code",
   "execution_count": 18,
   "id": "670cfc49",
   "metadata": {
    "ExecuteTime": {
     "end_time": "2025-04-02T10:06:38.381285Z",
     "start_time": "2025-04-02T10:06:38.145371Z"
    }
   },
   "outputs": [
    {
     "data": {
      "image/png": "[encoded data removed]",
      "text/plain": [
       "<Figure size 1200x600 with 2 Axes>"
      ]
     },
     "metadata": {},
     "output_type": "display_data"
    }
   ],
   "source": [
    "fig, (ax1, ax2) = plt.subplots(1, 2, figsize=(12, 6))\n",
    "\n",
    "bathy_grid_filled.sel(ysc=80,method='nearest').plot(ax=ax1)\n",
    "ax1.grid()\n",
    "\n",
    "bathy_grid_filled.sel(xsc=200,method='nearest').plot(ax=ax2)\n",
    "ax2.grid()"
   ]
  },
  {
   "cell_type": "code",
   "execution_count": 19,
   "id": "012e871e",
   "metadata": {
    "ExecuteTime": {
     "end_time": "2025-04-02T10:06:46.443450Z",
     "start_time": "2025-04-02T10:06:46.424874Z"
    }
   },
   "outputs": [],
   "source": [
    "# saving bathy file \n",
    "\n",
    "def write_binary(path_fname: str,data: xr.DataArray, dtype: str):\n",
    "    '''\n",
    "    Saves data in the right binary format for MITgcm, in the dimension order XYT\n",
    "    Output binary files have been read and tested \n",
    "    '''\n",
    "\n",
    "    data = data.to_numpy() #convert to xarray to numpy first - and then save to binary\n",
    "    data = data.astype(dtype)\n",
    "\n",
    "    # Write to file\n",
    "    fid = open(path_fname, 'wb')\n",
    "    data.tofile(fid)\n",
    "    fid.close()\n",
    "\n",
    "    \n",
    "#bathy_grid_filled = bathy_grid_filled.transpose('xsc','ysc')\n",
    "write_binary(os.path.join(config.paths.grid_folder_path, f'bathy_{config.grid_config_name}.bin'),bathy_grid_filled, '>f8') # big-endian and precision 64\n",
    "#write_binary(os.path.join(config.paths.grid_folder_path, f'bathy_{config.grid_config_name}_little_endian.bin'),bathy_grid_filled, '<f8') # little-endian and precision 64"
   ]
  },
  {
   "cell_type": "code",
   "execution_count": null,
   "id": "fe4b7e08c9c60896",
   "metadata": {
    "collapsed": false,
    "jupyter": {
     "outputs_hidden": false
    }
   },
   "outputs": [],
   "source": []
  }
 ],
 "metadata": {
  "kernelspec": {
   "display_name": "Python 3 (ipykernel)",
   "language": "python",
   "name": "python3"
  },
  "language_info": {
   "codemirror_mode": {
    "name": "ipython",
    "version": 3
   },
   "file_extension": ".py",
   "mimetype": "text/x-python",
   "name": "python",
   "nbconvert_exporter": "python",
   "pygments_lexer": "ipython3",
   "version": "3.12.7"
  }
 },
 "nbformat": 4,
 "nbformat_minor": 5
}
