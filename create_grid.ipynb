{
 "cells": [
  {
   "cell_type": "markdown",
   "id": "49dc04c1-8220-4f50-8352-b7f22c8b2c40",
   "metadata": {},
   "source": [
    "### Creating grid for Lake Geneva "
   ]
  },
  {
   "cell_type": "code",
   "execution_count": 1,
   "id": "f5690bc4-cba3-4d3f-9a4e-b0fbc5a4cd20",
   "metadata": {
    "ExecuteTime": {
     "end_time": "2024-08-15T07:45:52.811382Z",
     "start_time": "2024-08-15T07:45:51.986520Z"
    }
   },
   "outputs": [],
   "source": [
    "import csv\n",
    "import numpy as np\n",
    "import matplotlib.pyplot as plt\n",
    "\n",
    "#\n",
    "from scipy.special import erf\n",
    "from scipy.interpolate import interp1d\n",
    "\n",
    "from pyproj import Transformer\n",
    "import os"
   ]
  },
  {
   "cell_type": "code",
   "execution_count": 2,
   "id": "228cf9fd",
   "metadata": {
    "ExecuteTime": {
     "end_time": "2024-08-15T07:45:52.826677Z",
     "start_time": "2024-08-15T07:45:52.812383Z"
    }
   },
   "outputs": [],
   "source": [
    "def SwissGridToLatLon(xSG, ySG):\n",
    "    '''\n",
    "    Convert a Swiss coordinate system (xSG, ySG) point to the geographic\n",
    "    coordinate system in accordance with the formulas given in 'Approximate\n",
    "    formulas for the transformation between Swiss projection coordinates\n",
    "    and WGS84'.\n",
    "    '''\n",
    "\n",
    "    yPrime = (xSG - 2600000) / 1000000\n",
    "    xPrime = (ySG - 1200000) / 1000000\n",
    "\n",
    "    longitudePrime = ( 2.6779094 +\n",
    "                       4.728982  * yPrime +\n",
    "                       0.791484  * xPrime*yPrime +\n",
    "                       0.1306    * yPrime*xPrime**2 -\n",
    "                       0.0436    * yPrime**3 )\n",
    "    latitudePrime = ( 16.9023892 +\n",
    "                      3.238272   * xPrime -\n",
    "                      0.270978   * yPrime**2 -\n",
    "                      0.002528   * xPrime**2 -\n",
    "                      0.0447     * xPrime*yPrime**2 -\n",
    "                      0.0140     * xPrime**3 )\n",
    "\n",
    "    longitude = (100./36.) * longitudePrime\n",
    "    latitude  = (100./36.) * latitudePrime\n",
    "\n",
    "    return (latitude, longitude)"
   ]
  },
  {
   "cell_type": "markdown",
   "id": "51ab00c1-5ffa-4a93-a2ff-28d34d609e79",
   "metadata": {},
   "source": [
    "####  XY grid\n",
    "- Cartesian grid (origin is at 0,0)\n",
    "- dx, dy = 120m (horizontal resolution)\n",
    "- Nx=54, Ny=120 (number of cells in x and y)\n",
    "\n",
    "\n",
    "##### no. of CPUs: 72\n",
    "- sNx = 9, sNy = 10 (number of cells in each tile)\n",
    "- nPx = 6, nPy = 12 (number of processes in X and Y)\n",
    "- Grid: 6480m * 14400m\n",
    "\n",
    "\n",
    "#### Point of origin on Swiss Grid \n",
    "- XO_SG = 2676648\n",
    "- YO_SG = 1212416\n"
   ]
  },
  {
   "cell_type": "code",
   "outputs": [],
   "source": [
    "def translate_grid_to_origin(x: np.ndarray, y: np.ndarray, dx: float, dy: float) -> (np.ndarray, np.ndarray):\n",
    "    trans_x = x + dx\n",
    "    trans_y = y + dy\n",
    "    \n",
    "    return trans_x,trans_y\n",
    "\n",
    "def get_grid_angle(x0: float, y0: float, x1: float, y1: float)-> float:\n",
    "    grid_angle = np.arctan2(y1 - y0, x1 - x0)\n",
    "\n",
    "    return grid_angle\n",
    "\n",
    "def rotate_grid(x: np.ndarray, y: np.ndarray, x0: float, y0: float, rotation_angle: float) -> (np.ndarray, np.ndarray):\n",
    "    x_translated_to_zero, y_translated_to_zero = translate_grid_to_origin(x, y, -x0, -y0)\n",
    "\n",
    "    x_rotated = np.cos(rotation_angle) * x_translated_to_zero - np.sin(rotation_angle) * y_translated_to_zero\n",
    "    y_rotated = np.sin(rotation_angle) * x_translated_to_zero + np.cos(rotation_angle) * y_translated_to_zero\n",
    "\n",
    "    x_translated_back, y_translated_back = translate_grid_to_origin(x_rotated, y_rotated, x0, y0)\n",
    "\n",
    "    return x_translated_back, y_translated_back"
   ],
   "metadata": {
    "collapsed": false,
    "ExecuteTime": {
     "end_time": "2024-08-15T07:45:52.842664Z",
     "start_time": "2024-08-15T07:45:52.828664Z"
    }
   },
   "id": "9015fd059aa8a5cd",
   "execution_count": 3
  },
  {
   "cell_type": "code",
   "execution_count": 4,
   "id": "3278e81e",
   "metadata": {
    "ExecuteTime": {
     "end_time": "2024-08-15T07:45:52.873897Z",
     "start_time": "2024-08-15T07:45:52.844664Z"
    }
   },
   "outputs": [],
   "source": [
    "path_out = r'C:\\Users\\leroquan\\Documents\\00-Work_space\\06-mit_gcm_geneva\\data\\grid\\50m'\n",
    "dx=50;dy=50\n",
    "Nx=1344; Ny=528  #Ny initially set to 120\n",
    "\n",
    "# point of origin in swiss grid \n",
    "XO_SG = 500000\n",
    "YO_SG = 116500\n",
    "\n",
    "# second point for tilted grid\n",
    "X1_SG = 563000\n",
    "Y1_SG = 138700\n",
    "\n",
    "# XY on mitgcm grid \n",
    "x = np.arange(0,Nx*dx,dx)\n",
    "y = np.arange(0,Ny*dy,dy)\n",
    "\n",
    "xgrid, ygrid = (np.meshgrid(x,y))\n",
    "\n",
    "# XY on swiss grid \n",
    "x_sg = x + XO_SG\n",
    "y_sg = y + YO_SG\n",
    "\n",
    "xsg_grid, ysg_grid = np.meshgrid(x_sg,y_sg)\n",
    "\n",
    "angle = get_grid_angle(XO_SG, YO_SG, X1_SG, Y1_SG)\n",
    "\n",
    "x_rotated, y_rotated = rotate_grid(xsg_grid, ysg_grid, x_sg[0], y_sg[0], angle)"
   ]
  },
  {
   "cell_type": "code",
   "outputs": [
    {
     "data": {
      "text/plain": "[<matplotlib.lines.Line2D at 0x2a32f7285e0>]"
     },
     "execution_count": 5,
     "metadata": {},
     "output_type": "execute_result"
    },
    {
     "data": {
      "text/plain": "<Figure size 640x480 with 1 Axes>",
      "image/png": "[encoded data removed]"
     },
     "metadata": {},
     "output_type": "display_data"
    }
   ],
   "source": [
    "plt.plot(xsg_grid.flatten(), ysg_grid.flatten())\n",
    "plt.plot(x_rotated.flatten(), y_rotated.flatten())"
   ],
   "metadata": {
    "collapsed": false,
    "ExecuteTime": {
     "end_time": "2024-08-15T07:45:53.215269Z",
     "start_time": "2024-08-15T07:45:52.875897Z"
    }
   },
   "id": "fe8bb72991788fe5",
   "execution_count": 5
  },
  {
   "cell_type": "code",
   "outputs": [],
   "source": [
    "coord_converter = Transformer.from_crs(\"EPSG:21781\", \"EPSG:4326\", always_xy=True)\n",
    "lon_grid, lat_grid = coord_converter.transform(x_rotated,y_rotated)"
   ],
   "metadata": {
    "collapsed": false,
    "ExecuteTime": {
     "end_time": "2024-08-15T07:45:53.576319Z",
     "start_time": "2024-08-15T07:45:53.216270Z"
    }
   },
   "id": "c80b7e4ece16bb32",
   "execution_count": 6
  },
  {
   "cell_type": "markdown",
   "id": "834b1d0c",
   "metadata": {},
   "source": [
    "#### longitude changes slightly"
   ]
  },
  {
   "cell_type": "code",
   "execution_count": 7,
   "id": "13ab6a08",
   "metadata": {
    "ExecuteTime": {
     "end_time": "2024-08-15T07:45:53.669050Z",
     "start_time": "2024-08-15T07:45:53.579435Z"
    }
   },
   "outputs": [
    {
     "data": {
      "text/plain": "[<matplotlib.lines.Line2D at 0x2a32f4029d0>]"
     },
     "execution_count": 7,
     "metadata": {},
     "output_type": "execute_result"
    },
    {
     "data": {
      "text/plain": "<Figure size 640x480 with 1 Axes>",
      "image/png": "[encoded data removed]"
     },
     "metadata": {},
     "output_type": "display_data"
    }
   ],
   "source": [
    "plt.plot(lon_grid[1,:])\n",
    "plt.plot(lon_grid[40,:])\n",
    "plt.plot(lon_grid[80,:])\n",
    "plt.plot(lon_grid[118,:])\n"
   ]
  },
  {
   "cell_type": "code",
   "execution_count": 8,
   "id": "c806472d-57f8-405c-929c-6922311c6dd5",
   "metadata": {
    "ExecuteTime": {
     "end_time": "2024-08-15T07:45:53.701050Z",
     "start_time": "2024-08-15T07:45:53.670051Z"
    }
   },
   "outputs": [],
   "source": [
    "with open(os.path.join(path_out, 'x.npy'), 'wb') as f:\n",
    "    np.save(f, x)\n",
    "\n",
    "with open(os.path.join(path_out, 'y.npy'), 'wb') as f:\n",
    "    np.save(f, y)\n",
    "\n",
    "with open(os.path.join(path_out, 'x_sg_grid.npy'), 'wb') as f:\n",
    "    np.save(f, x_rotated)\n",
    "\n",
    "with open(os.path.join(path_out, 'y_sg_grid.npy'), 'wb') as f:\n",
    "    np.save(f, y_rotated)\n",
    "\n",
    "with open(os.path.join(path_out, 'lat_grid.npy'), 'wb') as f:\n",
    "    np.save(f, lat_grid)\n",
    "\n",
    "with open(os.path.join(path_out, 'lon_grid.npy'), 'wb') as f:\n",
    "    np.save(f, lon_grid)"
   ]
  },
  {
   "cell_type": "markdown",
   "id": "2fb84a3e",
   "metadata": {},
   "source": [
    "#### Z-grid\n",
    "- dz should be increasing (without big jumps)\n",
    "- above 30m: 1m \n",
    "- below 30m: 5m\n",
    "- below 160m: coaser??\n",
    "- try out exponential curve if vertical cells have to be much coarser at depth \n"
   ]
  },
  {
   "cell_type": "markdown",
   "source": [
    "\n",
    "Nz = 200 #defining total number of cells\n",
    "dz_first = 1.2\n",
    "dz_last = 3.4\n",
    "# Calculate the step size between successive values\n",
    "first_value = 0\n",
    "step_sizes = np.linspace(dz_first, dz_last, Nz)\n",
    "\n",
    "# Create the array by cumulative summing the step sizes\n",
    "Z = np.cumsum(step_sizes)\n",
    "\n",
    "# Shift and scale the array to start from 0 and end at 200\n",
    "Z = (Z - Z[0]) / (Z[-1] - Z[0]) * 200\n",
    "\n",
    "# dz but ensuring that len(dz) = Nz\n",
    "dz = np.interp(Z, Z[:-1] + np.diff(Z) / 2, np.diff(Z))\n",
    "plt.plot(dz, -Z)\n",
    "plt.grid()"
   ],
   "metadata": {
    "collapsed": false
   },
   "id": "83b4f46cd34a3a68"
  },
  {
   "cell_type": "markdown",
   "source": [
    "with open(path_out + 'z.npy', 'wb') as f:\n",
    "    np.save(f, -Z)\n",
    "\n",
    "with open(path_out + 'dz.npy', 'wb') as f:\n",
    "    np.save(f, dz)"
   ],
   "metadata": {
    "collapsed": false
   },
   "id": "d4655fbcdbc8b54"
  },
  {
   "cell_type": "code",
   "execution_count": 8,
   "id": "2facd19d-0dd3-4e59-acb7-fa8521497dca",
   "metadata": {
    "ExecuteTime": {
     "end_time": "2024-08-15T07:45:53.716204Z",
     "start_time": "2024-08-15T07:45:53.702205Z"
    }
   },
   "outputs": [],
   "source": []
  }
 ],
 "metadata": {
  "kernelspec": {
   "display_name": "mitgcm_venv",
   "language": "python",
   "name": "python3"
  },
  "language_info": {
   "codemirror_mode": {
    "name": "ipython",
    "version": 3
   },
   "file_extension": ".py",
   "mimetype": "text/x-python",
   "name": "python",
   "nbconvert_exporter": "python",
   "pygments_lexer": "ipython3",
   "version": "3.9.6"
  }
 },
 "nbformat": 4,
 "nbformat_minor": 5
}
