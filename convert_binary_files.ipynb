{
 "cells": [
  {
   "cell_type": "markdown",
   "source": [
    "Interestingly, binary files have to be in a different format when launching simulations on the CSCS server (little-endian instead of the usual big-endian used with MITgcm).\n",
    "This Notebook allows for a swift conversion of the binary files."
   ],
   "metadata": {
    "collapsed": false
   },
   "id": "73dddbfe1a12b1b5"
  },
  {
   "cell_type": "code",
   "outputs": [],
   "source": [
    "import numpy as np\n",
    "import glob\n",
    "import os"
   ],
   "metadata": {
    "collapsed": false,
    "ExecuteTime": {
     "end_time": "2024-08-20T10:16:15.226309Z",
     "start_time": "2024-08-20T10:16:15.086327Z"
    }
   },
   "id": "572e413510c0f8b2",
   "execution_count": 1
  },
  {
   "cell_type": "code",
   "outputs": [],
   "source": [
    "input_folder = r'C:\\Users\\leroquan\\Documents\\00-Work_space\\06-mit_gcm_geneva\\2024_08_19_geneva_100m_cscs\\big_endian_binary_data'\n",
    "output_folder = r'C:\\Users\\leroquan\\Documents\\00-Work_space\\06-mit_gcm_geneva\\2024_08_19_geneva_100m_cscs\\binary_data'\n",
    "\n",
    "input_datatype = '>f8'\n",
    "output_datatype = '<f8'"
   ],
   "metadata": {
    "collapsed": false,
    "ExecuteTime": {
     "end_time": "2024-08-20T10:16:15.241744Z",
     "start_time": "2024-08-20T10:16:15.227337Z"
    }
   },
   "id": "7e9185782e1600ed",
   "execution_count": 2
  },
  {
   "cell_type": "code",
   "outputs": [],
   "source": [
    "input_files = glob.glob(os.path.join(input_folder, '*.bin'))"
   ],
   "metadata": {
    "collapsed": false,
    "ExecuteTime": {
     "end_time": "2024-08-20T10:16:15.893775Z",
     "start_time": "2024-08-20T10:16:15.873756Z"
    }
   },
   "id": "c120c816a7badfd6",
   "execution_count": 3
  },
  {
   "cell_type": "code",
   "outputs": [],
   "source": [
    "for file in input_files:\n",
    "    with open(file, 'rb') as fid:\n",
    "        binary_data = np.fromfile(fid, dtype=input_datatype)\n",
    "    \n",
    "    # Convert\n",
    "    data = binary_data.astype(output_datatype)\n",
    "    # Write to file\n",
    "    fid = open(os.path.join(output_folder, os.path.basename(file)), 'wb')\n",
    "    data.tofile(fid)\n",
    "    fid.close()"
   ],
   "metadata": {
    "collapsed": false,
    "ExecuteTime": {
     "end_time": "2024-08-20T10:16:38.408464Z",
     "start_time": "2024-08-20T10:16:36.952827Z"
    }
   },
   "id": "ff4a0d6aa5a44a1",
   "execution_count": 5
  },
  {
   "cell_type": "code",
   "outputs": [],
   "source": [],
   "metadata": {
    "collapsed": false
   },
   "id": "5fdf1846ef33e114"
  }
 ],
 "metadata": {
  "kernelspec": {
   "display_name": "Python 3",
   "language": "python",
   "name": "python3"
  },
  "language_info": {
   "codemirror_mode": {
    "name": "ipython",
    "version": 2
   },
   "file_extension": ".py",
   "mimetype": "text/x-python",
   "name": "python",
   "nbconvert_exporter": "python",
   "pygments_lexer": "ipython2",
   "version": "2.7.6"
  }
 },
 "nbformat": 4,
 "nbformat_minor": 5
}
