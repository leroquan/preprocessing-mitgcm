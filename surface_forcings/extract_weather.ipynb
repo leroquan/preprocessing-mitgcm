{
 "cells": [
  {
   "cell_type": "code",
   "execution_count": 13,
   "id": "2729bb04-71c7-426c-9f92-2ef888c9cb6e",
   "metadata": {
    "ExecuteTime": {
     "end_time": "2024-08-20T15:13:17.469299Z",
     "start_time": "2024-08-20T15:13:17.429884Z"
    }
   },
   "outputs": [],
   "source": [
    "import requests\n",
    "import os\n",
    "from datetime import datetime, timedelta\n",
    "import numpy as np\n",
    "import json"
   ]
  },
  {
   "cell_type": "code",
   "outputs": [],
   "source": [
    "with open('../configs/config.json', 'r') as file:\n",
    "    current_project = json.load(file)[\"current_project\"]\n",
    "\n",
    "config_name = current_project['config_name']\n",
    "start_date = current_project['start_date']\n",
    "end_date = current_project['end_date']\n",
    "weather_model = current_project['weather_model']"
   ],
   "metadata": {
    "collapsed": false,
    "ExecuteTime": {
     "end_time": "2024-08-20T15:13:17.484951Z",
     "start_time": "2024-08-20T15:13:17.472372Z"
    }
   },
   "id": "55dcff194c078418",
   "execution_count": 14
  },
  {
   "cell_type": "code",
   "outputs": [],
   "source": [
    "with open('config.json', 'r') as file:\n",
    "    config = json.load(file)[\"simulation_config\"][config_name]"
   ],
   "metadata": {
    "collapsed": false,
    "ExecuteTime": {
     "end_time": "2024-08-20T15:13:17.500162Z",
     "start_time": "2024-08-20T15:13:17.486055Z"
    }
   },
   "id": "b9ec6f3c05bffad0",
   "execution_count": 15
  },
  {
   "cell_type": "code",
   "outputs": [],
   "source": [
    "with open('config.json', 'r') as file:\n",
    "    weather_model_config = json.load(file)[\"weather_model_config\"][weather_model]"
   ],
   "metadata": {
    "collapsed": false,
    "ExecuteTime": {
     "end_time": "2024-08-20T15:13:17.516091Z",
     "start_time": "2024-08-20T15:13:17.501845Z"
    }
   },
   "id": "1d46c2e146a33cb7",
   "execution_count": 16
  },
  {
   "cell_type": "markdown",
   "id": "f5f15d1d-1ad4-4379-9562-49b41a0a903c",
   "metadata": {},
   "source": [
    "#### Load data using API"
   ]
  },
  {
   "cell_type": "code",
   "execution_count": 17,
   "id": "5227b5d7",
   "metadata": {
    "ExecuteTime": {
     "end_time": "2024-08-20T15:13:17.547347Z",
     "start_time": "2024-08-20T15:13:17.518283Z"
    }
   },
   "outputs": [],
   "source": [
    "def fetch_daily_data(base_url, start_date, end_date, lat0, long0, lat1, long1, folder_path):\n",
    "    # Convert input dates to datetime objects\n",
    "    start_dt = datetime.strptime(start_date, \"%Y%m%d\")\n",
    "    end_dt = datetime.strptime(end_date, \"%Y%m%d\")\n",
    "\n",
    "    variables = ['T_2M', 'U', 'V', 'GLOB', 'RELHUM_2M', 'PMSL', 'CLCT', 'PS']\n",
    "    # Loop through each day within the range\n",
    "    current_date = start_dt\n",
    "    while current_date < end_dt:\n",
    "        next_date = current_date + timedelta(days=1)\n",
    "\n",
    "        if next_date > end_dt:\n",
    "            next_date = end_dt\n",
    "\n",
    "        # Format dates for the API request\n",
    "        start_window_str = current_date.strftime(\"%Y%m%d\")\n",
    "        end_window_str = next_date.strftime(\"%Y%m%d\")\n",
    "\n",
    "        for var in variables:\n",
    "            # Construct the API URL for each 1-day window\n",
    "            url = f\"{base_url}/{start_window_str}/{end_window_str}/{lat0}/{long0}/{lat1}/{long1}?variables={var}\"\n",
    "        \n",
    "            # Fetch data from the API\n",
    "            response = requests.get(url)\n",
    "    \n",
    "            if response.status_code == 200:\n",
    "                data = response.json()\n",
    "                \n",
    "                # Save the data to a file with date range in the filename\n",
    "                file_name = f\"{start_window_str}_{end_window_str}_{var}.json\"\n",
    "                \n",
    "                file_path = os.path.join(folder_path, file_name)\n",
    "                \n",
    "                with open(file_path, \"w\") as file:\n",
    "                    file.write(response.text)\n",
    "                    print(f\"Saved data to {file_path}\")\n",
    "            else:\n",
    "                print(f\"Failed to fetch data for {start_window_str} to {end_window_str}. Error : {response.text}. url : {url}\")\n",
    "\n",
    "        current_date = next_date\n"
   ]
  },
  {
   "cell_type": "code",
   "outputs": [],
   "source": [
    "# getting x,y min and max of the model grid\n",
    "path_grid = config[\"grid_folder_path\"]\n",
    "with open(os.path.join(path_grid, 'lon_grid.npy'), 'rb') as f:\n",
    "    long = np.load(f)\n",
    "with open(os.path.join(path_grid, 'lat_grid.npy'), 'rb') as f:\n",
    "    lat = np.load(f)\n",
    "\n",
    "long0_icon_wgs84 = long.min() \n",
    "lat0_icon_wgs84 = lat.min()\n",
    "long1_icon_wgs84 = long.max()\n",
    "lat1_icon_wgs84 = lat.max()"
   ],
   "metadata": {
    "collapsed": false,
    "ExecuteTime": {
     "end_time": "2024-08-20T15:13:17.577586Z",
     "start_time": "2024-08-20T15:13:17.549524Z"
    }
   },
   "id": "76f46ca4e25e98dc",
   "execution_count": 18
  },
  {
   "cell_type": "code",
   "execution_count": 19,
   "id": "2ee76e20",
   "metadata": {
    "ExecuteTime": {
     "end_time": "2024-08-20T15:13:24.334596Z",
     "start_time": "2024-08-20T15:13:17.580433Z"
    }
   },
   "outputs": [
    {
     "name": "stdout",
     "output_type": "stream",
     "text": [
      "Saved data to C:\\Users\\leroquan\\Documents\\00-Work_space\\06-mit_gcm_geneva\\data\\COSMO reanalysis\\raw_from_alplakes_api\\20240301_20240302_T_2M.json\n",
      "Saved data to C:\\Users\\leroquan\\Documents\\00-Work_space\\06-mit_gcm_geneva\\data\\COSMO reanalysis\\raw_from_alplakes_api\\20240301_20240302_U.json\n",
      "Saved data to C:\\Users\\leroquan\\Documents\\00-Work_space\\06-mit_gcm_geneva\\data\\COSMO reanalysis\\raw_from_alplakes_api\\20240301_20240302_V.json\n",
      "Saved data to C:\\Users\\leroquan\\Documents\\00-Work_space\\06-mit_gcm_geneva\\data\\COSMO reanalysis\\raw_from_alplakes_api\\20240301_20240302_GLOB.json\n",
      "Saved data to C:\\Users\\leroquan\\Documents\\00-Work_space\\06-mit_gcm_geneva\\data\\COSMO reanalysis\\raw_from_alplakes_api\\20240301_20240302_RELHUM_2M.json\n",
      "Saved data to C:\\Users\\leroquan\\Documents\\00-Work_space\\06-mit_gcm_geneva\\data\\COSMO reanalysis\\raw_from_alplakes_api\\20240301_20240302_PMSL.json\n",
      "Saved data to C:\\Users\\leroquan\\Documents\\00-Work_space\\06-mit_gcm_geneva\\data\\COSMO reanalysis\\raw_from_alplakes_api\\20240301_20240302_CLCT.json\n",
      "Saved data to C:\\Users\\leroquan\\Documents\\00-Work_space\\06-mit_gcm_geneva\\data\\COSMO reanalysis\\raw_from_alplakes_api\\20240301_20240302_PS.json\n"
     ]
    }
   ],
   "source": [
    "buffer_icon_grid = 0.02 \n",
    "\n",
    "base_url = weather_model_config['base_url']\n",
    "folder_path = weather_model_config['raw_results_from_api_folder']\n",
    "\n",
    "test = fetch_daily_data(base_url, start_date, end_date, lat0_icon_wgs84 - buffer_icon_grid, long0_icon_wgs84 - buffer_icon_grid, lat1_icon_wgs84 + buffer_icon_grid, long1_icon_wgs84 + buffer_icon_grid, folder_path)"
   ]
  },
  {
   "cell_type": "code",
   "outputs": [],
   "source": [],
   "metadata": {
    "collapsed": false,
    "ExecuteTime": {
     "end_time": "2024-08-20T15:13:24.349699Z",
     "start_time": "2024-08-20T15:13:24.335748Z"
    }
   },
   "id": "a88b25c42ea7e61f",
   "execution_count": 19
  }
 ],
 "metadata": {
  "kernelspec": {
   "display_name": "mitgcm_venv",
   "language": "python",
   "name": "python3"
  },
  "language_info": {
   "codemirror_mode": {
    "name": "ipython",
    "version": 3
   },
   "file_extension": ".py",
   "mimetype": "text/x-python",
   "name": "python",
   "nbconvert_exporter": "python",
   "pygments_lexer": "ipython3",
   "version": "3.9.6"
  }
 },
 "nbformat": 4,
 "nbformat_minor": 5
}
