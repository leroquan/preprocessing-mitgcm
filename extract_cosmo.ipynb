{
 "cells": [
  {
   "cell_type": "markdown",
   "id": "8f15dc3a",
   "metadata": {},
   "source": [
    "extract COSMO data\n",
    " - API is at https://alplakes-internal-api.eawag.ch/docs#/Meteoswiss/meteoswiss_cosmo_area_reanalysis_meteoswiss_cosmo_area_reanalysis__model___start_date___end_date___ll_lat___ll_lng___ur_lat___ur_lng__get"
   ]
  },
  {
   "cell_type": "code",
   "execution_count": 1,
   "id": "2729bb04-71c7-426c-9f92-2ef888c9cb6e",
   "metadata": {},
   "outputs": [
    {
     "name": "stderr",
     "output_type": "stream",
     "text": [
      "/Users/ramajem/Documents/mitgcm/mitgcm_venv/lib/python3.9/site-packages/urllib3/__init__.py:35: NotOpenSSLWarning: urllib3 v2 only supports OpenSSL 1.1.1+, currently the 'ssl' module is compiled with 'LibreSSL 2.8.3'. See: https://github.com/urllib3/urllib3/issues/3020\n",
      "  warnings.warn(\n"
     ]
    }
   ],
   "source": [
    "import requests\n",
    "import json\n",
    "\n",
    "import pandas as pd\n",
    "import xarray as xr\n",
    "import numpy as np\n",
    "import glob as glob\n",
    "\n",
    "import matplotlib.pyplot as plt\n",
    "import requests\n",
    "import os\n",
    "from datetime import datetime, timedelta"
   ]
  },
  {
   "cell_type": "markdown",
   "id": "2933c19f",
   "metadata": {},
   "source": [
    "### url from API\n",
    "\n",
    "https://alplakes-internal-api.eawag.ch/meteoswiss/cosmo/area/reanalysis/VNXQ34/20230101/20230102/47.05833315315223/8.447532075788125/47.18600192134363/8.533859557509002?variables=T_2M&variables=U&variables=V&variables=GLOB&variables=RELHUM_2M&variables=PS&variables=CLCT\n"
   ]
  },
  {
   "cell_type": "markdown",
   "id": "f5f15d1d-1ad4-4379-9562-49b41a0a903c",
   "metadata": {},
   "source": [
    "#### Load data using API"
   ]
  },
  {
   "cell_type": "code",
   "execution_count": 2,
   "id": "5227b5d7",
   "metadata": {},
   "outputs": [],
   "source": [
    "def fetch_data_by_1_days(start_date, end_date, lat1,lat2, lon1, lon2, folder_path):\n",
    "    \n",
    "    base_url = \"https://alplakes-internal-api.eawag.ch/meteoswiss/cosmo/area/reanalysis/VNXQ34\"\n",
    "\n",
    "    # Convert input dates to datetime objects\n",
    "    start_dt = datetime.strptime(start_date, \"%Y%m%d\")\n",
    "    end_dt = datetime.strptime(end_date, \"%Y%m%d\")\n",
    "\n",
    "    # Loop through each 10-day interval within the range\n",
    "    current_date = start_dt\n",
    "    while current_date < end_dt:\n",
    "        next_date = current_date + timedelta(days=1)\n",
    "\n",
    "        if next_date > end_dt:\n",
    "            next_date = end_dt\n",
    "\n",
    "        # Format dates for the API request\n",
    "        start_window_str = current_date.strftime(\"%Y%m%d\")\n",
    "        end_window_str = next_date.strftime(\"%Y%m%d\")\n",
    "\n",
    "        # Construct the API URL for each 1-day window\n",
    "        url = f\"{base_url}/{start_window_str}/{end_window_str}/{lat1}/{lon1}/{lat2}/{lon2}?variables=T_2M&variables=U&variables=V&variables=GLOB&variables=RELHUM_2M&variables=PMSL&variables=CLCT&variables=PS&variables=TOT_PREC\"\n",
    "\n",
    "\n",
    "\n",
    "        # Fetch data from the API\n",
    "        response = requests.get(url)\n",
    "\n",
    "        if response.status_code == 200:\n",
    "            data = response.json()\n",
    "            # Process or save the data here (data variable contains the fetched data)\n",
    "           # print(f\"Fetched data for {start_window_str} to {end_window_str}\")\n",
    "            # Save the data to a file with date range in the filename\n",
    "            file_name = f\"data_{start_window_str}_{end_window_str}.json\"\n",
    "            \n",
    "            file_path = os.path.join(folder_path, file_name)\n",
    "            \n",
    "            with open(file_path, \"w\") as file:\n",
    "                file.write(response.text)\n",
    "                print(f\"Saved data to {file_path}\")\n",
    "        else:\n",
    "            print(f\"Failed to fetch data for {start_window_str} to {end_window_str}\")\n",
    "\n",
    "        current_date = next_date\n"
   ]
  },
  {
   "cell_type": "markdown",
   "id": "3ed6194f",
   "metadata": {},
   "source": [
    "To do \n",
    "- load model grid in terms of WGS84\n",
    "- get South West and North East ends - should be slightly bigger than model grid"
   ]
  },
  {
   "cell_type": "code",
   "execution_count": 4,
   "id": "2ee76e20",
   "metadata": {},
   "outputs": [
    {
     "name": "stdout",
     "output_type": "stream",
     "text": [
      "Saved data to /Users/ramajem/Documents/mitgcm/data/input_raw/COSMO/data_20240105_20240106.json\n",
      "Saved data to /Users/ramajem/Documents/mitgcm/data/input_raw/COSMO/data_20240106_20240107.json\n",
      "Saved data to /Users/ramajem/Documents/mitgcm/data/input_raw/COSMO/data_20240107_20240108.json\n",
      "Saved data to /Users/ramajem/Documents/mitgcm/data/input_raw/COSMO/data_20240108_20240109.json\n",
      "Saved data to /Users/ramajem/Documents/mitgcm/data/input_raw/COSMO/data_20240109_20240110.json\n",
      "Saved data to /Users/ramajem/Documents/mitgcm/data/input_raw/COSMO/data_20240110_20240111.json\n",
      "Saved data to /Users/ramajem/Documents/mitgcm/data/input_raw/COSMO/data_20240111_20240112.json\n",
      "Saved data to /Users/ramajem/Documents/mitgcm/data/input_raw/COSMO/data_20240112_20240113.json\n",
      "Saved data to /Users/ramajem/Documents/mitgcm/data/input_raw/COSMO/data_20240113_20240114.json\n",
      "Saved data to /Users/ramajem/Documents/mitgcm/data/input_raw/COSMO/data_20240114_20240115.json\n",
      "Saved data to /Users/ramajem/Documents/mitgcm/data/input_raw/COSMO/data_20240115_20240116.json\n",
      "Saved data to /Users/ramajem/Documents/mitgcm/data/input_raw/COSMO/data_20240116_20240117.json\n",
      "Saved data to /Users/ramajem/Documents/mitgcm/data/input_raw/COSMO/data_20240117_20240118.json\n",
      "Saved data to /Users/ramajem/Documents/mitgcm/data/input_raw/COSMO/data_20240118_20240119.json\n",
      "Saved data to /Users/ramajem/Documents/mitgcm/data/input_raw/COSMO/data_20240119_20240120.json\n",
      "Saved data to /Users/ramajem/Documents/mitgcm/data/input_raw/COSMO/data_20240120_20240121.json\n",
      "Saved data to /Users/ramajem/Documents/mitgcm/data/input_raw/COSMO/data_20240121_20240122.json\n",
      "Saved data to /Users/ramajem/Documents/mitgcm/data/input_raw/COSMO/data_20240122_20240123.json\n",
      "Saved data to /Users/ramajem/Documents/mitgcm/data/input_raw/COSMO/data_20240123_20240124.json\n",
      "Saved data to /Users/ramajem/Documents/mitgcm/data/input_raw/COSMO/data_20240124_20240125.json\n",
      "Saved data to /Users/ramajem/Documents/mitgcm/data/input_raw/COSMO/data_20240125_20240126.json\n",
      "Saved data to /Users/ramajem/Documents/mitgcm/data/input_raw/COSMO/data_20240126_20240127.json\n",
      "Saved data to /Users/ramajem/Documents/mitgcm/data/input_raw/COSMO/data_20240127_20240128.json\n",
      "Saved data to /Users/ramajem/Documents/mitgcm/data/input_raw/COSMO/data_20240128_20240129.json\n",
      "Saved data to /Users/ramajem/Documents/mitgcm/data/input_raw/COSMO/data_20240129_20240130.json\n",
      "Saved data to /Users/ramajem/Documents/mitgcm/data/input_raw/COSMO/data_20240130_20240131.json\n"
     ]
    }
   ],
   "source": [
    "# define start/end date, latitude and longitude\n",
    "start_date = \"20240105\"\n",
    "end_date = \"20240131\"\n",
    "\n",
    "#download area that is slightly larger than mitgcm \n",
    "dx = 0.02\n",
    "dy = 0.02\n",
    "\n",
    "lat1=47.05833315315223 - dy; lon1 = 8.447532075788125 - dx\n",
    "lat2=47.18600192134363 + dy; lon2 = 8.533859557509002 + dx\n",
    "\n",
    "\n",
    "folder_path = \"/Users/ramajem/Documents/mitgcm/data/input_raw/COSMO/\"\n",
    "\n",
    "\n",
    "test = fetch_data_by_1_days(start_date, end_date, lat1, lat2, lon1, lon2, folder_path)"
   ]
  },
  {
   "cell_type": "code",
   "execution_count": null,
   "id": "11b476b6",
   "metadata": {},
   "outputs": [],
   "source": []
  }
 ],
 "metadata": {
  "kernelspec": {
   "display_name": "mitgcm_venv",
   "language": "python",
   "name": "python3"
  },
  "language_info": {
   "codemirror_mode": {
    "name": "ipython",
    "version": 3
   },
   "file_extension": ".py",
   "mimetype": "text/x-python",
   "name": "python",
   "nbconvert_exporter": "python",
   "pygments_lexer": "ipython3",
   "version": "3.9.6"
  }
 },
 "nbformat": 4,
 "nbformat_minor": 5
}
